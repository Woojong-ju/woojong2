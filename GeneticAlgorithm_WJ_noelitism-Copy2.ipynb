{
 "cells": [
  {
   "cell_type": "markdown",
   "metadata": {},
   "source": [
    "# Genetic Algorithm \n",
    "Reference : https://towardsdatascience.com/evolution-of-a-salesman-a-complete-genetic-algorithm-tutorial-for-python-6fe5d2b3ca35"
   ]
  },
  {
   "cell_type": "raw",
   "metadata": {},
   "source": [
    "Genetic Algorithm을 이용한 TPS 문제해결.\n",
    "    - 기존 reference에 있던 TPS 문제에서 Elitism은 제외할것\n",
    "    - breeding : ordered crossover \n",
    "    - mutate : exchange(swap)\n"
   ]
  },
  {
   "cell_type": "raw",
   "metadata": {},
   "source": [
    "1. Class 구성"
   ]
  },
  {
   "cell_type": "code",
   "execution_count": 1,
   "metadata": {},
   "outputs": [],
   "source": [
    "import numpy as np, pandas as pd, matplotlib.pyplot as plt, random, operator, time"
   ]
  },
  {
   "cell_type": "code",
   "execution_count": 2,
   "metadata": {},
   "outputs": [],
   "source": [
    "#City class 구성\n",
    "class City :\n",
    "    def __init__(self,x,y):\n",
    "        self.x = x\n",
    "        self.y = y\n",
    "    \n",
    "    def distance(self,city):\n",
    "        Dis = np.sqrt((self.x-city.x)**2+(self.y-city.y)**2)\n",
    "        return Dis\n",
    "    \n",
    "    def __repr__(self):\n",
    "        return '('+str(self.x)+','+str(self.y)+')'\n",
    "    "
   ]
  },
  {
   "cell_type": "code",
   "execution_count": 3,
   "metadata": {},
   "outputs": [],
   "source": [
    "#Fitness\n",
    "class Fitness :\n",
    "    def __init__(self,route):\n",
    "        self.route = route\n",
    "        self.distance =0\n",
    "        self.fitness = 0\n",
    "        \n",
    "        \n",
    "        \n",
    "    def routeDistance(self):\n",
    "        pathdistance = 0\n",
    "        if self.distance == 0:\n",
    "            for i in range(0,len(self.route)):\n",
    "                if i+1 < len(self.route):\n",
    "                    fromCity = self.route[i]\n",
    "                    toCity = self.route[i+1]\n",
    "                    pathdistance += fromCity.distance(toCity)\n",
    "                else :\n",
    "                    fromCity = self.route[len(self.route)-1]\n",
    "                    toCity = self.route[0]\n",
    "                    pathdistance += fromCity.distance(toCity)\n",
    "        return pathdistance\n",
    "    \n",
    "    def routeFitness(self):\n",
    "        routefitness = 0\n",
    "        routedistance = self.routeDistance()\n",
    "        if self.fitness==0:\n",
    "            routefitness = 1/float(routedistance)\n",
    "            \n",
    "        return routefitness\n",
    "              "
   ]
  },
  {
   "cell_type": "code",
   "execution_count": 4,
   "metadata": {},
   "outputs": [],
   "source": [
    "route1 = []"
   ]
  },
  {
   "cell_type": "code",
   "execution_count": 5,
   "metadata": {},
   "outputs": [],
   "source": [
    "for i in range(10):\n",
    "    route1.append(City(random.randint(0,100),random.randint(0,100)))"
   ]
  },
  {
   "cell_type": "code",
   "execution_count": 6,
   "metadata": {},
   "outputs": [
    {
     "data": {
      "text/plain": [
       "[(81,94),\n",
       " (89,12),\n",
       " (57,32),\n",
       " (69,59),\n",
       " (49,93),\n",
       " (8,87),\n",
       " (3,4),\n",
       " (81,68),\n",
       " (50,17),\n",
       " (20,26)]"
      ]
     },
     "execution_count": 6,
     "metadata": {},
     "output_type": "execute_result"
    }
   ],
   "source": [
    "route1"
   ]
  },
  {
   "cell_type": "code",
   "execution_count": 7,
   "metadata": {},
   "outputs": [],
   "source": [
    "fitness1 = Fitness(route1).routeFitness()"
   ]
  },
  {
   "cell_type": "code",
   "execution_count": 8,
   "metadata": {},
   "outputs": [
    {
     "data": {
      "text/plain": [
       "0.001675166689824758"
      ]
     },
     "execution_count": 8,
     "metadata": {},
     "output_type": "execute_result"
    }
   ],
   "source": [
    "fitness1"
   ]
  },
  {
   "cell_type": "raw",
   "metadata": {},
   "source": [
    "2. InitialPopulation 구성하기"
   ]
  },
  {
   "cell_type": "code",
   "execution_count": 9,
   "metadata": {},
   "outputs": [],
   "source": [
    "#createRoute : CityList에서 구성된 랜덤샘플로 route구성\n",
    "def createRoute(cityList):\n",
    "    route = random.sample(cityList,len(cityList))\n",
    "    return route"
   ]
  },
  {
   "cell_type": "code",
   "execution_count": 10,
   "metadata": {},
   "outputs": [
    {
     "data": {
      "text/plain": [
       "[(81,94),\n",
       " (89,12),\n",
       " (57,32),\n",
       " (69,59),\n",
       " (49,93),\n",
       " (8,87),\n",
       " (3,4),\n",
       " (81,68),\n",
       " (50,17),\n",
       " (20,26)]"
      ]
     },
     "execution_count": 10,
     "metadata": {},
     "output_type": "execute_result"
    }
   ],
   "source": [
    "route1"
   ]
  },
  {
   "cell_type": "code",
   "execution_count": 11,
   "metadata": {},
   "outputs": [],
   "source": [
    "citylist1=route1"
   ]
  },
  {
   "cell_type": "code",
   "execution_count": 12,
   "metadata": {},
   "outputs": [
    {
     "data": {
      "text/plain": [
       "[(81,94),\n",
       " (89,12),\n",
       " (57,32),\n",
       " (69,59),\n",
       " (49,93),\n",
       " (8,87),\n",
       " (3,4),\n",
       " (81,68),\n",
       " (50,17),\n",
       " (20,26)]"
      ]
     },
     "execution_count": 12,
     "metadata": {},
     "output_type": "execute_result"
    }
   ],
   "source": [
    "citylist1"
   ]
  },
  {
   "cell_type": "code",
   "execution_count": 13,
   "metadata": {},
   "outputs": [
    {
     "data": {
      "text/plain": [
       "[(3,4),\n",
       " (57,32),\n",
       " (89,12),\n",
       " (69,59),\n",
       " (20,26),\n",
       " (49,93),\n",
       " (81,68),\n",
       " (81,94),\n",
       " (50,17),\n",
       " (8,87)]"
      ]
     },
     "execution_count": 13,
     "metadata": {},
     "output_type": "execute_result"
    }
   ],
   "source": [
    "createRoute(citylist1)"
   ]
  },
  {
   "cell_type": "code",
   "execution_count": 14,
   "metadata": {},
   "outputs": [],
   "source": [
    "#cityList,popNum입력받아 popNum개의 population 형성\n",
    "def initialPopulation(cityList,popNum):\n",
    "    population = []\n",
    "    for i in range(popNum):\n",
    "        population.append(createRoute(cityList))\n",
    "    return population"
   ]
  },
  {
   "cell_type": "code",
   "execution_count": 15,
   "metadata": {},
   "outputs": [],
   "source": [
    "a = initialPopulation(citylist1,5)"
   ]
  },
  {
   "cell_type": "code",
   "execution_count": 16,
   "metadata": {},
   "outputs": [
    {
     "data": {
      "text/plain": [
       "[[(81,94),\n",
       "  (69,59),\n",
       "  (49,93),\n",
       "  (57,32),\n",
       "  (8,87),\n",
       "  (89,12),\n",
       "  (50,17),\n",
       "  (81,68),\n",
       "  (20,26),\n",
       "  (3,4)],\n",
       " [(20,26),\n",
       "  (89,12),\n",
       "  (69,59),\n",
       "  (3,4),\n",
       "  (81,68),\n",
       "  (50,17),\n",
       "  (81,94),\n",
       "  (49,93),\n",
       "  (8,87),\n",
       "  (57,32)],\n",
       " [(3,4),\n",
       "  (89,12),\n",
       "  (69,59),\n",
       "  (49,93),\n",
       "  (50,17),\n",
       "  (81,68),\n",
       "  (8,87),\n",
       "  (20,26),\n",
       "  (57,32),\n",
       "  (81,94)],\n",
       " [(8,87),\n",
       "  (50,17),\n",
       "  (57,32),\n",
       "  (49,93),\n",
       "  (81,94),\n",
       "  (69,59),\n",
       "  (3,4),\n",
       "  (81,68),\n",
       "  (20,26),\n",
       "  (89,12)],\n",
       " [(69,59),\n",
       "  (49,93),\n",
       "  (57,32),\n",
       "  (81,94),\n",
       "  (89,12),\n",
       "  (81,68),\n",
       "  (3,4),\n",
       "  (8,87),\n",
       "  (20,26),\n",
       "  (50,17)]]"
      ]
     },
     "execution_count": 16,
     "metadata": {},
     "output_type": "execute_result"
    }
   ],
   "source": [
    "a"
   ]
  },
  {
   "cell_type": "raw",
   "metadata": {},
   "source": [
    "3. Create Genetic Algorithm"
   ]
  },
  {
   "cell_type": "raw",
   "metadata": {},
   "source": [
    "1) Rank정하기\n",
    "    - Fitness 이용해 route별 rank구하기"
   ]
  },
  {
   "cell_type": "code",
   "execution_count": 17,
   "metadata": {},
   "outputs": [
    {
     "data": {
      "text/plain": [
       "[[(81,94),\n",
       "  (69,59),\n",
       "  (49,93),\n",
       "  (57,32),\n",
       "  (8,87),\n",
       "  (89,12),\n",
       "  (50,17),\n",
       "  (81,68),\n",
       "  (20,26),\n",
       "  (3,4)],\n",
       " [(20,26),\n",
       "  (89,12),\n",
       "  (69,59),\n",
       "  (3,4),\n",
       "  (81,68),\n",
       "  (50,17),\n",
       "  (81,94),\n",
       "  (49,93),\n",
       "  (8,87),\n",
       "  (57,32)],\n",
       " [(3,4),\n",
       "  (89,12),\n",
       "  (69,59),\n",
       "  (49,93),\n",
       "  (50,17),\n",
       "  (81,68),\n",
       "  (8,87),\n",
       "  (20,26),\n",
       "  (57,32),\n",
       "  (81,94)],\n",
       " [(8,87),\n",
       "  (50,17),\n",
       "  (57,32),\n",
       "  (49,93),\n",
       "  (81,94),\n",
       "  (69,59),\n",
       "  (3,4),\n",
       "  (81,68),\n",
       "  (20,26),\n",
       "  (89,12)],\n",
       " [(69,59),\n",
       "  (49,93),\n",
       "  (57,32),\n",
       "  (81,94),\n",
       "  (89,12),\n",
       "  (81,68),\n",
       "  (3,4),\n",
       "  (8,87),\n",
       "  (20,26),\n",
       "  (50,17)]]"
      ]
     },
     "execution_count": 17,
     "metadata": {},
     "output_type": "execute_result"
    }
   ],
   "source": [
    "a"
   ]
  },
  {
   "cell_type": "code",
   "execution_count": 18,
   "metadata": {},
   "outputs": [],
   "source": [
    "poprank = {}\n",
    "for i in range(len(a)):\n",
    "    fitness = Fitness(a[i]).routeFitness()\n",
    "    poprank[i]=fitness\n",
    "\n"
   ]
  },
  {
   "cell_type": "code",
   "execution_count": 19,
   "metadata": {
    "scrolled": true
   },
   "outputs": [
    {
     "data": {
      "text/plain": [
       "{0: 0.0015576758620392773,\n",
       " 1: 0.0015733694671404722,\n",
       " 2: 0.0014853342781827148,\n",
       " 3: 0.0014916691449083127,\n",
       " 4: 0.0015871915412533292}"
      ]
     },
     "execution_count": 19,
     "metadata": {},
     "output_type": "execute_result"
    }
   ],
   "source": [
    "poprank"
   ]
  },
  {
   "cell_type": "code",
   "execution_count": 20,
   "metadata": {},
   "outputs": [],
   "source": [
    "\n",
    "routerank = sorted(poprank.items(),key = operator.itemgetter(1),reverse=True)\n"
   ]
  },
  {
   "cell_type": "code",
   "execution_count": 21,
   "metadata": {},
   "outputs": [
    {
     "data": {
      "text/plain": [
       "[(4, 0.0015871915412533292),\n",
       " (1, 0.0015733694671404722),\n",
       " (0, 0.0015576758620392773),\n",
       " (3, 0.0014916691449083127),\n",
       " (2, 0.0014853342781827148)]"
      ]
     },
     "execution_count": 21,
     "metadata": {},
     "output_type": "execute_result"
    }
   ],
   "source": [
    "routerank"
   ]
  },
  {
   "cell_type": "code",
   "execution_count": 22,
   "metadata": {},
   "outputs": [],
   "source": [
    "df = pd.DataFrame(routerank,columns=['Index','Fitness'])"
   ]
  },
  {
   "cell_type": "code",
   "execution_count": 41,
   "metadata": {},
   "outputs": [
    {
     "data": {
      "text/html": [
       "<div>\n",
       "<style scoped>\n",
       "    .dataframe tbody tr th:only-of-type {\n",
       "        vertical-align: middle;\n",
       "    }\n",
       "\n",
       "    .dataframe tbody tr th {\n",
       "        vertical-align: top;\n",
       "    }\n",
       "\n",
       "    .dataframe thead th {\n",
       "        text-align: right;\n",
       "    }\n",
       "</style>\n",
       "<table border=\"1\" class=\"dataframe\">\n",
       "  <thead>\n",
       "    <tr style=\"text-align: right;\">\n",
       "      <th></th>\n",
       "      <th>Index</th>\n",
       "      <th>Fitness</th>\n",
       "      <th>Rank</th>\n",
       "    </tr>\n",
       "  </thead>\n",
       "  <tbody>\n",
       "    <tr>\n",
       "      <td>0</td>\n",
       "      <td>4</td>\n",
       "      <td>0.001587</td>\n",
       "      <td>1</td>\n",
       "    </tr>\n",
       "    <tr>\n",
       "      <td>1</td>\n",
       "      <td>1</td>\n",
       "      <td>0.001573</td>\n",
       "      <td>2</td>\n",
       "    </tr>\n",
       "    <tr>\n",
       "      <td>2</td>\n",
       "      <td>0</td>\n",
       "      <td>0.001558</td>\n",
       "      <td>3</td>\n",
       "    </tr>\n",
       "    <tr>\n",
       "      <td>3</td>\n",
       "      <td>3</td>\n",
       "      <td>0.001492</td>\n",
       "      <td>4</td>\n",
       "    </tr>\n",
       "    <tr>\n",
       "      <td>4</td>\n",
       "      <td>2</td>\n",
       "      <td>0.001485</td>\n",
       "      <td>5</td>\n",
       "    </tr>\n",
       "  </tbody>\n",
       "</table>\n",
       "</div>"
      ],
      "text/plain": [
       "   Index   Fitness  Rank\n",
       "0      4  0.001587     1\n",
       "1      1  0.001573     2\n",
       "2      0  0.001558     3\n",
       "3      3  0.001492     4\n",
       "4      2  0.001485     5"
      ]
     },
     "execution_count": 41,
     "metadata": {},
     "output_type": "execute_result"
    }
   ],
   "source": [
    "df"
   ]
  },
  {
   "cell_type": "code",
   "execution_count": 40,
   "metadata": {},
   "outputs": [
    {
     "ename": "TypeError",
     "evalue": "'RangeIndex' object is not callable",
     "output_type": "error",
     "traceback": [
      "\u001b[1;31m---------------------------------------------------------------------------\u001b[0m",
      "\u001b[1;31mTypeError\u001b[0m                                 Traceback (most recent call last)",
      "\u001b[1;32m<ipython-input-40-50cab836d878>\u001b[0m in \u001b[0;36m<module>\u001b[1;34m\u001b[0m\n\u001b[1;32m----> 1\u001b[1;33m \u001b[0mdf\u001b[0m\u001b[1;33m[\u001b[0m\u001b[1;34m'Rank'\u001b[0m\u001b[1;33m]\u001b[0m\u001b[1;33m=\u001b[0m\u001b[0mdf\u001b[0m\u001b[1;33m.\u001b[0m\u001b[0mindex\u001b[0m\u001b[1;33m(\u001b[0m\u001b[1;33m)\u001b[0m\u001b[1;33m+\u001b[0m\u001b[1;36m1\u001b[0m\u001b[1;33m\u001b[0m\u001b[1;33m\u001b[0m\u001b[0m\n\u001b[0m\u001b[0;32m      2\u001b[0m \u001b[0mdf\u001b[0m\u001b[1;33m[\u001b[0m\u001b[1;34m'Rank'\u001b[0m\u001b[1;33m]\u001b[0m\u001b[1;33m=\u001b[0m\u001b[0mdf\u001b[0m\u001b[1;33m[\u001b[0m\u001b[1;34m'Rank'\u001b[0m\u001b[1;33m]\u001b[0m\u001b[1;33m.\u001b[0m\u001b[0mvalues\u001b[0m\u001b[1;33m[\u001b[0m\u001b[1;33m:\u001b[0m\u001b[1;33m:\u001b[0m\u001b[1;33m-\u001b[0m\u001b[1;36m1\u001b[0m\u001b[1;33m]\u001b[0m\u001b[1;33m\u001b[0m\u001b[1;33m\u001b[0m\u001b[0m\n",
      "\u001b[1;31mTypeError\u001b[0m: 'RangeIndex' object is not callable"
     ]
    }
   ],
   "source": [
    "df['Rank']=df.index()+1"
   ]
  },
  {
   "cell_type": "code",
   "execution_count": 42,
   "metadata": {},
   "outputs": [],
   "source": [
    "\n",
    "df['Rank']=df['Rank'].values[::-1]"
   ]
  },
  {
   "cell_type": "code",
   "execution_count": 43,
   "metadata": {},
   "outputs": [
    {
     "data": {
      "text/html": [
       "<div>\n",
       "<style scoped>\n",
       "    .dataframe tbody tr th:only-of-type {\n",
       "        vertical-align: middle;\n",
       "    }\n",
       "\n",
       "    .dataframe tbody tr th {\n",
       "        vertical-align: top;\n",
       "    }\n",
       "\n",
       "    .dataframe thead th {\n",
       "        text-align: right;\n",
       "    }\n",
       "</style>\n",
       "<table border=\"1\" class=\"dataframe\">\n",
       "  <thead>\n",
       "    <tr style=\"text-align: right;\">\n",
       "      <th></th>\n",
       "      <th>Index</th>\n",
       "      <th>Fitness</th>\n",
       "      <th>Rank</th>\n",
       "    </tr>\n",
       "  </thead>\n",
       "  <tbody>\n",
       "    <tr>\n",
       "      <td>0</td>\n",
       "      <td>4</td>\n",
       "      <td>0.001587</td>\n",
       "      <td>5</td>\n",
       "    </tr>\n",
       "    <tr>\n",
       "      <td>1</td>\n",
       "      <td>1</td>\n",
       "      <td>0.001573</td>\n",
       "      <td>4</td>\n",
       "    </tr>\n",
       "    <tr>\n",
       "      <td>2</td>\n",
       "      <td>0</td>\n",
       "      <td>0.001558</td>\n",
       "      <td>3</td>\n",
       "    </tr>\n",
       "    <tr>\n",
       "      <td>3</td>\n",
       "      <td>3</td>\n",
       "      <td>0.001492</td>\n",
       "      <td>2</td>\n",
       "    </tr>\n",
       "    <tr>\n",
       "      <td>4</td>\n",
       "      <td>2</td>\n",
       "      <td>0.001485</td>\n",
       "      <td>1</td>\n",
       "    </tr>\n",
       "  </tbody>\n",
       "</table>\n",
       "</div>"
      ],
      "text/plain": [
       "   Index   Fitness  Rank\n",
       "0      4  0.001587     5\n",
       "1      1  0.001573     4\n",
       "2      0  0.001558     3\n",
       "3      3  0.001492     2\n",
       "4      2  0.001485     1"
      ]
     },
     "execution_count": 43,
     "metadata": {},
     "output_type": "execute_result"
    }
   ],
   "source": [
    "df"
   ]
  },
  {
   "cell_type": "code",
   "execution_count": 44,
   "metadata": {},
   "outputs": [
    {
     "data": {
      "text/plain": [
       "5"
      ]
     },
     "execution_count": 44,
     "metadata": {},
     "output_type": "execute_result"
    }
   ],
   "source": [
    "len(df)"
   ]
  },
  {
   "cell_type": "code",
   "execution_count": 45,
   "metadata": {},
   "outputs": [],
   "source": [
    "df['Pressure']=df['Rank']/(len(df)*(len(df)-1))"
   ]
  },
  {
   "cell_type": "code",
   "execution_count": 46,
   "metadata": {},
   "outputs": [
    {
     "data": {
      "text/html": [
       "<div>\n",
       "<style scoped>\n",
       "    .dataframe tbody tr th:only-of-type {\n",
       "        vertical-align: middle;\n",
       "    }\n",
       "\n",
       "    .dataframe tbody tr th {\n",
       "        vertical-align: top;\n",
       "    }\n",
       "\n",
       "    .dataframe thead th {\n",
       "        text-align: right;\n",
       "    }\n",
       "</style>\n",
       "<table border=\"1\" class=\"dataframe\">\n",
       "  <thead>\n",
       "    <tr style=\"text-align: right;\">\n",
       "      <th></th>\n",
       "      <th>Index</th>\n",
       "      <th>Fitness</th>\n",
       "      <th>Rank</th>\n",
       "      <th>Pressure</th>\n",
       "    </tr>\n",
       "  </thead>\n",
       "  <tbody>\n",
       "    <tr>\n",
       "      <td>0</td>\n",
       "      <td>4</td>\n",
       "      <td>0.001587</td>\n",
       "      <td>5</td>\n",
       "      <td>0.25</td>\n",
       "    </tr>\n",
       "    <tr>\n",
       "      <td>1</td>\n",
       "      <td>1</td>\n",
       "      <td>0.001573</td>\n",
       "      <td>4</td>\n",
       "      <td>0.20</td>\n",
       "    </tr>\n",
       "    <tr>\n",
       "      <td>2</td>\n",
       "      <td>0</td>\n",
       "      <td>0.001558</td>\n",
       "      <td>3</td>\n",
       "      <td>0.15</td>\n",
       "    </tr>\n",
       "    <tr>\n",
       "      <td>3</td>\n",
       "      <td>3</td>\n",
       "      <td>0.001492</td>\n",
       "      <td>2</td>\n",
       "      <td>0.10</td>\n",
       "    </tr>\n",
       "    <tr>\n",
       "      <td>4</td>\n",
       "      <td>2</td>\n",
       "      <td>0.001485</td>\n",
       "      <td>1</td>\n",
       "      <td>0.05</td>\n",
       "    </tr>\n",
       "  </tbody>\n",
       "</table>\n",
       "</div>"
      ],
      "text/plain": [
       "   Index   Fitness  Rank  Pressure\n",
       "0      4  0.001587     5      0.25\n",
       "1      1  0.001573     4      0.20\n",
       "2      0  0.001558     3      0.15\n",
       "3      3  0.001492     2      0.10\n",
       "4      2  0.001485     1      0.05"
      ]
     },
     "execution_count": 46,
     "metadata": {},
     "output_type": "execute_result"
    }
   ],
   "source": [
    "df"
   ]
  },
  {
   "cell_type": "code",
   "execution_count": 33,
   "metadata": {},
   "outputs": [],
   "source": [
    "#rankRoutes로 population의 route중 fitness좋은것부터\n",
    "#순서대로 (index,fitness)형태로 출력\n",
    "def rankRoutes(population):\n",
    "    poprank = {}\n",
    "    for i in range(len(population)):\n",
    "        fitness = Fitness(population[i]).routeFitness()\n",
    "        poprank[i]=fitness\n",
    "    return sorted(poprank.items(),key = operator.itemgetter(1),reverse=True)\n"
   ]
  },
  {
   "cell_type": "code",
   "execution_count": 34,
   "metadata": {},
   "outputs": [
    {
     "data": {
      "text/plain": [
       "[(4, 0.0015871915412533292),\n",
       " (1, 0.0015733694671404722),\n",
       " (0, 0.0015576758620392773),\n",
       " (3, 0.0014916691449083127),\n",
       " (2, 0.0014853342781827148)]"
      ]
     },
     "execution_count": 34,
     "metadata": {},
     "output_type": "execute_result"
    }
   ],
   "source": [
    "rankRoutes(a)"
   ]
  },
  {
   "cell_type": "code",
   "execution_count": 34,
   "metadata": {},
   "outputs": [],
   "source": [
    "#roulette wheel이용해서 selection. population length만큼 선택하기.\n",
    "#rank selection\n",
    "def selection(popRank):\n",
    "    selected = []\n",
    "    df = pd.DataFrame(popRank,columns=['Index','Fitness'])\n",
    "    df['Rank']=df.index+1\n",
    "    df['Rank']=df['Rank'].values[::-1]\n",
    "    df['cum_perc']=df['cum_sum']*100/df['Fitness'].sum()\n",
    "    for i in range(len(popRank)):\n",
    "        pick = random.random()*100\n",
    "        for k in range(len(popRank)):\n",
    "            if pick < df.iloc[k,3]:\n",
    "                selected.append(popRank[k])\n",
    "                break\n",
    "    return selected\n",
    "                \n",
    "        \n",
    "    "
   ]
  },
  {
   "cell_type": "code",
   "execution_count": 35,
   "metadata": {},
   "outputs": [
    {
     "data": {
      "text/plain": [
       "68.51057425798288"
      ]
     },
     "execution_count": 35,
     "metadata": {},
     "output_type": "execute_result"
    }
   ],
   "source": [
    "df.iloc[1,3]"
   ]
  },
  {
   "cell_type": "code",
   "execution_count": 36,
   "metadata": {},
   "outputs": [
    {
     "data": {
      "text/html": [
       "<div>\n",
       "<style scoped>\n",
       "    .dataframe tbody tr th:only-of-type {\n",
       "        vertical-align: middle;\n",
       "    }\n",
       "\n",
       "    .dataframe tbody tr th {\n",
       "        vertical-align: top;\n",
       "    }\n",
       "\n",
       "    .dataframe thead th {\n",
       "        text-align: right;\n",
       "    }\n",
       "</style>\n",
       "<table border=\"1\" class=\"dataframe\">\n",
       "  <thead>\n",
       "    <tr style=\"text-align: right;\">\n",
       "      <th></th>\n",
       "      <th>Index</th>\n",
       "      <th>Fitness</th>\n",
       "      <th>cum_sum</th>\n",
       "      <th>cum_perc</th>\n",
       "    </tr>\n",
       "  </thead>\n",
       "  <tbody>\n",
       "    <tr>\n",
       "      <td>0</td>\n",
       "      <td>0</td>\n",
       "      <td>0.049327</td>\n",
       "      <td>0.049327</td>\n",
       "      <td>36.370697</td>\n",
       "    </tr>\n",
       "    <tr>\n",
       "      <td>1</td>\n",
       "      <td>1</td>\n",
       "      <td>0.043589</td>\n",
       "      <td>0.092916</td>\n",
       "      <td>68.510574</td>\n",
       "    </tr>\n",
       "    <tr>\n",
       "      <td>2</td>\n",
       "      <td>2</td>\n",
       "      <td>0.042707</td>\n",
       "      <td>0.135623</td>\n",
       "      <td>100.000000</td>\n",
       "    </tr>\n",
       "  </tbody>\n",
       "</table>\n",
       "</div>"
      ],
      "text/plain": [
       "   Index   Fitness   cum_sum    cum_perc\n",
       "0      0  0.049327  0.049327   36.370697\n",
       "1      1  0.043589  0.092916   68.510574\n",
       "2      2  0.042707  0.135623  100.000000"
      ]
     },
     "execution_count": 36,
     "metadata": {},
     "output_type": "execute_result"
    }
   ],
   "source": [
    "df"
   ]
  },
  {
   "cell_type": "code",
   "execution_count": 37,
   "metadata": {},
   "outputs": [],
   "source": [
    "selc= selection(routerank)"
   ]
  },
  {
   "cell_type": "code",
   "execution_count": 38,
   "metadata": {
    "scrolled": true
   },
   "outputs": [
    {
     "data": {
      "text/plain": [
       "[(0, 0.04932699445510354), (2, 0.04270687325065817), (2, 0.04270687325065817)]"
      ]
     },
     "execution_count": 38,
     "metadata": {},
     "output_type": "execute_result"
    }
   ],
   "source": [
    "selc"
   ]
  },
  {
   "cell_type": "code",
   "execution_count": 39,
   "metadata": {},
   "outputs": [
    {
     "data": {
      "text/plain": [
       "2"
      ]
     },
     "execution_count": 39,
     "metadata": {},
     "output_type": "execute_result"
    }
   ],
   "source": [
    "selc[1][0]"
   ]
  },
  {
   "cell_type": "code",
   "execution_count": 40,
   "metadata": {},
   "outputs": [],
   "source": [
    "#selection 결과 바탕으로 matingpool형성\n",
    "def matingpool(selected,population):\n",
    "    #population에서 룰렛휠로 selected된 route들로 mating pool 형성\n",
    "    index = []\n",
    "    for i in range(len(selected)):\n",
    "        index.append(selected[i][0])\n",
    "    pool = []\n",
    "    for i in range(len(index)):\n",
    "        pool.append(population[index[i]])\n",
    "    return pool    \n",
    "    \n",
    "    \n",
    "           "
   ]
  },
  {
   "cell_type": "code",
   "execution_count": 41,
   "metadata": {},
   "outputs": [
    {
     "data": {
      "text/plain": [
       "[[(5,7), (8,8), (9,1), (3,5)],\n",
       " [(8,8), (3,5), (9,1), (5,7)],\n",
       " [(8,8), (3,5), (9,1), (5,7)]]"
      ]
     },
     "execution_count": 41,
     "metadata": {},
     "output_type": "execute_result"
    }
   ],
   "source": [
    "matingpool(selc,a)"
   ]
  },
  {
   "cell_type": "code",
   "execution_count": 42,
   "metadata": {},
   "outputs": [
    {
     "data": {
      "text/plain": [
       "[[(5,7), (8,8), (9,1), (3,5)],\n",
       " [(5,7), (9,1), (8,8), (3,5)],\n",
       " [(8,8), (3,5), (9,1), (5,7)]]"
      ]
     },
     "execution_count": 42,
     "metadata": {},
     "output_type": "execute_result"
    }
   ],
   "source": [
    "a"
   ]
  },
  {
   "cell_type": "code",
   "execution_count": 43,
   "metadata": {},
   "outputs": [],
   "source": [
    "#breed...\n",
    "parent1 = random.sample(a,1)\n",
    "parent2 = random.sample(a,1)\n",
    "abs1 = random.randint(0,len(parent1[0]))\n",
    "abs2 = random.randint(0,len(parent2[0]))\n",
    "child1 =[]\n",
    "for i in range(min(abs1,abs2),max(abs1,abs2)):\n",
    "    child1.append(parent1[0][i])\n",
    "child2 = [val for val in parent2[0] if val not in child1]\n",
    "Child = child1+child2"
   ]
  },
  {
   "cell_type": "code",
   "execution_count": 44,
   "metadata": {},
   "outputs": [
    {
     "data": {
      "text/plain": [
       "[]"
      ]
     },
     "execution_count": 44,
     "metadata": {},
     "output_type": "execute_result"
    }
   ],
   "source": [
    "child1"
   ]
  },
  {
   "cell_type": "code",
   "execution_count": 45,
   "metadata": {},
   "outputs": [
    {
     "data": {
      "text/plain": [
       "[[(5,7), (9,1), (8,8), (3,5)]]"
      ]
     },
     "execution_count": 45,
     "metadata": {},
     "output_type": "execute_result"
    }
   ],
   "source": [
    "parent2"
   ]
  },
  {
   "cell_type": "code",
   "execution_count": 46,
   "metadata": {},
   "outputs": [
    {
     "data": {
      "text/plain": [
       "[(5,7), (9,1), (8,8), (3,5)]"
      ]
     },
     "execution_count": 46,
     "metadata": {},
     "output_type": "execute_result"
    }
   ],
   "source": [
    "child2"
   ]
  },
  {
   "cell_type": "code",
   "execution_count": 47,
   "metadata": {},
   "outputs": [
    {
     "data": {
      "text/plain": [
       "[[(5,7), (8,8), (9,1), (3,5)]]"
      ]
     },
     "execution_count": 47,
     "metadata": {},
     "output_type": "execute_result"
    }
   ],
   "source": [
    "parent1"
   ]
  },
  {
   "cell_type": "code",
   "execution_count": 48,
   "metadata": {},
   "outputs": [],
   "source": [
    "def breed(parent1,parent2):\n",
    "    child1 = []\n",
    "    abs1 = random.randint(0,len(parent1))\n",
    "    abs2 = random.randint(0,len(parent2))\n",
    "    child1 = []\n",
    "    for i in range(min(abs1,abs2),max(abs1,abs2)):\n",
    "        child1.append(parent1[i])\n",
    "    child2 = [val for val in parent2 if val not in child1]\n",
    "    Child = child1+child2\n",
    "    return Child"
   ]
  },
  {
   "cell_type": "code",
   "execution_count": 49,
   "metadata": {},
   "outputs": [],
   "source": [
    "pool = matingpool(selc,a)"
   ]
  },
  {
   "cell_type": "code",
   "execution_count": 50,
   "metadata": {},
   "outputs": [
    {
     "data": {
      "text/plain": [
       "[[(5,7), (8,8), (9,1), (3,5)],\n",
       " [(8,8), (3,5), (9,1), (5,7)],\n",
       " [(8,8), (3,5), (9,1), (5,7)]]"
      ]
     },
     "execution_count": 50,
     "metadata": {},
     "output_type": "execute_result"
    }
   ],
   "source": [
    "pool"
   ]
  },
  {
   "cell_type": "code",
   "execution_count": 51,
   "metadata": {
    "scrolled": true
   },
   "outputs": [
    {
     "data": {
      "text/plain": [
       "[(8,8), (3,5), (9,1), (5,7)]"
      ]
     },
     "execution_count": 51,
     "metadata": {},
     "output_type": "execute_result"
    }
   ],
   "source": [
    "pool[1]"
   ]
  },
  {
   "cell_type": "code",
   "execution_count": 52,
   "metadata": {
    "scrolled": false
   },
   "outputs": [
    {
     "data": {
      "text/plain": [
       "3"
      ]
     },
     "execution_count": 52,
     "metadata": {},
     "output_type": "execute_result"
    }
   ],
   "source": [
    "random.randint(0,3)"
   ]
  },
  {
   "cell_type": "code",
   "execution_count": 53,
   "metadata": {},
   "outputs": [],
   "source": [
    "def breedpopulation(pool):\n",
    "    breedpop = []\n",
    "    for i in range(len(pool)):\n",
    "        parent1 = pool[int(random.random()*len(pool))]\n",
    "        parent2 = pool[int(random.random()*len(pool))]\n",
    "        breedpop.append(breed(parent1,parent2))\n",
    "    return breedpop\n",
    "#pool에서 랜덤한 부모 2명 추출-> breed\n",
    "#pool length(=popnum)만큼 breedpopulation(자손pop)생성"
   ]
  },
  {
   "cell_type": "code",
   "execution_count": 62,
   "metadata": {},
   "outputs": [],
   "source": [
    "brpop = breedpopulation(pool)"
   ]
  },
  {
   "cell_type": "code",
   "execution_count": 57,
   "metadata": {},
   "outputs": [],
   "source": [
    "def mutate(breedroute):\n",
    "    index1 = int(random.random()*len(breedroute))\n",
    "    index2 = int(random.random()*len(breedroute))\n",
    "    change1 = breedroute[index1]\n",
    "    change2 = breedroute[index2]\n",
    "    breedroute[index1] = change2\n",
    "    breedroute[index2] = change1\n",
    "    return breedroute\n",
    "            \n",
    "        \n",
    "    "
   ]
  },
  {
   "cell_type": "code",
   "execution_count": 58,
   "metadata": {},
   "outputs": [],
   "source": [
    "def mutatepopulation(breedpop,mutationrate):\n",
    "    for i in range(len(breedpop)):\n",
    "        rate = random.random()\n",
    "        if rate < mutationrate:\n",
    "            mutate(breedpop[i])\n",
    "        \n",
    "    return breedpop"
   ]
  },
  {
   "cell_type": "code",
   "execution_count": 63,
   "metadata": {},
   "outputs": [
    {
     "data": {
      "text/plain": [
       "[[(9,1), (8,8), (3,5), (5,7)],\n",
       " [(8,8), (3,5), (9,1), (5,7)],\n",
       " [(8,8), (3,5), (9,1), (5,7)]]"
      ]
     },
     "execution_count": 63,
     "metadata": {},
     "output_type": "execute_result"
    }
   ],
   "source": [
    "brpop"
   ]
  },
  {
   "cell_type": "code",
   "execution_count": 67,
   "metadata": {},
   "outputs": [
    {
     "data": {
      "text/plain": [
       "[[(9,1), (3,5), (5,7), (8,8)],\n",
       " [(9,1), (3,5), (8,8), (5,7)],\n",
       " [(8,8), (3,5), (9,1), (5,7)]]"
      ]
     },
     "execution_count": 67,
     "metadata": {},
     "output_type": "execute_result"
    }
   ],
   "source": [
    "mutatepopulation(brpop,0.3)"
   ]
  },
  {
   "cell_type": "code",
   "execution_count": 68,
   "metadata": {
    "scrolled": true
   },
   "outputs": [
    {
     "data": {
      "text/plain": [
       "[[(9,1), (3,5), (5,7), (8,8)],\n",
       " [(9,1), (3,5), (8,8), (5,7)],\n",
       " [(8,8), (3,5), (9,1), (5,7)]]"
      ]
     },
     "execution_count": 68,
     "metadata": {},
     "output_type": "execute_result"
    }
   ],
   "source": [
    "brpop"
   ]
  },
  {
   "cell_type": "code",
   "execution_count": 142,
   "metadata": {},
   "outputs": [],
   "source": [
    "def nextGeneration(population,mutationrate):\n",
    "    rank = rankRoutes(population)\n",
    "    selected = selection(rank)\n",
    "    pool = matingpool(selected,population)\n",
    "    breedpop = breedpopulation(pool)\n",
    "    nextpop = mutatepopulation(breedpop,mutationrate)\n",
    "    return nextpop\n",
    "    \n",
    "    "
   ]
  },
  {
   "cell_type": "code",
   "execution_count": 146,
   "metadata": {},
   "outputs": [
    {
     "data": {
      "text/plain": [
       "[[(9,1), (3,5), (8,8), (5,7)],\n",
       " [(3,5), (5,7), (8,8), (9,1)],\n",
       " [(3,5), (9,1), (8,8), (5,7)]]"
      ]
     },
     "execution_count": 146,
     "metadata": {},
     "output_type": "execute_result"
    }
   ],
   "source": [
    "nextGeneration(brpop,0.2)"
   ]
  },
  {
   "cell_type": "raw",
   "metadata": {},
   "source": [
    "Genetic Algorithm 통합 & 돌리기!"
   ]
  },
  {
   "cell_type": "code",
   "execution_count": 139,
   "metadata": {},
   "outputs": [],
   "source": [
    "def GeneticAlgorithm(cityList,popSize,mutationrate,GenNum):\n",
    "    start = time.time()\n",
    "    pop = initialPopulation(cityList,popSize)\n",
    "    progress = []\n",
    "    bestroute= pop[rankRoutes(pop)[0][0]]\n",
    "    Finaldistance = 1/rankRoutes(pop)[0][1]\n",
    "    progress.append(1/rankRoutes(pop)[0][1])\n",
    "    print('First Distance :'+str(1/rankRoutes(pop)[0][1]))\n",
    "    for i in range(GenNum):\n",
    "        pop = nextGeneration(pop,mutationrate)\n",
    "        progress.append(1/rankRoutes(pop)[0][1])\n",
    "        if Finaldistance > 1/rankRoutes(pop)[0][1]:\n",
    "            bestroute = pop[rankRoutes(pop)[0][0]]\n",
    "            Finaldistance = 1/rankRoutes(pop)[0][1]\n",
    "        \n",
    "    print('Final Distance :'+str(Finaldistance))\n",
    "    finish = time.time()\n",
    "    print('Time :' +str(finish-start))\n",
    "    print(bestroute)\n",
    "    plt.plot(progress)\n",
    "    plt.xlabel('Generation')\n",
    "    plt.ylabel('Distance')\n",
    "    plt.show()\n",
    "    "
   ]
  },
  {
   "cell_type": "code",
   "execution_count": 124,
   "metadata": {},
   "outputs": [],
   "source": [
    "cityList = []\n",
    "for i in range(35):\n",
    "    cityList.append(City(random.randint(0,100),random.randint(0,100)))"
   ]
  },
  {
   "cell_type": "code",
   "execution_count": 132,
   "metadata": {},
   "outputs": [
    {
     "data": {
      "text/plain": [
       "[(76,8),\n",
       " (81,35),\n",
       " (65,22),\n",
       " (49,87),\n",
       " (7,62),\n",
       " (44,82),\n",
       " (69,98),\n",
       " (100,57),\n",
       " (82,71),\n",
       " (21,33),\n",
       " (14,46),\n",
       " (93,3),\n",
       " (21,48),\n",
       " (80,60),\n",
       " (75,49),\n",
       " (55,13),\n",
       " (61,44),\n",
       " (98,55),\n",
       " (17,96),\n",
       " (2,61),\n",
       " (92,82),\n",
       " (5,6),\n",
       " (51,90),\n",
       " (96,6),\n",
       " (78,42),\n",
       " (82,22),\n",
       " (92,99),\n",
       " (88,86),\n",
       " (69,70),\n",
       " (28,50),\n",
       " (52,72),\n",
       " (68,89),\n",
       " (32,57),\n",
       " (79,38),\n",
       " (72,93)]"
      ]
     },
     "execution_count": 132,
     "metadata": {},
     "output_type": "execute_result"
    }
   ],
   "source": [
    "cityList"
   ]
  },
  {
   "cell_type": "code",
   "execution_count": 147,
   "metadata": {},
   "outputs": [
    {
     "name": "stdout",
     "output_type": "stream",
     "text": [
      "First Distance :1382.037319375775\n",
      "Final Distance :1261.0995787145694\n",
      "Time :28.281381845474243\n",
      "[(92,82), (51,90), (52,72), (69,70), (82,22), (17,96), (49,87), (2,61), (7,62), (82,71), (72,93), (100,57), (98,55), (88,86), (69,98), (32,57), (80,60), (93,3), (55,13), (81,35), (96,6), (76,8), (79,38), (61,44), (28,50), (14,46), (5,6), (21,33), (21,48), (44,82), (92,99), (68,89), (78,42), (75,49), (65,22)]\n"
     ]
    },
    {
     "data": {
      "image/png": "[encoded data removed]",
      "text/plain": [
       "<Figure size 432x288 with 1 Axes>"
      ]
     },
     "metadata": {
      "needs_background": "light"
     },
     "output_type": "display_data"
    }
   ],
   "source": [
    "GeneticAlgorithm(cityList,50,0.1,1000)"
   ]
  },
  {
   "cell_type": "code",
   "execution_count": 105,
   "metadata": {},
   "outputs": [],
   "source": [
    "inipop = initialPopulation(cityList,10)"
   ]
  },
  {
   "cell_type": "code",
   "execution_count": 106,
   "metadata": {},
   "outputs": [
    {
     "data": {
      "text/plain": [
       "[[(12,0),\n",
       "  (45,85),\n",
       "  (10,44),\n",
       "  (80,88),\n",
       "  (97,59),\n",
       "  (13,40),\n",
       "  (18,64),\n",
       "  (46,83),\n",
       "  (33,21),\n",
       "  (12,82),\n",
       "  (58,9),\n",
       "  (89,58),\n",
       "  (95,41),\n",
       "  (76,6),\n",
       "  (42,61)],\n",
       " [(42,61),\n",
       "  (13,40),\n",
       "  (46,83),\n",
       "  (10,44),\n",
       "  (12,0),\n",
       "  (97,59),\n",
       "  (12,82),\n",
       "  (18,64),\n",
       "  (89,58),\n",
       "  (76,6),\n",
       "  (58,9),\n",
       "  (95,41),\n",
       "  (45,85),\n",
       "  (80,88),\n",
       "  (33,21)],\n",
       " [(97,59),\n",
       "  (80,88),\n",
       "  (12,0),\n",
       "  (12,82),\n",
       "  (42,61),\n",
       "  (89,58),\n",
       "  (18,64),\n",
       "  (45,85),\n",
       "  (58,9),\n",
       "  (13,40),\n",
       "  (10,44),\n",
       "  (95,41),\n",
       "  (76,6),\n",
       "  (46,83),\n",
       "  (33,21)],\n",
       " [(12,82),\n",
       "  (42,61),\n",
       "  (12,0),\n",
       "  (18,64),\n",
       "  (33,21),\n",
       "  (80,88),\n",
       "  (89,58),\n",
       "  (58,9),\n",
       "  (45,85),\n",
       "  (10,44),\n",
       "  (76,6),\n",
       "  (95,41),\n",
       "  (97,59),\n",
       "  (46,83),\n",
       "  (13,40)],\n",
       " [(13,40),\n",
       "  (80,88),\n",
       "  (45,85),\n",
       "  (12,0),\n",
       "  (33,21),\n",
       "  (89,58),\n",
       "  (76,6),\n",
       "  (97,59),\n",
       "  (95,41),\n",
       "  (10,44),\n",
       "  (12,82),\n",
       "  (42,61),\n",
       "  (18,64),\n",
       "  (58,9),\n",
       "  (46,83)],\n",
       " [(58,9),\n",
       "  (89,58),\n",
       "  (13,40),\n",
       "  (95,41),\n",
       "  (12,82),\n",
       "  (12,0),\n",
       "  (97,59),\n",
       "  (33,21),\n",
       "  (42,61),\n",
       "  (10,44),\n",
       "  (18,64),\n",
       "  (80,88),\n",
       "  (46,83),\n",
       "  (45,85),\n",
       "  (76,6)],\n",
       " [(13,40),\n",
       "  (97,59),\n",
       "  (45,85),\n",
       "  (46,83),\n",
       "  (76,6),\n",
       "  (89,58),\n",
       "  (33,21),\n",
       "  (12,0),\n",
       "  (10,44),\n",
       "  (95,41),\n",
       "  (12,82),\n",
       "  (18,64),\n",
       "  (80,88),\n",
       "  (58,9),\n",
       "  (42,61)],\n",
       " [(45,85),\n",
       "  (18,64),\n",
       "  (97,59),\n",
       "  (10,44),\n",
       "  (89,58),\n",
       "  (13,40),\n",
       "  (58,9),\n",
       "  (12,82),\n",
       "  (80,88),\n",
       "  (95,41),\n",
       "  (46,83),\n",
       "  (33,21),\n",
       "  (76,6),\n",
       "  (12,0),\n",
       "  (42,61)],\n",
       " [(12,0),\n",
       "  (95,41),\n",
       "  (45,85),\n",
       "  (97,59),\n",
       "  (33,21),\n",
       "  (58,9),\n",
       "  (10,44),\n",
       "  (12,82),\n",
       "  (76,6),\n",
       "  (80,88),\n",
       "  (89,58),\n",
       "  (13,40),\n",
       "  (42,61),\n",
       "  (18,64),\n",
       "  (46,83)],\n",
       " [(76,6),\n",
       "  (58,9),\n",
       "  (46,83),\n",
       "  (89,58),\n",
       "  (10,44),\n",
       "  (95,41),\n",
       "  (12,82),\n",
       "  (12,0),\n",
       "  (18,64),\n",
       "  (97,59),\n",
       "  (45,85),\n",
       "  (13,40),\n",
       "  (33,21),\n",
       "  (80,88),\n",
       "  (42,61)]]"
      ]
     },
     "execution_count": 106,
     "metadata": {},
     "output_type": "execute_result"
    }
   ],
   "source": [
    "inipop"
   ]
  },
  {
   "cell_type": "code",
   "execution_count": 107,
   "metadata": {},
   "outputs": [],
   "source": [
    "ranks=rankRoutes(inipop)"
   ]
  },
  {
   "cell_type": "code",
   "execution_count": 108,
   "metadata": {},
   "outputs": [
    {
     "data": {
      "text/plain": [
       "[(3, 0.0012449442932391693),\n",
       " (1, 0.0012281656026725634),\n",
       " (4, 0.0012264579535486407),\n",
       " (6, 0.0011642823815401512),\n",
       " (0, 0.0011514381312685072),\n",
       " (5, 0.0011421518294229673),\n",
       " (8, 0.0011219091069352505),\n",
       " (2, 0.0011135318248058717),\n",
       " (7, 0.0010544291402964268),\n",
       " (9, 0.0010413301164974465)]"
      ]
     },
     "execution_count": 108,
     "metadata": {},
     "output_type": "execute_result"
    }
   ],
   "source": [
    "ranks"
   ]
  },
  {
   "cell_type": "code",
   "execution_count": 115,
   "metadata": {},
   "outputs": [],
   "source": [
    "selected = selection(ranks)"
   ]
  },
  {
   "cell_type": "code",
   "execution_count": 116,
   "metadata": {},
   "outputs": [
    {
     "data": {
      "text/plain": [
       "[(5, 0.0011421518294229673),\n",
       " (8, 0.0011219091069352505),\n",
       " (9, 0.0010413301164974465),\n",
       " (7, 0.0010544291402964268),\n",
       " (6, 0.0011642823815401512),\n",
       " (4, 0.0012264579535486407),\n",
       " (2, 0.0011135318248058717),\n",
       " (5, 0.0011421518294229673),\n",
       " (1, 0.0012281656026725634),\n",
       " (4, 0.0012264579535486407)]"
      ]
     },
     "execution_count": 116,
     "metadata": {},
     "output_type": "execute_result"
    }
   ],
   "source": [
    "selected"
   ]
  },
  {
   "cell_type": "code",
   "execution_count": 117,
   "metadata": {},
   "outputs": [],
   "source": [
    "matpool= matingpool(selected,inipop)"
   ]
  },
  {
   "cell_type": "code",
   "execution_count": 118,
   "metadata": {},
   "outputs": [
    {
     "data": {
      "text/plain": [
       "[[(58,9),\n",
       "  (89,58),\n",
       "  (13,40),\n",
       "  (95,41),\n",
       "  (12,82),\n",
       "  (12,0),\n",
       "  (97,59),\n",
       "  (33,21),\n",
       "  (42,61),\n",
       "  (10,44),\n",
       "  (18,64),\n",
       "  (80,88),\n",
       "  (46,83),\n",
       "  (45,85),\n",
       "  (76,6)],\n",
       " [(12,0),\n",
       "  (95,41),\n",
       "  (45,85),\n",
       "  (97,59),\n",
       "  (33,21),\n",
       "  (58,9),\n",
       "  (10,44),\n",
       "  (12,82),\n",
       "  (76,6),\n",
       "  (80,88),\n",
       "  (89,58),\n",
       "  (13,40),\n",
       "  (42,61),\n",
       "  (18,64),\n",
       "  (46,83)],\n",
       " [(76,6),\n",
       "  (58,9),\n",
       "  (46,83),\n",
       "  (89,58),\n",
       "  (10,44),\n",
       "  (95,41),\n",
       "  (12,82),\n",
       "  (12,0),\n",
       "  (18,64),\n",
       "  (97,59),\n",
       "  (45,85),\n",
       "  (13,40),\n",
       "  (33,21),\n",
       "  (80,88),\n",
       "  (42,61)],\n",
       " [(45,85),\n",
       "  (18,64),\n",
       "  (97,59),\n",
       "  (10,44),\n",
       "  (89,58),\n",
       "  (13,40),\n",
       "  (58,9),\n",
       "  (12,82),\n",
       "  (80,88),\n",
       "  (95,41),\n",
       "  (46,83),\n",
       "  (33,21),\n",
       "  (76,6),\n",
       "  (12,0),\n",
       "  (42,61)],\n",
       " [(13,40),\n",
       "  (97,59),\n",
       "  (45,85),\n",
       "  (46,83),\n",
       "  (76,6),\n",
       "  (89,58),\n",
       "  (33,21),\n",
       "  (12,0),\n",
       "  (10,44),\n",
       "  (95,41),\n",
       "  (12,82),\n",
       "  (18,64),\n",
       "  (80,88),\n",
       "  (58,9),\n",
       "  (42,61)],\n",
       " [(13,40),\n",
       "  (80,88),\n",
       "  (45,85),\n",
       "  (12,0),\n",
       "  (33,21),\n",
       "  (89,58),\n",
       "  (76,6),\n",
       "  (97,59),\n",
       "  (95,41),\n",
       "  (10,44),\n",
       "  (12,82),\n",
       "  (42,61),\n",
       "  (18,64),\n",
       "  (58,9),\n",
       "  (46,83)],\n",
       " [(97,59),\n",
       "  (80,88),\n",
       "  (12,0),\n",
       "  (12,82),\n",
       "  (42,61),\n",
       "  (89,58),\n",
       "  (18,64),\n",
       "  (45,85),\n",
       "  (58,9),\n",
       "  (13,40),\n",
       "  (10,44),\n",
       "  (95,41),\n",
       "  (76,6),\n",
       "  (46,83),\n",
       "  (33,21)],\n",
       " [(58,9),\n",
       "  (89,58),\n",
       "  (13,40),\n",
       "  (95,41),\n",
       "  (12,82),\n",
       "  (12,0),\n",
       "  (97,59),\n",
       "  (33,21),\n",
       "  (42,61),\n",
       "  (10,44),\n",
       "  (18,64),\n",
       "  (80,88),\n",
       "  (46,83),\n",
       "  (45,85),\n",
       "  (76,6)],\n",
       " [(42,61),\n",
       "  (13,40),\n",
       "  (46,83),\n",
       "  (10,44),\n",
       "  (12,0),\n",
       "  (97,59),\n",
       "  (12,82),\n",
       "  (18,64),\n",
       "  (89,58),\n",
       "  (76,6),\n",
       "  (58,9),\n",
       "  (95,41),\n",
       "  (45,85),\n",
       "  (80,88),\n",
       "  (33,21)],\n",
       " [(13,40),\n",
       "  (80,88),\n",
       "  (45,85),\n",
       "  (12,0),\n",
       "  (33,21),\n",
       "  (89,58),\n",
       "  (76,6),\n",
       "  (97,59),\n",
       "  (95,41),\n",
       "  (10,44),\n",
       "  (12,82),\n",
       "  (42,61),\n",
       "  (18,64),\n",
       "  (58,9),\n",
       "  (46,83)]]"
      ]
     },
     "execution_count": 118,
     "metadata": {},
     "output_type": "execute_result"
    }
   ],
   "source": [
    "matpool"
   ]
  },
  {
   "cell_type": "code",
   "execution_count": 119,
   "metadata": {},
   "outputs": [],
   "source": [
    "bredpop = breedpopulation(matpool)"
   ]
  },
  {
   "cell_type": "code",
   "execution_count": 120,
   "metadata": {},
   "outputs": [
    {
     "data": {
      "text/plain": [
       "[[(89,58),\n",
       "  (33,21),\n",
       "  (12,0),\n",
       "  (10,44),\n",
       "  (95,41),\n",
       "  (12,82),\n",
       "  (13,40),\n",
       "  (80,88),\n",
       "  (45,85),\n",
       "  (76,6),\n",
       "  (97,59),\n",
       "  (42,61),\n",
       "  (18,64),\n",
       "  (58,9),\n",
       "  (46,83)],\n",
       " [(80,88),\n",
       "  (97,59),\n",
       "  (12,0),\n",
       "  (12,82),\n",
       "  (42,61),\n",
       "  (89,58),\n",
       "  (18,64),\n",
       "  (45,85),\n",
       "  (58,9),\n",
       "  (13,40),\n",
       "  (10,44),\n",
       "  (95,41),\n",
       "  (76,6),\n",
       "  (46,83),\n",
       "  (33,21)],\n",
       " [(12,82),\n",
       "  (42,61),\n",
       "  (89,58),\n",
       "  (18,64),\n",
       "  (13,40),\n",
       "  (80,88),\n",
       "  (45,85),\n",
       "  (12,0),\n",
       "  (33,21),\n",
       "  (76,6),\n",
       "  (97,59),\n",
       "  (95,41),\n",
       "  (10,44),\n",
       "  (58,9),\n",
       "  (46,83)],\n",
       " [(12,82),\n",
       "  (18,64),\n",
       "  (80,88),\n",
       "  (42,61),\n",
       "  (13,40),\n",
       "  (46,83),\n",
       "  (10,44),\n",
       "  (12,0),\n",
       "  (97,59),\n",
       "  (89,58),\n",
       "  (76,6),\n",
       "  (58,9),\n",
       "  (95,41),\n",
       "  (45,85),\n",
       "  (33,21)],\n",
       " [(46,83),\n",
       "  (58,9),\n",
       "  (89,58),\n",
       "  (13,40),\n",
       "  (95,41),\n",
       "  (12,82),\n",
       "  (12,0),\n",
       "  (97,59),\n",
       "  (33,21),\n",
       "  (42,61),\n",
       "  (10,44),\n",
       "  (18,64),\n",
       "  (80,88),\n",
       "  (45,85),\n",
       "  (76,6)],\n",
       " [(58,9),\n",
       "  (76,6),\n",
       "  (46,83),\n",
       "  (89,58),\n",
       "  (10,44),\n",
       "  (95,41),\n",
       "  (12,82),\n",
       "  (12,0),\n",
       "  (18,64),\n",
       "  (97,59),\n",
       "  (45,85),\n",
       "  (13,40),\n",
       "  (33,21),\n",
       "  (80,88),\n",
       "  (42,61)],\n",
       " [(76,6),\n",
       "  (97,59),\n",
       "  (95,41),\n",
       "  (10,44),\n",
       "  (12,82),\n",
       "  (42,61),\n",
       "  (18,64),\n",
       "  (58,9),\n",
       "  (12,0),\n",
       "  (45,85),\n",
       "  (33,21),\n",
       "  (80,88),\n",
       "  (89,58),\n",
       "  (13,40),\n",
       "  (46,83)],\n",
       " [(76,6),\n",
       "  (97,59),\n",
       "  (13,40),\n",
       "  (45,85),\n",
       "  (46,83),\n",
       "  (89,58),\n",
       "  (33,21),\n",
       "  (12,0),\n",
       "  (10,44),\n",
       "  (95,41),\n",
       "  (12,82),\n",
       "  (18,64),\n",
       "  (80,88),\n",
       "  (58,9),\n",
       "  (42,61)],\n",
       " [(18,64),\n",
       "  (97,59),\n",
       "  (10,44),\n",
       "  (89,58),\n",
       "  (13,40),\n",
       "  (58,9),\n",
       "  (80,88),\n",
       "  (45,85),\n",
       "  (12,0),\n",
       "  (33,21),\n",
       "  (76,6),\n",
       "  (95,41),\n",
       "  (12,82),\n",
       "  (42,61),\n",
       "  (46,83)],\n",
       " [(18,64),\n",
       "  (45,85),\n",
       "  (58,9),\n",
       "  (13,40),\n",
       "  (10,44),\n",
       "  (95,41),\n",
       "  (76,6),\n",
       "  (46,83),\n",
       "  (33,21),\n",
       "  (12,0),\n",
       "  (97,59),\n",
       "  (12,82),\n",
       "  (80,88),\n",
       "  (89,58),\n",
       "  (42,61)]]"
      ]
     },
     "execution_count": 120,
     "metadata": {},
     "output_type": "execute_result"
    }
   ],
   "source": [
    "bredpop"
   ]
  },
  {
   "cell_type": "code",
   "execution_count": 121,
   "metadata": {},
   "outputs": [],
   "source": [
    "mutpop = mutatepopulation(bredpop,0.1)"
   ]
  },
  {
   "cell_type": "code",
   "execution_count": 122,
   "metadata": {},
   "outputs": [
    {
     "data": {
      "text/plain": [
       "[[(89,58),\n",
       "  (33,21),\n",
       "  (12,0),\n",
       "  (10,44),\n",
       "  (95,41),\n",
       "  (12,82),\n",
       "  (13,40),\n",
       "  (80,88),\n",
       "  (45,85),\n",
       "  (76,6),\n",
       "  (97,59),\n",
       "  (46,83),\n",
       "  (18,64),\n",
       "  (58,9),\n",
       "  (42,61)],\n",
       " [(80,88),\n",
       "  (97,59),\n",
       "  (12,0),\n",
       "  (12,82),\n",
       "  (42,61),\n",
       "  (89,58),\n",
       "  (18,64),\n",
       "  (45,85),\n",
       "  (58,9),\n",
       "  (13,40),\n",
       "  (10,44),\n",
       "  (95,41),\n",
       "  (76,6),\n",
       "  (46,83),\n",
       "  (33,21)],\n",
       " [(12,82),\n",
       "  (42,61),\n",
       "  (89,58),\n",
       "  (18,64),\n",
       "  (13,40),\n",
       "  (80,88),\n",
       "  (45,85),\n",
       "  (12,0),\n",
       "  (33,21),\n",
       "  (76,6),\n",
       "  (97,59),\n",
       "  (95,41),\n",
       "  (10,44),\n",
       "  (58,9),\n",
       "  (46,83)],\n",
       " [(12,82),\n",
       "  (18,64),\n",
       "  (80,88),\n",
       "  (42,61),\n",
       "  (13,40),\n",
       "  (46,83),\n",
       "  (10,44),\n",
       "  (12,0),\n",
       "  (97,59),\n",
       "  (89,58),\n",
       "  (76,6),\n",
       "  (58,9),\n",
       "  (95,41),\n",
       "  (45,85),\n",
       "  (33,21)],\n",
       " [(46,83),\n",
       "  (58,9),\n",
       "  (89,58),\n",
       "  (13,40),\n",
       "  (95,41),\n",
       "  (12,82),\n",
       "  (12,0),\n",
       "  (97,59),\n",
       "  (33,21),\n",
       "  (42,61),\n",
       "  (10,44),\n",
       "  (18,64),\n",
       "  (80,88),\n",
       "  (45,85),\n",
       "  (76,6)],\n",
       " [(58,9),\n",
       "  (76,6),\n",
       "  (46,83),\n",
       "  (89,58),\n",
       "  (10,44),\n",
       "  (95,41),\n",
       "  (12,82),\n",
       "  (12,0),\n",
       "  (18,64),\n",
       "  (97,59),\n",
       "  (45,85),\n",
       "  (13,40),\n",
       "  (33,21),\n",
       "  (80,88),\n",
       "  (42,61)],\n",
       " [(76,6),\n",
       "  (97,59),\n",
       "  (95,41),\n",
       "  (10,44),\n",
       "  (12,82),\n",
       "  (42,61),\n",
       "  (18,64),\n",
       "  (58,9),\n",
       "  (12,0),\n",
       "  (45,85),\n",
       "  (33,21),\n",
       "  (80,88),\n",
       "  (89,58),\n",
       "  (13,40),\n",
       "  (46,83)],\n",
       " [(76,6),\n",
       "  (97,59),\n",
       "  (13,40),\n",
       "  (45,85),\n",
       "  (46,83),\n",
       "  (89,58),\n",
       "  (33,21),\n",
       "  (12,0),\n",
       "  (10,44),\n",
       "  (95,41),\n",
       "  (12,82),\n",
       "  (18,64),\n",
       "  (80,88),\n",
       "  (58,9),\n",
       "  (42,61)],\n",
       " [(18,64),\n",
       "  (97,59),\n",
       "  (10,44),\n",
       "  (89,58),\n",
       "  (13,40),\n",
       "  (58,9),\n",
       "  (80,88),\n",
       "  (45,85),\n",
       "  (12,0),\n",
       "  (33,21),\n",
       "  (76,6),\n",
       "  (95,41),\n",
       "  (12,82),\n",
       "  (42,61),\n",
       "  (46,83)],\n",
       " [(18,64),\n",
       "  (45,85),\n",
       "  (58,9),\n",
       "  (13,40),\n",
       "  (10,44),\n",
       "  (95,41),\n",
       "  (76,6),\n",
       "  (46,83),\n",
       "  (33,21),\n",
       "  (12,0),\n",
       "  (97,59),\n",
       "  (12,82),\n",
       "  (80,88),\n",
       "  (89,58),\n",
       "  (42,61)]]"
      ]
     },
     "execution_count": 122,
     "metadata": {},
     "output_type": "execute_result"
    }
   ],
   "source": [
    "mutpop"
   ]
  },
  {
   "cell_type": "code",
   "execution_count": null,
   "metadata": {},
   "outputs": [],
   "source": []
  }
 ],
 "metadata": {
  "kernelspec": {
   "display_name": "Python 3",
   "language": "python",
   "name": "python3"
  },
  "language_info": {
   "codemirror_mode": {
    "name": "ipython",
    "version": 3
   },
   "file_extension": ".py",
   "mimetype": "text/x-python",
   "name": "python",
   "nbconvert_exporter": "python",
   "pygments_lexer": "ipython3",
   "version": "3.7.3"
  }
 },
 "nbformat": 4,
 "nbformat_minor": 2
}
