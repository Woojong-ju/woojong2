{
 "cells": [
  {
   "cell_type": "markdown",
   "metadata": {},
   "source": [
    "Gentetic Algorithm 실습\n",
    "Reference : https://towardsdatascience.com/evolution-of-a-salesman-a-complete-genetic-algorithm-tutorial-for-python-6fe5d2b3ca35\n",
    "1. Create population\n",
    "2. Determine fitness\n",
    "3. Select the mating pool\n",
    "4. Breed\n",
    "5. Mutate\n",
    "6. Repeat"
   ]
  },
  {
   "cell_type": "code",
   "execution_count": 21,
   "metadata": {},
   "outputs": [],
   "source": [
    "import numpy as np, random, operator, pandas as pd, matplotlib.pyplot as plt,time"
   ]
  },
  {
   "cell_type": "code",
   "execution_count": 2,
   "metadata": {},
   "outputs": [],
   "source": [
    "#Create City, Fitness Class\n",
    "\n",
    "class City:\n",
    "    def __init__(self,x,y):\n",
    "        self.x = x\n",
    "        self.y = y\n",
    "    \n",
    "    def distance(self,city):\n",
    "        xDis = abs(self.x-city.x)\n",
    "        yDis = abs(self.y-city.y)\n",
    "        distance = np.sqrt((xDis**2)+(yDis**2))\n",
    "        return distance\n",
    "    \n",
    "    def __repr__(self):\n",
    "        return \"(\"+str(self.x)+\",\"+str(self.y)+\")\"\n",
    "    \n",
    "        "
   ]
  },
  {
   "cell_type": "code",
   "execution_count": 3,
   "metadata": {},
   "outputs": [],
   "source": [
    "class Fitness:\n",
    "    def __init__(self, route):\n",
    "        self.route = route\n",
    "        self.distance = 0\n",
    "        self.fitness= 0.0\n",
    "    \n",
    "    def routeDistance(self):\n",
    "        if self.distance ==0:\n",
    "            pathDistance = 0\n",
    "            for i in range(0, len(self.route)):\n",
    "                fromCity = self.route[i]\n",
    "                toCity = None\n",
    "                if i + 1 < len(self.route):\n",
    "                    toCity = self.route[i + 1]\n",
    "                else:\n",
    "                    toCity = self.route[0]\n",
    "                pathDistance += fromCity.distance(toCity)\n",
    "            self.distance = pathDistance\n",
    "        return self.distance\n",
    "    \n",
    "    def routeFitness(self):\n",
    "        if self.fitness == 0:\n",
    "            self.fitness = 1 / float(self.routeDistance())\n",
    "        return self.fitness"
   ]
  },
  {
   "cell_type": "markdown",
   "metadata": {},
   "source": [
    "Create Population"
   ]
  },
  {
   "cell_type": "code",
   "execution_count": 4,
   "metadata": {},
   "outputs": [],
   "source": [
    "#하나의 individual route 생성하는 함수\n",
    "def createRoute(cityList):\n",
    "    route = random.sample(cityList,len(cityList))\n",
    "    return route"
   ]
  },
  {
   "cell_type": "code",
   "execution_count": 5,
   "metadata": {},
   "outputs": [],
   "source": [
    "#여러 individual route 생성하여 population 형성하는 함수\n",
    "def initialPopulation(popSize,cityList):\n",
    "    population = []\n",
    "    for i in range(0,popSize):\n",
    "        population.append(createRoute(cityList))\n",
    "    return population"
   ]
  },
  {
   "cell_type": "markdown",
   "metadata": {},
   "source": [
    "Determine Fitness\n",
    "Fitness 이용해 rank만들기"
   ]
  },
  {
   "cell_type": "code",
   "execution_count": 6,
   "metadata": {},
   "outputs": [],
   "source": [
    "def rankRoutes(population):\n",
    "    fitnessResults={}\n",
    "    for i in range(0,len(population)):\n",
    "        fitnessResults[i] = Fitness(population[i]).routeFitness()\n",
    "    return sorted(fitnessResults.items(),key = operator.itemgetter(1),reverse=True)"
   ]
  },
  {
   "cell_type": "code",
   "execution_count": 7,
   "metadata": {},
   "outputs": [],
   "source": [
    "def selection(popRanked,eliteSize):\n",
    "    selectionResults = []\n",
    "    df = pd.DataFrame(np.array(popRanked),columns = ['index','Fitness'])\n",
    "    df['cum_sum']= df.Fitness.cumsum()\n",
    "    df['cum_perc'] = 100*df.cum_sum/df.Fitness.sum()\n",
    "    \n",
    "    for i in range(0,eliteSize):\n",
    "        selectionResults.append(popRanked[i][0])\n",
    "    for i in range(0,len(popRanked)-eliteSize):\n",
    "        pick = 100*random.random()\n",
    "        for i in range(0,len(popRanked)):\n",
    "            if pick<= df.iat[i,3]:\n",
    "                selectionResults.append(popRanked[i][0])\n",
    "                break\n",
    "    return selectionResults"
   ]
  },
  {
   "cell_type": "code",
   "execution_count": 8,
   "metadata": {},
   "outputs": [],
   "source": [
    "def matingPool(population,selectionResults):\n",
    "    matingpool = []\n",
    "    for i in range(0,len(selectionResults)):\n",
    "        index = selectionResults[i]\n",
    "        matingpool.append(population[index])\n",
    "    return matingpool"
   ]
  },
  {
   "cell_type": "markdown",
   "metadata": {},
   "source": [
    "Breed"
   ]
  },
  {
   "cell_type": "markdown",
   "metadata": {},
   "source": [
    "ordered crossover 사용"
   ]
  },
  {
   "cell_type": "code",
   "execution_count": 9,
   "metadata": {},
   "outputs": [],
   "source": [
    "def breed(parent1,parent2):\n",
    "    child = []\n",
    "    childP1 = []\n",
    "    childP2 = []\n",
    "    \n",
    "    geneA = int(random.random()*len(parent1))\n",
    "    geneB = int(random.random()*len(parent1))\n",
    "    startGene = min(geneA,geneB)\n",
    "    endGene = max(geneA,geneB)\n",
    "    \n",
    "    for i in range(startGene,endGene):\n",
    "        childP1.append(parent1[i])\n",
    "        \n",
    "    childP2 = [item for item in parent2 if item not in childP1]\n",
    "    child = childP1+childP2\n",
    "    return child\n",
    "    "
   ]
  },
  {
   "cell_type": "code",
   "execution_count": 10,
   "metadata": {},
   "outputs": [],
   "source": [
    "def breedPopulation(matingpool,eliteSize):\n",
    "    children = []\n",
    "    length = len(matingpool) - eliteSize\n",
    "    pool = random.sample(matingpool,len(matingpool))\n",
    "    for i in range(0,eliteSize):\n",
    "        children.append(matingpool[i])\n",
    "        \n",
    "    for i in range(0,length):\n",
    "        child = breed(pool[i],pool[len(matingpool)-i-1])\n",
    "        children.append(child)\n",
    "    return children"
   ]
  },
  {
   "cell_type": "markdown",
   "metadata": {},
   "source": [
    "Mutate"
   ]
  },
  {
   "cell_type": "code",
   "execution_count": 11,
   "metadata": {},
   "outputs": [],
   "source": [
    "#swamp mutate\n",
    "def mutate(individual,mutationRate):\n",
    "    for swapped in range(len(individual)):\n",
    "        if(random.random()<mutationRate):\n",
    "            swapWith = int(random.random()*len(individual))\n",
    "            \n",
    "            city1 = individual[swapped]\n",
    "            city2 = individual[swapWith]\n",
    "            \n",
    "            individual[swapped] = city2\n",
    "            individual[swapWith] = city1\n",
    "        return individual"
   ]
  },
  {
   "cell_type": "code",
   "execution_count": 12,
   "metadata": {},
   "outputs": [],
   "source": [
    "def mutatePopulation(population,mutationRate):\n",
    "    mutatedPop = []\n",
    "    for ind in range(0,len(population)):\n",
    "        mutatedInd = mutate(population[ind],mutationRate)\n",
    "        mutatedPop.append(mutatedInd)\n",
    "    return mutatedPop"
   ]
  },
  {
   "cell_type": "code",
   "execution_count": 13,
   "metadata": {},
   "outputs": [],
   "source": [
    "##Repeat - 반복작업!\n",
    "def nextGeneration(currentGen,eliteSize,mutationRate):\n",
    "    popRanked = rankRoutes(currentGen)\n",
    "    selectionResults = selection(popRanked,eliteSize)\n",
    "    matingpool = matingPool(currentGen,selectionResults)\n",
    "    children = breedPopulation(matingpool,eliteSize)\n",
    "    nextGeneration = mutatePopulation(children,mutationRate)\n",
    "    return nextGeneration"
   ]
  },
  {
   "cell_type": "code",
   "execution_count": 24,
   "metadata": {},
   "outputs": [],
   "source": [
    "def GeneticAlgorithm(population,popSize,eliteSize,mutationRate,generations):\n",
    "    start = time.time()\n",
    "    pop = initialPopulation(popSize,population)\n",
    "    print('intital distance:'+str(1/rankRoutes(pop)[0][1]))\n",
    "    progress=[]\n",
    "    bestroute = 1/rankRoutes(pop)[0][0]\n",
    "    Finaldistance = 1/rankRoutes(pop)[0][1]\n",
    "    progress.append(Finaldistance)\n",
    "    for i in range(0,generations):\n",
    "        pop = nextGeneration(pop,eliteSize,mutationRate)\n",
    "        progress.append(1/rankRoutes(pop)[0][1])\n",
    "        if Finaldistance > 1/rankRoutes(pop)[0][1]:\n",
    "            bestroute = pop[rankRoutes(pop)[0][0]]\n",
    "            Finaldistance = 1/rankRoutes(pop)[0][1]\n",
    "    \n",
    "    finish = time.time()\n",
    "    print('Final distance:'+str(Finaldistance))\n",
    "    print('Time:'+str(finish-start))\n",
    "    plt.plot(progress)\n",
    "    plt.xlabel('Generation')\n",
    "    plt.ylabel('Distance')\n",
    "    plt.show\n",
    "    \n",
    "    \n",
    "    return bestroute"
   ]
  },
  {
   "cell_type": "code",
   "execution_count": 25,
   "metadata": {},
   "outputs": [],
   "source": [
    "cityList = []\n",
    "for i in range(0,35) :\n",
    "    cityList.append(City(x=int(random.random()*100),y=int(random.random()*100)))"
   ]
  },
  {
   "cell_type": "code",
   "execution_count": 26,
   "metadata": {},
   "outputs": [
    {
     "data": {
      "text/plain": [
       "[(31,73),\n",
       " (74,47),\n",
       " (54,99),\n",
       " (78,34),\n",
       " (6,73),\n",
       " (63,15),\n",
       " (26,89),\n",
       " (59,87),\n",
       " (62,67),\n",
       " (42,78),\n",
       " (76,70),\n",
       " (26,81),\n",
       " (4,54),\n",
       " (92,70),\n",
       " (8,62),\n",
       " (90,40),\n",
       " (92,76),\n",
       " (94,89),\n",
       " (87,7),\n",
       " (59,33),\n",
       " (52,91),\n",
       " (27,30),\n",
       " (66,44),\n",
       " (70,59),\n",
       " (4,34),\n",
       " (40,77),\n",
       " (15,95),\n",
       " (9,46),\n",
       " (96,48),\n",
       " (67,73),\n",
       " (45,88),\n",
       " (79,29),\n",
       " (17,29),\n",
       " (53,43),\n",
       " (0,2)]"
      ]
     },
     "execution_count": 26,
     "metadata": {},
     "output_type": "execute_result"
    }
   ],
   "source": [
    "cityList"
   ]
  },
  {
   "cell_type": "code",
   "execution_count": 27,
   "metadata": {},
   "outputs": [
    {
     "name": "stdout",
     "output_type": "stream",
     "text": [
      "intital distance:1527.890446859265\n",
      "Final distance:595.0067890710408\n"
     ]
    },
    {
     "data": {
      "text/plain": [
       "[(66,44),\n",
       " (59,33),\n",
       " (63,15),\n",
       " (87,7),\n",
       " (79,29),\n",
       " (78,34),\n",
       " (90,40),\n",
       " (96,48),\n",
       " (74,47),\n",
       " (53,43),\n",
       " (17,29),\n",
       " (27,30),\n",
       " (0,2),\n",
       " (4,34),\n",
       " (8,62),\n",
       " (4,54),\n",
       " (9,46),\n",
       " (6,73),\n",
       " (15,95),\n",
       " (26,89),\n",
       " (26,81),\n",
       " (31,73),\n",
       " (42,78),\n",
       " (40,77),\n",
       " (54,99),\n",
       " (52,91),\n",
       " (45,88),\n",
       " (59,87),\n",
       " (76,70),\n",
       " (92,70),\n",
       " (92,76),\n",
       " (94,89),\n",
       " (67,73),\n",
       " (62,67),\n",
       " (70,59)]"
      ]
     },
     "execution_count": 27,
     "metadata": {},
     "output_type": "execute_result"
    }
   ],
   "source": [
    "GeneticAlgorithm(population=cityList,popSize=50,eliteSize=10,mutationRate=0.1,generations=1000)"
   ]
  },
  {
   "cell_type": "code",
   "execution_count": null,
   "metadata": {},
   "outputs": [],
   "source": []
  },
  {
   "cell_type": "code",
   "execution_count": null,
   "metadata": {},
   "outputs": [],
   "source": []
  }
 ],
 "metadata": {
  "kernelspec": {
   "display_name": "Python 3",
   "language": "python",
   "name": "python3"
  },
  "language_info": {
   "codemirror_mode": {
    "name": "ipython",
    "version": 3
   },
   "file_extension": ".py",
   "mimetype": "text/x-python",
   "name": "python",
   "nbconvert_exporter": "python",
   "pygments_lexer": "ipython3",
   "version": "3.7.3"
  }
 },
 "nbformat": 4,
 "nbformat_minor": 2
}
