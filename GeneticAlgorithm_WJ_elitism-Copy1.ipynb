{
 "cells": [
  {
   "cell_type": "markdown",
   "metadata": {},
   "source": [
    "# Genetic Algorithm \n",
    "Reference : https://towardsdatascience.com/evolution-of-a-salesman-a-complete-genetic-algorithm-tutorial-for-python-6fe5d2b3ca35"
   ]
  },
  {
   "cell_type": "raw",
   "metadata": {},
   "source": [
    "Genetic Algorithm을 이용한 TPS 문제해결.\n",
    "    - 기존 reference에 있던 TPS 문제에서 Elitism은 제외할것\n",
    "    - breeding : ordered crossover \n",
    "    - mutate : exchange(swap)\n"
   ]
  },
  {
   "cell_type": "raw",
   "metadata": {},
   "source": [
    "1. Class 구성"
   ]
  },
  {
   "cell_type": "code",
   "execution_count": 1,
   "metadata": {},
   "outputs": [],
   "source": [
    "import numpy as np, pandas as pd, matplotlib.pyplot as plt, random, operator, time"
   ]
  },
  {
   "cell_type": "code",
   "execution_count": 2,
   "metadata": {},
   "outputs": [],
   "source": [
    "#City class 구성\n",
    "class City :\n",
    "    def __init__(self,x,y):\n",
    "        self.x = x\n",
    "        self.y = y\n",
    "    \n",
    "    def distance(self,city):\n",
    "        Dis = np.sqrt((self.x-city.x)**2+(self.y-city.y)**2)\n",
    "        return Dis\n",
    "    \n",
    "    def __repr__(self):\n",
    "        return '('+str(self.x)+','+str(self.y)+')'\n",
    "    "
   ]
  },
  {
   "cell_type": "code",
   "execution_count": 3,
   "metadata": {},
   "outputs": [],
   "source": [
    "city1 = City(3,5)"
   ]
  },
  {
   "cell_type": "code",
   "execution_count": 4,
   "metadata": {},
   "outputs": [
    {
     "data": {
      "text/plain": [
       "(3,5)"
      ]
     },
     "execution_count": 4,
     "metadata": {},
     "output_type": "execute_result"
    }
   ],
   "source": [
    "city1"
   ]
  },
  {
   "cell_type": "code",
   "execution_count": 5,
   "metadata": {},
   "outputs": [],
   "source": [
    "city2 = City(5,7)"
   ]
  },
  {
   "cell_type": "code",
   "execution_count": 6,
   "metadata": {},
   "outputs": [
    {
     "data": {
      "text/plain": [
       "2.8284271247461903"
      ]
     },
     "execution_count": 6,
     "metadata": {},
     "output_type": "execute_result"
    }
   ],
   "source": [
    "city1.distance(city2)"
   ]
  },
  {
   "cell_type": "code",
   "execution_count": 7,
   "metadata": {},
   "outputs": [],
   "source": [
    "#Fitness\n",
    "class Fitness :\n",
    "    def __init__(self,route):\n",
    "        self.route = route\n",
    "        self.distance =0\n",
    "        self.fitness = 0\n",
    "        \n",
    "        \n",
    "        \n",
    "    def routeDistance(self):\n",
    "        pathdistance = 0\n",
    "        if self.distance == 0:\n",
    "            for i in range(0,len(self.route)):\n",
    "                if i+1 < len(self.route):\n",
    "                    fromCity = self.route[i]\n",
    "                    toCity = self.route[i+1]\n",
    "                    pathdistance += fromCity.distance(toCity)\n",
    "                else :\n",
    "                    fromCity = self.route[len(self.route)-1]\n",
    "                    toCity = self.route[0]\n",
    "                    pathdistance += fromCity.distance(toCity)\n",
    "        return pathdistance\n",
    "    \n",
    "    def routeFitness(self):\n",
    "        routefitness = 0\n",
    "        routedistance = self.routeDistance()\n",
    "        if self.fitness==0:\n",
    "            routefitness = 1/float(routedistance)\n",
    "            \n",
    "        return routefitness\n",
    "              "
   ]
  },
  {
   "cell_type": "code",
   "execution_count": 8,
   "metadata": {},
   "outputs": [],
   "source": [
    "route1 = []\n",
    "route1.append(city1)\n",
    "route1.append(city2)"
   ]
  },
  {
   "cell_type": "code",
   "execution_count": 9,
   "metadata": {},
   "outputs": [
    {
     "data": {
      "text/plain": [
       "[(3,5), (5,7)]"
      ]
     },
     "execution_count": 9,
     "metadata": {},
     "output_type": "execute_result"
    }
   ],
   "source": [
    "route1"
   ]
  },
  {
   "cell_type": "code",
   "execution_count": 10,
   "metadata": {},
   "outputs": [],
   "source": [
    "fitness1 = Fitness(route1).routeFitness()"
   ]
  },
  {
   "cell_type": "code",
   "execution_count": 11,
   "metadata": {},
   "outputs": [
    {
     "data": {
      "text/plain": [
       "0.17677669529663687"
      ]
     },
     "execution_count": 11,
     "metadata": {},
     "output_type": "execute_result"
    }
   ],
   "source": [
    "fitness1"
   ]
  },
  {
   "cell_type": "raw",
   "metadata": {},
   "source": [
    "2. InitialPopulation 구성하기"
   ]
  },
  {
   "cell_type": "code",
   "execution_count": 12,
   "metadata": {},
   "outputs": [],
   "source": [
    "#createRoute : CityList에서 구성된 랜덤샘플로 route구성\n",
    "def createRoute(cityList):\n",
    "    route = random.sample(cityList,len(cityList))\n",
    "    return route"
   ]
  },
  {
   "cell_type": "code",
   "execution_count": 13,
   "metadata": {},
   "outputs": [
    {
     "data": {
      "text/plain": [
       "[(3,5), (5,7)]"
      ]
     },
     "execution_count": 13,
     "metadata": {},
     "output_type": "execute_result"
    }
   ],
   "source": [
    "route1"
   ]
  },
  {
   "cell_type": "code",
   "execution_count": 14,
   "metadata": {},
   "outputs": [],
   "source": [
    "route1.append(City(8,8))"
   ]
  },
  {
   "cell_type": "code",
   "execution_count": 15,
   "metadata": {},
   "outputs": [],
   "source": [
    "route1.append(City(1,8))"
   ]
  },
  {
   "cell_type": "code",
   "execution_count": 16,
   "metadata": {},
   "outputs": [
    {
     "data": {
      "text/plain": [
       "[(3,5), (5,7), (8,8), (1,8)]"
      ]
     },
     "execution_count": 16,
     "metadata": {},
     "output_type": "execute_result"
    }
   ],
   "source": [
    "route1"
   ]
  },
  {
   "cell_type": "code",
   "execution_count": 17,
   "metadata": {},
   "outputs": [],
   "source": [
    "citylist1=route1"
   ]
  },
  {
   "cell_type": "code",
   "execution_count": 18,
   "metadata": {},
   "outputs": [
    {
     "data": {
      "text/plain": [
       "[(3,5), (5,7), (8,8), (1,8)]"
      ]
     },
     "execution_count": 18,
     "metadata": {},
     "output_type": "execute_result"
    }
   ],
   "source": [
    "citylist1"
   ]
  },
  {
   "cell_type": "code",
   "execution_count": 19,
   "metadata": {},
   "outputs": [
    {
     "data": {
      "text/plain": [
       "[(3,5), (1,8), (8,8), (5,7)]"
      ]
     },
     "execution_count": 19,
     "metadata": {},
     "output_type": "execute_result"
    }
   ],
   "source": [
    "createRoute(citylist1)"
   ]
  },
  {
   "cell_type": "code",
   "execution_count": 20,
   "metadata": {},
   "outputs": [],
   "source": [
    "#cityList,popNum입력받아 popNum개의 population 형성\n",
    "def initialPopulation(cityList,popNum):\n",
    "    population = []\n",
    "    for i in range(popNum):\n",
    "        population.append(createRoute(cityList))\n",
    "    return population"
   ]
  },
  {
   "cell_type": "code",
   "execution_count": 21,
   "metadata": {},
   "outputs": [],
   "source": [
    "a = initialPopulation(citylist1,6)"
   ]
  },
  {
   "cell_type": "code",
   "execution_count": 22,
   "metadata": {},
   "outputs": [
    {
     "data": {
      "text/plain": [
       "[[(1,8), (3,5), (8,8), (5,7)],\n",
       " [(8,8), (1,8), (5,7), (3,5)],\n",
       " [(8,8), (5,7), (3,5), (1,8)],\n",
       " [(8,8), (1,8), (3,5), (5,7)],\n",
       " [(8,8), (3,5), (1,8), (5,7)],\n",
       " [(3,5), (1,8), (8,8), (5,7)]]"
      ]
     },
     "execution_count": 22,
     "metadata": {},
     "output_type": "execute_result"
    }
   ],
   "source": [
    "a"
   ]
  },
  {
   "cell_type": "raw",
   "metadata": {},
   "source": [
    "3. Create Genetic Algorithm"
   ]
  },
  {
   "cell_type": "raw",
   "metadata": {},
   "source": [
    "1) Rank정하기\n",
    "    - Fitness 이용해 route별 rank구하기"
   ]
  },
  {
   "cell_type": "code",
   "execution_count": 23,
   "metadata": {},
   "outputs": [
    {
     "data": {
      "text/plain": [
       "[[(1,8), (3,5), (8,8), (5,7)],\n",
       " [(8,8), (1,8), (5,7), (3,5)],\n",
       " [(8,8), (5,7), (3,5), (1,8)],\n",
       " [(8,8), (1,8), (3,5), (5,7)],\n",
       " [(8,8), (3,5), (1,8), (5,7)],\n",
       " [(3,5), (1,8), (8,8), (5,7)]]"
      ]
     },
     "execution_count": 23,
     "metadata": {},
     "output_type": "execute_result"
    }
   ],
   "source": [
    "a"
   ]
  },
  {
   "cell_type": "code",
   "execution_count": 24,
   "metadata": {},
   "outputs": [],
   "source": [
    "poprank = {}\n",
    "for i in range(len(a)):\n",
    "    fitness = Fitness(a[i]).routeFitness()\n",
    "    poprank[i]=fitness\n",
    "\n"
   ]
  },
  {
   "cell_type": "code",
   "execution_count": 25,
   "metadata": {
    "scrolled": true
   },
   "outputs": [
    {
     "data": {
      "text/plain": [
       "{0: 0.0598018652157208,\n",
       " 1: 0.050549767530954526,\n",
       " 2: 0.06025455357894678,\n",
       " 3: 0.06025455357894678,\n",
       " 4: 0.0598018652157208,\n",
       " 5: 0.06025455357894677}"
      ]
     },
     "execution_count": 25,
     "metadata": {},
     "output_type": "execute_result"
    }
   ],
   "source": [
    "poprank"
   ]
  },
  {
   "cell_type": "code",
   "execution_count": 26,
   "metadata": {},
   "outputs": [],
   "source": [
    "\n",
    "routerank = sorted(poprank.items(),key = operator.itemgetter(1),reverse=True)\n"
   ]
  },
  {
   "cell_type": "code",
   "execution_count": 27,
   "metadata": {},
   "outputs": [
    {
     "data": {
      "text/plain": [
       "[(2, 0.06025455357894678),\n",
       " (3, 0.06025455357894678),\n",
       " (5, 0.06025455357894677),\n",
       " (0, 0.0598018652157208),\n",
       " (4, 0.0598018652157208),\n",
       " (1, 0.050549767530954526)]"
      ]
     },
     "execution_count": 27,
     "metadata": {},
     "output_type": "execute_result"
    }
   ],
   "source": [
    "routerank"
   ]
  },
  {
   "cell_type": "code",
   "execution_count": 28,
   "metadata": {},
   "outputs": [],
   "source": [
    "df = pd.DataFrame(routerank,columns=['Index','Fitness'])"
   ]
  },
  {
   "cell_type": "code",
   "execution_count": 29,
   "metadata": {},
   "outputs": [
    {
     "data": {
      "text/html": [
       "<div>\n",
       "<style scoped>\n",
       "    .dataframe tbody tr th:only-of-type {\n",
       "        vertical-align: middle;\n",
       "    }\n",
       "\n",
       "    .dataframe tbody tr th {\n",
       "        vertical-align: top;\n",
       "    }\n",
       "\n",
       "    .dataframe thead th {\n",
       "        text-align: right;\n",
       "    }\n",
       "</style>\n",
       "<table border=\"1\" class=\"dataframe\">\n",
       "  <thead>\n",
       "    <tr style=\"text-align: right;\">\n",
       "      <th></th>\n",
       "      <th>Index</th>\n",
       "      <th>Fitness</th>\n",
       "      <th>cum_sum</th>\n",
       "      <th>cum_perc</th>\n",
       "    </tr>\n",
       "  </thead>\n",
       "  <tbody>\n",
       "    <tr>\n",
       "      <td>0</td>\n",
       "      <td>2</td>\n",
       "      <td>0.060255</td>\n",
       "      <td>0.060255</td>\n",
       "      <td>17.170592</td>\n",
       "    </tr>\n",
       "    <tr>\n",
       "      <td>1</td>\n",
       "      <td>3</td>\n",
       "      <td>0.060255</td>\n",
       "      <td>0.120509</td>\n",
       "      <td>34.341184</td>\n",
       "    </tr>\n",
       "    <tr>\n",
       "      <td>2</td>\n",
       "      <td>5</td>\n",
       "      <td>0.060255</td>\n",
       "      <td>0.180764</td>\n",
       "      <td>51.511776</td>\n",
       "    </tr>\n",
       "    <tr>\n",
       "      <td>3</td>\n",
       "      <td>0</td>\n",
       "      <td>0.059802</td>\n",
       "      <td>0.240566</td>\n",
       "      <td>68.553367</td>\n",
       "    </tr>\n",
       "    <tr>\n",
       "      <td>4</td>\n",
       "      <td>4</td>\n",
       "      <td>0.059802</td>\n",
       "      <td>0.300367</td>\n",
       "      <td>85.594957</td>\n",
       "    </tr>\n",
       "    <tr>\n",
       "      <td>5</td>\n",
       "      <td>1</td>\n",
       "      <td>0.050550</td>\n",
       "      <td>0.350917</td>\n",
       "      <td>100.000000</td>\n",
       "    </tr>\n",
       "  </tbody>\n",
       "</table>\n",
       "</div>"
      ],
      "text/plain": [
       "   Index   Fitness   cum_sum    cum_perc\n",
       "0      2  0.060255  0.060255   17.170592\n",
       "1      3  0.060255  0.120509   34.341184\n",
       "2      5  0.060255  0.180764   51.511776\n",
       "3      0  0.059802  0.240566   68.553367\n",
       "4      4  0.059802  0.300367   85.594957\n",
       "5      1  0.050550  0.350917  100.000000"
      ]
     },
     "execution_count": 29,
     "metadata": {},
     "output_type": "execute_result"
    }
   ],
   "source": [
    "df['cum_sum'] = df['Fitness'].cumsum()\n",
    "df['cum_perc'] = 100*df['cum_sum']/df['Fitness'].sum()\n",
    "df"
   ]
  },
  {
   "cell_type": "code",
   "execution_count": 30,
   "metadata": {},
   "outputs": [
    {
     "data": {
      "text/plain": [
       "0    0.060255\n",
       "1    0.060255\n",
       "2    0.060255\n",
       "3    0.059802\n",
       "4    0.059802\n",
       "5    0.050550\n",
       "Name: Fitness, dtype: float64"
      ]
     },
     "execution_count": 30,
     "metadata": {},
     "output_type": "execute_result"
    }
   ],
   "source": [
    "df['Fitness']"
   ]
  },
  {
   "cell_type": "code",
   "execution_count": 31,
   "metadata": {},
   "outputs": [],
   "source": [
    "#rankRoutes로 population의 route중 fitness좋은것부터\n",
    "#순서대로 (index,fitness)형태로 출력\n",
    "def rankRoutes(population):\n",
    "    poprank = {}\n",
    "    for i in range(len(population)):\n",
    "        fitness = Fitness(population[i]).routeFitness()\n",
    "        poprank[i]=fitness\n",
    "    return sorted(poprank.items(),key = operator.itemgetter(1),reverse=True)\n"
   ]
  },
  {
   "cell_type": "code",
   "execution_count": 32,
   "metadata": {},
   "outputs": [
    {
     "data": {
      "text/plain": [
       "[(2, 0.06025455357894678),\n",
       " (3, 0.06025455357894678),\n",
       " (5, 0.06025455357894677),\n",
       " (0, 0.0598018652157208),\n",
       " (4, 0.0598018652157208),\n",
       " (1, 0.050549767530954526)]"
      ]
     },
     "execution_count": 32,
     "metadata": {},
     "output_type": "execute_result"
    }
   ],
   "source": [
    "rankRoutes(a)"
   ]
  },
  {
   "cell_type": "code",
   "execution_count": 33,
   "metadata": {},
   "outputs": [],
   "source": [
    "#roulette wheel이용해서 selection. population length만큼 선택하기.\n",
    "#elitism추가\n",
    "def selection(popRank,elitesize):\n",
    "    selected = []\n",
    "    df = pd.DataFrame(popRank,columns=['Index','Fitness'])\n",
    "    df['cum_sum']=df['Fitness'].cumsum()\n",
    "    df['cum_perc']=df['cum_sum']*100/df['Fitness'].sum()\n",
    "    for i in range(elitesize):\n",
    "        selected.append(popRank[i])\n",
    "    for i in range(len(popRank)-elitesize):\n",
    "        pick = random.random()*100\n",
    "        for k in range(len(popRank)):\n",
    "            if pick < df.iloc[k,3]:\n",
    "                selected.append(popRank[k])\n",
    "                break\n",
    "    return selected\n",
    "                \n",
    "        \n",
    "    "
   ]
  },
  {
   "cell_type": "code",
   "execution_count": 34,
   "metadata": {},
   "outputs": [
    {
     "data": {
      "text/plain": [
       "34.341184000403736"
      ]
     },
     "execution_count": 34,
     "metadata": {},
     "output_type": "execute_result"
    }
   ],
   "source": [
    "df.iloc[1,3]"
   ]
  },
  {
   "cell_type": "code",
   "execution_count": 35,
   "metadata": {},
   "outputs": [
    {
     "data": {
      "text/html": [
       "<div>\n",
       "<style scoped>\n",
       "    .dataframe tbody tr th:only-of-type {\n",
       "        vertical-align: middle;\n",
       "    }\n",
       "\n",
       "    .dataframe tbody tr th {\n",
       "        vertical-align: top;\n",
       "    }\n",
       "\n",
       "    .dataframe thead th {\n",
       "        text-align: right;\n",
       "    }\n",
       "</style>\n",
       "<table border=\"1\" class=\"dataframe\">\n",
       "  <thead>\n",
       "    <tr style=\"text-align: right;\">\n",
       "      <th></th>\n",
       "      <th>Index</th>\n",
       "      <th>Fitness</th>\n",
       "      <th>cum_sum</th>\n",
       "      <th>cum_perc</th>\n",
       "    </tr>\n",
       "  </thead>\n",
       "  <tbody>\n",
       "    <tr>\n",
       "      <td>0</td>\n",
       "      <td>2</td>\n",
       "      <td>0.060255</td>\n",
       "      <td>0.060255</td>\n",
       "      <td>17.170592</td>\n",
       "    </tr>\n",
       "    <tr>\n",
       "      <td>1</td>\n",
       "      <td>3</td>\n",
       "      <td>0.060255</td>\n",
       "      <td>0.120509</td>\n",
       "      <td>34.341184</td>\n",
       "    </tr>\n",
       "    <tr>\n",
       "      <td>2</td>\n",
       "      <td>5</td>\n",
       "      <td>0.060255</td>\n",
       "      <td>0.180764</td>\n",
       "      <td>51.511776</td>\n",
       "    </tr>\n",
       "    <tr>\n",
       "      <td>3</td>\n",
       "      <td>0</td>\n",
       "      <td>0.059802</td>\n",
       "      <td>0.240566</td>\n",
       "      <td>68.553367</td>\n",
       "    </tr>\n",
       "    <tr>\n",
       "      <td>4</td>\n",
       "      <td>4</td>\n",
       "      <td>0.059802</td>\n",
       "      <td>0.300367</td>\n",
       "      <td>85.594957</td>\n",
       "    </tr>\n",
       "    <tr>\n",
       "      <td>5</td>\n",
       "      <td>1</td>\n",
       "      <td>0.050550</td>\n",
       "      <td>0.350917</td>\n",
       "      <td>100.000000</td>\n",
       "    </tr>\n",
       "  </tbody>\n",
       "</table>\n",
       "</div>"
      ],
      "text/plain": [
       "   Index   Fitness   cum_sum    cum_perc\n",
       "0      2  0.060255  0.060255   17.170592\n",
       "1      3  0.060255  0.120509   34.341184\n",
       "2      5  0.060255  0.180764   51.511776\n",
       "3      0  0.059802  0.240566   68.553367\n",
       "4      4  0.059802  0.300367   85.594957\n",
       "5      1  0.050550  0.350917  100.000000"
      ]
     },
     "execution_count": 35,
     "metadata": {},
     "output_type": "execute_result"
    }
   ],
   "source": [
    "df"
   ]
  },
  {
   "cell_type": "code",
   "execution_count": 36,
   "metadata": {},
   "outputs": [],
   "source": [
    "selc= selection(routerank,3)"
   ]
  },
  {
   "cell_type": "code",
   "execution_count": 37,
   "metadata": {
    "scrolled": true
   },
   "outputs": [
    {
     "data": {
      "text/plain": [
       "[(2, 0.06025455357894678),\n",
       " (3, 0.06025455357894678),\n",
       " (5, 0.06025455357894677),\n",
       " (1, 0.050549767530954526),\n",
       " (4, 0.0598018652157208),\n",
       " (1, 0.050549767530954526)]"
      ]
     },
     "execution_count": 37,
     "metadata": {},
     "output_type": "execute_result"
    }
   ],
   "source": [
    "selc"
   ]
  },
  {
   "cell_type": "code",
   "execution_count": 38,
   "metadata": {},
   "outputs": [
    {
     "data": {
      "text/plain": [
       "3"
      ]
     },
     "execution_count": 38,
     "metadata": {},
     "output_type": "execute_result"
    }
   ],
   "source": [
    "selc[1][0]"
   ]
  },
  {
   "cell_type": "code",
   "execution_count": 39,
   "metadata": {},
   "outputs": [],
   "source": [
    "#selection 결과 바탕으로 matingpool형성\n",
    "#elitism추가\n",
    "def matingpool(selected,population):\n",
    "    #population에서 룰렛휠로 selected된 route들로 mating pool 형성\n",
    "    index = []\n",
    "    for i in range(len(selected)):\n",
    "        index.append(selected[i][0])\n",
    "    pool = []\n",
    "    for i in range(len(index)):\n",
    "        pool.append(population[index[i]])\n",
    "    return pool    \n",
    "    \n",
    "    \n",
    "           "
   ]
  },
  {
   "cell_type": "code",
   "execution_count": 40,
   "metadata": {},
   "outputs": [
    {
     "data": {
      "text/plain": [
       "[[(8,8), (5,7), (3,5), (1,8)],\n",
       " [(8,8), (1,8), (3,5), (5,7)],\n",
       " [(3,5), (1,8), (8,8), (5,7)],\n",
       " [(8,8), (1,8), (5,7), (3,5)],\n",
       " [(8,8), (3,5), (1,8), (5,7)],\n",
       " [(8,8), (1,8), (5,7), (3,5)]]"
      ]
     },
     "execution_count": 40,
     "metadata": {},
     "output_type": "execute_result"
    }
   ],
   "source": [
    "matingpool(selc,a)"
   ]
  },
  {
   "cell_type": "code",
   "execution_count": 41,
   "metadata": {},
   "outputs": [
    {
     "data": {
      "text/plain": [
       "[[(1,8), (3,5), (8,8), (5,7)],\n",
       " [(8,8), (1,8), (5,7), (3,5)],\n",
       " [(8,8), (5,7), (3,5), (1,8)],\n",
       " [(8,8), (1,8), (3,5), (5,7)],\n",
       " [(8,8), (3,5), (1,8), (5,7)],\n",
       " [(3,5), (1,8), (8,8), (5,7)]]"
      ]
     },
     "execution_count": 41,
     "metadata": {},
     "output_type": "execute_result"
    }
   ],
   "source": [
    "a"
   ]
  },
  {
   "cell_type": "code",
   "execution_count": 42,
   "metadata": {},
   "outputs": [],
   "source": [
    "#breed...\n",
    "parent1 = random.sample(a,1)\n",
    "parent2 = random.sample(a,1)\n",
    "abs1 = random.randint(0,len(parent1[0]))\n",
    "abs2 = random.randint(0,len(parent2[0]))\n",
    "child1 =[]\n",
    "for i in range(min(abs1,abs2),max(abs1,abs2)):\n",
    "    child1.append(parent1[0][i])\n",
    "child2 = [val for val in parent2[0] if val not in child1]\n",
    "Child = child1+child2"
   ]
  },
  {
   "cell_type": "code",
   "execution_count": 43,
   "metadata": {},
   "outputs": [
    {
     "data": {
      "text/plain": [
       "[(3,5)]"
      ]
     },
     "execution_count": 43,
     "metadata": {},
     "output_type": "execute_result"
    }
   ],
   "source": [
    "child1"
   ]
  },
  {
   "cell_type": "code",
   "execution_count": 44,
   "metadata": {},
   "outputs": [
    {
     "data": {
      "text/plain": [
       "[[(8,8), (3,5), (1,8), (5,7)]]"
      ]
     },
     "execution_count": 44,
     "metadata": {},
     "output_type": "execute_result"
    }
   ],
   "source": [
    "parent2"
   ]
  },
  {
   "cell_type": "code",
   "execution_count": 45,
   "metadata": {},
   "outputs": [
    {
     "data": {
      "text/plain": [
       "[(8,8), (1,8), (5,7)]"
      ]
     },
     "execution_count": 45,
     "metadata": {},
     "output_type": "execute_result"
    }
   ],
   "source": [
    "child2"
   ]
  },
  {
   "cell_type": "code",
   "execution_count": 46,
   "metadata": {
    "scrolled": true
   },
   "outputs": [
    {
     "data": {
      "text/plain": [
       "[[(1,8), (3,5), (8,8), (5,7)]]"
      ]
     },
     "execution_count": 46,
     "metadata": {},
     "output_type": "execute_result"
    }
   ],
   "source": [
    "parent1"
   ]
  },
  {
   "cell_type": "code",
   "execution_count": 47,
   "metadata": {},
   "outputs": [
    {
     "data": {
      "text/plain": [
       "[(3,5), (8,8), (1,8), (5,7)]"
      ]
     },
     "execution_count": 47,
     "metadata": {},
     "output_type": "execute_result"
    }
   ],
   "source": [
    "Child"
   ]
  },
  {
   "cell_type": "code",
   "execution_count": 48,
   "metadata": {},
   "outputs": [],
   "source": [
    "def breed(parent1,parent2):\n",
    "    child1 = []\n",
    "    abs1 = random.randint(0,len(parent1))\n",
    "    abs2 = random.randint(0,len(parent2))\n",
    "    child1 = []\n",
    "    for i in range(min(abs1,abs2),max(abs1,abs2)):\n",
    "        child1.append(parent1[i])\n",
    "    child2 = [val for val in parent2 if val not in child1]\n",
    "    Child = child1+child2\n",
    "    return Child"
   ]
  },
  {
   "cell_type": "code",
   "execution_count": 49,
   "metadata": {},
   "outputs": [],
   "source": [
    "pool = matingpool(selc,a)"
   ]
  },
  {
   "cell_type": "code",
   "execution_count": 50,
   "metadata": {},
   "outputs": [
    {
     "data": {
      "text/plain": [
       "[[(8,8), (5,7), (3,5), (1,8)],\n",
       " [(8,8), (1,8), (3,5), (5,7)],\n",
       " [(3,5), (1,8), (8,8), (5,7)],\n",
       " [(8,8), (1,8), (5,7), (3,5)],\n",
       " [(8,8), (3,5), (1,8), (5,7)],\n",
       " [(8,8), (1,8), (5,7), (3,5)]]"
      ]
     },
     "execution_count": 50,
     "metadata": {},
     "output_type": "execute_result"
    }
   ],
   "source": [
    "pool"
   ]
  },
  {
   "cell_type": "code",
   "execution_count": 51,
   "metadata": {
    "scrolled": true
   },
   "outputs": [
    {
     "data": {
      "text/plain": [
       "[(8,8), (1,8), (3,5), (5,7)]"
      ]
     },
     "execution_count": 51,
     "metadata": {},
     "output_type": "execute_result"
    }
   ],
   "source": [
    "pool[1]"
   ]
  },
  {
   "cell_type": "code",
   "execution_count": 52,
   "metadata": {},
   "outputs": [],
   "source": [
    "def breedpopulation(pool,elitesize):\n",
    "    breedpop = []\n",
    "    for i in range(elitesize):\n",
    "        breedpop.append(pool[i])\n",
    "    for i in range(len(pool)-elitesize):\n",
    "        parent1 = pool[int(random.random()*len(pool))]\n",
    "        parent2 = pool[int(random.random()*len(pool))]\n",
    "        breedpop.append(breed(parent1,parent2))\n",
    "    return breedpop\n",
    "#pool에서 랜덤한 부모 2명 추출-> breed\n",
    "#pool length(=popnum)만큼 breedpopulation(자손pop)생성"
   ]
  },
  {
   "cell_type": "code",
   "execution_count": 53,
   "metadata": {},
   "outputs": [],
   "source": [
    "brpop = breedpopulation(pool,3)"
   ]
  },
  {
   "cell_type": "code",
   "execution_count": 54,
   "metadata": {},
   "outputs": [
    {
     "data": {
      "text/plain": [
       "[[(8,8), (5,7), (3,5), (1,8)],\n",
       " [(8,8), (1,8), (3,5), (5,7)],\n",
       " [(3,5), (1,8), (8,8), (5,7)],\n",
       " [(3,5), (5,7), (8,8), (1,8)],\n",
       " [(5,7), (3,5), (1,8), (8,8)],\n",
       " [(5,7), (8,8), (3,5), (1,8)]]"
      ]
     },
     "execution_count": 54,
     "metadata": {},
     "output_type": "execute_result"
    }
   ],
   "source": [
    "brpop"
   ]
  },
  {
   "cell_type": "code",
   "execution_count": 55,
   "metadata": {},
   "outputs": [],
   "source": [
    "def mutate(breedroute):\n",
    "    index1 = int(random.random()*len(breedroute))\n",
    "    index2 = int(random.random()*len(breedroute))\n",
    "    change1 = breedroute[index1]\n",
    "    change2 = breedroute[index2]\n",
    "    breedroute[index1] = change2\n",
    "    breedroute[index2] = change1\n",
    "    return breedroute\n",
    "            \n",
    "        \n",
    "    "
   ]
  },
  {
   "cell_type": "code",
   "execution_count": 56,
   "metadata": {},
   "outputs": [],
   "source": [
    "def mutatepopulation(breedpop,mutationrate):\n",
    "    for i in range(len(breedpop)):\n",
    "        rate = random.random()\n",
    "        if rate < mutationrate:\n",
    "            mutate(breedpop[i])\n",
    "        \n",
    "    return breedpop"
   ]
  },
  {
   "cell_type": "code",
   "execution_count": 57,
   "metadata": {},
   "outputs": [
    {
     "data": {
      "text/plain": [
       "[[(8,8), (5,7), (3,5), (1,8)],\n",
       " [(8,8), (1,8), (3,5), (5,7)],\n",
       " [(3,5), (1,8), (8,8), (5,7)],\n",
       " [(3,5), (5,7), (8,8), (1,8)],\n",
       " [(5,7), (3,5), (1,8), (8,8)],\n",
       " [(5,7), (8,8), (3,5), (1,8)]]"
      ]
     },
     "execution_count": 57,
     "metadata": {},
     "output_type": "execute_result"
    }
   ],
   "source": [
    "brpop"
   ]
  },
  {
   "cell_type": "code",
   "execution_count": 58,
   "metadata": {},
   "outputs": [
    {
     "data": {
      "text/plain": [
       "[[(8,8), (5,7), (3,5), (1,8)],\n",
       " [(8,8), (1,8), (3,5), (5,7)],\n",
       " [(3,5), (1,8), (8,8), (5,7)],\n",
       " [(3,5), (5,7), (8,8), (1,8)],\n",
       " [(5,7), (3,5), (1,8), (8,8)],\n",
       " [(5,7), (8,8), (3,5), (1,8)]]"
      ]
     },
     "execution_count": 58,
     "metadata": {},
     "output_type": "execute_result"
    }
   ],
   "source": [
    "mutatepopulation(brpop,0.3)"
   ]
  },
  {
   "cell_type": "code",
   "execution_count": 59,
   "metadata": {
    "scrolled": true
   },
   "outputs": [
    {
     "data": {
      "text/plain": [
       "[[(8,8), (5,7), (3,5), (1,8)],\n",
       " [(8,8), (1,8), (3,5), (5,7)],\n",
       " [(3,5), (1,8), (8,8), (5,7)],\n",
       " [(3,5), (5,7), (8,8), (1,8)],\n",
       " [(5,7), (3,5), (1,8), (8,8)],\n",
       " [(5,7), (8,8), (3,5), (1,8)]]"
      ]
     },
     "execution_count": 59,
     "metadata": {},
     "output_type": "execute_result"
    }
   ],
   "source": [
    "brpop"
   ]
  },
  {
   "cell_type": "code",
   "execution_count": 60,
   "metadata": {},
   "outputs": [],
   "source": [
    "def nextGeneration(population,mutationrate,elitesize):\n",
    "    rank = rankRoutes(population)\n",
    "    selected = selection(rank,elitesize)\n",
    "    pool = matingpool(selected,population)\n",
    "    breedpop = breedpopulation(pool,elitesize)\n",
    "    nextpop = mutatepopulation(breedpop,mutationrate)\n",
    "    return nextpop\n",
    "    \n",
    "    "
   ]
  },
  {
   "cell_type": "code",
   "execution_count": 61,
   "metadata": {},
   "outputs": [
    {
     "data": {
      "text/plain": [
       "[[(8,8), (5,7), (3,5), (1,8)],\n",
       " [(8,8), (1,8), (3,5), (5,7)],\n",
       " [(3,5), (5,7), (8,8), (1,8)],\n",
       " [(5,7), (8,8), (1,8), (3,5)],\n",
       " [(8,8), (5,7), (3,5), (1,8)],\n",
       " [(5,7), (8,8), (3,5), (1,8)]]"
      ]
     },
     "execution_count": 61,
     "metadata": {},
     "output_type": "execute_result"
    }
   ],
   "source": [
    "nextGeneration(brpop,0.2,3)"
   ]
  },
  {
   "cell_type": "raw",
   "metadata": {},
   "source": [
    "Genetic Algorithm 통합 & 돌리기!"
   ]
  },
  {
   "cell_type": "code",
   "execution_count": 62,
   "metadata": {},
   "outputs": [],
   "source": [
    "def GeneticAlgorithm(cityList,popSize,mutationrate,elitesize,GenNum):\n",
    "    start = time.time()\n",
    "    pop = initialPopulation(cityList,popSize)\n",
    "    progress = []\n",
    "    bestroute= pop[rankRoutes(pop)[0][0]]\n",
    "    Finaldistance = 1/rankRoutes(pop)[0][1]\n",
    "    progress.append(1/rankRoutes(pop)[0][1])\n",
    "    print('First Distance :'+str(1/rankRoutes(pop)[0][1]))\n",
    "    for i in range(GenNum):\n",
    "        pop = nextGeneration(pop,mutationrate,elitesize)\n",
    "        progress.append(1/rankRoutes(pop)[0][1])\n",
    "        if Finaldistance > 1/rankRoutes(pop)[0][1]:\n",
    "            bestroute = pop[rankRoutes(pop)[0][0]]\n",
    "            Finaldistance = 1/rankRoutes(pop)[0][1]\n",
    "        \n",
    "    print('Final Distance :'+str(Finaldistance))\n",
    "    finish = time.time()\n",
    "    print('Time :' +str(finish-start))\n",
    "    \n",
    "    plt.plot(progress)\n",
    "    plt.xlabel('Generation')\n",
    "    plt.ylabel('Distance')\n",
    "    plt.show()\n",
    "    return bestroute"
   ]
  },
  {
   "cell_type": "code",
   "execution_count": 63,
   "metadata": {},
   "outputs": [],
   "source": [
    "cityList = []\n",
    "for i in range(35):\n",
    "    cityList.append(City(random.randint(0,100),random.randint(0,100)))"
   ]
  },
  {
   "cell_type": "code",
   "execution_count": 64,
   "metadata": {},
   "outputs": [
    {
     "data": {
      "text/plain": [
       "[(96,11),\n",
       " (23,52),\n",
       " (16,7),\n",
       " (72,5),\n",
       " (24,51),\n",
       " (31,2),\n",
       " (14,30),\n",
       " (100,58),\n",
       " (94,5),\n",
       " (3,59),\n",
       " (68,98),\n",
       " (9,28),\n",
       " (100,66),\n",
       " (51,63),\n",
       " (37,2),\n",
       " (8,57),\n",
       " (24,5),\n",
       " (44,48),\n",
       " (55,60),\n",
       " (21,100),\n",
       " (8,43),\n",
       " (56,94),\n",
       " (25,71),\n",
       " (86,14),\n",
       " (73,88),\n",
       " (95,64),\n",
       " (56,97),\n",
       " (68,29),\n",
       " (98,4),\n",
       " (81,27),\n",
       " (16,69),\n",
       " (84,18),\n",
       " (81,23),\n",
       " (53,11),\n",
       " (71,100)]"
      ]
     },
     "execution_count": 64,
     "metadata": {},
     "output_type": "execute_result"
    }
   ],
   "source": [
    "cityList"
   ]
  },
  {
   "cell_type": "code",
   "execution_count": 71,
   "metadata": {},
   "outputs": [
    {
     "name": "stdout",
     "output_type": "stream",
     "text": [
      "First Distance :1618.0119419140158\n",
      "Final Distance :518.2377991599627\n",
      "Time :12.764857769012451\n"
     ]
    },
    {
     "data": {
      "image/png": "[encoded data removed]",
      "text/plain": [
       "<Figure size 432x288 with 1 Axes>"
      ]
     },
     "metadata": {
      "needs_background": "light"
     },
     "output_type": "display_data"
    },
    {
     "data": {
      "text/plain": [
       "[(23,52),\n",
       " (68,98),\n",
       " (8,43),\n",
       " (14,30),\n",
       " (9,28),\n",
       " (16,7),\n",
       " (24,5),\n",
       " (31,2),\n",
       " (37,2),\n",
       " (53,11),\n",
       " (72,5),\n",
       " (96,11),\n",
       " (98,4),\n",
       " (94,5),\n",
       " (86,14),\n",
       " (84,18),\n",
       " (81,23),\n",
       " (81,27),\n",
       " (68,29),\n",
       " (44,48),\n",
       " (55,60),\n",
       " (51,63),\n",
       " (24,51),\n",
       " (71,100),\n",
       " (73,88),\n",
       " (95,64),\n",
       " (100,58),\n",
       " (100,66),\n",
       " (56,94),\n",
       " (56,97),\n",
       " (21,100),\n",
       " (25,71),\n",
       " (16,69),\n",
       " (3,59),\n",
       " (8,57)]"
      ]
     },
     "execution_count": 71,
     "metadata": {},
     "output_type": "execute_result"
    }
   ],
   "source": [
    "GeneticAlgorithm(cityList,50,0.01,10,500)"
   ]
  },
  {
   "cell_type": "code",
   "execution_count": 66,
   "metadata": {},
   "outputs": [],
   "source": [
    "inipop = initialPopulation(cityList,10)"
   ]
  },
  {
   "cell_type": "code",
   "execution_count": 67,
   "metadata": {},
   "outputs": [
    {
     "data": {
      "text/plain": [
       "[[(16,69),\n",
       "  (98,4),\n",
       "  (72,5),\n",
       "  (8,43),\n",
       "  (96,11),\n",
       "  (100,66),\n",
       "  (24,5),\n",
       "  (100,58),\n",
       "  (71,100),\n",
       "  (21,100),\n",
       "  (56,97),\n",
       "  (3,59),\n",
       "  (51,63),\n",
       "  (55,60),\n",
       "  (24,51),\n",
       "  (8,57),\n",
       "  (25,71),\n",
       "  (73,88),\n",
       "  (9,28),\n",
       "  (37,2),\n",
       "  (31,2),\n",
       "  (44,48),\n",
       "  (81,23),\n",
       "  (68,98),\n",
       "  (23,52),\n",
       "  (16,7),\n",
       "  (68,29),\n",
       "  (95,64),\n",
       "  (94,5),\n",
       "  (86,14),\n",
       "  (84,18),\n",
       "  (56,94),\n",
       "  (81,27),\n",
       "  (53,11),\n",
       "  (14,30)],\n",
       " [(21,100),\n",
       "  (37,2),\n",
       "  (51,63),\n",
       "  (8,57),\n",
       "  (55,60),\n",
       "  (100,66),\n",
       "  (8,43),\n",
       "  (84,18),\n",
       "  (68,98),\n",
       "  (94,5),\n",
       "  (56,94),\n",
       "  (44,48),\n",
       "  (98,4),\n",
       "  (23,52),\n",
       "  (86,14),\n",
       "  (95,64),\n",
       "  (25,71),\n",
       "  (16,69),\n",
       "  (9,28),\n",
       "  (24,5),\n",
       "  (81,23),\n",
       "  (72,5),\n",
       "  (24,51),\n",
       "  (53,11),\n",
       "  (31,2),\n",
       "  (16,7),\n",
       "  (100,58),\n",
       "  (96,11),\n",
       "  (73,88),\n",
       "  (81,27),\n",
       "  (56,97),\n",
       "  (3,59),\n",
       "  (14,30),\n",
       "  (71,100),\n",
       "  (68,29)],\n",
       " [(56,97),\n",
       "  (16,69),\n",
       "  (21,100),\n",
       "  (96,11),\n",
       "  (71,100),\n",
       "  (9,28),\n",
       "  (86,14),\n",
       "  (95,64),\n",
       "  (16,7),\n",
       "  (68,29),\n",
       "  (72,5),\n",
       "  (24,5),\n",
       "  (94,5),\n",
       "  (44,48),\n",
       "  (55,60),\n",
       "  (24,51),\n",
       "  (100,66),\n",
       "  (81,27),\n",
       "  (100,58),\n",
       "  (37,2),\n",
       "  (81,23),\n",
       "  (8,57),\n",
       "  (53,11),\n",
       "  (3,59),\n",
       "  (8,43),\n",
       "  (23,52),\n",
       "  (25,71),\n",
       "  (84,18),\n",
       "  (51,63),\n",
       "  (73,88),\n",
       "  (14,30),\n",
       "  (98,4),\n",
       "  (31,2),\n",
       "  (56,94),\n",
       "  (68,98)],\n",
       " [(25,71),\n",
       "  (72,5),\n",
       "  (31,2),\n",
       "  (56,97),\n",
       "  (21,100),\n",
       "  (94,5),\n",
       "  (24,5),\n",
       "  (68,98),\n",
       "  (100,66),\n",
       "  (73,88),\n",
       "  (68,29),\n",
       "  (95,64),\n",
       "  (14,30),\n",
       "  (16,69),\n",
       "  (100,58),\n",
       "  (16,7),\n",
       "  (96,11),\n",
       "  (44,48),\n",
       "  (98,4),\n",
       "  (55,60),\n",
       "  (53,11),\n",
       "  (84,18),\n",
       "  (24,51),\n",
       "  (86,14),\n",
       "  (3,59),\n",
       "  (23,52),\n",
       "  (56,94),\n",
       "  (9,28),\n",
       "  (51,63),\n",
       "  (81,23),\n",
       "  (8,57),\n",
       "  (37,2),\n",
       "  (8,43),\n",
       "  (81,27),\n",
       "  (71,100)],\n",
       " [(9,28),\n",
       "  (16,7),\n",
       "  (24,51),\n",
       "  (73,88),\n",
       "  (100,58),\n",
       "  (51,63),\n",
       "  (68,98),\n",
       "  (81,23),\n",
       "  (44,48),\n",
       "  (95,64),\n",
       "  (3,59),\n",
       "  (96,11),\n",
       "  (94,5),\n",
       "  (14,30),\n",
       "  (86,14),\n",
       "  (53,11),\n",
       "  (37,2),\n",
       "  (56,97),\n",
       "  (98,4),\n",
       "  (24,5),\n",
       "  (21,100),\n",
       "  (84,18),\n",
       "  (55,60),\n",
       "  (25,71),\n",
       "  (31,2),\n",
       "  (16,69),\n",
       "  (81,27),\n",
       "  (72,5),\n",
       "  (8,43),\n",
       "  (56,94),\n",
       "  (71,100),\n",
       "  (23,52),\n",
       "  (100,66),\n",
       "  (68,29),\n",
       "  (8,57)],\n",
       " [(68,98),\n",
       "  (98,4),\n",
       "  (72,5),\n",
       "  (37,2),\n",
       "  (23,52),\n",
       "  (3,59),\n",
       "  (44,48),\n",
       "  (21,100),\n",
       "  (100,66),\n",
       "  (53,11),\n",
       "  (24,5),\n",
       "  (100,58),\n",
       "  (68,29),\n",
       "  (81,23),\n",
       "  (81,27),\n",
       "  (56,94),\n",
       "  (8,43),\n",
       "  (8,57),\n",
       "  (96,11),\n",
       "  (9,28),\n",
       "  (16,7),\n",
       "  (14,30),\n",
       "  (51,63),\n",
       "  (25,71),\n",
       "  (16,69),\n",
       "  (95,64),\n",
       "  (71,100),\n",
       "  (24,51),\n",
       "  (73,88),\n",
       "  (86,14),\n",
       "  (56,97),\n",
       "  (84,18),\n",
       "  (31,2),\n",
       "  (94,5),\n",
       "  (55,60)],\n",
       " [(81,27),\n",
       "  (86,14),\n",
       "  (100,66),\n",
       "  (71,100),\n",
       "  (23,52),\n",
       "  (72,5),\n",
       "  (55,60),\n",
       "  (8,43),\n",
       "  (14,30),\n",
       "  (16,7),\n",
       "  (25,71),\n",
       "  (3,59),\n",
       "  (73,88),\n",
       "  (84,18),\n",
       "  (21,100),\n",
       "  (16,69),\n",
       "  (37,2),\n",
       "  (56,97),\n",
       "  (9,28),\n",
       "  (53,11),\n",
       "  (31,2),\n",
       "  (81,23),\n",
       "  (8,57),\n",
       "  (68,98),\n",
       "  (24,5),\n",
       "  (24,51),\n",
       "  (94,5),\n",
       "  (100,58),\n",
       "  (96,11),\n",
       "  (68,29),\n",
       "  (51,63),\n",
       "  (56,94),\n",
       "  (98,4),\n",
       "  (95,64),\n",
       "  (44,48)],\n",
       " [(68,98),\n",
       "  (72,5),\n",
       "  (16,69),\n",
       "  (25,71),\n",
       "  (31,2),\n",
       "  (24,51),\n",
       "  (81,27),\n",
       "  (55,60),\n",
       "  (98,4),\n",
       "  (3,59),\n",
       "  (51,63),\n",
       "  (68,29),\n",
       "  (71,100),\n",
       "  (86,14),\n",
       "  (16,7),\n",
       "  (24,5),\n",
       "  (56,94),\n",
       "  (95,64),\n",
       "  (73,88),\n",
       "  (94,5),\n",
       "  (8,43),\n",
       "  (9,28),\n",
       "  (56,97),\n",
       "  (53,11),\n",
       "  (81,23),\n",
       "  (37,2),\n",
       "  (8,57),\n",
       "  (21,100),\n",
       "  (100,58),\n",
       "  (14,30),\n",
       "  (96,11),\n",
       "  (84,18),\n",
       "  (23,52),\n",
       "  (44,48),\n",
       "  (100,66)],\n",
       " [(24,51),\n",
       "  (16,69),\n",
       "  (53,11),\n",
       "  (95,64),\n",
       "  (31,2),\n",
       "  (8,57),\n",
       "  (9,28),\n",
       "  (14,30),\n",
       "  (56,94),\n",
       "  (72,5),\n",
       "  (55,60),\n",
       "  (81,23),\n",
       "  (98,4),\n",
       "  (86,14),\n",
       "  (96,11),\n",
       "  (51,63),\n",
       "  (94,5),\n",
       "  (8,43),\n",
       "  (71,100),\n",
       "  (56,97),\n",
       "  (24,5),\n",
       "  (25,71),\n",
       "  (68,98),\n",
       "  (37,2),\n",
       "  (23,52),\n",
       "  (3,59),\n",
       "  (100,58),\n",
       "  (81,27),\n",
       "  (73,88),\n",
       "  (16,7),\n",
       "  (100,66),\n",
       "  (68,29),\n",
       "  (44,48),\n",
       "  (21,100),\n",
       "  (84,18)],\n",
       " [(16,7),\n",
       "  (9,28),\n",
       "  (73,88),\n",
       "  (21,100),\n",
       "  (25,71),\n",
       "  (24,5),\n",
       "  (100,58),\n",
       "  (51,63),\n",
       "  (100,66),\n",
       "  (95,64),\n",
       "  (31,2),\n",
       "  (24,51),\n",
       "  (3,59),\n",
       "  (37,2),\n",
       "  (86,14),\n",
       "  (71,100),\n",
       "  (72,5),\n",
       "  (53,11),\n",
       "  (14,30),\n",
       "  (16,69),\n",
       "  (94,5),\n",
       "  (23,52),\n",
       "  (44,48),\n",
       "  (84,18),\n",
       "  (98,4),\n",
       "  (96,11),\n",
       "  (55,60),\n",
       "  (81,23),\n",
       "  (68,29),\n",
       "  (68,98),\n",
       "  (8,43),\n",
       "  (8,57),\n",
       "  (56,94),\n",
       "  (56,97),\n",
       "  (81,27)]]"
      ]
     },
     "execution_count": 67,
     "metadata": {},
     "output_type": "execute_result"
    }
   ],
   "source": [
    "inipop"
   ]
  },
  {
   "cell_type": "code",
   "execution_count": 68,
   "metadata": {},
   "outputs": [],
   "source": [
    "ranks=rankRoutes(inipop)"
   ]
  },
  {
   "cell_type": "code",
   "execution_count": 69,
   "metadata": {},
   "outputs": [
    {
     "data": {
      "text/plain": [
       "[(0, 0.0005635010465802401),\n",
       " (9, 0.0005568793318863608),\n",
       " (5, 0.0005336105119573498),\n",
       " (6, 0.0005039005313534782),\n",
       " (2, 0.0004980578793999625),\n",
       " (4, 0.00047902832614269434),\n",
       " (8, 0.0004787330868167698),\n",
       " (7, 0.00047312412700532136),\n",
       " (1, 0.0004615674333698782),\n",
       " (3, 0.0004352208131095586)]"
      ]
     },
     "execution_count": 69,
     "metadata": {},
     "output_type": "execute_result"
    }
   ],
   "source": [
    "ranks"
   ]
  },
  {
   "cell_type": "code",
   "execution_count": 70,
   "metadata": {},
   "outputs": [
    {
     "ename": "TypeError",
     "evalue": "selection() missing 1 required positional argument: 'elitesize'",
     "output_type": "error",
     "traceback": [
      "\u001b[1;31m---------------------------------------------------------------------------\u001b[0m",
      "\u001b[1;31mTypeError\u001b[0m                                 Traceback (most recent call last)",
      "\u001b[1;32m<ipython-input-70-9179703287ec>\u001b[0m in \u001b[0;36m<module>\u001b[1;34m\u001b[0m\n\u001b[1;32m----> 1\u001b[1;33m \u001b[0mselected\u001b[0m \u001b[1;33m=\u001b[0m \u001b[0mselection\u001b[0m\u001b[1;33m(\u001b[0m\u001b[0mranks\u001b[0m\u001b[1;33m)\u001b[0m\u001b[1;33m\u001b[0m\u001b[1;33m\u001b[0m\u001b[0m\n\u001b[0m",
      "\u001b[1;31mTypeError\u001b[0m: selection() missing 1 required positional argument: 'elitesize'"
     ]
    }
   ],
   "source": [
    "selected = selection(ranks)"
   ]
  },
  {
   "cell_type": "code",
   "execution_count": null,
   "metadata": {},
   "outputs": [],
   "source": [
    "selected"
   ]
  },
  {
   "cell_type": "code",
   "execution_count": null,
   "metadata": {},
   "outputs": [],
   "source": [
    "matpool= matingpool(selected,inipop)"
   ]
  },
  {
   "cell_type": "code",
   "execution_count": null,
   "metadata": {},
   "outputs": [],
   "source": [
    "matpool"
   ]
  },
  {
   "cell_type": "code",
   "execution_count": null,
   "metadata": {},
   "outputs": [],
   "source": [
    "bredpop = breedpopulation(matpool)"
   ]
  },
  {
   "cell_type": "code",
   "execution_count": null,
   "metadata": {},
   "outputs": [],
   "source": [
    "bredpop"
   ]
  },
  {
   "cell_type": "code",
   "execution_count": null,
   "metadata": {},
   "outputs": [],
   "source": [
    "mutpop = mutatepopulation(bredpop,0.1)"
   ]
  },
  {
   "cell_type": "code",
   "execution_count": null,
   "metadata": {},
   "outputs": [],
   "source": [
    "mutpop"
   ]
  },
  {
   "cell_type": "code",
   "execution_count": null,
   "metadata": {},
   "outputs": [],
   "source": []
  }
 ],
 "metadata": {
  "kernelspec": {
   "display_name": "Python 3",
   "language": "python",
   "name": "python3"
  },
  "language_info": {
   "codemirror_mode": {
    "name": "ipython",
    "version": 3
   },
   "file_extension": ".py",
   "mimetype": "text/x-python",
   "name": "python",
   "nbconvert_exporter": "python",
   "pygments_lexer": "ipython3",
   "version": "3.7.3"
  }
 },
 "nbformat": 4,
 "nbformat_minor": 2
}
