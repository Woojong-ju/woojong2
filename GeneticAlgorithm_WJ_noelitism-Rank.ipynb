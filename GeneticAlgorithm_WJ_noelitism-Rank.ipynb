{
 "cells": [
  {
   "cell_type": "markdown",
   "metadata": {},
   "source": [
    "# Genetic Algorithm \n",
    "Reference : https://towardsdatascience.com/evolution-of-a-salesman-a-complete-genetic-algorithm-tutorial-for-python-6fe5d2b3ca35"
   ]
  },
  {
   "cell_type": "raw",
   "metadata": {},
   "source": [
    "Genetic Algorithm을 이용한 TPS 문제해결.\n",
    "    - 기존 reference에 있던 TPS 문제에서 Elitism은 제외할것\n",
    "    - breeding : ordered crossover \n",
    "    - mutate : exchange(swap)\n"
   ]
  },
  {
   "cell_type": "raw",
   "metadata": {},
   "source": [
    "1. Class 구성"
   ]
  },
  {
   "cell_type": "code",
   "execution_count": 1,
   "metadata": {},
   "outputs": [],
   "source": [
    "import numpy as np, pandas as pd, matplotlib.pyplot as plt, random, operator, time"
   ]
  },
  {
   "cell_type": "code",
   "execution_count": 2,
   "metadata": {},
   "outputs": [],
   "source": [
    "#City class 구성\n",
    "class City :\n",
    "    def __init__(self,x,y):\n",
    "        self.x = x\n",
    "        self.y = y\n",
    "    \n",
    "    def distance(self,city):\n",
    "        Dis = np.sqrt((self.x-city.x)**2+(self.y-city.y)**2)\n",
    "        return Dis\n",
    "    \n",
    "    def __repr__(self):\n",
    "        return '('+str(self.x)+','+str(self.y)+')'\n",
    "    "
   ]
  },
  {
   "cell_type": "code",
   "execution_count": 3,
   "metadata": {},
   "outputs": [],
   "source": [
    "#Fitness\n",
    "class Fitness :\n",
    "    def __init__(self,route):\n",
    "        self.route = route\n",
    "        self.distance =0\n",
    "        self.fitness = 0\n",
    "        \n",
    "        \n",
    "        \n",
    "    def routeDistance(self):\n",
    "        pathdistance = 0\n",
    "        if self.distance == 0:\n",
    "            for i in range(0,len(self.route)):\n",
    "                if i+1 < len(self.route):\n",
    "                    fromCity = self.route[i]\n",
    "                    toCity = self.route[i+1]\n",
    "                    pathdistance += fromCity.distance(toCity)\n",
    "                else :\n",
    "                    fromCity = self.route[len(self.route)-1]\n",
    "                    toCity = self.route[0]\n",
    "                    pathdistance += fromCity.distance(toCity)\n",
    "        return pathdistance\n",
    "    \n",
    "    def routeFitness(self):\n",
    "        routefitness = 0\n",
    "        routedistance = self.routeDistance()\n",
    "        if self.fitness==0:\n",
    "            routefitness = 1/float(routedistance)\n",
    "            \n",
    "        return routefitness\n",
    "              "
   ]
  },
  {
   "cell_type": "code",
   "execution_count": 4,
   "metadata": {},
   "outputs": [],
   "source": [
    "route1 = []"
   ]
  },
  {
   "cell_type": "code",
   "execution_count": 5,
   "metadata": {},
   "outputs": [],
   "source": [
    "for i in range(10):\n",
    "    route1.append(City(random.randint(0,100),random.randint(0,100)))"
   ]
  },
  {
   "cell_type": "code",
   "execution_count": 6,
   "metadata": {},
   "outputs": [
    {
     "data": {
      "text/plain": [
       "[(54,74),\n",
       " (79,80),\n",
       " (71,72),\n",
       " (73,27),\n",
       " (86,41),\n",
       " (68,69),\n",
       " (24,13),\n",
       " (33,1),\n",
       " (61,27),\n",
       " (53,71)]"
      ]
     },
     "execution_count": 6,
     "metadata": {},
     "output_type": "execute_result"
    }
   ],
   "source": [
    "route1"
   ]
  },
  {
   "cell_type": "code",
   "execution_count": 7,
   "metadata": {},
   "outputs": [],
   "source": [
    "fitness1 = Fitness(route1).routeFitness()"
   ]
  },
  {
   "cell_type": "code",
   "execution_count": 8,
   "metadata": {},
   "outputs": [
    {
     "data": {
      "text/plain": [
       "0.003259758229712894"
      ]
     },
     "execution_count": 8,
     "metadata": {},
     "output_type": "execute_result"
    }
   ],
   "source": [
    "fitness1"
   ]
  },
  {
   "cell_type": "raw",
   "metadata": {},
   "source": [
    "2. InitialPopulation 구성하기"
   ]
  },
  {
   "cell_type": "code",
   "execution_count": 9,
   "metadata": {},
   "outputs": [],
   "source": [
    "#createRoute : CityList에서 구성된 랜덤샘플로 route구성\n",
    "def createRoute(cityList):\n",
    "    route = random.sample(cityList,len(cityList))\n",
    "    return route"
   ]
  },
  {
   "cell_type": "code",
   "execution_count": 10,
   "metadata": {},
   "outputs": [
    {
     "data": {
      "text/plain": [
       "[(54,74),\n",
       " (79,80),\n",
       " (71,72),\n",
       " (73,27),\n",
       " (86,41),\n",
       " (68,69),\n",
       " (24,13),\n",
       " (33,1),\n",
       " (61,27),\n",
       " (53,71)]"
      ]
     },
     "execution_count": 10,
     "metadata": {},
     "output_type": "execute_result"
    }
   ],
   "source": [
    "route1"
   ]
  },
  {
   "cell_type": "code",
   "execution_count": 11,
   "metadata": {},
   "outputs": [],
   "source": [
    "citylist1=route1"
   ]
  },
  {
   "cell_type": "code",
   "execution_count": 12,
   "metadata": {},
   "outputs": [
    {
     "data": {
      "text/plain": [
       "[(54,74),\n",
       " (79,80),\n",
       " (71,72),\n",
       " (73,27),\n",
       " (86,41),\n",
       " (68,69),\n",
       " (24,13),\n",
       " (33,1),\n",
       " (61,27),\n",
       " (53,71)]"
      ]
     },
     "execution_count": 12,
     "metadata": {},
     "output_type": "execute_result"
    }
   ],
   "source": [
    "citylist1"
   ]
  },
  {
   "cell_type": "code",
   "execution_count": 13,
   "metadata": {},
   "outputs": [
    {
     "data": {
      "text/plain": [
       "[(68,69),\n",
       " (54,74),\n",
       " (53,71),\n",
       " (61,27),\n",
       " (73,27),\n",
       " (24,13),\n",
       " (33,1),\n",
       " (86,41),\n",
       " (71,72),\n",
       " (79,80)]"
      ]
     },
     "execution_count": 13,
     "metadata": {},
     "output_type": "execute_result"
    }
   ],
   "source": [
    "createRoute(citylist1)"
   ]
  },
  {
   "cell_type": "code",
   "execution_count": 14,
   "metadata": {},
   "outputs": [],
   "source": [
    "#cityList,popNum입력받아 popNum개의 population 형성\n",
    "def initialPopulation(cityList,popNum):\n",
    "    population = []\n",
    "    for i in range(popNum):\n",
    "        population.append(createRoute(cityList))\n",
    "    return population"
   ]
  },
  {
   "cell_type": "code",
   "execution_count": 15,
   "metadata": {},
   "outputs": [],
   "source": [
    "a = initialPopulation(citylist1,5)"
   ]
  },
  {
   "cell_type": "code",
   "execution_count": 16,
   "metadata": {},
   "outputs": [
    {
     "data": {
      "text/plain": [
       "[[(68,69),\n",
       "  (33,1),\n",
       "  (71,72),\n",
       "  (54,74),\n",
       "  (86,41),\n",
       "  (53,71),\n",
       "  (24,13),\n",
       "  (73,27),\n",
       "  (79,80),\n",
       "  (61,27)],\n",
       " [(73,27),\n",
       "  (53,71),\n",
       "  (68,69),\n",
       "  (54,74),\n",
       "  (71,72),\n",
       "  (86,41),\n",
       "  (79,80),\n",
       "  (33,1),\n",
       "  (24,13),\n",
       "  (61,27)],\n",
       " [(86,41),\n",
       "  (53,71),\n",
       "  (54,74),\n",
       "  (68,69),\n",
       "  (73,27),\n",
       "  (24,13),\n",
       "  (79,80),\n",
       "  (71,72),\n",
       "  (33,1),\n",
       "  (61,27)],\n",
       " [(79,80),\n",
       "  (61,27),\n",
       "  (33,1),\n",
       "  (24,13),\n",
       "  (54,74),\n",
       "  (68,69),\n",
       "  (53,71),\n",
       "  (73,27),\n",
       "  (71,72),\n",
       "  (86,41)],\n",
       " [(61,27),\n",
       "  (68,69),\n",
       "  (24,13),\n",
       "  (86,41),\n",
       "  (71,72),\n",
       "  (73,27),\n",
       "  (53,71),\n",
       "  (79,80),\n",
       "  (54,74),\n",
       "  (33,1)]]"
      ]
     },
     "execution_count": 16,
     "metadata": {},
     "output_type": "execute_result"
    }
   ],
   "source": [
    "a"
   ]
  },
  {
   "cell_type": "raw",
   "metadata": {},
   "source": [
    "3. Create Genetic Algorithm"
   ]
  },
  {
   "cell_type": "raw",
   "metadata": {},
   "source": [
    "1) Rank정하기\n",
    "    - Fitness 이용해 route별 rank구하기"
   ]
  },
  {
   "cell_type": "code",
   "execution_count": 17,
   "metadata": {},
   "outputs": [
    {
     "data": {
      "text/plain": [
       "[[(68,69),\n",
       "  (33,1),\n",
       "  (71,72),\n",
       "  (54,74),\n",
       "  (86,41),\n",
       "  (53,71),\n",
       "  (24,13),\n",
       "  (73,27),\n",
       "  (79,80),\n",
       "  (61,27)],\n",
       " [(73,27),\n",
       "  (53,71),\n",
       "  (68,69),\n",
       "  (54,74),\n",
       "  (71,72),\n",
       "  (86,41),\n",
       "  (79,80),\n",
       "  (33,1),\n",
       "  (24,13),\n",
       "  (61,27)],\n",
       " [(86,41),\n",
       "  (53,71),\n",
       "  (54,74),\n",
       "  (68,69),\n",
       "  (73,27),\n",
       "  (24,13),\n",
       "  (79,80),\n",
       "  (71,72),\n",
       "  (33,1),\n",
       "  (61,27)],\n",
       " [(79,80),\n",
       "  (61,27),\n",
       "  (33,1),\n",
       "  (24,13),\n",
       "  (54,74),\n",
       "  (68,69),\n",
       "  (53,71),\n",
       "  (73,27),\n",
       "  (71,72),\n",
       "  (86,41)],\n",
       " [(61,27),\n",
       "  (68,69),\n",
       "  (24,13),\n",
       "  (86,41),\n",
       "  (71,72),\n",
       "  (73,27),\n",
       "  (53,71),\n",
       "  (79,80),\n",
       "  (54,74),\n",
       "  (33,1)]]"
      ]
     },
     "execution_count": 17,
     "metadata": {},
     "output_type": "execute_result"
    }
   ],
   "source": [
    "a"
   ]
  },
  {
   "cell_type": "code",
   "execution_count": 18,
   "metadata": {},
   "outputs": [],
   "source": [
    "poprank = {}\n",
    "for i in range(len(a)):\n",
    "    fitness = Fitness(a[i]).routeFitness()\n",
    "    poprank[i]=fitness\n",
    "\n"
   ]
  },
  {
   "cell_type": "code",
   "execution_count": 19,
   "metadata": {
    "scrolled": true
   },
   "outputs": [
    {
     "data": {
      "text/plain": [
       "{0: 0.0018783261308371584,\n",
       " 1: 0.0030535607332139772,\n",
       " 2: 0.002492066036252214,\n",
       " 3: 0.0026695277657157418,\n",
       " 4: 0.0020962792061988405}"
      ]
     },
     "execution_count": 19,
     "metadata": {},
     "output_type": "execute_result"
    }
   ],
   "source": [
    "poprank"
   ]
  },
  {
   "cell_type": "code",
   "execution_count": 20,
   "metadata": {},
   "outputs": [],
   "source": [
    "\n",
    "routerank = sorted(poprank.items(),key = operator.itemgetter(1),reverse=True)\n"
   ]
  },
  {
   "cell_type": "code",
   "execution_count": 21,
   "metadata": {},
   "outputs": [
    {
     "data": {
      "text/plain": [
       "[(1, 0.0030535607332139772),\n",
       " (3, 0.0026695277657157418),\n",
       " (2, 0.002492066036252214),\n",
       " (4, 0.0020962792061988405),\n",
       " (0, 0.0018783261308371584)]"
      ]
     },
     "execution_count": 21,
     "metadata": {},
     "output_type": "execute_result"
    }
   ],
   "source": [
    "routerank"
   ]
  },
  {
   "cell_type": "code",
   "execution_count": 22,
   "metadata": {},
   "outputs": [],
   "source": [
    "df = pd.DataFrame(routerank,columns=['Index','Fitness'])"
   ]
  },
  {
   "cell_type": "code",
   "execution_count": 23,
   "metadata": {},
   "outputs": [
    {
     "data": {
      "text/html": [
       "<div>\n",
       "<style scoped>\n",
       "    .dataframe tbody tr th:only-of-type {\n",
       "        vertical-align: middle;\n",
       "    }\n",
       "\n",
       "    .dataframe tbody tr th {\n",
       "        vertical-align: top;\n",
       "    }\n",
       "\n",
       "    .dataframe thead th {\n",
       "        text-align: right;\n",
       "    }\n",
       "</style>\n",
       "<table border=\"1\" class=\"dataframe\">\n",
       "  <thead>\n",
       "    <tr style=\"text-align: right;\">\n",
       "      <th></th>\n",
       "      <th>Index</th>\n",
       "      <th>Fitness</th>\n",
       "    </tr>\n",
       "  </thead>\n",
       "  <tbody>\n",
       "    <tr>\n",
       "      <td>0</td>\n",
       "      <td>1</td>\n",
       "      <td>0.003054</td>\n",
       "    </tr>\n",
       "    <tr>\n",
       "      <td>1</td>\n",
       "      <td>3</td>\n",
       "      <td>0.002670</td>\n",
       "    </tr>\n",
       "    <tr>\n",
       "      <td>2</td>\n",
       "      <td>2</td>\n",
       "      <td>0.002492</td>\n",
       "    </tr>\n",
       "    <tr>\n",
       "      <td>3</td>\n",
       "      <td>4</td>\n",
       "      <td>0.002096</td>\n",
       "    </tr>\n",
       "    <tr>\n",
       "      <td>4</td>\n",
       "      <td>0</td>\n",
       "      <td>0.001878</td>\n",
       "    </tr>\n",
       "  </tbody>\n",
       "</table>\n",
       "</div>"
      ],
      "text/plain": [
       "   Index   Fitness\n",
       "0      1  0.003054\n",
       "1      3  0.002670\n",
       "2      2  0.002492\n",
       "3      4  0.002096\n",
       "4      0  0.001878"
      ]
     },
     "execution_count": 23,
     "metadata": {},
     "output_type": "execute_result"
    }
   ],
   "source": [
    "df"
   ]
  },
  {
   "cell_type": "code",
   "execution_count": 25,
   "metadata": {},
   "outputs": [],
   "source": [
    "df['Rank']=df.index+1"
   ]
  },
  {
   "cell_type": "code",
   "execution_count": 26,
   "metadata": {},
   "outputs": [],
   "source": [
    "\n",
    "df['Rank']=df['Rank'].values[::-1]"
   ]
  },
  {
   "cell_type": "code",
   "execution_count": 27,
   "metadata": {},
   "outputs": [
    {
     "data": {
      "text/html": [
       "<div>\n",
       "<style scoped>\n",
       "    .dataframe tbody tr th:only-of-type {\n",
       "        vertical-align: middle;\n",
       "    }\n",
       "\n",
       "    .dataframe tbody tr th {\n",
       "        vertical-align: top;\n",
       "    }\n",
       "\n",
       "    .dataframe thead th {\n",
       "        text-align: right;\n",
       "    }\n",
       "</style>\n",
       "<table border=\"1\" class=\"dataframe\">\n",
       "  <thead>\n",
       "    <tr style=\"text-align: right;\">\n",
       "      <th></th>\n",
       "      <th>Index</th>\n",
       "      <th>Fitness</th>\n",
       "      <th>Rank</th>\n",
       "    </tr>\n",
       "  </thead>\n",
       "  <tbody>\n",
       "    <tr>\n",
       "      <td>0</td>\n",
       "      <td>1</td>\n",
       "      <td>0.003054</td>\n",
       "      <td>5</td>\n",
       "    </tr>\n",
       "    <tr>\n",
       "      <td>1</td>\n",
       "      <td>3</td>\n",
       "      <td>0.002670</td>\n",
       "      <td>4</td>\n",
       "    </tr>\n",
       "    <tr>\n",
       "      <td>2</td>\n",
       "      <td>2</td>\n",
       "      <td>0.002492</td>\n",
       "      <td>3</td>\n",
       "    </tr>\n",
       "    <tr>\n",
       "      <td>3</td>\n",
       "      <td>4</td>\n",
       "      <td>0.002096</td>\n",
       "      <td>2</td>\n",
       "    </tr>\n",
       "    <tr>\n",
       "      <td>4</td>\n",
       "      <td>0</td>\n",
       "      <td>0.001878</td>\n",
       "      <td>1</td>\n",
       "    </tr>\n",
       "  </tbody>\n",
       "</table>\n",
       "</div>"
      ],
      "text/plain": [
       "   Index   Fitness  Rank\n",
       "0      1  0.003054     5\n",
       "1      3  0.002670     4\n",
       "2      2  0.002492     3\n",
       "3      4  0.002096     2\n",
       "4      0  0.001878     1"
      ]
     },
     "execution_count": 27,
     "metadata": {},
     "output_type": "execute_result"
    }
   ],
   "source": [
    "df"
   ]
  },
  {
   "cell_type": "code",
   "execution_count": 28,
   "metadata": {},
   "outputs": [
    {
     "data": {
      "text/plain": [
       "5"
      ]
     },
     "execution_count": 28,
     "metadata": {},
     "output_type": "execute_result"
    }
   ],
   "source": [
    "len(df)"
   ]
  },
  {
   "cell_type": "code",
   "execution_count": 29,
   "metadata": {},
   "outputs": [],
   "source": [
    "df['Pressure']=df['Rank']/(len(df)*(len(df)+1)/2)*100\n",
    "df['Cumsum']=df['Pressure'].cumsum()"
   ]
  },
  {
   "cell_type": "code",
   "execution_count": 30,
   "metadata": {},
   "outputs": [
    {
     "data": {
      "text/html": [
       "<div>\n",
       "<style scoped>\n",
       "    .dataframe tbody tr th:only-of-type {\n",
       "        vertical-align: middle;\n",
       "    }\n",
       "\n",
       "    .dataframe tbody tr th {\n",
       "        vertical-align: top;\n",
       "    }\n",
       "\n",
       "    .dataframe thead th {\n",
       "        text-align: right;\n",
       "    }\n",
       "</style>\n",
       "<table border=\"1\" class=\"dataframe\">\n",
       "  <thead>\n",
       "    <tr style=\"text-align: right;\">\n",
       "      <th></th>\n",
       "      <th>Index</th>\n",
       "      <th>Fitness</th>\n",
       "      <th>Rank</th>\n",
       "      <th>Pressure</th>\n",
       "      <th>Cumsum</th>\n",
       "    </tr>\n",
       "  </thead>\n",
       "  <tbody>\n",
       "    <tr>\n",
       "      <td>0</td>\n",
       "      <td>1</td>\n",
       "      <td>0.003054</td>\n",
       "      <td>5</td>\n",
       "      <td>33.333333</td>\n",
       "      <td>33.333333</td>\n",
       "    </tr>\n",
       "    <tr>\n",
       "      <td>1</td>\n",
       "      <td>3</td>\n",
       "      <td>0.002670</td>\n",
       "      <td>4</td>\n",
       "      <td>26.666667</td>\n",
       "      <td>60.000000</td>\n",
       "    </tr>\n",
       "    <tr>\n",
       "      <td>2</td>\n",
       "      <td>2</td>\n",
       "      <td>0.002492</td>\n",
       "      <td>3</td>\n",
       "      <td>20.000000</td>\n",
       "      <td>80.000000</td>\n",
       "    </tr>\n",
       "    <tr>\n",
       "      <td>3</td>\n",
       "      <td>4</td>\n",
       "      <td>0.002096</td>\n",
       "      <td>2</td>\n",
       "      <td>13.333333</td>\n",
       "      <td>93.333333</td>\n",
       "    </tr>\n",
       "    <tr>\n",
       "      <td>4</td>\n",
       "      <td>0</td>\n",
       "      <td>0.001878</td>\n",
       "      <td>1</td>\n",
       "      <td>6.666667</td>\n",
       "      <td>100.000000</td>\n",
       "    </tr>\n",
       "  </tbody>\n",
       "</table>\n",
       "</div>"
      ],
      "text/plain": [
       "   Index   Fitness  Rank   Pressure      Cumsum\n",
       "0      1  0.003054     5  33.333333   33.333333\n",
       "1      3  0.002670     4  26.666667   60.000000\n",
       "2      2  0.002492     3  20.000000   80.000000\n",
       "3      4  0.002096     2  13.333333   93.333333\n",
       "4      0  0.001878     1   6.666667  100.000000"
      ]
     },
     "execution_count": 30,
     "metadata": {},
     "output_type": "execute_result"
    }
   ],
   "source": [
    "df"
   ]
  },
  {
   "cell_type": "code",
   "execution_count": 31,
   "metadata": {},
   "outputs": [],
   "source": [
    "#rankRoutes로 population의 route중 fitness좋은것부터\n",
    "#순서대로 (index,fitness)형태로 출력\n",
    "def rankRoutes(population):\n",
    "    poprank = {}\n",
    "    for i in range(len(population)):\n",
    "        fitness = Fitness(population[i]).routeFitness()\n",
    "        poprank[i]=fitness\n",
    "    return sorted(poprank.items(),key = operator.itemgetter(1),reverse=True)\n"
   ]
  },
  {
   "cell_type": "code",
   "execution_count": 32,
   "metadata": {},
   "outputs": [
    {
     "data": {
      "text/plain": [
       "[(1, 0.0030535607332139772),\n",
       " (3, 0.0026695277657157418),\n",
       " (2, 0.002492066036252214),\n",
       " (4, 0.0020962792061988405),\n",
       " (0, 0.0018783261308371584)]"
      ]
     },
     "execution_count": 32,
     "metadata": {},
     "output_type": "execute_result"
    }
   ],
   "source": [
    "rankRoutes(a)"
   ]
  },
  {
   "cell_type": "code",
   "execution_count": 33,
   "metadata": {},
   "outputs": [],
   "source": [
    "#roulette wheel이용해서 selection. population length만큼 선택하기.\n",
    "#rank selection\n",
    "def selection(popRank):\n",
    "    selected = []\n",
    "    df = pd.DataFrame(popRank,columns=['Index','Fitness'])\n",
    "    df['Rank']=df.index+1\n",
    "    df['Rank']=df['Rank'].values[::-1]\n",
    "    df['Pressure']=df['Rank']/(len(df)*(len(df)+1)/2)*100\n",
    "    df['Cumsum']=df['Pressure'].cumsum()\n",
    "    for i in range(len(popRank)):\n",
    "        pick = random.random()*100\n",
    "        for k in range(len(popRank)):\n",
    "            if pick < df.iloc[k,4]:\n",
    "                selected.append(popRank[k])\n",
    "                break\n",
    "    return selected\n",
    "                \n",
    "        \n",
    "    "
   ]
  },
  {
   "cell_type": "code",
   "execution_count": 34,
   "metadata": {},
   "outputs": [
    {
     "data": {
      "text/plain": [
       "26.666666666666668"
      ]
     },
     "execution_count": 34,
     "metadata": {},
     "output_type": "execute_result"
    }
   ],
   "source": [
    "df.iloc[1,3]"
   ]
  },
  {
   "cell_type": "code",
   "execution_count": 35,
   "metadata": {
    "scrolled": true
   },
   "outputs": [
    {
     "data": {
      "text/html": [
       "<div>\n",
       "<style scoped>\n",
       "    .dataframe tbody tr th:only-of-type {\n",
       "        vertical-align: middle;\n",
       "    }\n",
       "\n",
       "    .dataframe tbody tr th {\n",
       "        vertical-align: top;\n",
       "    }\n",
       "\n",
       "    .dataframe thead th {\n",
       "        text-align: right;\n",
       "    }\n",
       "</style>\n",
       "<table border=\"1\" class=\"dataframe\">\n",
       "  <thead>\n",
       "    <tr style=\"text-align: right;\">\n",
       "      <th></th>\n",
       "      <th>Index</th>\n",
       "      <th>Fitness</th>\n",
       "      <th>Rank</th>\n",
       "      <th>Pressure</th>\n",
       "      <th>Cumsum</th>\n",
       "    </tr>\n",
       "  </thead>\n",
       "  <tbody>\n",
       "    <tr>\n",
       "      <td>0</td>\n",
       "      <td>1</td>\n",
       "      <td>0.003054</td>\n",
       "      <td>5</td>\n",
       "      <td>33.333333</td>\n",
       "      <td>33.333333</td>\n",
       "    </tr>\n",
       "    <tr>\n",
       "      <td>1</td>\n",
       "      <td>3</td>\n",
       "      <td>0.002670</td>\n",
       "      <td>4</td>\n",
       "      <td>26.666667</td>\n",
       "      <td>60.000000</td>\n",
       "    </tr>\n",
       "    <tr>\n",
       "      <td>2</td>\n",
       "      <td>2</td>\n",
       "      <td>0.002492</td>\n",
       "      <td>3</td>\n",
       "      <td>20.000000</td>\n",
       "      <td>80.000000</td>\n",
       "    </tr>\n",
       "    <tr>\n",
       "      <td>3</td>\n",
       "      <td>4</td>\n",
       "      <td>0.002096</td>\n",
       "      <td>2</td>\n",
       "      <td>13.333333</td>\n",
       "      <td>93.333333</td>\n",
       "    </tr>\n",
       "    <tr>\n",
       "      <td>4</td>\n",
       "      <td>0</td>\n",
       "      <td>0.001878</td>\n",
       "      <td>1</td>\n",
       "      <td>6.666667</td>\n",
       "      <td>100.000000</td>\n",
       "    </tr>\n",
       "  </tbody>\n",
       "</table>\n",
       "</div>"
      ],
      "text/plain": [
       "   Index   Fitness  Rank   Pressure      Cumsum\n",
       "0      1  0.003054     5  33.333333   33.333333\n",
       "1      3  0.002670     4  26.666667   60.000000\n",
       "2      2  0.002492     3  20.000000   80.000000\n",
       "3      4  0.002096     2  13.333333   93.333333\n",
       "4      0  0.001878     1   6.666667  100.000000"
      ]
     },
     "execution_count": 35,
     "metadata": {},
     "output_type": "execute_result"
    }
   ],
   "source": [
    "df"
   ]
  },
  {
   "cell_type": "code",
   "execution_count": 36,
   "metadata": {},
   "outputs": [
    {
     "data": {
      "text/plain": [
       "[(1, 0.0030535607332139772),\n",
       " (3, 0.0026695277657157418),\n",
       " (2, 0.002492066036252214),\n",
       " (4, 0.0020962792061988405),\n",
       " (0, 0.0018783261308371584)]"
      ]
     },
     "execution_count": 36,
     "metadata": {},
     "output_type": "execute_result"
    }
   ],
   "source": [
    "routerank"
   ]
  },
  {
   "cell_type": "code",
   "execution_count": 37,
   "metadata": {},
   "outputs": [],
   "source": [
    "selc= selection(routerank)"
   ]
  },
  {
   "cell_type": "code",
   "execution_count": 38,
   "metadata": {
    "scrolled": true
   },
   "outputs": [
    {
     "data": {
      "text/plain": [
       "[(1, 0.0030535607332139772),\n",
       " (3, 0.0026695277657157418),\n",
       " (3, 0.0026695277657157418),\n",
       " (3, 0.0026695277657157418),\n",
       " (3, 0.0026695277657157418)]"
      ]
     },
     "execution_count": 38,
     "metadata": {},
     "output_type": "execute_result"
    }
   ],
   "source": [
    "selc"
   ]
  },
  {
   "cell_type": "code",
   "execution_count": 39,
   "metadata": {},
   "outputs": [
    {
     "data": {
      "text/plain": [
       "3"
      ]
     },
     "execution_count": 39,
     "metadata": {},
     "output_type": "execute_result"
    }
   ],
   "source": [
    "selc[1][0]"
   ]
  },
  {
   "cell_type": "code",
   "execution_count": 40,
   "metadata": {},
   "outputs": [],
   "source": [
    "#selection 결과 바탕으로 matingpool형성\n",
    "def matingpool(selected,population):\n",
    "    #population에서 룰렛휠로 selected된 route들로 mating pool 형성\n",
    "    index = []\n",
    "    for i in range(len(selected)):\n",
    "        index.append(selected[i][0])\n",
    "    pool = []\n",
    "    for i in range(len(index)):\n",
    "        pool.append(population[index[i]])\n",
    "    return pool    \n",
    "    \n",
    "    \n",
    "           "
   ]
  },
  {
   "cell_type": "code",
   "execution_count": 41,
   "metadata": {},
   "outputs": [
    {
     "data": {
      "text/plain": [
       "[[(73,27),\n",
       "  (53,71),\n",
       "  (68,69),\n",
       "  (54,74),\n",
       "  (71,72),\n",
       "  (86,41),\n",
       "  (79,80),\n",
       "  (33,1),\n",
       "  (24,13),\n",
       "  (61,27)],\n",
       " [(79,80),\n",
       "  (61,27),\n",
       "  (33,1),\n",
       "  (24,13),\n",
       "  (54,74),\n",
       "  (68,69),\n",
       "  (53,71),\n",
       "  (73,27),\n",
       "  (71,72),\n",
       "  (86,41)],\n",
       " [(79,80),\n",
       "  (61,27),\n",
       "  (33,1),\n",
       "  (24,13),\n",
       "  (54,74),\n",
       "  (68,69),\n",
       "  (53,71),\n",
       "  (73,27),\n",
       "  (71,72),\n",
       "  (86,41)],\n",
       " [(79,80),\n",
       "  (61,27),\n",
       "  (33,1),\n",
       "  (24,13),\n",
       "  (54,74),\n",
       "  (68,69),\n",
       "  (53,71),\n",
       "  (73,27),\n",
       "  (71,72),\n",
       "  (86,41)],\n",
       " [(79,80),\n",
       "  (61,27),\n",
       "  (33,1),\n",
       "  (24,13),\n",
       "  (54,74),\n",
       "  (68,69),\n",
       "  (53,71),\n",
       "  (73,27),\n",
       "  (71,72),\n",
       "  (86,41)]]"
      ]
     },
     "execution_count": 41,
     "metadata": {},
     "output_type": "execute_result"
    }
   ],
   "source": [
    "matingpool(selc,a)"
   ]
  },
  {
   "cell_type": "code",
   "execution_count": 42,
   "metadata": {},
   "outputs": [
    {
     "data": {
      "text/plain": [
       "[[(68,69),\n",
       "  (33,1),\n",
       "  (71,72),\n",
       "  (54,74),\n",
       "  (86,41),\n",
       "  (53,71),\n",
       "  (24,13),\n",
       "  (73,27),\n",
       "  (79,80),\n",
       "  (61,27)],\n",
       " [(73,27),\n",
       "  (53,71),\n",
       "  (68,69),\n",
       "  (54,74),\n",
       "  (71,72),\n",
       "  (86,41),\n",
       "  (79,80),\n",
       "  (33,1),\n",
       "  (24,13),\n",
       "  (61,27)],\n",
       " [(86,41),\n",
       "  (53,71),\n",
       "  (54,74),\n",
       "  (68,69),\n",
       "  (73,27),\n",
       "  (24,13),\n",
       "  (79,80),\n",
       "  (71,72),\n",
       "  (33,1),\n",
       "  (61,27)],\n",
       " [(79,80),\n",
       "  (61,27),\n",
       "  (33,1),\n",
       "  (24,13),\n",
       "  (54,74),\n",
       "  (68,69),\n",
       "  (53,71),\n",
       "  (73,27),\n",
       "  (71,72),\n",
       "  (86,41)],\n",
       " [(61,27),\n",
       "  (68,69),\n",
       "  (24,13),\n",
       "  (86,41),\n",
       "  (71,72),\n",
       "  (73,27),\n",
       "  (53,71),\n",
       "  (79,80),\n",
       "  (54,74),\n",
       "  (33,1)]]"
      ]
     },
     "execution_count": 42,
     "metadata": {},
     "output_type": "execute_result"
    }
   ],
   "source": [
    "a"
   ]
  },
  {
   "cell_type": "code",
   "execution_count": 43,
   "metadata": {},
   "outputs": [],
   "source": [
    "#breed...\n",
    "parent1 = random.sample(a,1)\n",
    "parent2 = random.sample(a,1)\n",
    "abs1 = random.randint(0,len(parent1[0]))\n",
    "abs2 = random.randint(0,len(parent2[0]))\n",
    "child1 =[]\n",
    "for i in range(min(abs1,abs2),max(abs1,abs2)):\n",
    "    child1.append(parent1[0][i])\n",
    "child2 = [val for val in parent2[0] if val not in child1]\n",
    "Child = child1+child2"
   ]
  },
  {
   "cell_type": "code",
   "execution_count": 44,
   "metadata": {},
   "outputs": [
    {
     "data": {
      "text/plain": [
       "[(68,69), (54,74)]"
      ]
     },
     "execution_count": 44,
     "metadata": {},
     "output_type": "execute_result"
    }
   ],
   "source": [
    "child1"
   ]
  },
  {
   "cell_type": "code",
   "execution_count": 45,
   "metadata": {},
   "outputs": [
    {
     "data": {
      "text/plain": [
       "[[(61,27),\n",
       "  (68,69),\n",
       "  (24,13),\n",
       "  (86,41),\n",
       "  (71,72),\n",
       "  (73,27),\n",
       "  (53,71),\n",
       "  (79,80),\n",
       "  (54,74),\n",
       "  (33,1)]]"
      ]
     },
     "execution_count": 45,
     "metadata": {},
     "output_type": "execute_result"
    }
   ],
   "source": [
    "parent2"
   ]
  },
  {
   "cell_type": "code",
   "execution_count": 46,
   "metadata": {},
   "outputs": [
    {
     "data": {
      "text/plain": [
       "[(61,27), (24,13), (86,41), (71,72), (73,27), (53,71), (79,80), (33,1)]"
      ]
     },
     "execution_count": 46,
     "metadata": {},
     "output_type": "execute_result"
    }
   ],
   "source": [
    "child2"
   ]
  },
  {
   "cell_type": "code",
   "execution_count": 47,
   "metadata": {},
   "outputs": [
    {
     "data": {
      "text/plain": [
       "[[(73,27),\n",
       "  (53,71),\n",
       "  (68,69),\n",
       "  (54,74),\n",
       "  (71,72),\n",
       "  (86,41),\n",
       "  (79,80),\n",
       "  (33,1),\n",
       "  (24,13),\n",
       "  (61,27)]]"
      ]
     },
     "execution_count": 47,
     "metadata": {},
     "output_type": "execute_result"
    }
   ],
   "source": [
    "parent1"
   ]
  },
  {
   "cell_type": "code",
   "execution_count": 48,
   "metadata": {},
   "outputs": [],
   "source": [
    "def breed(parent1,parent2):\n",
    "    child1 = []\n",
    "    abs1 = random.randint(0,len(parent1))\n",
    "    abs2 = random.randint(0,len(parent2))\n",
    "    child1 = []\n",
    "    for i in range(min(abs1,abs2),max(abs1,abs2)):\n",
    "        child1.append(parent1[i])\n",
    "    child2 = [val for val in parent2 if val not in child1]\n",
    "    Child = child1+child2\n",
    "    return Child"
   ]
  },
  {
   "cell_type": "code",
   "execution_count": 49,
   "metadata": {},
   "outputs": [],
   "source": [
    "pool = matingpool(selc,a)"
   ]
  },
  {
   "cell_type": "code",
   "execution_count": 50,
   "metadata": {},
   "outputs": [
    {
     "data": {
      "text/plain": [
       "[[(73,27),\n",
       "  (53,71),\n",
       "  (68,69),\n",
       "  (54,74),\n",
       "  (71,72),\n",
       "  (86,41),\n",
       "  (79,80),\n",
       "  (33,1),\n",
       "  (24,13),\n",
       "  (61,27)],\n",
       " [(79,80),\n",
       "  (61,27),\n",
       "  (33,1),\n",
       "  (24,13),\n",
       "  (54,74),\n",
       "  (68,69),\n",
       "  (53,71),\n",
       "  (73,27),\n",
       "  (71,72),\n",
       "  (86,41)],\n",
       " [(79,80),\n",
       "  (61,27),\n",
       "  (33,1),\n",
       "  (24,13),\n",
       "  (54,74),\n",
       "  (68,69),\n",
       "  (53,71),\n",
       "  (73,27),\n",
       "  (71,72),\n",
       "  (86,41)],\n",
       " [(79,80),\n",
       "  (61,27),\n",
       "  (33,1),\n",
       "  (24,13),\n",
       "  (54,74),\n",
       "  (68,69),\n",
       "  (53,71),\n",
       "  (73,27),\n",
       "  (71,72),\n",
       "  (86,41)],\n",
       " [(79,80),\n",
       "  (61,27),\n",
       "  (33,1),\n",
       "  (24,13),\n",
       "  (54,74),\n",
       "  (68,69),\n",
       "  (53,71),\n",
       "  (73,27),\n",
       "  (71,72),\n",
       "  (86,41)]]"
      ]
     },
     "execution_count": 50,
     "metadata": {},
     "output_type": "execute_result"
    }
   ],
   "source": [
    "pool"
   ]
  },
  {
   "cell_type": "code",
   "execution_count": 51,
   "metadata": {
    "scrolled": true
   },
   "outputs": [
    {
     "data": {
      "text/plain": [
       "[(79,80),\n",
       " (61,27),\n",
       " (33,1),\n",
       " (24,13),\n",
       " (54,74),\n",
       " (68,69),\n",
       " (53,71),\n",
       " (73,27),\n",
       " (71,72),\n",
       " (86,41)]"
      ]
     },
     "execution_count": 51,
     "metadata": {},
     "output_type": "execute_result"
    }
   ],
   "source": [
    "pool[1]"
   ]
  },
  {
   "cell_type": "code",
   "execution_count": 52,
   "metadata": {
    "scrolled": false
   },
   "outputs": [
    {
     "data": {
      "text/plain": [
       "3"
      ]
     },
     "execution_count": 52,
     "metadata": {},
     "output_type": "execute_result"
    }
   ],
   "source": [
    "random.randint(0,3)"
   ]
  },
  {
   "cell_type": "code",
   "execution_count": 53,
   "metadata": {},
   "outputs": [],
   "source": [
    "def breedpopulation(pool):\n",
    "    breedpop = []\n",
    "    for i in range(len(pool)):\n",
    "        parent1 = pool[int(random.random()*len(pool))]\n",
    "        parent2 = pool[int(random.random()*len(pool))]\n",
    "        breedpop.append(breed(parent1,parent2))\n",
    "    return breedpop\n",
    "#pool에서 랜덤한 부모 2명 추출-> breed\n",
    "#pool length(=popnum)만큼 breedpopulation(자손pop)생성"
   ]
  },
  {
   "cell_type": "code",
   "execution_count": 54,
   "metadata": {},
   "outputs": [],
   "source": [
    "brpop = breedpopulation(pool)"
   ]
  },
  {
   "cell_type": "code",
   "execution_count": 55,
   "metadata": {},
   "outputs": [],
   "source": [
    "def mutate(breedroute):\n",
    "    index1 = int(random.random()*len(breedroute))\n",
    "    index2 = int(random.random()*len(breedroute))\n",
    "    change1 = breedroute[index1]\n",
    "    change2 = breedroute[index2]\n",
    "    breedroute[index1] = change2\n",
    "    breedroute[index2] = change1\n",
    "    return breedroute\n",
    "            \n",
    "        \n",
    "    "
   ]
  },
  {
   "cell_type": "code",
   "execution_count": 56,
   "metadata": {},
   "outputs": [],
   "source": [
    "def mutatepopulation(breedpop,mutationrate):\n",
    "    for i in range(len(breedpop)):\n",
    "        rate = random.random()\n",
    "        if rate < mutationrate:\n",
    "            mutate(breedpop[i])\n",
    "        \n",
    "    return breedpop"
   ]
  },
  {
   "cell_type": "code",
   "execution_count": 57,
   "metadata": {},
   "outputs": [
    {
     "data": {
      "text/plain": [
       "[[(73,27),\n",
       "  (53,71),\n",
       "  (68,69),\n",
       "  (54,74),\n",
       "  (71,72),\n",
       "  (86,41),\n",
       "  (79,80),\n",
       "  (33,1),\n",
       "  (24,13),\n",
       "  (61,27)],\n",
       " [(86,41),\n",
       "  (79,80),\n",
       "  (33,1),\n",
       "  (24,13),\n",
       "  (61,27),\n",
       "  (54,74),\n",
       "  (68,69),\n",
       "  (53,71),\n",
       "  (73,27),\n",
       "  (71,72)],\n",
       " [(33,1),\n",
       "  (24,13),\n",
       "  (54,74),\n",
       "  (79,80),\n",
       "  (61,27),\n",
       "  (68,69),\n",
       "  (53,71),\n",
       "  (73,27),\n",
       "  (71,72),\n",
       "  (86,41)],\n",
       " [(24,13),\n",
       "  (73,27),\n",
       "  (53,71),\n",
       "  (68,69),\n",
       "  (54,74),\n",
       "  (71,72),\n",
       "  (86,41),\n",
       "  (79,80),\n",
       "  (33,1),\n",
       "  (61,27)],\n",
       " [(53,71),\n",
       "  (79,80),\n",
       "  (61,27),\n",
       "  (33,1),\n",
       "  (24,13),\n",
       "  (54,74),\n",
       "  (68,69),\n",
       "  (73,27),\n",
       "  (71,72),\n",
       "  (86,41)]]"
      ]
     },
     "execution_count": 57,
     "metadata": {},
     "output_type": "execute_result"
    }
   ],
   "source": [
    "brpop"
   ]
  },
  {
   "cell_type": "code",
   "execution_count": 58,
   "metadata": {},
   "outputs": [
    {
     "data": {
      "text/plain": [
       "[[(73,27),\n",
       "  (53,71),\n",
       "  (68,69),\n",
       "  (54,74),\n",
       "  (71,72),\n",
       "  (86,41),\n",
       "  (79,80),\n",
       "  (33,1),\n",
       "  (24,13),\n",
       "  (61,27)],\n",
       " [(86,41),\n",
       "  (68,69),\n",
       "  (33,1),\n",
       "  (24,13),\n",
       "  (61,27),\n",
       "  (54,74),\n",
       "  (79,80),\n",
       "  (53,71),\n",
       "  (73,27),\n",
       "  (71,72)],\n",
       " [(33,1),\n",
       "  (24,13),\n",
       "  (54,74),\n",
       "  (79,80),\n",
       "  (61,27),\n",
       "  (68,69),\n",
       "  (53,71),\n",
       "  (73,27),\n",
       "  (71,72),\n",
       "  (86,41)],\n",
       " [(24,13),\n",
       "  (73,27),\n",
       "  (53,71),\n",
       "  (33,1),\n",
       "  (54,74),\n",
       "  (71,72),\n",
       "  (86,41),\n",
       "  (79,80),\n",
       "  (68,69),\n",
       "  (61,27)],\n",
       " [(53,71),\n",
       "  (79,80),\n",
       "  (61,27),\n",
       "  (33,1),\n",
       "  (24,13),\n",
       "  (54,74),\n",
       "  (68,69),\n",
       "  (73,27),\n",
       "  (71,72),\n",
       "  (86,41)]]"
      ]
     },
     "execution_count": 58,
     "metadata": {},
     "output_type": "execute_result"
    }
   ],
   "source": [
    "mutatepopulation(brpop,0.3)"
   ]
  },
  {
   "cell_type": "code",
   "execution_count": 59,
   "metadata": {
    "scrolled": true
   },
   "outputs": [
    {
     "data": {
      "text/plain": [
       "[[(73,27),\n",
       "  (53,71),\n",
       "  (68,69),\n",
       "  (54,74),\n",
       "  (71,72),\n",
       "  (86,41),\n",
       "  (79,80),\n",
       "  (33,1),\n",
       "  (24,13),\n",
       "  (61,27)],\n",
       " [(86,41),\n",
       "  (68,69),\n",
       "  (33,1),\n",
       "  (24,13),\n",
       "  (61,27),\n",
       "  (54,74),\n",
       "  (79,80),\n",
       "  (53,71),\n",
       "  (73,27),\n",
       "  (71,72)],\n",
       " [(33,1),\n",
       "  (24,13),\n",
       "  (54,74),\n",
       "  (79,80),\n",
       "  (61,27),\n",
       "  (68,69),\n",
       "  (53,71),\n",
       "  (73,27),\n",
       "  (71,72),\n",
       "  (86,41)],\n",
       " [(24,13),\n",
       "  (73,27),\n",
       "  (53,71),\n",
       "  (33,1),\n",
       "  (54,74),\n",
       "  (71,72),\n",
       "  (86,41),\n",
       "  (79,80),\n",
       "  (68,69),\n",
       "  (61,27)],\n",
       " [(53,71),\n",
       "  (79,80),\n",
       "  (61,27),\n",
       "  (33,1),\n",
       "  (24,13),\n",
       "  (54,74),\n",
       "  (68,69),\n",
       "  (73,27),\n",
       "  (71,72),\n",
       "  (86,41)]]"
      ]
     },
     "execution_count": 59,
     "metadata": {},
     "output_type": "execute_result"
    }
   ],
   "source": [
    "brpop"
   ]
  },
  {
   "cell_type": "code",
   "execution_count": 60,
   "metadata": {},
   "outputs": [],
   "source": [
    "def nextGeneration(population,mutationrate):\n",
    "    rank = rankRoutes(population)\n",
    "    selected = selection(rank)\n",
    "    pool = matingpool(selected,population)\n",
    "    breedpop = breedpopulation(pool)\n",
    "    nextpop = mutatepopulation(breedpop,mutationrate)\n",
    "    return nextpop\n",
    "    \n",
    "    "
   ]
  },
  {
   "cell_type": "code",
   "execution_count": 61,
   "metadata": {},
   "outputs": [
    {
     "data": {
      "text/plain": [
       "[[(53,71),\n",
       "  (79,80),\n",
       "  (61,27),\n",
       "  (33,1),\n",
       "  (24,13),\n",
       "  (54,74),\n",
       "  (68,69),\n",
       "  (73,27),\n",
       "  (71,72),\n",
       "  (86,41)],\n",
       " [(79,80),\n",
       "  (73,27),\n",
       "  (53,71),\n",
       "  (68,69),\n",
       "  (54,74),\n",
       "  (71,72),\n",
       "  (86,41),\n",
       "  (33,1),\n",
       "  (24,13),\n",
       "  (61,27)],\n",
       " [(71,72),\n",
       "  (86,41),\n",
       "  (79,80),\n",
       "  (33,1),\n",
       "  (68,69),\n",
       "  (24,13),\n",
       "  (54,74),\n",
       "  (61,27),\n",
       "  (53,71),\n",
       "  (73,27)],\n",
       " [(24,13),\n",
       "  (61,27),\n",
       "  (54,74),\n",
       "  (79,80),\n",
       "  (53,71),\n",
       "  (73,27),\n",
       "  (68,69),\n",
       "  (71,72),\n",
       "  (86,41),\n",
       "  (33,1)],\n",
       " [(73,27),\n",
       "  (68,69),\n",
       "  (86,41),\n",
       "  (33,1),\n",
       "  (24,13),\n",
       "  (61,27),\n",
       "  (54,74),\n",
       "  (79,80),\n",
       "  (53,71),\n",
       "  (71,72)]]"
      ]
     },
     "execution_count": 61,
     "metadata": {},
     "output_type": "execute_result"
    }
   ],
   "source": [
    "nextGeneration(brpop,0.2)"
   ]
  },
  {
   "cell_type": "raw",
   "metadata": {},
   "source": [
    "Genetic Algorithm 통합 & 돌리기!"
   ]
  },
  {
   "cell_type": "code",
   "execution_count": 62,
   "metadata": {},
   "outputs": [],
   "source": [
    "def GeneticAlgorithm(cityList,popSize,mutationrate,GenNum):\n",
    "    start = time.time()\n",
    "    pop = initialPopulation(cityList,popSize)\n",
    "    progress = []\n",
    "    bestroute= pop[rankRoutes(pop)[0][0]]\n",
    "    Finaldistance = 1/rankRoutes(pop)[0][1]\n",
    "    progress.append(1/rankRoutes(pop)[0][1])\n",
    "    print('First Distance :'+str(1/rankRoutes(pop)[0][1]))\n",
    "    for i in range(GenNum):\n",
    "        pop = nextGeneration(pop,mutationrate)\n",
    "        progress.append(1/rankRoutes(pop)[0][1])\n",
    "        if Finaldistance > 1/rankRoutes(pop)[0][1]:\n",
    "            bestroute = pop[rankRoutes(pop)[0][0]]\n",
    "            Finaldistance = 1/rankRoutes(pop)[0][1]\n",
    "        \n",
    "    print('Final Distance :'+str(Finaldistance))\n",
    "    finish = time.time()\n",
    "    print('Time :' +str(finish-start))\n",
    "    print(bestroute)\n",
    "    plt.plot(progress)\n",
    "    plt.xlabel('Generation')\n",
    "    plt.ylabel('Distance')\n",
    "    plt.show()\n",
    "    "
   ]
  },
  {
   "cell_type": "code",
   "execution_count": 63,
   "metadata": {},
   "outputs": [],
   "source": [
    "cityList = []\n",
    "for i in range(35):\n",
    "    cityList.append(City(random.randint(0,100),random.randint(0,100)))"
   ]
  },
  {
   "cell_type": "code",
   "execution_count": 64,
   "metadata": {},
   "outputs": [
    {
     "data": {
      "text/plain": [
       "[(73,75),\n",
       " (35,54),\n",
       " (73,26),\n",
       " (100,3),\n",
       " (12,21),\n",
       " (30,63),\n",
       " (69,69),\n",
       " (57,97),\n",
       " (9,0),\n",
       " (68,54),\n",
       " (14,31),\n",
       " (85,62),\n",
       " (4,29),\n",
       " (89,69),\n",
       " (83,65),\n",
       " (33,45),\n",
       " (6,84),\n",
       " (66,85),\n",
       " (15,97),\n",
       " (4,31),\n",
       " (77,79),\n",
       " (82,67),\n",
       " (4,0),\n",
       " (17,56),\n",
       " (39,73),\n",
       " (34,36),\n",
       " (19,46),\n",
       " (5,93),\n",
       " (71,54),\n",
       " (19,90),\n",
       " (92,24),\n",
       " (47,24),\n",
       " (99,38),\n",
       " (73,51),\n",
       " (90,39)]"
      ]
     },
     "execution_count": 64,
     "metadata": {},
     "output_type": "execute_result"
    }
   ],
   "source": [
    "cityList"
   ]
  },
  {
   "cell_type": "code",
   "execution_count": 66,
   "metadata": {},
   "outputs": [
    {
     "name": "stdout",
     "output_type": "stream",
     "text": [
      "First Distance :1594.474666918896\n",
      "Final Distance :918.0444611123837\n",
      "Time :123.65930938720703\n",
      "[(19,90), (15,97), (6,84), (33,45), (4,29), (12,21), (9,0), (4,0), (85,62), (73,51), (68,54), (82,67), (77,79), (66,85), (34,36), (14,31), (4,31), (47,24), (19,46), (39,73), (35,54), (30,63), (17,56), (69,69), (83,65), (71,54), (99,38), (90,39), (73,26), (100,3), (92,24), (89,69), (73,75), (57,97), (5,93)]\n"
     ]
    },
    {
     "data": {
      "image/png": "[encoded data removed]",
      "text/plain": [
       "<Figure size 432x288 with 1 Axes>"
      ]
     },
     "metadata": {
      "needs_background": "light"
     },
     "output_type": "display_data"
    }
   ],
   "source": [
    "GeneticAlgorithm(cityList,50,0.1,5000)"
   ]
  },
  {
   "cell_type": "code",
   "execution_count": null,
   "metadata": {},
   "outputs": [],
   "source": []
  }
 ],
 "metadata": {
  "kernelspec": {
   "display_name": "Python 3",
   "language": "python",
   "name": "python3"
  },
  "language_info": {
   "codemirror_mode": {
    "name": "ipython",
    "version": 3
   },
   "file_extension": ".py",
   "mimetype": "text/x-python",
   "name": "python",
   "nbconvert_exporter": "python",
   "pygments_lexer": "ipython3",
   "version": "3.7.3"
  }
 },
 "nbformat": 4,
 "nbformat_minor": 2
}
