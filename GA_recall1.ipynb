{
 "cells": [
  {
   "cell_type": "markdown",
   "metadata": {},
   "source": [
    "Genetic Algorithm 복습"
   ]
  },
  {
   "cell_type": "markdown",
   "metadata": {},
   "source": [
    "Reference :  https://towardsdatascience.com/evolution-of-a-salesman-a-complete-genetic-algorithm-tutorial-for-python-6fe5d2b3ca35\n"
   ]
  },
  {
   "cell_type": "code",
   "execution_count": 1,
   "metadata": {},
   "outputs": [],
   "source": [
    "import numpy as np, operator, random, pandas as pd, matplotlib.pyplot as plt"
   ]
  },
  {
   "cell_type": "markdown",
   "metadata": {},
   "source": [
    "1. Create population"
   ]
  },
  {
   "cell_type": "code",
   "execution_count": 2,
   "metadata": {},
   "outputs": [],
   "source": [
    "#create city class\n",
    "\n",
    "class City : \n",
    "    def __init__(self,x,y):\n",
    "        self.x = x\n",
    "        self.y = y\n",
    "        \n",
    "    def distance(self,city):\n",
    "        xDis = abs(self.x-city.x)\n",
    "        yDis = abs(self.y-city.y)\n",
    "        distance = np.sqrt(xDis**2+yDis**2)\n",
    "        return distance\n",
    "    \n",
    "    def __repr__(self):\n",
    "        return '('+str(self.x)+','+str(self.y)+')'"
   ]
  },
  {
   "cell_type": "code",
   "execution_count": 76,
   "metadata": {},
   "outputs": [],
   "source": [
    "#Fitness class\n",
    "class Fitness:\n",
    "    def __init__(self,route):\n",
    "        self.route = route\n",
    "        self.distance =0\n",
    "        self.fitness = 0.0\n",
    "#Fitness 객체 생성시 route가 입력가 input\n",
    "        \n",
    "    def routeDistance(self):\n",
    "        if self.distance ==0:\n",
    "            pathDistance =0\n",
    "            for i in range(0,len(self.route)):\n",
    "                fromCity = self.route[i]\n",
    "                toCity = None\n",
    "                if i+1 < len(self.route):\n",
    "                    toCity = self.route[i+1]\n",
    "                else:\n",
    "                    toCity = self.route[0]\n",
    "                pathDistance += fromCity.distance(toCity)\n",
    "            self.distance = pathDistance\n",
    "        return self.distance\n",
    "        #python range의 끝 수는 해당범위에 포함하지 않음을 유의\n",
    "    def routeFitness(self):\n",
    "        if self.fitness ==0:\n",
    "            self.fitness =1/float(self.routeDistance())\n",
    "        return self.fitness\n",
    "            \n",
    "#routeFitness는 Distance가 클수록 작아진다. 왜냐면 1 / 전체거리이므로"
   ]
  },
  {
   "cell_type": "code",
   "execution_count": 78,
   "metadata": {},
   "outputs": [],
   "source": [
    "\n",
    "def createRoute(cityList):\n",
    "    route = random.sample(cityList, len(cityList))\n",
    "    return route"
   ]
  },
  {
   "cell_type": "code",
   "execution_count": 5,
   "metadata": {},
   "outputs": [],
   "source": [
    "cityList = []\n",
    "for i in range(0,10):\n",
    "    cityList.append(City(int(random.random()*100),int(random.random()*100)))"
   ]
  },
  {
   "cell_type": "code",
   "execution_count": 6,
   "metadata": {},
   "outputs": [
    {
     "data": {
      "text/plain": [
       "[(18,65),\n",
       " (20,97),\n",
       " (93,77),\n",
       " (71,63),\n",
       " (22,16),\n",
       " (87,23),\n",
       " (50,5),\n",
       " (32,57),\n",
       " (85,79),\n",
       " (69,79)]"
      ]
     },
     "execution_count": 6,
     "metadata": {},
     "output_type": "execute_result"
    }
   ],
   "source": [
    "cityList"
   ]
  },
  {
   "cell_type": "code",
   "execution_count": 7,
   "metadata": {},
   "outputs": [
    {
     "data": {
      "text/plain": [
       "[(71,63),\n",
       " (22,16),\n",
       " (69,79),\n",
       " (20,97),\n",
       " (87,23),\n",
       " (85,79),\n",
       " (50,5),\n",
       " (93,77),\n",
       " (32,57),\n",
       " (18,65)]"
      ]
     },
     "execution_count": 7,
     "metadata": {},
     "output_type": "execute_result"
    }
   ],
   "source": [
    "createRoute(cityList)"
   ]
  },
  {
   "cell_type": "code",
   "execution_count": 90,
   "metadata": {},
   "outputs": [],
   "source": [
    "def initialPopulation(popSize,cityList):\n",
    "    population=[]\n",
    "    for i in range(0,popSize):\n",
    "        population.append(createRoute(cityList))\n",
    "    return population"
   ]
  },
  {
   "cell_type": "code",
   "execution_count": 9,
   "metadata": {},
   "outputs": [],
   "source": [
    "in_pop = initialpopulation(10,cityList)"
   ]
  },
  {
   "cell_type": "code",
   "execution_count": 10,
   "metadata": {},
   "outputs": [
    {
     "data": {
      "text/plain": [
       "[[(71,63),\n",
       "  (32,57),\n",
       "  (20,97),\n",
       "  (22,16),\n",
       "  (87,23),\n",
       "  (50,5),\n",
       "  (18,65),\n",
       "  (93,77),\n",
       "  (69,79),\n",
       "  (85,79)],\n",
       " [(87,23),\n",
       "  (69,79),\n",
       "  (93,77),\n",
       "  (50,5),\n",
       "  (32,57),\n",
       "  (18,65),\n",
       "  (20,97),\n",
       "  (85,79),\n",
       "  (71,63),\n",
       "  (22,16)],\n",
       " [(20,97),\n",
       "  (69,79),\n",
       "  (50,5),\n",
       "  (18,65),\n",
       "  (71,63),\n",
       "  (22,16),\n",
       "  (87,23),\n",
       "  (32,57),\n",
       "  (85,79),\n",
       "  (93,77)],\n",
       " [(20,97),\n",
       "  (85,79),\n",
       "  (69,79),\n",
       "  (18,65),\n",
       "  (93,77),\n",
       "  (32,57),\n",
       "  (71,63),\n",
       "  (50,5),\n",
       "  (22,16),\n",
       "  (87,23)],\n",
       " [(85,79),\n",
       "  (87,23),\n",
       "  (50,5),\n",
       "  (22,16),\n",
       "  (18,65),\n",
       "  (93,77),\n",
       "  (20,97),\n",
       "  (69,79),\n",
       "  (71,63),\n",
       "  (32,57)],\n",
       " [(20,97),\n",
       "  (50,5),\n",
       "  (93,77),\n",
       "  (69,79),\n",
       "  (87,23),\n",
       "  (18,65),\n",
       "  (85,79),\n",
       "  (71,63),\n",
       "  (22,16),\n",
       "  (32,57)],\n",
       " [(87,23),\n",
       "  (71,63),\n",
       "  (32,57),\n",
       "  (20,97),\n",
       "  (18,65),\n",
       "  (69,79),\n",
       "  (22,16),\n",
       "  (50,5),\n",
       "  (93,77),\n",
       "  (85,79)],\n",
       " [(32,57),\n",
       "  (18,65),\n",
       "  (85,79),\n",
       "  (22,16),\n",
       "  (87,23),\n",
       "  (69,79),\n",
       "  (93,77),\n",
       "  (71,63),\n",
       "  (20,97),\n",
       "  (50,5)],\n",
       " [(69,79),\n",
       "  (20,97),\n",
       "  (87,23),\n",
       "  (93,77),\n",
       "  (22,16),\n",
       "  (50,5),\n",
       "  (71,63),\n",
       "  (85,79),\n",
       "  (32,57),\n",
       "  (18,65)],\n",
       " [(71,63),\n",
       "  (20,97),\n",
       "  (22,16),\n",
       "  (85,79),\n",
       "  (50,5),\n",
       "  (87,23),\n",
       "  (69,79),\n",
       "  (32,57),\n",
       "  (93,77),\n",
       "  (18,65)]]"
      ]
     },
     "execution_count": 10,
     "metadata": {},
     "output_type": "execute_result"
    }
   ],
   "source": [
    "in_pop"
   ]
  },
  {
   "cell_type": "markdown",
   "metadata": {},
   "source": [
    "Determine Fitness."
   ]
  },
  {
   "cell_type": "raw",
   "metadata": {},
   "source": [
    "--> Fitness 이용해 rank 만들기"
   ]
  },
  {
   "cell_type": "code",
   "execution_count": 11,
   "metadata": {},
   "outputs": [],
   "source": [
    "def rankRoutes(population):\n",
    "    fitnessResults={}\n",
    "    for i in range(0,len(population)):\n",
    "        fitnessResults[i]=Fitness(population[i]).routeFitness()\n",
    "    return sorted(fitnessResults.items(),key=operator.itemgetter(1),reverse=True)\n",
    "## Fitness Class에서 Fitness호출, population에 for문돌려 Fitness 모두 구한 후\n",
    "##Fitness가 좋은것부터 내림차순으로 나열\n",
    "##index, fitness순의 dic 출력"
   ]
  },
  {
   "cell_type": "code",
   "execution_count": 12,
   "metadata": {},
   "outputs": [
    {
     "data": {
      "text/plain": [
       "[(6, 0.0021455596398589046),\n",
       " (0, 0.0021094194475158074),\n",
       " (1, 0.002032679214118588),\n",
       " (4, 0.002027403842615472),\n",
       " (8, 0.0018539519994446548),\n",
       " (7, 0.001782168945070024),\n",
       " (3, 0.0017454769361165189),\n",
       " (5, 0.0017068323384238657),\n",
       " (2, 0.001698098403688752),\n",
       " (9, 0.001539704783065554)]"
      ]
     },
     "execution_count": 12,
     "metadata": {},
     "output_type": "execute_result"
    }
   ],
   "source": [
    "rankRoutes(in_pop)"
   ]
  },
  {
   "cell_type": "raw",
   "metadata": {},
   "source": [
    "Select Mating pool\n",
    "--> elitism 이용.\n",
    "이게 뭐시냐?! : Best performing individuals from population will automaticall carry over to the next generation, ensuring that the most successful individuals persist.\n",
    "\n",
    "어떤 절차로 이뤄질것인가?\n",
    "1. rankRoutes의 결과 이용해서 selection 할것. --> roulette wheel이용해 weight 계산\n",
    "2. elitism --> elitesize만큼은 최고 rankRoutes 에서 가져올것"
   ]
  },
  {
   "cell_type": "code",
   "execution_count": 13,
   "metadata": {},
   "outputs": [],
   "source": [
    "##모듈화 이전, 테스트해보기\n",
    "selection_Results = []\n",
    "popranked = rankRoutes(in_pop)\n",
    "#이전에 만들어놓은 population rankRoutes 메소드로 랭크별 정렬.\n",
    "df = pd.DataFrame(np.array(popranked),columns=['Index','Fitness'])\n",
    "#rankRoutes로 나온 값 dataframe화"
   ]
  },
  {
   "cell_type": "code",
   "execution_count": 14,
   "metadata": {},
   "outputs": [
    {
     "data": {
      "text/html": [
       "<div>\n",
       "<style scoped>\n",
       "    .dataframe tbody tr th:only-of-type {\n",
       "        vertical-align: middle;\n",
       "    }\n",
       "\n",
       "    .dataframe tbody tr th {\n",
       "        vertical-align: top;\n",
       "    }\n",
       "\n",
       "    .dataframe thead th {\n",
       "        text-align: right;\n",
       "    }\n",
       "</style>\n",
       "<table border=\"1\" class=\"dataframe\">\n",
       "  <thead>\n",
       "    <tr style=\"text-align: right;\">\n",
       "      <th></th>\n",
       "      <th>Index</th>\n",
       "      <th>Fitness</th>\n",
       "    </tr>\n",
       "  </thead>\n",
       "  <tbody>\n",
       "    <tr>\n",
       "      <td>0</td>\n",
       "      <td>6.0</td>\n",
       "      <td>0.002146</td>\n",
       "    </tr>\n",
       "    <tr>\n",
       "      <td>1</td>\n",
       "      <td>0.0</td>\n",
       "      <td>0.002109</td>\n",
       "    </tr>\n",
       "    <tr>\n",
       "      <td>2</td>\n",
       "      <td>1.0</td>\n",
       "      <td>0.002033</td>\n",
       "    </tr>\n",
       "    <tr>\n",
       "      <td>3</td>\n",
       "      <td>4.0</td>\n",
       "      <td>0.002027</td>\n",
       "    </tr>\n",
       "    <tr>\n",
       "      <td>4</td>\n",
       "      <td>8.0</td>\n",
       "      <td>0.001854</td>\n",
       "    </tr>\n",
       "    <tr>\n",
       "      <td>5</td>\n",
       "      <td>7.0</td>\n",
       "      <td>0.001782</td>\n",
       "    </tr>\n",
       "    <tr>\n",
       "      <td>6</td>\n",
       "      <td>3.0</td>\n",
       "      <td>0.001745</td>\n",
       "    </tr>\n",
       "    <tr>\n",
       "      <td>7</td>\n",
       "      <td>5.0</td>\n",
       "      <td>0.001707</td>\n",
       "    </tr>\n",
       "    <tr>\n",
       "      <td>8</td>\n",
       "      <td>2.0</td>\n",
       "      <td>0.001698</td>\n",
       "    </tr>\n",
       "    <tr>\n",
       "      <td>9</td>\n",
       "      <td>9.0</td>\n",
       "      <td>0.001540</td>\n",
       "    </tr>\n",
       "  </tbody>\n",
       "</table>\n",
       "</div>"
      ],
      "text/plain": [
       "   Index   Fitness\n",
       "0    6.0  0.002146\n",
       "1    0.0  0.002109\n",
       "2    1.0  0.002033\n",
       "3    4.0  0.002027\n",
       "4    8.0  0.001854\n",
       "5    7.0  0.001782\n",
       "6    3.0  0.001745\n",
       "7    5.0  0.001707\n",
       "8    2.0  0.001698\n",
       "9    9.0  0.001540"
      ]
     },
     "execution_count": 14,
     "metadata": {},
     "output_type": "execute_result"
    }
   ],
   "source": [
    "df"
   ]
  },
  {
   "cell_type": "code",
   "execution_count": 15,
   "metadata": {},
   "outputs": [],
   "source": [
    "df['cum_sum']=df.Fitness.cumsum()\n",
    "#누적합 구하기"
   ]
  },
  {
   "cell_type": "code",
   "execution_count": 16,
   "metadata": {},
   "outputs": [
    {
     "data": {
      "text/html": [
       "<div>\n",
       "<style scoped>\n",
       "    .dataframe tbody tr th:only-of-type {\n",
       "        vertical-align: middle;\n",
       "    }\n",
       "\n",
       "    .dataframe tbody tr th {\n",
       "        vertical-align: top;\n",
       "    }\n",
       "\n",
       "    .dataframe thead th {\n",
       "        text-align: right;\n",
       "    }\n",
       "</style>\n",
       "<table border=\"1\" class=\"dataframe\">\n",
       "  <thead>\n",
       "    <tr style=\"text-align: right;\">\n",
       "      <th></th>\n",
       "      <th>Index</th>\n",
       "      <th>Fitness</th>\n",
       "      <th>cum_sum</th>\n",
       "    </tr>\n",
       "  </thead>\n",
       "  <tbody>\n",
       "    <tr>\n",
       "      <td>0</td>\n",
       "      <td>6.0</td>\n",
       "      <td>0.002146</td>\n",
       "      <td>0.002146</td>\n",
       "    </tr>\n",
       "    <tr>\n",
       "      <td>1</td>\n",
       "      <td>0.0</td>\n",
       "      <td>0.002109</td>\n",
       "      <td>0.004255</td>\n",
       "    </tr>\n",
       "    <tr>\n",
       "      <td>2</td>\n",
       "      <td>1.0</td>\n",
       "      <td>0.002033</td>\n",
       "      <td>0.006288</td>\n",
       "    </tr>\n",
       "    <tr>\n",
       "      <td>3</td>\n",
       "      <td>4.0</td>\n",
       "      <td>0.002027</td>\n",
       "      <td>0.008315</td>\n",
       "    </tr>\n",
       "    <tr>\n",
       "      <td>4</td>\n",
       "      <td>8.0</td>\n",
       "      <td>0.001854</td>\n",
       "      <td>0.010169</td>\n",
       "    </tr>\n",
       "    <tr>\n",
       "      <td>5</td>\n",
       "      <td>7.0</td>\n",
       "      <td>0.001782</td>\n",
       "      <td>0.011951</td>\n",
       "    </tr>\n",
       "    <tr>\n",
       "      <td>6</td>\n",
       "      <td>3.0</td>\n",
       "      <td>0.001745</td>\n",
       "      <td>0.013697</td>\n",
       "    </tr>\n",
       "    <tr>\n",
       "      <td>7</td>\n",
       "      <td>5.0</td>\n",
       "      <td>0.001707</td>\n",
       "      <td>0.015403</td>\n",
       "    </tr>\n",
       "    <tr>\n",
       "      <td>8</td>\n",
       "      <td>2.0</td>\n",
       "      <td>0.001698</td>\n",
       "      <td>0.017102</td>\n",
       "    </tr>\n",
       "    <tr>\n",
       "      <td>9</td>\n",
       "      <td>9.0</td>\n",
       "      <td>0.001540</td>\n",
       "      <td>0.018641</td>\n",
       "    </tr>\n",
       "  </tbody>\n",
       "</table>\n",
       "</div>"
      ],
      "text/plain": [
       "   Index   Fitness   cum_sum\n",
       "0    6.0  0.002146  0.002146\n",
       "1    0.0  0.002109  0.004255\n",
       "2    1.0  0.002033  0.006288\n",
       "3    4.0  0.002027  0.008315\n",
       "4    8.0  0.001854  0.010169\n",
       "5    7.0  0.001782  0.011951\n",
       "6    3.0  0.001745  0.013697\n",
       "7    5.0  0.001707  0.015403\n",
       "8    2.0  0.001698  0.017102\n",
       "9    9.0  0.001540  0.018641"
      ]
     },
     "execution_count": 16,
     "metadata": {},
     "output_type": "execute_result"
    }
   ],
   "source": [
    "df"
   ]
  },
  {
   "cell_type": "code",
   "execution_count": 17,
   "metadata": {},
   "outputs": [],
   "source": [
    "df['cum_perc'] = 100*df.cum_sum/df.Fitness.sum()\n",
    "#(누적합/전체합)*100 해서 누적 퍼센트화."
   ]
  },
  {
   "cell_type": "code",
   "execution_count": 18,
   "metadata": {},
   "outputs": [
    {
     "data": {
      "text/html": [
       "<div>\n",
       "<style scoped>\n",
       "    .dataframe tbody tr th:only-of-type {\n",
       "        vertical-align: middle;\n",
       "    }\n",
       "\n",
       "    .dataframe tbody tr th {\n",
       "        vertical-align: top;\n",
       "    }\n",
       "\n",
       "    .dataframe thead th {\n",
       "        text-align: right;\n",
       "    }\n",
       "</style>\n",
       "<table border=\"1\" class=\"dataframe\">\n",
       "  <thead>\n",
       "    <tr style=\"text-align: right;\">\n",
       "      <th></th>\n",
       "      <th>Index</th>\n",
       "      <th>Fitness</th>\n",
       "      <th>cum_sum</th>\n",
       "      <th>cum_perc</th>\n",
       "    </tr>\n",
       "  </thead>\n",
       "  <tbody>\n",
       "    <tr>\n",
       "      <td>0</td>\n",
       "      <td>6.0</td>\n",
       "      <td>0.002146</td>\n",
       "      <td>0.002146</td>\n",
       "      <td>11.509713</td>\n",
       "    </tr>\n",
       "    <tr>\n",
       "      <td>1</td>\n",
       "      <td>0.0</td>\n",
       "      <td>0.002109</td>\n",
       "      <td>0.004255</td>\n",
       "      <td>22.825555</td>\n",
       "    </tr>\n",
       "    <tr>\n",
       "      <td>2</td>\n",
       "      <td>1.0</td>\n",
       "      <td>0.002033</td>\n",
       "      <td>0.006288</td>\n",
       "      <td>33.729728</td>\n",
       "    </tr>\n",
       "    <tr>\n",
       "      <td>3</td>\n",
       "      <td>4.0</td>\n",
       "      <td>0.002027</td>\n",
       "      <td>0.008315</td>\n",
       "      <td>44.605602</td>\n",
       "    </tr>\n",
       "    <tr>\n",
       "      <td>4</td>\n",
       "      <td>8.0</td>\n",
       "      <td>0.001854</td>\n",
       "      <td>0.010169</td>\n",
       "      <td>54.551005</td>\n",
       "    </tr>\n",
       "    <tr>\n",
       "      <td>5</td>\n",
       "      <td>7.0</td>\n",
       "      <td>0.001782</td>\n",
       "      <td>0.011951</td>\n",
       "      <td>64.111333</td>\n",
       "    </tr>\n",
       "    <tr>\n",
       "      <td>6</td>\n",
       "      <td>3.0</td>\n",
       "      <td>0.001745</td>\n",
       "      <td>0.013697</td>\n",
       "      <td>73.474829</td>\n",
       "    </tr>\n",
       "    <tr>\n",
       "      <td>7</td>\n",
       "      <td>5.0</td>\n",
       "      <td>0.001707</td>\n",
       "      <td>0.015403</td>\n",
       "      <td>82.631018</td>\n",
       "    </tr>\n",
       "    <tr>\n",
       "      <td>8</td>\n",
       "      <td>2.0</td>\n",
       "      <td>0.001698</td>\n",
       "      <td>0.017102</td>\n",
       "      <td>91.740355</td>\n",
       "    </tr>\n",
       "    <tr>\n",
       "      <td>9</td>\n",
       "      <td>9.0</td>\n",
       "      <td>0.001540</td>\n",
       "      <td>0.018641</td>\n",
       "      <td>100.000000</td>\n",
       "    </tr>\n",
       "  </tbody>\n",
       "</table>\n",
       "</div>"
      ],
      "text/plain": [
       "   Index   Fitness   cum_sum    cum_perc\n",
       "0    6.0  0.002146  0.002146   11.509713\n",
       "1    0.0  0.002109  0.004255   22.825555\n",
       "2    1.0  0.002033  0.006288   33.729728\n",
       "3    4.0  0.002027  0.008315   44.605602\n",
       "4    8.0  0.001854  0.010169   54.551005\n",
       "5    7.0  0.001782  0.011951   64.111333\n",
       "6    3.0  0.001745  0.013697   73.474829\n",
       "7    5.0  0.001707  0.015403   82.631018\n",
       "8    2.0  0.001698  0.017102   91.740355\n",
       "9    9.0  0.001540  0.018641  100.000000"
      ]
     },
     "execution_count": 18,
     "metadata": {},
     "output_type": "execute_result"
    }
   ],
   "source": [
    "df"
   ]
  },
  {
   "cell_type": "code",
   "execution_count": 19,
   "metadata": {},
   "outputs": [],
   "source": [
    "for i in range(0,3):\n",
    "    selection_Results.append(popranked[i][0])\n",
    "##if elitesize= 3, 가장 Fitness가 좋은 3개의 route를 elite로 선정, index만 뽑아냄"
   ]
  },
  {
   "cell_type": "code",
   "execution_count": 20,
   "metadata": {},
   "outputs": [
    {
     "data": {
      "text/plain": [
       "[6, 0, 1]"
      ]
     },
     "execution_count": 20,
     "metadata": {},
     "output_type": "execute_result"
    }
   ],
   "source": [
    "selection_Results"
   ]
  },
  {
   "cell_type": "code",
   "execution_count": 21,
   "metadata": {},
   "outputs": [],
   "source": [
    "for i in range(0,len(popranked)-3):\n",
    "    pick = 100*random.random() #0과 100사이의 random number출력\n",
    "    for i in range(0,len(popranked)):\n",
    "        if pick<=df.iat[i,3]: #pick한 random number보다 누적percent보다 커지는순간에\n",
    "            selection_Results.append(popranked[i][0]) #그때의 index선택. ex) pick = 45 인경우 5번까지 돌아 4 즉 index 8 선택후 break.\n",
    "            break\n"
   ]
  },
  {
   "cell_type": "code",
   "execution_count": 22,
   "metadata": {},
   "outputs": [
    {
     "data": {
      "text/plain": [
       "[6, 0, 1, 0, 9, 8, 9, 7, 1, 4]"
      ]
     },
     "execution_count": 22,
     "metadata": {},
     "output_type": "execute_result"
    }
   ],
   "source": [
    "selection_Results"
   ]
  },
  {
   "cell_type": "code",
   "execution_count": 79,
   "metadata": {},
   "outputs": [],
   "source": [
    "##위의 모든 순서 한방에 처리하는 selection method 정의\n",
    "##1. 주어진 population을 rankRoutes로 rank화한것 = popRanked, elilism적용할 size = elitesize\n",
    "##2. elitesize만큼의 최적의 route 차례로 select, 나머지는 룰렛휠로 select(높은 fitness가 더 높은확률로 선택되도록)\n",
    "##3. 여기서는 index값만 출력한다는것 명심\n",
    "\n",
    "def selection(popRanked, eliteSize):\n",
    "    selectionResults = []\n",
    "    df = pd.DataFrame(np.array(popRanked), columns=[\"Index\",\"Fitness\"])\n",
    "    df['cum_sum'] = df.Fitness.cumsum()\n",
    "    df['cum_perc'] = 100*df.cum_sum/df.Fitness.sum()\n",
    "    \n",
    "    for i in range(0, eliteSize):\n",
    "        selectionResults.append(popRanked[i][0])\n",
    "    for i in range(0, len(popRanked) - eliteSize):\n",
    "        pick = 100*random.random()\n",
    "        for i in range(0, len(popRanked)):\n",
    "            if pick <= df.iat[i,3]:\n",
    "                selectionResults.append(popRanked[i][0])\n",
    "                break\n",
    "    return selectionResults"
   ]
  },
  {
   "cell_type": "code",
   "execution_count": 24,
   "metadata": {},
   "outputs": [
    {
     "data": {
      "text/plain": [
       "[6, 0, 1, 0, 6, 8, 5, 1, 3, 4]"
      ]
     },
     "execution_count": 24,
     "metadata": {},
     "output_type": "execute_result"
    }
   ],
   "source": [
    "selection(rankRoutes(in_pop),3)\n"
   ]
  },
  {
   "cell_type": "code",
   "execution_count": 25,
   "metadata": {},
   "outputs": [],
   "source": [
    "#위에서 구한 selectionResults를 이용해 mating pool 형성.\n",
    "#위에서 구한 index에 해당하는 route를 population에 그대로 다시 넣기\n",
    "matingpool=[]\n",
    "for i in range(0,len(selection_Results)):\n",
    "    index = selection_Results[i]\n",
    "    matingpool.append(in_pop[index])"
   ]
  },
  {
   "cell_type": "code",
   "execution_count": 26,
   "metadata": {},
   "outputs": [
    {
     "data": {
      "text/plain": [
       "[[(87,23),\n",
       "  (71,63),\n",
       "  (32,57),\n",
       "  (20,97),\n",
       "  (18,65),\n",
       "  (69,79),\n",
       "  (22,16),\n",
       "  (50,5),\n",
       "  (93,77),\n",
       "  (85,79)],\n",
       " [(71,63),\n",
       "  (32,57),\n",
       "  (20,97),\n",
       "  (22,16),\n",
       "  (87,23),\n",
       "  (50,5),\n",
       "  (18,65),\n",
       "  (93,77),\n",
       "  (69,79),\n",
       "  (85,79)],\n",
       " [(87,23),\n",
       "  (69,79),\n",
       "  (93,77),\n",
       "  (50,5),\n",
       "  (32,57),\n",
       "  (18,65),\n",
       "  (20,97),\n",
       "  (85,79),\n",
       "  (71,63),\n",
       "  (22,16)],\n",
       " [(71,63),\n",
       "  (32,57),\n",
       "  (20,97),\n",
       "  (22,16),\n",
       "  (87,23),\n",
       "  (50,5),\n",
       "  (18,65),\n",
       "  (93,77),\n",
       "  (69,79),\n",
       "  (85,79)],\n",
       " [(71,63),\n",
       "  (20,97),\n",
       "  (22,16),\n",
       "  (85,79),\n",
       "  (50,5),\n",
       "  (87,23),\n",
       "  (69,79),\n",
       "  (32,57),\n",
       "  (93,77),\n",
       "  (18,65)],\n",
       " [(69,79),\n",
       "  (20,97),\n",
       "  (87,23),\n",
       "  (93,77),\n",
       "  (22,16),\n",
       "  (50,5),\n",
       "  (71,63),\n",
       "  (85,79),\n",
       "  (32,57),\n",
       "  (18,65)],\n",
       " [(71,63),\n",
       "  (20,97),\n",
       "  (22,16),\n",
       "  (85,79),\n",
       "  (50,5),\n",
       "  (87,23),\n",
       "  (69,79),\n",
       "  (32,57),\n",
       "  (93,77),\n",
       "  (18,65)],\n",
       " [(32,57),\n",
       "  (18,65),\n",
       "  (85,79),\n",
       "  (22,16),\n",
       "  (87,23),\n",
       "  (69,79),\n",
       "  (93,77),\n",
       "  (71,63),\n",
       "  (20,97),\n",
       "  (50,5)],\n",
       " [(87,23),\n",
       "  (69,79),\n",
       "  (93,77),\n",
       "  (50,5),\n",
       "  (32,57),\n",
       "  (18,65),\n",
       "  (20,97),\n",
       "  (85,79),\n",
       "  (71,63),\n",
       "  (22,16)],\n",
       " [(85,79),\n",
       "  (87,23),\n",
       "  (50,5),\n",
       "  (22,16),\n",
       "  (18,65),\n",
       "  (93,77),\n",
       "  (20,97),\n",
       "  (69,79),\n",
       "  (71,63),\n",
       "  (32,57)]]"
      ]
     },
     "execution_count": 26,
     "metadata": {},
     "output_type": "execute_result"
    }
   ],
   "source": [
    "matingpool #8 4 7 4 1 4 1 2 6 7번 route로 구성된 new population 형성->mating을 위한 population임"
   ]
  },
  {
   "cell_type": "code",
   "execution_count": 27,
   "metadata": {},
   "outputs": [],
   "source": [
    "#모듈화\n",
    "def matingPool(population,selectionResults):\n",
    "    matingpool=[]\n",
    "    for i in range(0,len(selectionResults)):\n",
    "        index = selectionResults[i]\n",
    "        matingpool.append(population[index])\n",
    "    return matingpool"
   ]
  },
  {
   "cell_type": "code",
   "execution_count": 28,
   "metadata": {},
   "outputs": [
    {
     "data": {
      "text/plain": [
       "[[(87,23),\n",
       "  (71,63),\n",
       "  (32,57),\n",
       "  (20,97),\n",
       "  (18,65),\n",
       "  (69,79),\n",
       "  (22,16),\n",
       "  (50,5),\n",
       "  (93,77),\n",
       "  (85,79)],\n",
       " [(71,63),\n",
       "  (32,57),\n",
       "  (20,97),\n",
       "  (22,16),\n",
       "  (87,23),\n",
       "  (50,5),\n",
       "  (18,65),\n",
       "  (93,77),\n",
       "  (69,79),\n",
       "  (85,79)],\n",
       " [(87,23),\n",
       "  (69,79),\n",
       "  (93,77),\n",
       "  (50,5),\n",
       "  (32,57),\n",
       "  (18,65),\n",
       "  (20,97),\n",
       "  (85,79),\n",
       "  (71,63),\n",
       "  (22,16)],\n",
       " [(71,63),\n",
       "  (32,57),\n",
       "  (20,97),\n",
       "  (22,16),\n",
       "  (87,23),\n",
       "  (50,5),\n",
       "  (18,65),\n",
       "  (93,77),\n",
       "  (69,79),\n",
       "  (85,79)],\n",
       " [(71,63),\n",
       "  (20,97),\n",
       "  (22,16),\n",
       "  (85,79),\n",
       "  (50,5),\n",
       "  (87,23),\n",
       "  (69,79),\n",
       "  (32,57),\n",
       "  (93,77),\n",
       "  (18,65)],\n",
       " [(69,79),\n",
       "  (20,97),\n",
       "  (87,23),\n",
       "  (93,77),\n",
       "  (22,16),\n",
       "  (50,5),\n",
       "  (71,63),\n",
       "  (85,79),\n",
       "  (32,57),\n",
       "  (18,65)],\n",
       " [(71,63),\n",
       "  (20,97),\n",
       "  (22,16),\n",
       "  (85,79),\n",
       "  (50,5),\n",
       "  (87,23),\n",
       "  (69,79),\n",
       "  (32,57),\n",
       "  (93,77),\n",
       "  (18,65)],\n",
       " [(32,57),\n",
       "  (18,65),\n",
       "  (85,79),\n",
       "  (22,16),\n",
       "  (87,23),\n",
       "  (69,79),\n",
       "  (93,77),\n",
       "  (71,63),\n",
       "  (20,97),\n",
       "  (50,5)],\n",
       " [(87,23),\n",
       "  (69,79),\n",
       "  (93,77),\n",
       "  (50,5),\n",
       "  (32,57),\n",
       "  (18,65),\n",
       "  (20,97),\n",
       "  (85,79),\n",
       "  (71,63),\n",
       "  (22,16)],\n",
       " [(85,79),\n",
       "  (87,23),\n",
       "  (50,5),\n",
       "  (22,16),\n",
       "  (18,65),\n",
       "  (93,77),\n",
       "  (20,97),\n",
       "  (69,79),\n",
       "  (71,63),\n",
       "  (32,57)]]"
      ]
     },
     "execution_count": 28,
     "metadata": {},
     "output_type": "execute_result"
    }
   ],
   "source": [
    "#test 및출력\n",
    "matingPool(in_pop,selection_Results)"
   ]
  },
  {
   "cell_type": "raw",
   "metadata": {},
   "source": [
    "Breed\n",
    "crossover를 이용한 breeding. Crossover란 각각 parent의 subset조합해 새로운 offspring만들어 내는것.\n",
    "1. TSP문제는 모든 city를 한번씩 거쳐야 하는 route 생성해야하므로 ordered crossover 사용할것\n",
    "    - 한 parent에서 구한 subset에 해당되지 않는 나머지를 다른 부모의 subset으로 순서대로 가져오는것! 겹치지않게\n",
    "    ex) parent 1 : 1 2 3 4 5 6 7 8 9 (Subset으로 6 7 8 선택하면?)\n",
    "        patent 2 : 9 8 7 6 5 4 3 2 1 \n",
    "        결과 offspring : 9 5 4 3 2 6 7 8 1\n",
    "2. 어떤걸 subset 선택할지는 length만큼의 0,1 incoding으로 가능할듯 "
   ]
  },
  {
   "cell_type": "code",
   "execution_count": 29,
   "metadata": {},
   "outputs": [],
   "source": [
    "child = []\n",
    "childP1 = []\n",
    "childP2 = []\n",
    "parent1 = matingpool[2]\n",
    "parent2 = matingpool[4]\n",
    "geneA = int(random.random()*len(parent1))\n",
    "geneB = int(random.random()*len(parent2)) \n",
    "#route길이까지 정수 randomnumber 형성\n",
    "\n",
    "startGene = min(geneA,geneB)\n",
    "endGene = max(geneA,geneB)\n",
    "\n",
    "for i in range(startGene,endGene):\n",
    "    childP1.append(parent1[i])\n",
    "    \n",
    "childP2 = [item for item in parent2 if item not in childP1]\n",
    "\n",
    "#그중 min,max까지에 해당되는 city값들을 parent1에서 뽑아 child1로\n",
    "#route에서 포함되지 않은 나머지 city는 child2로. \n",
    "\n",
    "child = childP1 + childP2\n",
    "#두개 이어붙여서 새로운 route 형성(offspring)"
   ]
  },
  {
   "cell_type": "code",
   "execution_count": 30,
   "metadata": {},
   "outputs": [
    {
     "data": {
      "text/plain": [
       "(3, 4)"
      ]
     },
     "execution_count": 30,
     "metadata": {},
     "output_type": "execute_result"
    }
   ],
   "source": [
    "geneA, geneB #둘의 min부터 max까지"
   ]
  },
  {
   "cell_type": "code",
   "execution_count": 31,
   "metadata": {},
   "outputs": [
    {
     "data": {
      "text/plain": [
       "[(50,5)]"
      ]
     },
     "execution_count": 31,
     "metadata": {},
     "output_type": "execute_result"
    }
   ],
   "source": [
    "childP1"
   ]
  },
  {
   "cell_type": "code",
   "execution_count": 32,
   "metadata": {},
   "outputs": [
    {
     "data": {
      "text/plain": [
       "[(71,63),\n",
       " (20,97),\n",
       " (22,16),\n",
       " (85,79),\n",
       " (87,23),\n",
       " (69,79),\n",
       " (32,57),\n",
       " (93,77),\n",
       " (18,65)]"
      ]
     },
     "execution_count": 32,
     "metadata": {},
     "output_type": "execute_result"
    }
   ],
   "source": [
    "childP2"
   ]
  },
  {
   "cell_type": "code",
   "execution_count": 33,
   "metadata": {},
   "outputs": [
    {
     "data": {
      "text/plain": [
       "[(50,5),\n",
       " (71,63),\n",
       " (20,97),\n",
       " (22,16),\n",
       " (85,79),\n",
       " (87,23),\n",
       " (69,79),\n",
       " (32,57),\n",
       " (93,77),\n",
       " (18,65)]"
      ]
     },
     "execution_count": 33,
     "metadata": {},
     "output_type": "execute_result"
    }
   ],
   "source": [
    "child"
   ]
  },
  {
   "cell_type": "code",
   "execution_count": 34,
   "metadata": {},
   "outputs": [],
   "source": [
    "#모듈화 & test\n",
    "def breed(parent1,parent2):\n",
    "    child = []\n",
    "    childP1 = []\n",
    "    childP2 = []\n",
    "    geneA = int(random.random()*len(parent1))\n",
    "    geneB = int(random.random()*len(parent2)) \n",
    "    startGene = min(geneA,geneB)\n",
    "    endGene = max(geneA,geneB)\n",
    "    for i in range(startGene,endGene):\n",
    "        childP1.append(parent1[i])\n",
    "    childP2 = [item for item in parent2 if item not in childP1]\n",
    "    child = childP1 + childP2\n",
    "    return child\n"
   ]
  },
  {
   "cell_type": "code",
   "execution_count": 35,
   "metadata": {},
   "outputs": [
    {
     "data": {
      "text/plain": [
       "[(32,57),\n",
       " (18,65),\n",
       " (20,97),\n",
       " (85,79),\n",
       " (71,63),\n",
       " (22,16),\n",
       " (50,5),\n",
       " (87,23),\n",
       " (69,79),\n",
       " (93,77)]"
      ]
     },
     "execution_count": 35,
     "metadata": {},
     "output_type": "execute_result"
    }
   ],
   "source": [
    "breed(matingpool[2],matingpool[4])"
   ]
  },
  {
   "cell_type": "code",
   "execution_count": 36,
   "metadata": {},
   "outputs": [],
   "source": [
    "#elitesize 고려한 자손 population 형성\n",
    "#elitesize만큼의 elite route는 자손 population에 그대로 전달됨\n",
    "\n",
    "children = []\n",
    "length = len(matingpool) - 3 #elitesize = 3\n",
    "pool = random.sample(matingpool,len(matingpool)) \n",
    "#matingpool중에서 random sample형성 \n",
    "#why? - matingpool에서 random화된 sample을 출력, 두개씩 짝찌어서 breeding 할것..\n",
    "#결과적으로 random한 선택이 됨\n",
    "\n",
    "for i in range(0,3):\n",
    "    children.append(matingpool[i]) \n",
    "    #elite에 해당되는 route들은 그대로 children에게 전달한 child-pop 구성\n",
    "    \n",
    "for i in range(0,length):\n",
    "    child = breed(pool[i],pool[len(matingpool)-i-1])\n",
    "    children.append(child)\n",
    "    #random하게 두쌍씩 breeding해서 나머지 7개의 route 구성"
   ]
  },
  {
   "cell_type": "code",
   "execution_count": 37,
   "metadata": {},
   "outputs": [
    {
     "data": {
      "text/plain": [
       "[[(71,63),\n",
       "  (32,57),\n",
       "  (20,97),\n",
       "  (22,16),\n",
       "  (87,23),\n",
       "  (50,5),\n",
       "  (18,65),\n",
       "  (93,77),\n",
       "  (69,79),\n",
       "  (85,79)],\n",
       " [(87,23),\n",
       "  (71,63),\n",
       "  (32,57),\n",
       "  (20,97),\n",
       "  (18,65),\n",
       "  (69,79),\n",
       "  (22,16),\n",
       "  (50,5),\n",
       "  (93,77),\n",
       "  (85,79)],\n",
       " [(69,79),\n",
       "  (20,97),\n",
       "  (87,23),\n",
       "  (93,77),\n",
       "  (22,16),\n",
       "  (50,5),\n",
       "  (71,63),\n",
       "  (85,79),\n",
       "  (32,57),\n",
       "  (18,65)],\n",
       " [(32,57),\n",
       "  (18,65),\n",
       "  (85,79),\n",
       "  (22,16),\n",
       "  (87,23),\n",
       "  (69,79),\n",
       "  (93,77),\n",
       "  (71,63),\n",
       "  (20,97),\n",
       "  (50,5)],\n",
       " [(85,79),\n",
       "  (87,23),\n",
       "  (50,5),\n",
       "  (22,16),\n",
       "  (18,65),\n",
       "  (93,77),\n",
       "  (20,97),\n",
       "  (69,79),\n",
       "  (71,63),\n",
       "  (32,57)],\n",
       " [(71,63),\n",
       "  (20,97),\n",
       "  (22,16),\n",
       "  (85,79),\n",
       "  (50,5),\n",
       "  (87,23),\n",
       "  (69,79),\n",
       "  (32,57),\n",
       "  (93,77),\n",
       "  (18,65)],\n",
       " [(71,63),\n",
       "  (20,97),\n",
       "  (22,16),\n",
       "  (85,79),\n",
       "  (50,5),\n",
       "  (87,23),\n",
       "  (69,79),\n",
       "  (32,57),\n",
       "  (93,77),\n",
       "  (18,65)],\n",
       " [(87,23),\n",
       "  (69,79),\n",
       "  (93,77),\n",
       "  (50,5),\n",
       "  (32,57),\n",
       "  (18,65),\n",
       "  (20,97),\n",
       "  (85,79),\n",
       "  (71,63),\n",
       "  (22,16)],\n",
       " [(71,63),\n",
       "  (32,57),\n",
       "  (20,97),\n",
       "  (22,16),\n",
       "  (87,23),\n",
       "  (50,5),\n",
       "  (18,65),\n",
       "  (93,77),\n",
       "  (69,79),\n",
       "  (85,79)],\n",
       " [(87,23),\n",
       "  (69,79),\n",
       "  (93,77),\n",
       "  (50,5),\n",
       "  (32,57),\n",
       "  (18,65),\n",
       "  (20,97),\n",
       "  (85,79),\n",
       "  (71,63),\n",
       "  (22,16)]]"
      ]
     },
     "execution_count": 37,
     "metadata": {},
     "output_type": "execute_result"
    }
   ],
   "source": [
    "pool"
   ]
  },
  {
   "cell_type": "code",
   "execution_count": 38,
   "metadata": {},
   "outputs": [
    {
     "data": {
      "text/plain": [
       "[[(87,23),\n",
       "  (71,63),\n",
       "  (32,57),\n",
       "  (20,97),\n",
       "  (18,65),\n",
       "  (69,79),\n",
       "  (22,16),\n",
       "  (50,5),\n",
       "  (93,77),\n",
       "  (85,79)],\n",
       " [(71,63),\n",
       "  (32,57),\n",
       "  (20,97),\n",
       "  (22,16),\n",
       "  (87,23),\n",
       "  (50,5),\n",
       "  (18,65),\n",
       "  (93,77),\n",
       "  (69,79),\n",
       "  (85,79)],\n",
       " [(87,23),\n",
       "  (69,79),\n",
       "  (93,77),\n",
       "  (50,5),\n",
       "  (32,57),\n",
       "  (18,65),\n",
       "  (20,97),\n",
       "  (85,79),\n",
       "  (71,63),\n",
       "  (22,16)],\n",
       " [(87,23),\n",
       "  (50,5),\n",
       "  (18,65),\n",
       "  (93,77),\n",
       "  (69,79),\n",
       "  (32,57),\n",
       "  (20,97),\n",
       "  (85,79),\n",
       "  (71,63),\n",
       "  (22,16)],\n",
       " [(22,16),\n",
       "  (71,63),\n",
       "  (32,57),\n",
       "  (20,97),\n",
       "  (87,23),\n",
       "  (50,5),\n",
       "  (18,65),\n",
       "  (93,77),\n",
       "  (69,79),\n",
       "  (85,79)],\n",
       " [(93,77),\n",
       "  (22,16),\n",
       "  (50,5),\n",
       "  (71,63),\n",
       "  (85,79),\n",
       "  (32,57),\n",
       "  (87,23),\n",
       "  (69,79),\n",
       "  (18,65),\n",
       "  (20,97)],\n",
       " [(69,79),\n",
       "  (93,77),\n",
       "  (71,63),\n",
       "  (20,97),\n",
       "  (22,16),\n",
       "  (85,79),\n",
       "  (50,5),\n",
       "  (87,23),\n",
       "  (32,57),\n",
       "  (18,65)],\n",
       " [(87,23),\n",
       "  (71,63),\n",
       "  (20,97),\n",
       "  (22,16),\n",
       "  (85,79),\n",
       "  (50,5),\n",
       "  (69,79),\n",
       "  (32,57),\n",
       "  (93,77),\n",
       "  (18,65)],\n",
       " [(93,77),\n",
       "  (85,79),\n",
       "  (87,23),\n",
       "  (50,5),\n",
       "  (22,16),\n",
       "  (18,65),\n",
       "  (20,97),\n",
       "  (69,79),\n",
       "  (71,63),\n",
       "  (32,57)],\n",
       " [(87,23),\n",
       "  (69,79),\n",
       "  (32,57),\n",
       "  (18,65),\n",
       "  (85,79),\n",
       "  (22,16),\n",
       "  (93,77),\n",
       "  (71,63),\n",
       "  (20,97),\n",
       "  (50,5)]]"
      ]
     },
     "execution_count": 38,
     "metadata": {},
     "output_type": "execute_result"
    }
   ],
   "source": [
    "children \n",
    "#앞의 3개 route는 matingpool의 0 1 2(elite), 나머지는 matingpool에서 random하게 뽑힌 두개의 route(parents)의 자손 route"
   ]
  },
  {
   "cell_type": "code",
   "execution_count": 39,
   "metadata": {},
   "outputs": [],
   "source": [
    "#모듈화\n",
    "def breedPopulation(matingpool,eliteSize):\n",
    "    children = []\n",
    "    length = len(matingpool) - eliteSize\n",
    "    pool = random.sample(matingpool,len(matingpool))\n",
    "    for i in range(0,3):\n",
    "        children.append(matingpool[i]) \n",
    "    #elite에 해당되는 route들은 그대로 children에게 전달한 child-pop 구성\n",
    "    for i in range(0,length):\n",
    "        child = breed(pool[i],pool[len(matingpool)-i-1])\n",
    "        children.append(child)\n",
    "    return children\n",
    "    #random하게 두쌍씩 breeding해서 나머지의 route 구성"
   ]
  },
  {
   "cell_type": "code",
   "execution_count": 40,
   "metadata": {},
   "outputs": [
    {
     "data": {
      "text/plain": [
       "[[(87,23),\n",
       "  (71,63),\n",
       "  (32,57),\n",
       "  (20,97),\n",
       "  (18,65),\n",
       "  (69,79),\n",
       "  (22,16),\n",
       "  (50,5),\n",
       "  (93,77),\n",
       "  (85,79)],\n",
       " [(71,63),\n",
       "  (32,57),\n",
       "  (20,97),\n",
       "  (22,16),\n",
       "  (87,23),\n",
       "  (50,5),\n",
       "  (18,65),\n",
       "  (93,77),\n",
       "  (69,79),\n",
       "  (85,79)],\n",
       " [(87,23),\n",
       "  (69,79),\n",
       "  (93,77),\n",
       "  (50,5),\n",
       "  (32,57),\n",
       "  (18,65),\n",
       "  (20,97),\n",
       "  (85,79),\n",
       "  (71,63),\n",
       "  (22,16)],\n",
       " [(32,57),\n",
       "  (18,65),\n",
       "  (85,79),\n",
       "  (22,16),\n",
       "  (87,23),\n",
       "  (69,79),\n",
       "  (93,77),\n",
       "  (71,63),\n",
       "  (20,97),\n",
       "  (50,5)],\n",
       " [(22,16),\n",
       "  (87,23),\n",
       "  (50,5),\n",
       "  (71,63),\n",
       "  (20,97),\n",
       "  (85,79),\n",
       "  (69,79),\n",
       "  (32,57),\n",
       "  (93,77),\n",
       "  (18,65)],\n",
       " [(93,77),\n",
       "  (50,5),\n",
       "  (69,79),\n",
       "  (20,97),\n",
       "  (87,23),\n",
       "  (22,16),\n",
       "  (71,63),\n",
       "  (85,79),\n",
       "  (32,57),\n",
       "  (18,65)],\n",
       " [(85,79),\n",
       "  (50,5),\n",
       "  (87,23),\n",
       "  (69,79),\n",
       "  (32,57),\n",
       "  (22,16),\n",
       "  (18,65),\n",
       "  (93,77),\n",
       "  (20,97),\n",
       "  (71,63)],\n",
       " [(87,23),\n",
       "  (69,79),\n",
       "  (93,77),\n",
       "  (50,5),\n",
       "  (71,63),\n",
       "  (32,57),\n",
       "  (20,97),\n",
       "  (22,16),\n",
       "  (18,65),\n",
       "  (85,79)],\n",
       " [(20,97),\n",
       "  (22,16),\n",
       "  (87,23),\n",
       "  (50,5),\n",
       "  (18,65),\n",
       "  (69,79),\n",
       "  (93,77),\n",
       "  (32,57),\n",
       "  (85,79),\n",
       "  (71,63)],\n",
       " [(69,79),\n",
       "  (71,63),\n",
       "  (20,97),\n",
       "  (22,16),\n",
       "  (85,79),\n",
       "  (50,5),\n",
       "  (87,23),\n",
       "  (32,57),\n",
       "  (93,77),\n",
       "  (18,65)]]"
      ]
     },
     "execution_count": 40,
     "metadata": {},
     "output_type": "execute_result"
    }
   ],
   "source": [
    "breedPopulation(matingpool,3)"
   ]
  },
  {
   "cell_type": "raw",
   "metadata": {},
   "source": [
    "Mutate\n",
    "1. Mutate 성질을 적용해 local minimum의 접근을 막음\n",
    "2. TPS에서 city를 drop해버릴수는 없으므로 Swap mutation 적용 \n",
    "    (portfolio optimize에서는 stock을 drop하기도 한다함) \n",
    "    \n",
    "    Swap Mutation\n",
    "     - 작은 확률로 한 individual(route)에서 city의 순서 임의로 swap\n",
    "     #우리는 city list만들고 createRoute로 individual형성했었음"
   ]
  },
  {
   "cell_type": "code",
   "execution_count": 41,
   "metadata": {},
   "outputs": [
    {
     "data": {
      "text/plain": [
       "[(18,65),\n",
       " (20,97),\n",
       " (93,77),\n",
       " (71,63),\n",
       " (22,16),\n",
       " (87,23),\n",
       " (50,5),\n",
       " (32,57),\n",
       " (85,79),\n",
       " (69,79)]"
      ]
     },
     "execution_count": 41,
     "metadata": {},
     "output_type": "execute_result"
    }
   ],
   "source": [
    "cityList"
   ]
  },
  {
   "cell_type": "code",
   "execution_count": 42,
   "metadata": {},
   "outputs": [],
   "source": [
    "indiv = createRoute(cityList)"
   ]
  },
  {
   "cell_type": "code",
   "execution_count": 43,
   "metadata": {},
   "outputs": [
    {
     "data": {
      "text/plain": [
       "[(85,79),\n",
       " (50,5),\n",
       " (69,79),\n",
       " (18,65),\n",
       " (87,23),\n",
       " (20,97),\n",
       " (71,63),\n",
       " (93,77),\n",
       " (22,16),\n",
       " (32,57)]"
      ]
     },
     "execution_count": 43,
     "metadata": {},
     "output_type": "execute_result"
    }
   ],
   "source": [
    "indiv"
   ]
  },
  {
   "cell_type": "code",
   "execution_count": 44,
   "metadata": {},
   "outputs": [],
   "source": [
    "mutationrate = 0.1\n",
    "for swapped in range(len(indiv)):\n",
    "    if(random.random()<mutationrate): #mutation이 일어나는경우\n",
    "        swapWith = int(random.random()*len(indiv)) \n",
    "        #내부 임의의 한 city와 서로 순서 바꿈\n",
    "        city1 = indiv[swapped]\n",
    "        city2 = indiv[swapWith]\n",
    "        \n",
    "        indiv[swapped] = city2\n",
    "        indiv[swapWith] = city1\n",
    "        \n",
    "        "
   ]
  },
  {
   "cell_type": "code",
   "execution_count": 45,
   "metadata": {},
   "outputs": [
    {
     "data": {
      "text/plain": [
       "[(87,23),\n",
       " (50,5),\n",
       " (69,79),\n",
       " (18,65),\n",
       " (22,16),\n",
       " (20,97),\n",
       " (71,63),\n",
       " (93,77),\n",
       " (85,79),\n",
       " (32,57)]"
      ]
     },
     "execution_count": 45,
     "metadata": {},
     "output_type": "execute_result"
    }
   ],
   "source": [
    "indiv"
   ]
  },
  {
   "cell_type": "code",
   "execution_count": 46,
   "metadata": {},
   "outputs": [],
   "source": [
    "#모듈화\n",
    "def mutate(individual,mutationRate):\n",
    "    for swapped in range(len(individual)):\n",
    "        if(random.random()<mutationRate):\n",
    "            swapWith = int(random.random()*len(individual))\n",
    "            \n",
    "            city1 = individual[swapped]\n",
    "            city2 = individual[swapWith]\n",
    "            individual[swapped] = city2\n",
    "            individual[swapWith] = city1\n",
    "            \n",
    "    return individual"
   ]
  },
  {
   "cell_type": "code",
   "execution_count": 47,
   "metadata": {},
   "outputs": [
    {
     "data": {
      "text/plain": [
       "[(87,23),\n",
       " (50,5),\n",
       " (69,79),\n",
       " (18,65),\n",
       " (22,16),\n",
       " (20,97),\n",
       " (71,63),\n",
       " (93,77),\n",
       " (85,79),\n",
       " (32,57)]"
      ]
     },
     "execution_count": 47,
     "metadata": {},
     "output_type": "execute_result"
    }
   ],
   "source": [
    "mutate(indiv,0.01)"
   ]
  },
  {
   "cell_type": "code",
   "execution_count": 48,
   "metadata": {},
   "outputs": [],
   "source": [
    "#mutate된것들을 포함하는 population 형성할것\n",
    "mutatedpop = []\n",
    "\n",
    "for ind in range(0,10):\n",
    "    mutatedind = mutate(children[ind],mutationrate)\n",
    "    mutatedpop.append(mutatedind)\n",
    "    #breeding거쳐 나온 child의 population인 children에서 mutate까지 고려하여\n",
    "    #new population 구성\n",
    "    "
   ]
  },
  {
   "cell_type": "code",
   "execution_count": 49,
   "metadata": {},
   "outputs": [
    {
     "data": {
      "text/plain": [
       "[[(87,23),\n",
       "  (71,63),\n",
       "  (32,57),\n",
       "  (20,97),\n",
       "  (18,65),\n",
       "  (69,79),\n",
       "  (22,16),\n",
       "  (50,5),\n",
       "  (93,77),\n",
       "  (85,79)],\n",
       " [(71,63),\n",
       "  (32,57),\n",
       "  (20,97),\n",
       "  (22,16),\n",
       "  (87,23),\n",
       "  (50,5),\n",
       "  (18,65),\n",
       "  (93,77),\n",
       "  (69,79),\n",
       "  (85,79)],\n",
       " [(87,23),\n",
       "  (69,79),\n",
       "  (93,77),\n",
       "  (50,5),\n",
       "  (32,57),\n",
       "  (18,65),\n",
       "  (20,97),\n",
       "  (85,79),\n",
       "  (71,63),\n",
       "  (22,16)],\n",
       " [(87,23),\n",
       "  (50,5),\n",
       "  (18,65),\n",
       "  (93,77),\n",
       "  (20,97),\n",
       "  (32,57),\n",
       "  (69,79),\n",
       "  (85,79),\n",
       "  (71,63),\n",
       "  (22,16)],\n",
       " [(22,16),\n",
       "  (71,63),\n",
       "  (32,57),\n",
       "  (20,97),\n",
       "  (50,5),\n",
       "  (87,23),\n",
       "  (18,65),\n",
       "  (93,77),\n",
       "  (69,79),\n",
       "  (85,79)],\n",
       " [(93,77),\n",
       "  (18,65),\n",
       "  (71,63),\n",
       "  (50,5),\n",
       "  (85,79),\n",
       "  (32,57),\n",
       "  (87,23),\n",
       "  (69,79),\n",
       "  (22,16),\n",
       "  (20,97)],\n",
       " [(69,79),\n",
       "  (32,57),\n",
       "  (71,63),\n",
       "  (20,97),\n",
       "  (22,16),\n",
       "  (85,79),\n",
       "  (50,5),\n",
       "  (87,23),\n",
       "  (93,77),\n",
       "  (18,65)],\n",
       " [(87,23),\n",
       "  (71,63),\n",
       "  (20,97),\n",
       "  (22,16),\n",
       "  (85,79),\n",
       "  (50,5),\n",
       "  (69,79),\n",
       "  (32,57),\n",
       "  (93,77),\n",
       "  (18,65)],\n",
       " [(93,77),\n",
       "  (85,79),\n",
       "  (87,23),\n",
       "  (50,5),\n",
       "  (22,16),\n",
       "  (18,65),\n",
       "  (20,97),\n",
       "  (69,79),\n",
       "  (71,63),\n",
       "  (32,57)],\n",
       " [(18,65),\n",
       "  (69,79),\n",
       "  (32,57),\n",
       "  (87,23),\n",
       "  (85,79),\n",
       "  (22,16),\n",
       "  (93,77),\n",
       "  (71,63),\n",
       "  (20,97),\n",
       "  (50,5)]]"
      ]
     },
     "execution_count": 49,
     "metadata": {},
     "output_type": "execute_result"
    }
   ],
   "source": [
    "mutatedpop"
   ]
  },
  {
   "cell_type": "code",
   "execution_count": 50,
   "metadata": {},
   "outputs": [],
   "source": [
    "#모듈화\n",
    "def mutatePopulation(population,mutationRate):\n",
    "    mutatedPop = []\n",
    "    for ind in range(0,len(population)):\n",
    "        mutatedInd = mutate(population[ind],mutationRate)\n",
    "        mutatedPop.append(mutatedInd)\n",
    "    return mutatedPop"
   ]
  },
  {
   "cell_type": "code",
   "execution_count": 51,
   "metadata": {},
   "outputs": [
    {
     "data": {
      "text/plain": [
       "[[(87,23),\n",
       "  (71,63),\n",
       "  (32,57),\n",
       "  (20,97),\n",
       "  (18,65),\n",
       "  (69,79),\n",
       "  (50,5),\n",
       "  (22,16),\n",
       "  (93,77),\n",
       "  (85,79)],\n",
       " [(71,63),\n",
       "  (32,57),\n",
       "  (20,97),\n",
       "  (22,16),\n",
       "  (87,23),\n",
       "  (50,5),\n",
       "  (18,65),\n",
       "  (93,77),\n",
       "  (69,79),\n",
       "  (85,79)],\n",
       " [(87,23),\n",
       "  (69,79),\n",
       "  (93,77),\n",
       "  (50,5),\n",
       "  (32,57),\n",
       "  (18,65),\n",
       "  (20,97),\n",
       "  (85,79),\n",
       "  (71,63),\n",
       "  (22,16)],\n",
       " [(87,23),\n",
       "  (18,65),\n",
       "  (50,5),\n",
       "  (93,77),\n",
       "  (20,97),\n",
       "  (32,57),\n",
       "  (69,79),\n",
       "  (85,79),\n",
       "  (71,63),\n",
       "  (22,16)],\n",
       " [(22,16),\n",
       "  (32,57),\n",
       "  (71,63),\n",
       "  (20,97),\n",
       "  (50,5),\n",
       "  (87,23),\n",
       "  (18,65),\n",
       "  (93,77),\n",
       "  (69,79),\n",
       "  (85,79)],\n",
       " [(93,77),\n",
       "  (18,65),\n",
       "  (71,63),\n",
       "  (50,5),\n",
       "  (85,79),\n",
       "  (32,57),\n",
       "  (87,23),\n",
       "  (69,79),\n",
       "  (22,16),\n",
       "  (20,97)],\n",
       " [(69,79),\n",
       "  (32,57),\n",
       "  (71,63),\n",
       "  (20,97),\n",
       "  (22,16),\n",
       "  (85,79),\n",
       "  (50,5),\n",
       "  (87,23),\n",
       "  (93,77),\n",
       "  (18,65)],\n",
       " [(87,23),\n",
       "  (71,63),\n",
       "  (20,97),\n",
       "  (22,16),\n",
       "  (85,79),\n",
       "  (50,5),\n",
       "  (69,79),\n",
       "  (32,57),\n",
       "  (93,77),\n",
       "  (18,65)],\n",
       " [(93,77),\n",
       "  (85,79),\n",
       "  (87,23),\n",
       "  (50,5),\n",
       "  (22,16),\n",
       "  (18,65),\n",
       "  (20,97),\n",
       "  (69,79),\n",
       "  (71,63),\n",
       "  (32,57)],\n",
       " [(18,65),\n",
       "  (69,79),\n",
       "  (32,57),\n",
       "  (87,23),\n",
       "  (85,79),\n",
       "  (22,16),\n",
       "  (93,77),\n",
       "  (71,63),\n",
       "  (20,97),\n",
       "  (50,5)]]"
      ]
     },
     "execution_count": 51,
     "metadata": {},
     "output_type": "execute_result"
    }
   ],
   "source": [
    "mutatePopulation(children,0.01)"
   ]
  },
  {
   "cell_type": "raw",
   "metadata": {},
   "source": [
    "Repeat\n",
    "다음 generation으로 넘어가기 위해 위의 과정 한번에 통합시키기\n",
    "재귀호출 이용"
   ]
  },
  {
   "cell_type": "code",
   "execution_count": 81,
   "metadata": {},
   "outputs": [],
   "source": [
    "def nextGeneration(currentGen, eliteSize, mutationRate):\n",
    "    popRanked = rankRoutes(currentGen)\n",
    "    selectionResults = selection(popRanked, eliteSize)\n",
    "    matingpool = matingPool(currentGen, selectionResults)\n",
    "    children = breedPopulation(matingpool, eliteSize)\n",
    "    nextGeneration = mutatePopulation(children, mutationRate)\n",
    "    return nextGeneration"
   ]
  },
  {
   "cell_type": "code",
   "execution_count": 53,
   "metadata": {},
   "outputs": [
    {
     "data": {
      "text/plain": [
       "[[(87,23),\n",
       "  (71,63),\n",
       "  (32,57),\n",
       "  (20,97),\n",
       "  (18,65),\n",
       "  (69,79),\n",
       "  (50,5),\n",
       "  (22,16),\n",
       "  (93,77),\n",
       "  (85,79)],\n",
       " [(71,63),\n",
       "  (32,57),\n",
       "  (20,97),\n",
       "  (22,16),\n",
       "  (87,23),\n",
       "  (50,5),\n",
       "  (18,65),\n",
       "  (93,77),\n",
       "  (69,79),\n",
       "  (85,79)],\n",
       " [(87,23),\n",
       "  (69,79),\n",
       "  (93,77),\n",
       "  (50,5),\n",
       "  (32,57),\n",
       "  (18,65),\n",
       "  (20,97),\n",
       "  (85,79),\n",
       "  (71,63),\n",
       "  (22,16)],\n",
       " [(71,63),\n",
       "  (32,57),\n",
       "  (20,97),\n",
       "  (22,16),\n",
       "  (87,23),\n",
       "  (50,5),\n",
       "  (18,65),\n",
       "  (69,79),\n",
       "  (93,77),\n",
       "  (85,79)],\n",
       " [(69,79),\n",
       "  (20,97),\n",
       "  (85,79),\n",
       "  (18,65),\n",
       "  (93,77),\n",
       "  (32,57),\n",
       "  (71,63),\n",
       "  (50,5),\n",
       "  (22,16),\n",
       "  (87,23)],\n",
       " [(69,79),\n",
       "  (20,97),\n",
       "  (87,23),\n",
       "  (93,77),\n",
       "  (22,16),\n",
       "  (50,5),\n",
       "  (71,63),\n",
       "  (85,79),\n",
       "  (32,57),\n",
       "  (18,65)],\n",
       " [(50,5),\n",
       "  (87,23),\n",
       "  (69,79),\n",
       "  (32,57),\n",
       "  (18,65),\n",
       "  (85,79),\n",
       "  (22,16),\n",
       "  (93,77),\n",
       "  (71,63),\n",
       "  (20,97)],\n",
       " [(87,23),\n",
       "  (71,63),\n",
       "  (32,57),\n",
       "  (20,97),\n",
       "  (18,65),\n",
       "  (69,79),\n",
       "  (93,77),\n",
       "  (22,16),\n",
       "  (50,5),\n",
       "  (85,79)],\n",
       " [(18,65),\n",
       "  (69,79),\n",
       "  (50,5),\n",
       "  (22,16),\n",
       "  (93,77),\n",
       "  (87,23),\n",
       "  (32,57),\n",
       "  (20,97),\n",
       "  (85,79),\n",
       "  (71,63)],\n",
       " [(87,23),\n",
       "  (69,79),\n",
       "  (93,77),\n",
       "  (71,63),\n",
       "  (20,97),\n",
       "  (22,16),\n",
       "  (85,79),\n",
       "  (50,5),\n",
       "  (32,57),\n",
       "  (18,65)]]"
      ]
     },
     "execution_count": 53,
     "metadata": {},
     "output_type": "execute_result"
    }
   ],
   "source": [
    "nextGeneration(in_pop,3,0.01)"
   ]
  },
  {
   "cell_type": "raw",
   "metadata": {},
   "source": [
    "Evolution in motion\n",
    "대통합해 처음 설정부터 쭉 한번에 돌리는 알고리즘 실행"
   ]
  },
  {
   "cell_type": "code",
   "execution_count": 87,
   "metadata": {},
   "outputs": [],
   "source": [
    "def geneticAlgorithm(population,popSize,eliteSize,mutationRate,generations):\n",
    "    pop = initialPopulation(popSize,population)\n",
    "    print(\"Initial distance: \" + str(1/rankRoutes(pop)[0][1]))\n",
    "    #처음에 rankRoutes구한 fitness를 1/distance로 정의했었음!\n",
    "    #initial population중 최적값 출력\n",
    "    for i in range(0,generations):\n",
    "        pop = nextGeneration(pop,eliteSize,mutationRate)\n",
    "        \n",
    "    print('Final distance: '+str(1/rankRoutes(pop)[0][1]))\n",
    "    bestRouteIndex = rankRoutes(pop)[0][0]\n",
    "    bestRoute = pop[bestRouteIndex]\n",
    "    return bestRoute\n"
   ]
  },
  {
   "cell_type": "code",
   "execution_count": 91,
   "metadata": {},
   "outputs": [
    {
     "name": "stdout",
     "output_type": "stream",
     "text": [
      "Initial distance: 2255.175675172927\n"
     ]
    },
    {
     "ename": "IndexError",
     "evalue": "list index out of range",
     "output_type": "error",
     "traceback": [
      "\u001b[1;31m---------------------------------------------------------------------------\u001b[0m",
      "\u001b[1;31mIndexError\u001b[0m                                Traceback (most recent call last)",
      "\u001b[1;32m<ipython-input-91-de86a0fa9da4>\u001b[0m in \u001b[0;36m<module>\u001b[1;34m\u001b[0m\n\u001b[1;32m----> 1\u001b[1;33m \u001b[0mgeneticAlgorithm\u001b[0m\u001b[1;33m(\u001b[0m\u001b[0mpopulation\u001b[0m\u001b[1;33m=\u001b[0m\u001b[0mcityList\u001b[0m\u001b[1;33m,\u001b[0m \u001b[0mpopSize\u001b[0m\u001b[1;33m=\u001b[0m\u001b[1;36m100\u001b[0m\u001b[1;33m,\u001b[0m \u001b[0meliteSize\u001b[0m\u001b[1;33m=\u001b[0m\u001b[1;36m20\u001b[0m\u001b[1;33m,\u001b[0m \u001b[0mmutationRate\u001b[0m\u001b[1;33m=\u001b[0m\u001b[1;36m0.01\u001b[0m\u001b[1;33m,\u001b[0m \u001b[0mgenerations\u001b[0m\u001b[1;33m=\u001b[0m\u001b[1;36m500\u001b[0m\u001b[1;33m)\u001b[0m\u001b[1;33m\u001b[0m\u001b[1;33m\u001b[0m\u001b[0m\n\u001b[0m",
      "\u001b[1;32m<ipython-input-87-54f98076f70c>\u001b[0m in \u001b[0;36mgeneticAlgorithm\u001b[1;34m(population, popSize, eliteSize, mutationRate, generations)\u001b[0m\n\u001b[0;32m      5\u001b[0m     \u001b[1;31m#initial population중 최적값 출력\u001b[0m\u001b[1;33m\u001b[0m\u001b[1;33m\u001b[0m\u001b[1;33m\u001b[0m\u001b[0m\n\u001b[0;32m      6\u001b[0m     \u001b[1;32mfor\u001b[0m \u001b[0mi\u001b[0m \u001b[1;32min\u001b[0m \u001b[0mrange\u001b[0m\u001b[1;33m(\u001b[0m\u001b[1;36m0\u001b[0m\u001b[1;33m,\u001b[0m\u001b[0mgenerations\u001b[0m\u001b[1;33m)\u001b[0m\u001b[1;33m:\u001b[0m\u001b[1;33m\u001b[0m\u001b[1;33m\u001b[0m\u001b[0m\n\u001b[1;32m----> 7\u001b[1;33m         \u001b[0mpop\u001b[0m \u001b[1;33m=\u001b[0m \u001b[0mnextGeneration\u001b[0m\u001b[1;33m(\u001b[0m\u001b[0mpop\u001b[0m\u001b[1;33m,\u001b[0m\u001b[0meliteSize\u001b[0m\u001b[1;33m,\u001b[0m\u001b[0mmutationRate\u001b[0m\u001b[1;33m)\u001b[0m\u001b[1;33m\u001b[0m\u001b[1;33m\u001b[0m\u001b[0m\n\u001b[0m\u001b[0;32m      8\u001b[0m \u001b[1;33m\u001b[0m\u001b[0m\n\u001b[0;32m      9\u001b[0m     \u001b[0mprint\u001b[0m\u001b[1;33m(\u001b[0m\u001b[1;34m'Final distance: '\u001b[0m\u001b[1;33m+\u001b[0m\u001b[0mstr\u001b[0m\u001b[1;33m(\u001b[0m\u001b[1;36m1\u001b[0m\u001b[1;33m/\u001b[0m\u001b[0mrankRoutes\u001b[0m\u001b[1;33m(\u001b[0m\u001b[0mpop\u001b[0m\u001b[1;33m)\u001b[0m\u001b[1;33m[\u001b[0m\u001b[1;36m0\u001b[0m\u001b[1;33m]\u001b[0m\u001b[1;33m[\u001b[0m\u001b[1;36m1\u001b[0m\u001b[1;33m]\u001b[0m\u001b[1;33m)\u001b[0m\u001b[1;33m)\u001b[0m\u001b[1;33m\u001b[0m\u001b[1;33m\u001b[0m\u001b[0m\n",
      "\u001b[1;32m<ipython-input-81-3664d27a38a8>\u001b[0m in \u001b[0;36mnextGeneration\u001b[1;34m(currentGen, eliteSize, mutationRate)\u001b[0m\n\u001b[0;32m      1\u001b[0m \u001b[1;32mdef\u001b[0m \u001b[0mnextGeneration\u001b[0m\u001b[1;33m(\u001b[0m\u001b[0mcurrentGen\u001b[0m\u001b[1;33m,\u001b[0m \u001b[0meliteSize\u001b[0m\u001b[1;33m,\u001b[0m \u001b[0mmutationRate\u001b[0m\u001b[1;33m)\u001b[0m\u001b[1;33m:\u001b[0m\u001b[1;33m\u001b[0m\u001b[1;33m\u001b[0m\u001b[0m\n\u001b[0;32m      2\u001b[0m     \u001b[0mpopRanked\u001b[0m \u001b[1;33m=\u001b[0m \u001b[0mrankRoutes\u001b[0m\u001b[1;33m(\u001b[0m\u001b[0mcurrentGen\u001b[0m\u001b[1;33m)\u001b[0m\u001b[1;33m\u001b[0m\u001b[1;33m\u001b[0m\u001b[0m\n\u001b[1;32m----> 3\u001b[1;33m     \u001b[0mselectionResults\u001b[0m \u001b[1;33m=\u001b[0m \u001b[0mselection\u001b[0m\u001b[1;33m(\u001b[0m\u001b[0mpopRanked\u001b[0m\u001b[1;33m,\u001b[0m \u001b[0meliteSize\u001b[0m\u001b[1;33m)\u001b[0m\u001b[1;33m\u001b[0m\u001b[1;33m\u001b[0m\u001b[0m\n\u001b[0m\u001b[0;32m      4\u001b[0m     \u001b[0mmatingpool\u001b[0m \u001b[1;33m=\u001b[0m \u001b[0mmatingPool\u001b[0m\u001b[1;33m(\u001b[0m\u001b[0mcurrentGen\u001b[0m\u001b[1;33m,\u001b[0m \u001b[0mselectionResults\u001b[0m\u001b[1;33m)\u001b[0m\u001b[1;33m\u001b[0m\u001b[1;33m\u001b[0m\u001b[0m\n\u001b[0;32m      5\u001b[0m     \u001b[0mchildren\u001b[0m \u001b[1;33m=\u001b[0m \u001b[0mbreedPopulation\u001b[0m\u001b[1;33m(\u001b[0m\u001b[0mmatingpool\u001b[0m\u001b[1;33m,\u001b[0m \u001b[0meliteSize\u001b[0m\u001b[1;33m)\u001b[0m\u001b[1;33m\u001b[0m\u001b[1;33m\u001b[0m\u001b[0m\n",
      "\u001b[1;32m<ipython-input-79-2e84129f6fa8>\u001b[0m in \u001b[0;36mselection\u001b[1;34m(popRanked, eliteSize)\u001b[0m\n\u001b[0;32m     11\u001b[0m \u001b[1;33m\u001b[0m\u001b[0m\n\u001b[0;32m     12\u001b[0m     \u001b[1;32mfor\u001b[0m \u001b[0mi\u001b[0m \u001b[1;32min\u001b[0m \u001b[0mrange\u001b[0m\u001b[1;33m(\u001b[0m\u001b[1;36m0\u001b[0m\u001b[1;33m,\u001b[0m \u001b[0meliteSize\u001b[0m\u001b[1;33m)\u001b[0m\u001b[1;33m:\u001b[0m\u001b[1;33m\u001b[0m\u001b[1;33m\u001b[0m\u001b[0m\n\u001b[1;32m---> 13\u001b[1;33m         \u001b[0mselectionResults\u001b[0m\u001b[1;33m.\u001b[0m\u001b[0mappend\u001b[0m\u001b[1;33m(\u001b[0m\u001b[0mpopRanked\u001b[0m\u001b[1;33m[\u001b[0m\u001b[0mi\u001b[0m\u001b[1;33m]\u001b[0m\u001b[1;33m[\u001b[0m\u001b[1;36m0\u001b[0m\u001b[1;33m]\u001b[0m\u001b[1;33m)\u001b[0m\u001b[1;33m\u001b[0m\u001b[1;33m\u001b[0m\u001b[0m\n\u001b[0m\u001b[0;32m     14\u001b[0m     \u001b[1;32mfor\u001b[0m \u001b[0mi\u001b[0m \u001b[1;32min\u001b[0m \u001b[0mrange\u001b[0m\u001b[1;33m(\u001b[0m\u001b[1;36m0\u001b[0m\u001b[1;33m,\u001b[0m \u001b[0mlen\u001b[0m\u001b[1;33m(\u001b[0m\u001b[0mpopRanked\u001b[0m\u001b[1;33m)\u001b[0m \u001b[1;33m-\u001b[0m \u001b[0meliteSize\u001b[0m\u001b[1;33m)\u001b[0m\u001b[1;33m:\u001b[0m\u001b[1;33m\u001b[0m\u001b[1;33m\u001b[0m\u001b[0m\n\u001b[0;32m     15\u001b[0m         \u001b[0mpick\u001b[0m \u001b[1;33m=\u001b[0m \u001b[1;36m100\u001b[0m\u001b[1;33m*\u001b[0m\u001b[0mrandom\u001b[0m\u001b[1;33m.\u001b[0m\u001b[0mrandom\u001b[0m\u001b[1;33m(\u001b[0m\u001b[1;33m)\u001b[0m\u001b[1;33m\u001b[0m\u001b[1;33m\u001b[0m\u001b[0m\n",
      "\u001b[1;31mIndexError\u001b[0m: list index out of range"
     ]
    }
   ],
   "source": [
    "geneticAlgorithm(population=cityList, popSize=100, eliteSize=20, mutationRate=0.01, generations=500)"
   ]
  },
  {
   "cell_type": "code",
   "execution_count": 92,
   "metadata": {},
   "outputs": [],
   "source": [
    "city2 = []\n",
    "for i in range(0,25):\n",
    "    city2.append(City(int(random.random()*200),int(random.random()*200)))"
   ]
  },
  {
   "cell_type": "code",
   "execution_count": 93,
   "metadata": {},
   "outputs": [
    {
     "name": "stdout",
     "output_type": "stream",
     "text": [
      "Initial distance: 1962.759839797126\n",
      "Final distance: 1010.1641073731093\n"
     ]
    },
    {
     "data": {
      "text/plain": [
       "[(39,55),\n",
       " (88,45),\n",
       " (116,60),\n",
       " (128,1),\n",
       " (118,19),\n",
       " (164,8),\n",
       " (178,16),\n",
       " (198,61),\n",
       " (144,146),\n",
       " (90,94),\n",
       " (87,65),\n",
       " (83,67),\n",
       " (62,62),\n",
       " (5,112),\n",
       " (1,109),\n",
       " (15,92),\n",
       " (94,157),\n",
       " (56,173),\n",
       " (54,188),\n",
       " (24,197),\n",
       " (16,177),\n",
       " (7,187),\n",
       " (59,150),\n",
       " (57,85),\n",
       " (47,49)]"
      ]
     },
     "execution_count": 93,
     "metadata": {},
     "output_type": "execute_result"
    }
   ],
   "source": [
    "geneticAlgorithm(city2,60,3,0.01,200)"
   ]
  },
  {
   "cell_type": "raw",
   "metadata": {},
   "source": [
    "Improvement plotting\n"
   ]
  },
  {
   "cell_type": "code",
   "execution_count": 94,
   "metadata": {},
   "outputs": [],
   "source": [
    "def geneticAlgorithmPlot(population,popSize,eliteSize,mutationRate,generations):\n",
    "    pop = initialPopulation(popSize,population)\n",
    "    progress = []\n",
    "    progress.append(1/rankRoutes(pop)[0][1])\n",
    "    for i in range(0,generations):\n",
    "        pop = nextGeneration(pop,eliteSize,mutationRate)\n",
    "        progress.append(1/rankRoutes(pop)[0][1])\n",
    "    plt.plot(progress)\n",
    "    plt.xlabel('Generation')\n",
    "    plt.ylabel('distance')\n",
    "    plt.show()\n"
   ]
  },
  {
   "cell_type": "code",
   "execution_count": 96,
   "metadata": {},
   "outputs": [
    {
     "name": "stdout",
     "output_type": "stream",
     "text": [
      "Initial distance: 2249.0615133635347\n"
     ]
    },
    {
     "ename": "IndexError",
     "evalue": "list index out of range",
     "output_type": "error",
     "traceback": [
      "\u001b[1;31m---------------------------------------------------------------------------\u001b[0m",
      "\u001b[1;31mIndexError\u001b[0m                                Traceback (most recent call last)",
      "\u001b[1;32m<ipython-input-96-f81aab8f0e33>\u001b[0m in \u001b[0;36m<module>\u001b[1;34m\u001b[0m\n\u001b[1;32m----> 1\u001b[1;33m \u001b[0mgeneticAlgorithm\u001b[0m\u001b[1;33m(\u001b[0m\u001b[0mcityList\u001b[0m\u001b[1;33m,\u001b[0m\u001b[1;36m100\u001b[0m\u001b[1;33m,\u001b[0m\u001b[1;36m20\u001b[0m\u001b[1;33m,\u001b[0m\u001b[1;36m0.01\u001b[0m\u001b[1;33m,\u001b[0m\u001b[1;36m500\u001b[0m\u001b[1;33m)\u001b[0m\u001b[1;33m\u001b[0m\u001b[1;33m\u001b[0m\u001b[0m\n\u001b[0m",
      "\u001b[1;32m<ipython-input-87-54f98076f70c>\u001b[0m in \u001b[0;36mgeneticAlgorithm\u001b[1;34m(population, popSize, eliteSize, mutationRate, generations)\u001b[0m\n\u001b[0;32m      5\u001b[0m     \u001b[1;31m#initial population중 최적값 출력\u001b[0m\u001b[1;33m\u001b[0m\u001b[1;33m\u001b[0m\u001b[1;33m\u001b[0m\u001b[0m\n\u001b[0;32m      6\u001b[0m     \u001b[1;32mfor\u001b[0m \u001b[0mi\u001b[0m \u001b[1;32min\u001b[0m \u001b[0mrange\u001b[0m\u001b[1;33m(\u001b[0m\u001b[1;36m0\u001b[0m\u001b[1;33m,\u001b[0m\u001b[0mgenerations\u001b[0m\u001b[1;33m)\u001b[0m\u001b[1;33m:\u001b[0m\u001b[1;33m\u001b[0m\u001b[1;33m\u001b[0m\u001b[0m\n\u001b[1;32m----> 7\u001b[1;33m         \u001b[0mpop\u001b[0m \u001b[1;33m=\u001b[0m \u001b[0mnextGeneration\u001b[0m\u001b[1;33m(\u001b[0m\u001b[0mpop\u001b[0m\u001b[1;33m,\u001b[0m\u001b[0meliteSize\u001b[0m\u001b[1;33m,\u001b[0m\u001b[0mmutationRate\u001b[0m\u001b[1;33m)\u001b[0m\u001b[1;33m\u001b[0m\u001b[1;33m\u001b[0m\u001b[0m\n\u001b[0m\u001b[0;32m      8\u001b[0m \u001b[1;33m\u001b[0m\u001b[0m\n\u001b[0;32m      9\u001b[0m     \u001b[0mprint\u001b[0m\u001b[1;33m(\u001b[0m\u001b[1;34m'Final distance: '\u001b[0m\u001b[1;33m+\u001b[0m\u001b[0mstr\u001b[0m\u001b[1;33m(\u001b[0m\u001b[1;36m1\u001b[0m\u001b[1;33m/\u001b[0m\u001b[0mrankRoutes\u001b[0m\u001b[1;33m(\u001b[0m\u001b[0mpop\u001b[0m\u001b[1;33m)\u001b[0m\u001b[1;33m[\u001b[0m\u001b[1;36m0\u001b[0m\u001b[1;33m]\u001b[0m\u001b[1;33m[\u001b[0m\u001b[1;36m1\u001b[0m\u001b[1;33m]\u001b[0m\u001b[1;33m)\u001b[0m\u001b[1;33m)\u001b[0m\u001b[1;33m\u001b[0m\u001b[1;33m\u001b[0m\u001b[0m\n",
      "\u001b[1;32m<ipython-input-81-3664d27a38a8>\u001b[0m in \u001b[0;36mnextGeneration\u001b[1;34m(currentGen, eliteSize, mutationRate)\u001b[0m\n\u001b[0;32m      1\u001b[0m \u001b[1;32mdef\u001b[0m \u001b[0mnextGeneration\u001b[0m\u001b[1;33m(\u001b[0m\u001b[0mcurrentGen\u001b[0m\u001b[1;33m,\u001b[0m \u001b[0meliteSize\u001b[0m\u001b[1;33m,\u001b[0m \u001b[0mmutationRate\u001b[0m\u001b[1;33m)\u001b[0m\u001b[1;33m:\u001b[0m\u001b[1;33m\u001b[0m\u001b[1;33m\u001b[0m\u001b[0m\n\u001b[0;32m      2\u001b[0m     \u001b[0mpopRanked\u001b[0m \u001b[1;33m=\u001b[0m \u001b[0mrankRoutes\u001b[0m\u001b[1;33m(\u001b[0m\u001b[0mcurrentGen\u001b[0m\u001b[1;33m)\u001b[0m\u001b[1;33m\u001b[0m\u001b[1;33m\u001b[0m\u001b[0m\n\u001b[1;32m----> 3\u001b[1;33m     \u001b[0mselectionResults\u001b[0m \u001b[1;33m=\u001b[0m \u001b[0mselection\u001b[0m\u001b[1;33m(\u001b[0m\u001b[0mpopRanked\u001b[0m\u001b[1;33m,\u001b[0m \u001b[0meliteSize\u001b[0m\u001b[1;33m)\u001b[0m\u001b[1;33m\u001b[0m\u001b[1;33m\u001b[0m\u001b[0m\n\u001b[0m\u001b[0;32m      4\u001b[0m     \u001b[0mmatingpool\u001b[0m \u001b[1;33m=\u001b[0m \u001b[0mmatingPool\u001b[0m\u001b[1;33m(\u001b[0m\u001b[0mcurrentGen\u001b[0m\u001b[1;33m,\u001b[0m \u001b[0mselectionResults\u001b[0m\u001b[1;33m)\u001b[0m\u001b[1;33m\u001b[0m\u001b[1;33m\u001b[0m\u001b[0m\n\u001b[0;32m      5\u001b[0m     \u001b[0mchildren\u001b[0m \u001b[1;33m=\u001b[0m \u001b[0mbreedPopulation\u001b[0m\u001b[1;33m(\u001b[0m\u001b[0mmatingpool\u001b[0m\u001b[1;33m,\u001b[0m \u001b[0meliteSize\u001b[0m\u001b[1;33m)\u001b[0m\u001b[1;33m\u001b[0m\u001b[1;33m\u001b[0m\u001b[0m\n",
      "\u001b[1;32m<ipython-input-79-2e84129f6fa8>\u001b[0m in \u001b[0;36mselection\u001b[1;34m(popRanked, eliteSize)\u001b[0m\n\u001b[0;32m     11\u001b[0m \u001b[1;33m\u001b[0m\u001b[0m\n\u001b[0;32m     12\u001b[0m     \u001b[1;32mfor\u001b[0m \u001b[0mi\u001b[0m \u001b[1;32min\u001b[0m \u001b[0mrange\u001b[0m\u001b[1;33m(\u001b[0m\u001b[1;36m0\u001b[0m\u001b[1;33m,\u001b[0m \u001b[0meliteSize\u001b[0m\u001b[1;33m)\u001b[0m\u001b[1;33m:\u001b[0m\u001b[1;33m\u001b[0m\u001b[1;33m\u001b[0m\u001b[0m\n\u001b[1;32m---> 13\u001b[1;33m         \u001b[0mselectionResults\u001b[0m\u001b[1;33m.\u001b[0m\u001b[0mappend\u001b[0m\u001b[1;33m(\u001b[0m\u001b[0mpopRanked\u001b[0m\u001b[1;33m[\u001b[0m\u001b[0mi\u001b[0m\u001b[1;33m]\u001b[0m\u001b[1;33m[\u001b[0m\u001b[1;36m0\u001b[0m\u001b[1;33m]\u001b[0m\u001b[1;33m)\u001b[0m\u001b[1;33m\u001b[0m\u001b[1;33m\u001b[0m\u001b[0m\n\u001b[0m\u001b[0;32m     14\u001b[0m     \u001b[1;32mfor\u001b[0m \u001b[0mi\u001b[0m \u001b[1;32min\u001b[0m \u001b[0mrange\u001b[0m\u001b[1;33m(\u001b[0m\u001b[1;36m0\u001b[0m\u001b[1;33m,\u001b[0m \u001b[0mlen\u001b[0m\u001b[1;33m(\u001b[0m\u001b[0mpopRanked\u001b[0m\u001b[1;33m)\u001b[0m \u001b[1;33m-\u001b[0m \u001b[0meliteSize\u001b[0m\u001b[1;33m)\u001b[0m\u001b[1;33m:\u001b[0m\u001b[1;33m\u001b[0m\u001b[1;33m\u001b[0m\u001b[0m\n\u001b[0;32m     15\u001b[0m         \u001b[0mpick\u001b[0m \u001b[1;33m=\u001b[0m \u001b[1;36m100\u001b[0m\u001b[1;33m*\u001b[0m\u001b[0mrandom\u001b[0m\u001b[1;33m.\u001b[0m\u001b[0mrandom\u001b[0m\u001b[1;33m(\u001b[0m\u001b[1;33m)\u001b[0m\u001b[1;33m\u001b[0m\u001b[1;33m\u001b[0m\u001b[0m\n",
      "\u001b[1;31mIndexError\u001b[0m: list index out of range"
     ]
    }
   ],
   "source": [
    "geneticAlgorithm(cityList,100,20,0.01,500)"
   ]
  },
  {
   "cell_type": "code",
   "execution_count": 60,
   "metadata": {},
   "outputs": [
    {
     "name": "stdout",
     "output_type": "stream",
     "text": [
      "> \u001b[1;32m<ipython-input-23-bb33192eb4a8>\u001b[0m(12)\u001b[0;36mselection\u001b[1;34m()\u001b[0m\n",
      "\u001b[1;32m     10 \u001b[1;33m\u001b[1;33m\u001b[0m\u001b[0m\n",
      "\u001b[0m\u001b[1;32m     11 \u001b[1;33m    \u001b[1;32mfor\u001b[0m \u001b[0mi\u001b[0m \u001b[1;32min\u001b[0m \u001b[0mrange\u001b[0m\u001b[1;33m(\u001b[0m\u001b[1;36m0\u001b[0m\u001b[1;33m,\u001b[0m\u001b[0meliteSize\u001b[0m\u001b[1;33m)\u001b[0m\u001b[1;33m:\u001b[0m\u001b[1;33m\u001b[0m\u001b[1;33m\u001b[0m\u001b[0m\n",
      "\u001b[0m\u001b[1;32m---> 12 \u001b[1;33m        \u001b[0mselectionResults\u001b[0m\u001b[1;33m.\u001b[0m\u001b[0mappend\u001b[0m\u001b[1;33m(\u001b[0m\u001b[0mpopRanked\u001b[0m\u001b[1;33m[\u001b[0m\u001b[0mi\u001b[0m\u001b[1;33m]\u001b[0m\u001b[1;33m[\u001b[0m\u001b[1;36m0\u001b[0m\u001b[1;33m]\u001b[0m\u001b[1;33m)\u001b[0m\u001b[1;33m\u001b[0m\u001b[1;33m\u001b[0m\u001b[0m\n",
      "\u001b[0m\u001b[1;32m     13 \u001b[1;33m    \u001b[1;32mfor\u001b[0m \u001b[0mi\u001b[0m \u001b[1;32min\u001b[0m \u001b[0mrange\u001b[0m\u001b[1;33m(\u001b[0m\u001b[1;36m0\u001b[0m\u001b[1;33m,\u001b[0m\u001b[0mlen\u001b[0m\u001b[1;33m(\u001b[0m\u001b[0mpopRanked\u001b[0m\u001b[1;33m)\u001b[0m\u001b[1;33m-\u001b[0m\u001b[0meliteSize\u001b[0m\u001b[1;33m)\u001b[0m\u001b[1;33m:\u001b[0m\u001b[1;33m\u001b[0m\u001b[1;33m\u001b[0m\u001b[0m\n",
      "\u001b[0m\u001b[1;32m     14 \u001b[1;33m        \u001b[0mpick\u001b[0m \u001b[1;33m=\u001b[0m \u001b[1;36m100\u001b[0m\u001b[1;33m*\u001b[0m\u001b[0mrandom\u001b[0m\u001b[1;33m.\u001b[0m\u001b[0mrandom\u001b[0m\u001b[1;33m(\u001b[0m\u001b[1;33m)\u001b[0m\u001b[1;33m\u001b[0m\u001b[1;33m\u001b[0m\u001b[0m\n",
      "\u001b[0m\n",
      "ipdb> a\n",
      "popRanked = [(8, 0.001019013539054019), (1, 0.0010156023425173925), (2, 0.001011919904078974), (14, 0.0009945823456261544), (13, 0.0009736269631890921), (7, 0.0009600306303701506), (3, 0.0009590880192530835), (10, 0.0009566447578910036), (12, 0.00094953334557482), (4, 0.0008792125517371628), (5, 0.0008742525235413188), (11, 0.0008581266446155741), (0, 0.0008483672328912843), (9, 0.0008142075327271637), (6, 0.0007837406132643124)]\n",
      "eliteSize = 20\n",
      "ipdb> l\n",
      "\u001b[0;32m      7 \u001b[0m    \u001b[0mdf\u001b[0m \u001b[1;33m=\u001b[0m \u001b[0mpd\u001b[0m\u001b[1;33m.\u001b[0m\u001b[0mDataFrame\u001b[0m\u001b[1;33m(\u001b[0m\u001b[0mnp\u001b[0m\u001b[1;33m.\u001b[0m\u001b[0marray\u001b[0m\u001b[1;33m(\u001b[0m\u001b[0mpopRanked\u001b[0m\u001b[1;33m)\u001b[0m\u001b[1;33m,\u001b[0m\u001b[0mcolumns\u001b[0m\u001b[1;33m=\u001b[0m\u001b[1;33m[\u001b[0m\u001b[1;34m'Index'\u001b[0m\u001b[1;33m,\u001b[0m\u001b[1;34m'Fitness'\u001b[0m\u001b[1;33m]\u001b[0m\u001b[1;33m)\u001b[0m\u001b[1;33m\u001b[0m\u001b[1;33m\u001b[0m\u001b[0m\n",
      "\u001b[0;32m      8 \u001b[0m    \u001b[0mdf\u001b[0m\u001b[1;33m[\u001b[0m\u001b[1;34m'cum_sum'\u001b[0m\u001b[1;33m]\u001b[0m \u001b[1;33m=\u001b[0m \u001b[0mdf\u001b[0m\u001b[1;33m.\u001b[0m\u001b[0mFitness\u001b[0m\u001b[1;33m.\u001b[0m\u001b[0mcumsum\u001b[0m\u001b[1;33m(\u001b[0m\u001b[1;33m)\u001b[0m\u001b[1;33m\u001b[0m\u001b[1;33m\u001b[0m\u001b[0m\n",
      "\u001b[0;32m      9 \u001b[0m    \u001b[0mdf\u001b[0m\u001b[1;33m[\u001b[0m\u001b[1;34m'cum_perc'\u001b[0m\u001b[1;33m]\u001b[0m \u001b[1;33m=\u001b[0m \u001b[1;36m100\u001b[0m\u001b[1;33m*\u001b[0m\u001b[0mdf\u001b[0m\u001b[1;33m.\u001b[0m\u001b[0mcum_sum\u001b[0m\u001b[1;33m/\u001b[0m\u001b[0mdf\u001b[0m\u001b[1;33m.\u001b[0m\u001b[0mFitness\u001b[0m\u001b[1;33m.\u001b[0m\u001b[0msum\u001b[0m\u001b[1;33m(\u001b[0m\u001b[1;33m)\u001b[0m\u001b[1;33m\u001b[0m\u001b[1;33m\u001b[0m\u001b[0m\n",
      "\u001b[0;32m     10 \u001b[0m\u001b[1;33m\u001b[0m\u001b[0m\n",
      "\u001b[0;32m     11 \u001b[0m    \u001b[1;32mfor\u001b[0m \u001b[0mi\u001b[0m \u001b[1;32min\u001b[0m \u001b[0mrange\u001b[0m\u001b[1;33m(\u001b[0m\u001b[1;36m0\u001b[0m\u001b[1;33m,\u001b[0m\u001b[0meliteSize\u001b[0m\u001b[1;33m)\u001b[0m\u001b[1;33m:\u001b[0m\u001b[1;33m\u001b[0m\u001b[1;33m\u001b[0m\u001b[0m\n",
      "\u001b[1;32m---> 12 \u001b[1;33m        \u001b[0mselectionResults\u001b[0m\u001b[1;33m.\u001b[0m\u001b[0mappend\u001b[0m\u001b[1;33m(\u001b[0m\u001b[0mpopRanked\u001b[0m\u001b[1;33m[\u001b[0m\u001b[0mi\u001b[0m\u001b[1;33m]\u001b[0m\u001b[1;33m[\u001b[0m\u001b[1;36m0\u001b[0m\u001b[1;33m]\u001b[0m\u001b[1;33m)\u001b[0m\u001b[1;33m\u001b[0m\u001b[1;33m\u001b[0m\u001b[0m\n",
      "\u001b[0m\u001b[0;32m     13 \u001b[0m    \u001b[1;32mfor\u001b[0m \u001b[0mi\u001b[0m \u001b[1;32min\u001b[0m \u001b[0mrange\u001b[0m\u001b[1;33m(\u001b[0m\u001b[1;36m0\u001b[0m\u001b[1;33m,\u001b[0m\u001b[0mlen\u001b[0m\u001b[1;33m(\u001b[0m\u001b[0mpopRanked\u001b[0m\u001b[1;33m)\u001b[0m\u001b[1;33m-\u001b[0m\u001b[0meliteSize\u001b[0m\u001b[1;33m)\u001b[0m\u001b[1;33m:\u001b[0m\u001b[1;33m\u001b[0m\u001b[1;33m\u001b[0m\u001b[0m\n",
      "\u001b[0;32m     14 \u001b[0m        \u001b[0mpick\u001b[0m \u001b[1;33m=\u001b[0m \u001b[1;36m100\u001b[0m\u001b[1;33m*\u001b[0m\u001b[0mrandom\u001b[0m\u001b[1;33m.\u001b[0m\u001b[0mrandom\u001b[0m\u001b[1;33m(\u001b[0m\u001b[1;33m)\u001b[0m\u001b[1;33m\u001b[0m\u001b[1;33m\u001b[0m\u001b[0m\n",
      "\u001b[0;32m     15 \u001b[0m        \u001b[1;32mfor\u001b[0m \u001b[0mi\u001b[0m \u001b[1;32min\u001b[0m \u001b[0mrange\u001b[0m\u001b[1;33m(\u001b[0m\u001b[1;36m0\u001b[0m\u001b[1;33m,\u001b[0m\u001b[0mlen\u001b[0m\u001b[1;33m(\u001b[0m\u001b[0mpopRanked\u001b[0m\u001b[1;33m)\u001b[0m\u001b[1;33m)\u001b[0m\u001b[1;33m:\u001b[0m\u001b[1;33m\u001b[0m\u001b[1;33m\u001b[0m\u001b[0m\n",
      "\u001b[0;32m     16 \u001b[0m            \u001b[1;32mif\u001b[0m \u001b[0mpick\u001b[0m\u001b[1;33m<=\u001b[0m\u001b[0mdf\u001b[0m\u001b[1;33m.\u001b[0m\u001b[0miat\u001b[0m\u001b[1;33m[\u001b[0m\u001b[0mi\u001b[0m\u001b[1;33m,\u001b[0m\u001b[1;36m3\u001b[0m\u001b[1;33m]\u001b[0m\u001b[1;33m:\u001b[0m\u001b[1;33m\u001b[0m\u001b[1;33m\u001b[0m\u001b[0m\n",
      "\u001b[0;32m     17 \u001b[0m                \u001b[0mselectionResults\u001b[0m\u001b[1;33m.\u001b[0m\u001b[0mappend\u001b[0m\u001b[1;33m(\u001b[0m\u001b[0mpopRanked\u001b[0m\u001b[1;33m[\u001b[0m\u001b[0mi\u001b[0m\u001b[1;33m]\u001b[0m\u001b[1;33m[\u001b[0m\u001b[1;36m0\u001b[0m\u001b[1;33m]\u001b[0m\u001b[1;33m)\u001b[0m\u001b[1;33m\u001b[0m\u001b[1;33m\u001b[0m\u001b[0m\n",
      "\n",
      "ipdb> print(df)\n",
      "    Index   Fitness   cum_sum    cum_perc\n",
      "0     8.0  0.001019  0.001019    7.332115\n",
      "1     1.0  0.001016  0.002035   14.639685\n",
      "2     2.0  0.001012  0.003047   21.920758\n",
      "3    14.0  0.000995  0.004041   29.077083\n",
      "4    13.0  0.000974  0.005015   36.082627\n",
      "5     7.0  0.000960  0.005975   42.990342\n",
      "6     3.0  0.000959  0.006934   49.891274\n",
      "7    10.0  0.000957  0.007891   56.774626\n",
      "8    12.0  0.000950  0.008840   63.606809\n",
      "9     4.0  0.000879  0.009719   69.933013\n",
      "10    5.0  0.000874  0.010594   76.223527\n",
      "11   11.0  0.000858  0.011452   82.398011\n",
      "12    0.0  0.000848  0.012300   88.502274\n",
      "13    9.0  0.000814  0.013114   94.360746\n",
      "14    6.0  0.000784  0.013898  100.000000\n",
      "ipdb> quit\n"
     ]
    }
   ],
   "source": [
    "%debug"
   ]
  },
  {
   "cell_type": "code",
   "execution_count": 61,
   "metadata": {},
   "outputs": [
    {
     "data": {
      "text/plain": [
       "[(53,19),\n",
       " (55,33),\n",
       " (93,38),\n",
       " (84,37),\n",
       " (95,83),\n",
       " (82,96),\n",
       " (53,37),\n",
       " (6,76),\n",
       " (58,76),\n",
       " (46,23),\n",
       " (52,1),\n",
       " (46,65),\n",
       " (47,81),\n",
       " (86,6),\n",
       " (89,35),\n",
       " (40,18),\n",
       " (40,44),\n",
       " (62,35),\n",
       " (63,96),\n",
       " (13,91),\n",
       " (39,53),\n",
       " (99,17),\n",
       " (37,16),\n",
       " (75,6),\n",
       " (14,11)]"
      ]
     },
     "execution_count": 61,
     "metadata": {},
     "output_type": "execute_result"
    }
   ],
   "source": [
    "cityList"
   ]
  },
  {
   "cell_type": "code",
   "execution_count": 64,
   "metadata": {},
   "outputs": [],
   "source": [
    "ini_pop = initialpopulation(100,cityList)"
   ]
  },
  {
   "cell_type": "code",
   "execution_count": 65,
   "metadata": {},
   "outputs": [],
   "source": [
    "popRanked = rankRoutes(ini_pop)"
   ]
  },
  {
   "cell_type": "code",
   "execution_count": 66,
   "metadata": {},
   "outputs": [],
   "source": [
    "df = pd.DataFrame(np.array(popRanked), columns=[\"Index\",\"Fitness\"])\n",
    "df['cum_sum'] = df.Fitness.cumsum()\n",
    "df['cum_perc'] = 100*df.cum_sum/df.Fitness.sum()"
   ]
  },
  {
   "cell_type": "code",
   "execution_count": 69,
   "metadata": {},
   "outputs": [
    {
     "data": {
      "text/html": [
       "<div>\n",
       "<style scoped>\n",
       "    .dataframe tbody tr th:only-of-type {\n",
       "        vertical-align: middle;\n",
       "    }\n",
       "\n",
       "    .dataframe tbody tr th {\n",
       "        vertical-align: top;\n",
       "    }\n",
       "\n",
       "    .dataframe thead th {\n",
       "        text-align: right;\n",
       "    }\n",
       "</style>\n",
       "<table border=\"1\" class=\"dataframe\">\n",
       "  <thead>\n",
       "    <tr style=\"text-align: right;\">\n",
       "      <th></th>\n",
       "      <th>Index</th>\n",
       "      <th>Fitness</th>\n",
       "      <th>cum_sum</th>\n",
       "      <th>cum_perc</th>\n",
       "    </tr>\n",
       "  </thead>\n",
       "  <tbody>\n",
       "    <tr>\n",
       "      <td>0</td>\n",
       "      <td>35.0</td>\n",
       "      <td>0.000965</td>\n",
       "      <td>0.000965</td>\n",
       "      <td>1.238714</td>\n",
       "    </tr>\n",
       "    <tr>\n",
       "      <td>1</td>\n",
       "      <td>65.0</td>\n",
       "      <td>0.000935</td>\n",
       "      <td>0.001900</td>\n",
       "      <td>2.438548</td>\n",
       "    </tr>\n",
       "    <tr>\n",
       "      <td>2</td>\n",
       "      <td>98.0</td>\n",
       "      <td>0.000907</td>\n",
       "      <td>0.002807</td>\n",
       "      <td>3.602446</td>\n",
       "    </tr>\n",
       "    <tr>\n",
       "      <td>3</td>\n",
       "      <td>85.0</td>\n",
       "      <td>0.000899</td>\n",
       "      <td>0.003706</td>\n",
       "      <td>4.755755</td>\n",
       "    </tr>\n",
       "    <tr>\n",
       "      <td>4</td>\n",
       "      <td>5.0</td>\n",
       "      <td>0.000881</td>\n",
       "      <td>0.004587</td>\n",
       "      <td>5.886994</td>\n",
       "    </tr>\n",
       "    <tr>\n",
       "      <td>...</td>\n",
       "      <td>...</td>\n",
       "      <td>...</td>\n",
       "      <td>...</td>\n",
       "      <td>...</td>\n",
       "    </tr>\n",
       "    <tr>\n",
       "      <td>95</td>\n",
       "      <td>79.0</td>\n",
       "      <td>0.000693</td>\n",
       "      <td>0.075227</td>\n",
       "      <td>96.540354</td>\n",
       "    </tr>\n",
       "    <tr>\n",
       "      <td>96</td>\n",
       "      <td>2.0</td>\n",
       "      <td>0.000692</td>\n",
       "      <td>0.075919</td>\n",
       "      <td>97.427934</td>\n",
       "    </tr>\n",
       "    <tr>\n",
       "      <td>97</td>\n",
       "      <td>16.0</td>\n",
       "      <td>0.000689</td>\n",
       "      <td>0.076607</td>\n",
       "      <td>98.311543</td>\n",
       "    </tr>\n",
       "    <tr>\n",
       "      <td>98</td>\n",
       "      <td>21.0</td>\n",
       "      <td>0.000659</td>\n",
       "      <td>0.077266</td>\n",
       "      <td>99.157257</td>\n",
       "    </tr>\n",
       "    <tr>\n",
       "      <td>99</td>\n",
       "      <td>59.0</td>\n",
       "      <td>0.000657</td>\n",
       "      <td>0.077923</td>\n",
       "      <td>100.000000</td>\n",
       "    </tr>\n",
       "  </tbody>\n",
       "</table>\n",
       "<p>100 rows × 4 columns</p>\n",
       "</div>"
      ],
      "text/plain": [
       "    Index   Fitness   cum_sum    cum_perc\n",
       "0    35.0  0.000965  0.000965    1.238714\n",
       "1    65.0  0.000935  0.001900    2.438548\n",
       "2    98.0  0.000907  0.002807    3.602446\n",
       "3    85.0  0.000899  0.003706    4.755755\n",
       "4     5.0  0.000881  0.004587    5.886994\n",
       "..    ...       ...       ...         ...\n",
       "95   79.0  0.000693  0.075227   96.540354\n",
       "96    2.0  0.000692  0.075919   97.427934\n",
       "97   16.0  0.000689  0.076607   98.311543\n",
       "98   21.0  0.000659  0.077266   99.157257\n",
       "99   59.0  0.000657  0.077923  100.000000\n",
       "\n",
       "[100 rows x 4 columns]"
      ]
     },
     "execution_count": 69,
     "metadata": {},
     "output_type": "execute_result"
    }
   ],
   "source": [
    "df"
   ]
  },
  {
   "cell_type": "code",
   "execution_count": null,
   "metadata": {},
   "outputs": [],
   "source": []
  }
 ],
 "metadata": {
  "kernelspec": {
   "display_name": "Python 3",
   "language": "python",
   "name": "python3"
  },
  "language_info": {
   "codemirror_mode": {
    "name": "ipython",
    "version": 3
   },
   "file_extension": ".py",
   "mimetype": "text/x-python",
   "name": "python",
   "nbconvert_exporter": "python",
   "pygments_lexer": "ipython3",
   "version": "3.7.3"
  }
 },
 "nbformat": 4,
 "nbformat_minor": 2
}
