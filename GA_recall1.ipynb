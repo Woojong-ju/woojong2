{
 "cells": [
  {
   "cell_type": "markdown",
   "metadata": {},
   "source": [
    "Genetic Algorithm 복습"
   ]
  },
  {
   "cell_type": "markdown",
   "metadata": {},
   "source": [
    "Reference :  https://towardsdatascience.com/evolution-of-a-salesman-a-complete-genetic-algorithm-tutorial-for-python-6fe5d2b3ca35\n"
   ]
  },
  {
   "cell_type": "code",
   "execution_count": 1,
   "metadata": {},
   "outputs": [],
   "source": [
    "import numpy as np, operator, random, pandas as pd, matplotlib.pyplot as plt"
   ]
  },
  {
   "cell_type": "markdown",
   "metadata": {},
   "source": [
    "1. Create population"
   ]
  },
  {
   "cell_type": "code",
   "execution_count": 2,
   "metadata": {},
   "outputs": [],
   "source": [
    "#create city class\n",
    "\n",
    "class City : \n",
    "    def __init__(self,x,y):\n",
    "        self.x = x\n",
    "        self.y = y\n",
    "        \n",
    "    def distance(self,city):\n",
    "        xDis = abs(self.x-city.x)\n",
    "        yDis = abs(self.y-city.y)\n",
    "        distance = np.sqrt(xDis**2+yDis**2)\n",
    "        return distance\n",
    "    \n",
    "    def __repr__(self):\n",
    "        return '('+str(self.x)+','+str(self.y)+')'"
   ]
  },
  {
   "cell_type": "code",
   "execution_count": 3,
   "metadata": {},
   "outputs": [],
   "source": [
    "#Fitness class\n",
    "class Fitness:\n",
    "    def __init__(self,route):\n",
    "        self.route = route\n",
    "        self.distance =0\n",
    "        self.fitness = 0.0\n",
    "#Fitness 객체 생성시 route가 입력가 input\n",
    "        \n",
    "    def routeDistance(self):\n",
    "        if self.distance ==0:\n",
    "            pathDistance =0\n",
    "            for i in range(0,len(self.route)):\n",
    "                fromCity = self.route[i]\n",
    "                toCity = None\n",
    "                if i+1 < len(self.route):\n",
    "                    toCity = self.route[i+1]\n",
    "                else:\n",
    "                    toCity = self.route[0]\n",
    "                pathDistance += fromCity.distance(toCity)\n",
    "            self.distance = pathDistance\n",
    "            return self.distance\n",
    "        #python range의 끝 수는 해당범위에 포함하지 않음을 유의\n",
    "    def routeFitness(self):\n",
    "        if self.fitness ==0:\n",
    "            self.fitness =1/float(self.routeDistance())\n",
    "        return self.fitness\n",
    "            \n",
    "#routeFitness는 Distance가 클수록 작아진다. 왜냐면 1 / 전체거리이므로"
   ]
  },
  {
   "cell_type": "code",
   "execution_count": 4,
   "metadata": {},
   "outputs": [],
   "source": [
    "def createRoute(cityList):\n",
    "    route = random.sample(cityList,len(cityList))\n",
    "    return route"
   ]
  },
  {
   "cell_type": "code",
   "execution_count": 5,
   "metadata": {},
   "outputs": [],
   "source": [
    "cityList = []\n",
    "for i in range(0,10):\n",
    "    cityList.append(City(int(random.random()*100),int(random.random()*100)))"
   ]
  },
  {
   "cell_type": "code",
   "execution_count": 6,
   "metadata": {},
   "outputs": [
    {
     "data": {
      "text/plain": [
       "[(44,85),\n",
       " (3,41),\n",
       " (43,73),\n",
       " (34,60),\n",
       " (8,65),\n",
       " (56,31),\n",
       " (12,95),\n",
       " (78,30),\n",
       " (18,85),\n",
       " (80,4)]"
      ]
     },
     "execution_count": 6,
     "metadata": {},
     "output_type": "execute_result"
    }
   ],
   "source": [
    "cityList"
   ]
  },
  {
   "cell_type": "code",
   "execution_count": 7,
   "metadata": {},
   "outputs": [
    {
     "data": {
      "text/plain": [
       "[(3,41),\n",
       " (43,73),\n",
       " (80,4),\n",
       " (78,30),\n",
       " (56,31),\n",
       " (12,95),\n",
       " (18,85),\n",
       " (44,85),\n",
       " (34,60),\n",
       " (8,65)]"
      ]
     },
     "execution_count": 7,
     "metadata": {},
     "output_type": "execute_result"
    }
   ],
   "source": [
    "createRoute(cityList)"
   ]
  },
  {
   "cell_type": "code",
   "execution_count": 8,
   "metadata": {},
   "outputs": [],
   "source": [
    "def initialpopulation(popSize,cityList):\n",
    "    population=[]\n",
    "    for i in range(0,popSize):\n",
    "        population.append(createRoute(cityList))\n",
    "    return population"
   ]
  },
  {
   "cell_type": "code",
   "execution_count": 9,
   "metadata": {},
   "outputs": [],
   "source": [
    "in_pop = initialpopulation(10,cityList)"
   ]
  },
  {
   "cell_type": "code",
   "execution_count": 10,
   "metadata": {},
   "outputs": [
    {
     "data": {
      "text/plain": [
       "[[(80,4),\n",
       "  (43,73),\n",
       "  (56,31),\n",
       "  (3,41),\n",
       "  (18,85),\n",
       "  (44,85),\n",
       "  (78,30),\n",
       "  (12,95),\n",
       "  (34,60),\n",
       "  (8,65)],\n",
       " [(18,85),\n",
       "  (34,60),\n",
       "  (78,30),\n",
       "  (44,85),\n",
       "  (56,31),\n",
       "  (43,73),\n",
       "  (12,95),\n",
       "  (80,4),\n",
       "  (8,65),\n",
       "  (3,41)],\n",
       " [(56,31),\n",
       "  (44,85),\n",
       "  (3,41),\n",
       "  (80,4),\n",
       "  (43,73),\n",
       "  (8,65),\n",
       "  (34,60),\n",
       "  (12,95),\n",
       "  (18,85),\n",
       "  (78,30)],\n",
       " [(44,85),\n",
       "  (56,31),\n",
       "  (8,65),\n",
       "  (80,4),\n",
       "  (12,95),\n",
       "  (43,73),\n",
       "  (34,60),\n",
       "  (3,41),\n",
       "  (18,85),\n",
       "  (78,30)],\n",
       " [(43,73),\n",
       "  (8,65),\n",
       "  (56,31),\n",
       "  (80,4),\n",
       "  (34,60),\n",
       "  (18,85),\n",
       "  (3,41),\n",
       "  (78,30),\n",
       "  (12,95),\n",
       "  (44,85)],\n",
       " [(18,85),\n",
       "  (44,85),\n",
       "  (43,73),\n",
       "  (80,4),\n",
       "  (3,41),\n",
       "  (56,31),\n",
       "  (8,65),\n",
       "  (12,95),\n",
       "  (78,30),\n",
       "  (34,60)],\n",
       " [(8,65),\n",
       "  (78,30),\n",
       "  (34,60),\n",
       "  (12,95),\n",
       "  (80,4),\n",
       "  (18,85),\n",
       "  (56,31),\n",
       "  (3,41),\n",
       "  (43,73),\n",
       "  (44,85)],\n",
       " [(56,31),\n",
       "  (43,73),\n",
       "  (18,85),\n",
       "  (8,65),\n",
       "  (3,41),\n",
       "  (44,85),\n",
       "  (12,95),\n",
       "  (80,4),\n",
       "  (34,60),\n",
       "  (78,30)],\n",
       " [(43,73),\n",
       "  (18,85),\n",
       "  (3,41),\n",
       "  (12,95),\n",
       "  (34,60),\n",
       "  (56,31),\n",
       "  (80,4),\n",
       "  (8,65),\n",
       "  (44,85),\n",
       "  (78,30)],\n",
       " [(34,60),\n",
       "  (12,95),\n",
       "  (18,85),\n",
       "  (44,85),\n",
       "  (3,41),\n",
       "  (43,73),\n",
       "  (56,31),\n",
       "  (8,65),\n",
       "  (80,4),\n",
       "  (78,30)]]"
      ]
     },
     "execution_count": 10,
     "metadata": {},
     "output_type": "execute_result"
    }
   ],
   "source": [
    "in_pop"
   ]
  },
  {
   "cell_type": "markdown",
   "metadata": {},
   "source": [
    "Determine Fitness."
   ]
  },
  {
   "cell_type": "raw",
   "metadata": {},
   "source": [
    "--> Fitness 이용해 rank 만들기"
   ]
  },
  {
   "cell_type": "code",
   "execution_count": 11,
   "metadata": {},
   "outputs": [],
   "source": [
    "def rankRoutes(population):\n",
    "    fitnessResults={}\n",
    "    for i in range(0,len(population)):\n",
    "        fitnessResults[i]=Fitness(population[i]).routeFitness()\n",
    "    return sorted(fitnessResults.items(),key=operator.itemgetter(1),reverse=True)\n",
    "## Fitness Class에서 Fitness호출, population에 for문돌려 Fitness 모두 구한 후\n",
    "##Fitness가 좋은것부터 내림차순으로 나열\n",
    "##index, fitness순의 dic 출력"
   ]
  },
  {
   "cell_type": "code",
   "execution_count": 12,
   "metadata": {},
   "outputs": [
    {
     "data": {
      "text/plain": [
       "[(9, 0.002142000329268943),\n",
       " (7, 0.0021115399061413243),\n",
       " (4, 0.0020263759363138936),\n",
       " (2, 0.002008115832732005),\n",
       " (8, 0.0020060953140982733),\n",
       " (5, 0.0019217609395479477),\n",
       " (1, 0.0017734865236627593),\n",
       " (0, 0.001760070619360756),\n",
       " (3, 0.0016533552563534012),\n",
       " (6, 0.0016316509757546057)]"
      ]
     },
     "execution_count": 12,
     "metadata": {},
     "output_type": "execute_result"
    }
   ],
   "source": [
    "rankRoutes(in_pop)"
   ]
  },
  {
   "cell_type": "raw",
   "metadata": {},
   "source": [
    "Select Mating pool\n",
    "--> elitism 이용.\n",
    "이게 뭐시냐?! : Best performing individuals from population will automaticall carry over to the next generation, ensuring that the most successful individuals persist.\n",
    "\n",
    "어떤 절차로 이뤄질것인가?\n",
    "1. rankRoutes의 결과 이용해서 selection 할것. --> roulette wheel이용해 weight 계산\n",
    "2. elitism --> elitesize만큼은 최고 rankRoutes 에서 가져올것"
   ]
  },
  {
   "cell_type": "code",
   "execution_count": 13,
   "metadata": {},
   "outputs": [],
   "source": [
    "##모듈화 이전, 테스트해보기\n",
    "selectionResults = []\n",
    "popranked = rankRoutes(in_pop)\n",
    "#이전에 만들어놓은 population rankRoutes 메소드로 랭크별 정렬.\n",
    "df = pd.DataFrame(np.array(popranked),columns=['Index','Fitness'])\n",
    "#rankRoutes로 나온 값 dataframe화"
   ]
  },
  {
   "cell_type": "code",
   "execution_count": 14,
   "metadata": {},
   "outputs": [
    {
     "data": {
      "text/html": [
       "<div>\n",
       "<style scoped>\n",
       "    .dataframe tbody tr th:only-of-type {\n",
       "        vertical-align: middle;\n",
       "    }\n",
       "\n",
       "    .dataframe tbody tr th {\n",
       "        vertical-align: top;\n",
       "    }\n",
       "\n",
       "    .dataframe thead th {\n",
       "        text-align: right;\n",
       "    }\n",
       "</style>\n",
       "<table border=\"1\" class=\"dataframe\">\n",
       "  <thead>\n",
       "    <tr style=\"text-align: right;\">\n",
       "      <th></th>\n",
       "      <th>Index</th>\n",
       "      <th>Fitness</th>\n",
       "    </tr>\n",
       "  </thead>\n",
       "  <tbody>\n",
       "    <tr>\n",
       "      <th>0</th>\n",
       "      <td>9.0</td>\n",
       "      <td>0.002142</td>\n",
       "    </tr>\n",
       "    <tr>\n",
       "      <th>1</th>\n",
       "      <td>7.0</td>\n",
       "      <td>0.002112</td>\n",
       "    </tr>\n",
       "    <tr>\n",
       "      <th>2</th>\n",
       "      <td>4.0</td>\n",
       "      <td>0.002026</td>\n",
       "    </tr>\n",
       "    <tr>\n",
       "      <th>3</th>\n",
       "      <td>2.0</td>\n",
       "      <td>0.002008</td>\n",
       "    </tr>\n",
       "    <tr>\n",
       "      <th>4</th>\n",
       "      <td>8.0</td>\n",
       "      <td>0.002006</td>\n",
       "    </tr>\n",
       "    <tr>\n",
       "      <th>5</th>\n",
       "      <td>5.0</td>\n",
       "      <td>0.001922</td>\n",
       "    </tr>\n",
       "    <tr>\n",
       "      <th>6</th>\n",
       "      <td>1.0</td>\n",
       "      <td>0.001773</td>\n",
       "    </tr>\n",
       "    <tr>\n",
       "      <th>7</th>\n",
       "      <td>0.0</td>\n",
       "      <td>0.001760</td>\n",
       "    </tr>\n",
       "    <tr>\n",
       "      <th>8</th>\n",
       "      <td>3.0</td>\n",
       "      <td>0.001653</td>\n",
       "    </tr>\n",
       "    <tr>\n",
       "      <th>9</th>\n",
       "      <td>6.0</td>\n",
       "      <td>0.001632</td>\n",
       "    </tr>\n",
       "  </tbody>\n",
       "</table>\n",
       "</div>"
      ],
      "text/plain": [
       "   Index   Fitness\n",
       "0    9.0  0.002142\n",
       "1    7.0  0.002112\n",
       "2    4.0  0.002026\n",
       "3    2.0  0.002008\n",
       "4    8.0  0.002006\n",
       "5    5.0  0.001922\n",
       "6    1.0  0.001773\n",
       "7    0.0  0.001760\n",
       "8    3.0  0.001653\n",
       "9    6.0  0.001632"
      ]
     },
     "execution_count": 14,
     "metadata": {},
     "output_type": "execute_result"
    }
   ],
   "source": [
    "df"
   ]
  },
  {
   "cell_type": "code",
   "execution_count": 15,
   "metadata": {},
   "outputs": [],
   "source": [
    "df['cum_sum']=df.Fitness.cumsum()\n",
    "#누적합 구하기"
   ]
  },
  {
   "cell_type": "code",
   "execution_count": 16,
   "metadata": {},
   "outputs": [
    {
     "data": {
      "text/html": [
       "<div>\n",
       "<style scoped>\n",
       "    .dataframe tbody tr th:only-of-type {\n",
       "        vertical-align: middle;\n",
       "    }\n",
       "\n",
       "    .dataframe tbody tr th {\n",
       "        vertical-align: top;\n",
       "    }\n",
       "\n",
       "    .dataframe thead th {\n",
       "        text-align: right;\n",
       "    }\n",
       "</style>\n",
       "<table border=\"1\" class=\"dataframe\">\n",
       "  <thead>\n",
       "    <tr style=\"text-align: right;\">\n",
       "      <th></th>\n",
       "      <th>Index</th>\n",
       "      <th>Fitness</th>\n",
       "      <th>cum_sum</th>\n",
       "    </tr>\n",
       "  </thead>\n",
       "  <tbody>\n",
       "    <tr>\n",
       "      <th>0</th>\n",
       "      <td>9.0</td>\n",
       "      <td>0.002142</td>\n",
       "      <td>0.002142</td>\n",
       "    </tr>\n",
       "    <tr>\n",
       "      <th>1</th>\n",
       "      <td>7.0</td>\n",
       "      <td>0.002112</td>\n",
       "      <td>0.004254</td>\n",
       "    </tr>\n",
       "    <tr>\n",
       "      <th>2</th>\n",
       "      <td>4.0</td>\n",
       "      <td>0.002026</td>\n",
       "      <td>0.006280</td>\n",
       "    </tr>\n",
       "    <tr>\n",
       "      <th>3</th>\n",
       "      <td>2.0</td>\n",
       "      <td>0.002008</td>\n",
       "      <td>0.008288</td>\n",
       "    </tr>\n",
       "    <tr>\n",
       "      <th>4</th>\n",
       "      <td>8.0</td>\n",
       "      <td>0.002006</td>\n",
       "      <td>0.010294</td>\n",
       "    </tr>\n",
       "    <tr>\n",
       "      <th>5</th>\n",
       "      <td>5.0</td>\n",
       "      <td>0.001922</td>\n",
       "      <td>0.012216</td>\n",
       "    </tr>\n",
       "    <tr>\n",
       "      <th>6</th>\n",
       "      <td>1.0</td>\n",
       "      <td>0.001773</td>\n",
       "      <td>0.013989</td>\n",
       "    </tr>\n",
       "    <tr>\n",
       "      <th>7</th>\n",
       "      <td>0.0</td>\n",
       "      <td>0.001760</td>\n",
       "      <td>0.015749</td>\n",
       "    </tr>\n",
       "    <tr>\n",
       "      <th>8</th>\n",
       "      <td>3.0</td>\n",
       "      <td>0.001653</td>\n",
       "      <td>0.017403</td>\n",
       "    </tr>\n",
       "    <tr>\n",
       "      <th>9</th>\n",
       "      <td>6.0</td>\n",
       "      <td>0.001632</td>\n",
       "      <td>0.019034</td>\n",
       "    </tr>\n",
       "  </tbody>\n",
       "</table>\n",
       "</div>"
      ],
      "text/plain": [
       "   Index   Fitness   cum_sum\n",
       "0    9.0  0.002142  0.002142\n",
       "1    7.0  0.002112  0.004254\n",
       "2    4.0  0.002026  0.006280\n",
       "3    2.0  0.002008  0.008288\n",
       "4    8.0  0.002006  0.010294\n",
       "5    5.0  0.001922  0.012216\n",
       "6    1.0  0.001773  0.013989\n",
       "7    0.0  0.001760  0.015749\n",
       "8    3.0  0.001653  0.017403\n",
       "9    6.0  0.001632  0.019034"
      ]
     },
     "execution_count": 16,
     "metadata": {},
     "output_type": "execute_result"
    }
   ],
   "source": [
    "df"
   ]
  },
  {
   "cell_type": "code",
   "execution_count": 17,
   "metadata": {},
   "outputs": [],
   "source": [
    "df['cum_perc'] = 100*df.cum_sum/df.Fitness.sum()\n",
    "#(누적합/전체합)*100 해서 누적 퍼센트화."
   ]
  },
  {
   "cell_type": "code",
   "execution_count": 18,
   "metadata": {},
   "outputs": [
    {
     "data": {
      "text/html": [
       "<div>\n",
       "<style scoped>\n",
       "    .dataframe tbody tr th:only-of-type {\n",
       "        vertical-align: middle;\n",
       "    }\n",
       "\n",
       "    .dataframe tbody tr th {\n",
       "        vertical-align: top;\n",
       "    }\n",
       "\n",
       "    .dataframe thead th {\n",
       "        text-align: right;\n",
       "    }\n",
       "</style>\n",
       "<table border=\"1\" class=\"dataframe\">\n",
       "  <thead>\n",
       "    <tr style=\"text-align: right;\">\n",
       "      <th></th>\n",
       "      <th>Index</th>\n",
       "      <th>Fitness</th>\n",
       "      <th>cum_sum</th>\n",
       "      <th>cum_perc</th>\n",
       "    </tr>\n",
       "  </thead>\n",
       "  <tbody>\n",
       "    <tr>\n",
       "      <th>0</th>\n",
       "      <td>9.0</td>\n",
       "      <td>0.002142</td>\n",
       "      <td>0.002142</td>\n",
       "      <td>11.253281</td>\n",
       "    </tr>\n",
       "    <tr>\n",
       "      <th>1</th>\n",
       "      <td>7.0</td>\n",
       "      <td>0.002112</td>\n",
       "      <td>0.004254</td>\n",
       "      <td>22.346534</td>\n",
       "    </tr>\n",
       "    <tr>\n",
       "      <th>2</th>\n",
       "      <td>4.0</td>\n",
       "      <td>0.002026</td>\n",
       "      <td>0.006280</td>\n",
       "      <td>32.992367</td>\n",
       "    </tr>\n",
       "    <tr>\n",
       "      <th>3</th>\n",
       "      <td>2.0</td>\n",
       "      <td>0.002008</td>\n",
       "      <td>0.008288</td>\n",
       "      <td>43.542268</td>\n",
       "    </tr>\n",
       "    <tr>\n",
       "      <th>4</th>\n",
       "      <td>8.0</td>\n",
       "      <td>0.002006</td>\n",
       "      <td>0.010294</td>\n",
       "      <td>54.081554</td>\n",
       "    </tr>\n",
       "    <tr>\n",
       "      <th>5</th>\n",
       "      <td>5.0</td>\n",
       "      <td>0.001922</td>\n",
       "      <td>0.012216</td>\n",
       "      <td>64.177779</td>\n",
       "    </tr>\n",
       "    <tr>\n",
       "      <th>6</th>\n",
       "      <td>1.0</td>\n",
       "      <td>0.001773</td>\n",
       "      <td>0.013989</td>\n",
       "      <td>73.495024</td>\n",
       "    </tr>\n",
       "    <tr>\n",
       "      <th>7</th>\n",
       "      <td>0.0</td>\n",
       "      <td>0.001760</td>\n",
       "      <td>0.015749</td>\n",
       "      <td>82.741787</td>\n",
       "    </tr>\n",
       "    <tr>\n",
       "      <th>8</th>\n",
       "      <td>3.0</td>\n",
       "      <td>0.001653</td>\n",
       "      <td>0.017403</td>\n",
       "      <td>91.427907</td>\n",
       "    </tr>\n",
       "    <tr>\n",
       "      <th>9</th>\n",
       "      <td>6.0</td>\n",
       "      <td>0.001632</td>\n",
       "      <td>0.019034</td>\n",
       "      <td>100.000000</td>\n",
       "    </tr>\n",
       "  </tbody>\n",
       "</table>\n",
       "</div>"
      ],
      "text/plain": [
       "   Index   Fitness   cum_sum    cum_perc\n",
       "0    9.0  0.002142  0.002142   11.253281\n",
       "1    7.0  0.002112  0.004254   22.346534\n",
       "2    4.0  0.002026  0.006280   32.992367\n",
       "3    2.0  0.002008  0.008288   43.542268\n",
       "4    8.0  0.002006  0.010294   54.081554\n",
       "5    5.0  0.001922  0.012216   64.177779\n",
       "6    1.0  0.001773  0.013989   73.495024\n",
       "7    0.0  0.001760  0.015749   82.741787\n",
       "8    3.0  0.001653  0.017403   91.427907\n",
       "9    6.0  0.001632  0.019034  100.000000"
      ]
     },
     "execution_count": 18,
     "metadata": {},
     "output_type": "execute_result"
    }
   ],
   "source": [
    "df"
   ]
  },
  {
   "cell_type": "code",
   "execution_count": 19,
   "metadata": {},
   "outputs": [],
   "source": [
    "for i in range(0,3):\n",
    "    selectionResults.append(popranked[i][0])\n",
    "##if elitesize= 3, 가장 Fitness가 좋은 3개의 route를 elite로 선정, index만 뽑아냄"
   ]
  },
  {
   "cell_type": "code",
   "execution_count": 20,
   "metadata": {},
   "outputs": [
    {
     "data": {
      "text/plain": [
       "[9, 7, 4]"
      ]
     },
     "execution_count": 20,
     "metadata": {},
     "output_type": "execute_result"
    }
   ],
   "source": [
    "selectionResults"
   ]
  },
  {
   "cell_type": "code",
   "execution_count": 21,
   "metadata": {},
   "outputs": [],
   "source": [
    "for i in range(0,len(popranked)-3):\n",
    "    pick = 100*random.random() #0과 100사이의 random number출력\n",
    "    for i in range(0,len(popranked)):\n",
    "        if pick<=df.iat[i,3]: #pick한 random number보다 누적percent보다 커지는순간에\n",
    "            selectionResults.append(popranked[i][0]) #그때의 index선택. ex) pick = 45 인경우 5번까지 돌아 4 즉 index 8 선택후 break.\n",
    "            break\n"
   ]
  },
  {
   "cell_type": "code",
   "execution_count": 22,
   "metadata": {},
   "outputs": [
    {
     "data": {
      "text/plain": [
       "[9, 7, 4, 8, 2, 5, 2, 1, 1, 6]"
      ]
     },
     "execution_count": 22,
     "metadata": {},
     "output_type": "execute_result"
    }
   ],
   "source": [
    "selectionResults"
   ]
  },
  {
   "cell_type": "code",
   "execution_count": 23,
   "metadata": {},
   "outputs": [],
   "source": [
    "##위의 모든 순서 한방에 처리하는 selection method 정의\n",
    "##1. 주어진 population을 rankRoutes로 rank화한것 = popRanked, elilism적용할 size = elitesize\n",
    "##2. elitesize만큼의 최적의 route 차례로 select, 나머지는 룰렛휠로 select(높은 fitness가 더 높은확률로 선택되도록)\n",
    "##3. 여기서는 index값만 출력한다는것 명심\n",
    "def selection(popRanked,eliteSize):\n",
    "    selectionResults=[]\n",
    "    df = pd.DataFrame(np.array(popRanked),columns=['Index','Fitness'])\n",
    "    df['cum_sum'] = df.Fitness.cumsum()\n",
    "    df['cum_perc'] = 100*df.cum_sum/df.Fitness.sum()\n",
    "    \n",
    "    for i in range(0,eliteSize):\n",
    "        selectionResults.append(popRanked[i][0])\n",
    "    for i in range(0,len(popranked)-eliteSize):\n",
    "        pick = 100*random.random()\n",
    "        for i in range(0,len(popRanked)):\n",
    "            if pick<=df.iat[i,3]:\n",
    "                selectionResults.append(popranked[i][0])\n",
    "                break\n",
    "    return selectionResults"
   ]
  },
  {
   "cell_type": "code",
   "execution_count": 24,
   "metadata": {},
   "outputs": [
    {
     "data": {
      "text/plain": [
       "[9, 7, 4, 5, 8, 7, 1, 8, 6, 0]"
      ]
     },
     "execution_count": 24,
     "metadata": {},
     "output_type": "execute_result"
    }
   ],
   "source": [
    "selection(rankRoutes(in_pop),3)\n"
   ]
  },
  {
   "cell_type": "code",
   "execution_count": 27,
   "metadata": {},
   "outputs": [],
   "source": [
    "#위에서 구한 selectionResults를 이용해 mating pool 형성.\n",
    "#위에서 구한 index에 해당하는 route를 population에 그대로 다시 넣기\n",
    "matingpool=[]\n",
    "for i in range(0,len(selectionResults)):\n",
    "    index = selectionResults[i]\n",
    "    matingpool.append(in_pop[index])"
   ]
  },
  {
   "cell_type": "code",
   "execution_count": 28,
   "metadata": {},
   "outputs": [
    {
     "data": {
      "text/plain": [
       "[[(34,60),\n",
       "  (12,95),\n",
       "  (18,85),\n",
       "  (44,85),\n",
       "  (3,41),\n",
       "  (43,73),\n",
       "  (56,31),\n",
       "  (8,65),\n",
       "  (80,4),\n",
       "  (78,30)],\n",
       " [(56,31),\n",
       "  (43,73),\n",
       "  (18,85),\n",
       "  (8,65),\n",
       "  (3,41),\n",
       "  (44,85),\n",
       "  (12,95),\n",
       "  (80,4),\n",
       "  (34,60),\n",
       "  (78,30)],\n",
       " [(43,73),\n",
       "  (8,65),\n",
       "  (56,31),\n",
       "  (80,4),\n",
       "  (34,60),\n",
       "  (18,85),\n",
       "  (3,41),\n",
       "  (78,30),\n",
       "  (12,95),\n",
       "  (44,85)],\n",
       " [(43,73),\n",
       "  (18,85),\n",
       "  (3,41),\n",
       "  (12,95),\n",
       "  (34,60),\n",
       "  (56,31),\n",
       "  (80,4),\n",
       "  (8,65),\n",
       "  (44,85),\n",
       "  (78,30)],\n",
       " [(56,31),\n",
       "  (44,85),\n",
       "  (3,41),\n",
       "  (80,4),\n",
       "  (43,73),\n",
       "  (8,65),\n",
       "  (34,60),\n",
       "  (12,95),\n",
       "  (18,85),\n",
       "  (78,30)],\n",
       " [(18,85),\n",
       "  (44,85),\n",
       "  (43,73),\n",
       "  (80,4),\n",
       "  (3,41),\n",
       "  (56,31),\n",
       "  (8,65),\n",
       "  (12,95),\n",
       "  (78,30),\n",
       "  (34,60)],\n",
       " [(56,31),\n",
       "  (44,85),\n",
       "  (3,41),\n",
       "  (80,4),\n",
       "  (43,73),\n",
       "  (8,65),\n",
       "  (34,60),\n",
       "  (12,95),\n",
       "  (18,85),\n",
       "  (78,30)],\n",
       " [(18,85),\n",
       "  (34,60),\n",
       "  (78,30),\n",
       "  (44,85),\n",
       "  (56,31),\n",
       "  (43,73),\n",
       "  (12,95),\n",
       "  (80,4),\n",
       "  (8,65),\n",
       "  (3,41)],\n",
       " [(18,85),\n",
       "  (34,60),\n",
       "  (78,30),\n",
       "  (44,85),\n",
       "  (56,31),\n",
       "  (43,73),\n",
       "  (12,95),\n",
       "  (80,4),\n",
       "  (8,65),\n",
       "  (3,41)],\n",
       " [(8,65),\n",
       "  (78,30),\n",
       "  (34,60),\n",
       "  (12,95),\n",
       "  (80,4),\n",
       "  (18,85),\n",
       "  (56,31),\n",
       "  (3,41),\n",
       "  (43,73),\n",
       "  (44,85)]]"
      ]
     },
     "execution_count": 28,
     "metadata": {},
     "output_type": "execute_result"
    }
   ],
   "source": [
    "matingpool #9, 7, 4, 8 2 5 2 1 1 6 번 route로 구성된 new population 형성->mating을 위한 population임"
   ]
  },
  {
   "cell_type": "code",
   "execution_count": 32,
   "metadata": {},
   "outputs": [],
   "source": [
    "#모듈화\n",
    "def matingPool(population,selectionResults):\n",
    "    matingpool=[]\n",
    "    for i in range(0,len(selectionResults)):\n",
    "        index = selectionResults[i]\n",
    "        matingpool.append(population[index])\n",
    "    return matingpool"
   ]
  },
  {
   "cell_type": "code",
   "execution_count": 33,
   "metadata": {},
   "outputs": [
    {
     "data": {
      "text/plain": [
       "[[(34,60),\n",
       "  (12,95),\n",
       "  (18,85),\n",
       "  (44,85),\n",
       "  (3,41),\n",
       "  (43,73),\n",
       "  (56,31),\n",
       "  (8,65),\n",
       "  (80,4),\n",
       "  (78,30)],\n",
       " [(56,31),\n",
       "  (43,73),\n",
       "  (18,85),\n",
       "  (8,65),\n",
       "  (3,41),\n",
       "  (44,85),\n",
       "  (12,95),\n",
       "  (80,4),\n",
       "  (34,60),\n",
       "  (78,30)],\n",
       " [(43,73),\n",
       "  (8,65),\n",
       "  (56,31),\n",
       "  (80,4),\n",
       "  (34,60),\n",
       "  (18,85),\n",
       "  (3,41),\n",
       "  (78,30),\n",
       "  (12,95),\n",
       "  (44,85)],\n",
       " [(43,73),\n",
       "  (18,85),\n",
       "  (3,41),\n",
       "  (12,95),\n",
       "  (34,60),\n",
       "  (56,31),\n",
       "  (80,4),\n",
       "  (8,65),\n",
       "  (44,85),\n",
       "  (78,30)],\n",
       " [(56,31),\n",
       "  (44,85),\n",
       "  (3,41),\n",
       "  (80,4),\n",
       "  (43,73),\n",
       "  (8,65),\n",
       "  (34,60),\n",
       "  (12,95),\n",
       "  (18,85),\n",
       "  (78,30)],\n",
       " [(18,85),\n",
       "  (44,85),\n",
       "  (43,73),\n",
       "  (80,4),\n",
       "  (3,41),\n",
       "  (56,31),\n",
       "  (8,65),\n",
       "  (12,95),\n",
       "  (78,30),\n",
       "  (34,60)],\n",
       " [(56,31),\n",
       "  (44,85),\n",
       "  (3,41),\n",
       "  (80,4),\n",
       "  (43,73),\n",
       "  (8,65),\n",
       "  (34,60),\n",
       "  (12,95),\n",
       "  (18,85),\n",
       "  (78,30)],\n",
       " [(18,85),\n",
       "  (34,60),\n",
       "  (78,30),\n",
       "  (44,85),\n",
       "  (56,31),\n",
       "  (43,73),\n",
       "  (12,95),\n",
       "  (80,4),\n",
       "  (8,65),\n",
       "  (3,41)],\n",
       " [(18,85),\n",
       "  (34,60),\n",
       "  (78,30),\n",
       "  (44,85),\n",
       "  (56,31),\n",
       "  (43,73),\n",
       "  (12,95),\n",
       "  (80,4),\n",
       "  (8,65),\n",
       "  (3,41)],\n",
       " [(8,65),\n",
       "  (78,30),\n",
       "  (34,60),\n",
       "  (12,95),\n",
       "  (80,4),\n",
       "  (18,85),\n",
       "  (56,31),\n",
       "  (3,41),\n",
       "  (43,73),\n",
       "  (44,85)]]"
      ]
     },
     "execution_count": 33,
     "metadata": {},
     "output_type": "execute_result"
    }
   ],
   "source": [
    "#test 및출력\n",
    "matingPool(in_pop,selectionResults)"
   ]
  },
  {
   "cell_type": "raw",
   "metadata": {},
   "source": [
    "Breed\n",
    "crossover를 이용한 breeding. Crossover란 각각 parent의 subset조합해 새로운 offspring만들어 내는것.\n",
    "1. TSP문제는 모든 city를 한번씩 거쳐야 하는 route 생성해야하므로 ordered crossover 사용할것\n",
    "    - 한 parent에서 구한 subset에 해당되지 않는 나머지를 다른 부모의 subset으로 순서대로 가져오는것! 겹치지않게\n",
    "    ex) parent 1 : 1 2 3 4 5 6 7 8 9 (Subset으로 6 7 8 선택하면?)\n",
    "        patent 2 : 9 8 7 6 5 4 3 2 1 \n",
    "        결과 offspring : 9 5 4 3 2 6 7 8 1\n",
    "2. 어떤걸 subset 선택할지는 length만큼의 0,1 incoding으로 가능할듯 "
   ]
  },
  {
   "cell_type": "code",
   "execution_count": 40,
   "metadata": {},
   "outputs": [],
   "source": [
    "child = []\n",
    "childP1 = []\n",
    "childP2 = []\n",
    "parent1 = matingpool[2]\n",
    "parent2 = matingpool[4]\n",
    "geneA = int(random.random()*len(parent1))\n",
    "geneB = int(random.random()*len(parent2)) \n",
    "#route길이까지 정수 randomnumber 형성\n",
    "\n",
    "startGene = min(geneA,geneB)\n",
    "endGene = max(geneA,geneB)\n",
    "\n",
    "for i in range(startGene,endGene):\n",
    "    childP1.append(parent1[i])\n",
    "    \n",
    "childP2 = [item for item in parent2 if item not in childP1]\n",
    "\n",
    "#그중 min,max까지에 해당되는 city값들을 parent1에서 뽑아 child1로\n",
    "#route에서 포함되지 않은 나머지 city는 child2로. \n",
    "\n",
    "child = childP1 + childP2\n",
    "#두개 이어붙여서 새로운 route 형성(offspring)"
   ]
  },
  {
   "cell_type": "code",
   "execution_count": 46,
   "metadata": {},
   "outputs": [
    {
     "data": {
      "text/plain": [
       "(1, 7)"
      ]
     },
     "execution_count": 46,
     "metadata": {},
     "output_type": "execute_result"
    }
   ],
   "source": [
    "geneA, geneB #둘의 min부터 max까지"
   ]
  },
  {
   "cell_type": "code",
   "execution_count": 47,
   "metadata": {},
   "outputs": [
    {
     "data": {
      "text/plain": [
       "[(8,65), (56,31), (80,4), (34,60), (18,85), (3,41)]"
      ]
     },
     "execution_count": 47,
     "metadata": {},
     "output_type": "execute_result"
    }
   ],
   "source": [
    "childP1"
   ]
  },
  {
   "cell_type": "code",
   "execution_count": 48,
   "metadata": {},
   "outputs": [
    {
     "data": {
      "text/plain": [
       "[(44,85), (43,73), (12,95), (78,30)]"
      ]
     },
     "execution_count": 48,
     "metadata": {},
     "output_type": "execute_result"
    }
   ],
   "source": [
    "childP2"
   ]
  },
  {
   "cell_type": "code",
   "execution_count": 49,
   "metadata": {},
   "outputs": [
    {
     "data": {
      "text/plain": [
       "[(8,65),\n",
       " (56,31),\n",
       " (80,4),\n",
       " (34,60),\n",
       " (18,85),\n",
       " (3,41),\n",
       " (44,85),\n",
       " (43,73),\n",
       " (12,95),\n",
       " (78,30)]"
      ]
     },
     "execution_count": 49,
     "metadata": {},
     "output_type": "execute_result"
    }
   ],
   "source": [
    "child"
   ]
  },
  {
   "cell_type": "code",
   "execution_count": 50,
   "metadata": {},
   "outputs": [],
   "source": [
    "#모듈화 & test\n",
    "def breed(parent1,parent2):\n",
    "    child = []\n",
    "    childP1 = []\n",
    "    childP2 = []\n",
    "    geneA = int(random.random()*len(parent1))\n",
    "    geneB = int(random.random()*len(parent2)) \n",
    "    startGene = min(geneA,geneB)\n",
    "    endGene = max(geneA,geneB)\n",
    "    for i in range(startGene,endGene):\n",
    "        childP1.append(parent1[i])\n",
    "    childP2 = [item for item in parent2 if item not in childP1]\n",
    "    child = childP1 + childP2\n",
    "    return child\n"
   ]
  },
  {
   "cell_type": "code",
   "execution_count": 51,
   "metadata": {},
   "outputs": [
    {
     "data": {
      "text/plain": [
       "[(3,41),\n",
       " (78,30),\n",
       " (12,95),\n",
       " (56,31),\n",
       " (44,85),\n",
       " (80,4),\n",
       " (43,73),\n",
       " (8,65),\n",
       " (34,60),\n",
       " (18,85)]"
      ]
     },
     "execution_count": 51,
     "metadata": {},
     "output_type": "execute_result"
    }
   ],
   "source": [
    "breed(matingpool[2],matingpool[4])"
   ]
  },
  {
   "cell_type": "code",
   "execution_count": 52,
   "metadata": {},
   "outputs": [],
   "source": [
    "#elitesize 고려한 자손 population 형성\n",
    "#elitesize만큼의 elite route는 자손 population에 그대로 전달됨\n",
    "\n",
    "children = []\n",
    "length = len(matingpool) - 3 #elitesize = 3\n",
    "pool = random.sample(matingpool,len(matingpool)) \n",
    "#matingpool중에서 random sample형성 \n",
    "#why? - matingpool에서 random화된 sample을 출력, 두개씩 짝찌어서 breeding 할것..\n",
    "\n",
    "for i in range(0,3):\n",
    "    children.append(matingpool[i]) \n",
    "    #elite에 해당되는 route들은 그대로 children에게 전달한 child-pop 구성\n",
    "    \n",
    "for i in range(0,length):\n",
    "    child = breed(pool[i],pool[len(matingpool)-i-1])\n",
    "    children.append(child)\n",
    "    #random하게 두쌍씩 breeding해서 나머지 7개의 route 구성"
   ]
  },
  {
   "cell_type": "code",
   "execution_count": 53,
   "metadata": {},
   "outputs": [
    {
     "data": {
      "text/plain": [
       "[[(56,31),\n",
       "  (43,73),\n",
       "  (18,85),\n",
       "  (8,65),\n",
       "  (3,41),\n",
       "  (44,85),\n",
       "  (12,95),\n",
       "  (80,4),\n",
       "  (34,60),\n",
       "  (78,30)],\n",
       " [(18,85),\n",
       "  (34,60),\n",
       "  (78,30),\n",
       "  (44,85),\n",
       "  (56,31),\n",
       "  (43,73),\n",
       "  (12,95),\n",
       "  (80,4),\n",
       "  (8,65),\n",
       "  (3,41)],\n",
       " [(18,85),\n",
       "  (34,60),\n",
       "  (78,30),\n",
       "  (44,85),\n",
       "  (56,31),\n",
       "  (43,73),\n",
       "  (12,95),\n",
       "  (80,4),\n",
       "  (8,65),\n",
       "  (3,41)],\n",
       " [(56,31),\n",
       "  (44,85),\n",
       "  (3,41),\n",
       "  (80,4),\n",
       "  (43,73),\n",
       "  (8,65),\n",
       "  (34,60),\n",
       "  (12,95),\n",
       "  (18,85),\n",
       "  (78,30)],\n",
       " [(18,85),\n",
       "  (44,85),\n",
       "  (43,73),\n",
       "  (80,4),\n",
       "  (3,41),\n",
       "  (56,31),\n",
       "  (8,65),\n",
       "  (12,95),\n",
       "  (78,30),\n",
       "  (34,60)],\n",
       " [(43,73),\n",
       "  (18,85),\n",
       "  (3,41),\n",
       "  (12,95),\n",
       "  (34,60),\n",
       "  (56,31),\n",
       "  (80,4),\n",
       "  (8,65),\n",
       "  (44,85),\n",
       "  (78,30)],\n",
       " [(43,73),\n",
       "  (8,65),\n",
       "  (56,31),\n",
       "  (80,4),\n",
       "  (34,60),\n",
       "  (18,85),\n",
       "  (3,41),\n",
       "  (78,30),\n",
       "  (12,95),\n",
       "  (44,85)],\n",
       " [(56,31),\n",
       "  (44,85),\n",
       "  (3,41),\n",
       "  (80,4),\n",
       "  (43,73),\n",
       "  (8,65),\n",
       "  (34,60),\n",
       "  (12,95),\n",
       "  (18,85),\n",
       "  (78,30)],\n",
       " [(34,60),\n",
       "  (12,95),\n",
       "  (18,85),\n",
       "  (44,85),\n",
       "  (3,41),\n",
       "  (43,73),\n",
       "  (56,31),\n",
       "  (8,65),\n",
       "  (80,4),\n",
       "  (78,30)],\n",
       " [(8,65),\n",
       "  (78,30),\n",
       "  (34,60),\n",
       "  (12,95),\n",
       "  (80,4),\n",
       "  (18,85),\n",
       "  (56,31),\n",
       "  (3,41),\n",
       "  (43,73),\n",
       "  (44,85)]]"
      ]
     },
     "execution_count": 53,
     "metadata": {},
     "output_type": "execute_result"
    }
   ],
   "source": [
    "pool"
   ]
  },
  {
   "cell_type": "code",
   "execution_count": 54,
   "metadata": {},
   "outputs": [
    {
     "data": {
      "text/plain": [
       "[(43,73),\n",
       " (8,65),\n",
       " (56,31),\n",
       " (80,4),\n",
       " (44,85),\n",
       " (3,41),\n",
       " (34,60),\n",
       " (12,95),\n",
       " (18,85),\n",
       " (78,30)]"
      ]
     },
     "execution_count": 54,
     "metadata": {},
     "output_type": "execute_result"
    }
   ],
   "source": [
    "child"
   ]
  },
  {
   "cell_type": "code",
   "execution_count": 55,
   "metadata": {},
   "outputs": [
    {
     "data": {
      "text/plain": [
       "[[(34,60),\n",
       "  (12,95),\n",
       "  (18,85),\n",
       "  (44,85),\n",
       "  (3,41),\n",
       "  (43,73),\n",
       "  (56,31),\n",
       "  (8,65),\n",
       "  (80,4),\n",
       "  (78,30)],\n",
       " [(56,31),\n",
       "  (43,73),\n",
       "  (18,85),\n",
       "  (8,65),\n",
       "  (3,41),\n",
       "  (44,85),\n",
       "  (12,95),\n",
       "  (80,4),\n",
       "  (34,60),\n",
       "  (78,30)],\n",
       " [(43,73),\n",
       "  (8,65),\n",
       "  (56,31),\n",
       "  (80,4),\n",
       "  (34,60),\n",
       "  (18,85),\n",
       "  (3,41),\n",
       "  (78,30),\n",
       "  (12,95),\n",
       "  (44,85)],\n",
       " [(12,95),\n",
       "  (80,4),\n",
       "  (34,60),\n",
       "  (8,65),\n",
       "  (78,30),\n",
       "  (18,85),\n",
       "  (56,31),\n",
       "  (3,41),\n",
       "  (43,73),\n",
       "  (44,85)],\n",
       " [(8,65),\n",
       "  (34,60),\n",
       "  (12,95),\n",
       "  (18,85),\n",
       "  (44,85),\n",
       "  (3,41),\n",
       "  (43,73),\n",
       "  (56,31),\n",
       "  (80,4),\n",
       "  (78,30)],\n",
       " [(12,95),\n",
       "  (80,4),\n",
       "  (56,31),\n",
       "  (44,85),\n",
       "  (3,41),\n",
       "  (43,73),\n",
       "  (8,65),\n",
       "  (34,60),\n",
       "  (18,85),\n",
       "  (78,30)],\n",
       " [(3,41),\n",
       "  (80,4),\n",
       "  (43,73),\n",
       "  (8,65),\n",
       "  (34,60),\n",
       "  (56,31),\n",
       "  (18,85),\n",
       "  (78,30),\n",
       "  (12,95),\n",
       "  (44,85)],\n",
       " [(18,85),\n",
       "  (44,85),\n",
       "  (43,73),\n",
       "  (80,4),\n",
       "  (3,41),\n",
       "  (56,31),\n",
       "  (8,65),\n",
       "  (12,95),\n",
       "  (78,30),\n",
       "  (34,60)],\n",
       " [(18,85),\n",
       "  (3,41),\n",
       "  (12,95),\n",
       "  (34,60),\n",
       "  (56,31),\n",
       "  (80,4),\n",
       "  (8,65),\n",
       "  (44,85),\n",
       "  (43,73),\n",
       "  (78,30)],\n",
       " [(43,73),\n",
       "  (8,65),\n",
       "  (56,31),\n",
       "  (80,4),\n",
       "  (44,85),\n",
       "  (3,41),\n",
       "  (34,60),\n",
       "  (12,95),\n",
       "  (18,85),\n",
       "  (78,30)]]"
      ]
     },
     "execution_count": 55,
     "metadata": {},
     "output_type": "execute_result"
    }
   ],
   "source": [
    "children \n",
    "#앞의 3개 route는 matingpool의 0 1 2(elite), 나머지는 matingpool에서 random하게 뽑힌 두개의 route(parents)의 자손 route"
   ]
  },
  {
   "cell_type": "code",
   "execution_count": 58,
   "metadata": {},
   "outputs": [],
   "source": [
    "#모듈화\n",
    "def breedPopulation(matingpool,eliteSize):\n",
    "    children = []\n",
    "    length = len(matingpool) - eliteSize\n",
    "    pool = random.sample(matingpool,len(matingpool))\n",
    "    for i in range(0,3):\n",
    "        children.append(matingpool[i]) \n",
    "    #elite에 해당되는 route들은 그대로 children에게 전달한 child-pop 구성\n",
    "    for i in range(0,length):\n",
    "        child = breed(pool[i],pool[len(matingpool)-i-1])\n",
    "        children.append(child)\n",
    "    return children\n",
    "    #random하게 두쌍씩 breeding해서 나머지의 route 구성"
   ]
  },
  {
   "cell_type": "code",
   "execution_count": 59,
   "metadata": {},
   "outputs": [
    {
     "data": {
      "text/plain": [
       "[[(34,60),\n",
       "  (12,95),\n",
       "  (18,85),\n",
       "  (44,85),\n",
       "  (3,41),\n",
       "  (43,73),\n",
       "  (56,31),\n",
       "  (8,65),\n",
       "  (80,4),\n",
       "  (78,30)],\n",
       " [(56,31),\n",
       "  (43,73),\n",
       "  (18,85),\n",
       "  (8,65),\n",
       "  (3,41),\n",
       "  (44,85),\n",
       "  (12,95),\n",
       "  (80,4),\n",
       "  (34,60),\n",
       "  (78,30)],\n",
       " [(43,73),\n",
       "  (8,65),\n",
       "  (56,31),\n",
       "  (80,4),\n",
       "  (34,60),\n",
       "  (18,85),\n",
       "  (3,41),\n",
       "  (78,30),\n",
       "  (12,95),\n",
       "  (44,85)],\n",
       " [(34,60),\n",
       "  (12,95),\n",
       "  (18,85),\n",
       "  (44,85),\n",
       "  (3,41),\n",
       "  (43,73),\n",
       "  (56,31),\n",
       "  (8,65),\n",
       "  (80,4),\n",
       "  (78,30)],\n",
       " [(18,85),\n",
       "  (44,85),\n",
       "  (43,73),\n",
       "  (80,4),\n",
       "  (3,41),\n",
       "  (56,31),\n",
       "  (8,65),\n",
       "  (12,95),\n",
       "  (78,30),\n",
       "  (34,60)],\n",
       " [(44,85),\n",
       "  (56,31),\n",
       "  (43,73),\n",
       "  (18,85),\n",
       "  (3,41),\n",
       "  (12,95),\n",
       "  (34,60),\n",
       "  (80,4),\n",
       "  (8,65),\n",
       "  (78,30)],\n",
       " [(56,31),\n",
       "  (43,73),\n",
       "  (18,85),\n",
       "  (8,65),\n",
       "  (78,30),\n",
       "  (34,60),\n",
       "  (12,95),\n",
       "  (80,4),\n",
       "  (3,41),\n",
       "  (44,85)],\n",
       " [(8,65),\n",
       "  (56,31),\n",
       "  (44,85),\n",
       "  (3,41),\n",
       "  (80,4),\n",
       "  (43,73),\n",
       "  (34,60),\n",
       "  (12,95),\n",
       "  (18,85),\n",
       "  (78,30)],\n",
       " [(3,41),\n",
       "  (80,4),\n",
       "  (43,73),\n",
       "  (8,65),\n",
       "  (34,60),\n",
       "  (12,95),\n",
       "  (56,31),\n",
       "  (44,85),\n",
       "  (18,85),\n",
       "  (78,30)],\n",
       " [(12,95),\n",
       "  (56,31),\n",
       "  (43,73),\n",
       "  (18,85),\n",
       "  (8,65),\n",
       "  (3,41),\n",
       "  (44,85),\n",
       "  (80,4),\n",
       "  (34,60),\n",
       "  (78,30)]]"
      ]
     },
     "execution_count": 59,
     "metadata": {},
     "output_type": "execute_result"
    }
   ],
   "source": [
    "breedPopulation(matingpool,3)"
   ]
  },
  {
   "cell_type": "raw",
   "metadata": {},
   "source": [
    "Mutate\n"
   ]
  }
 ],
 "metadata": {
  "kernelspec": {
   "display_name": "Python 3",
   "language": "python",
   "name": "python3"
  },
  "language_info": {
   "codemirror_mode": {
    "name": "ipython",
    "version": 3
   },
   "file_extension": ".py",
   "mimetype": "text/x-python",
   "name": "python",
   "nbconvert_exporter": "python",
   "pygments_lexer": "ipython3",
   "version": "3.7.3"
  }
 },
 "nbformat": 4,
 "nbformat_minor": 2
}
