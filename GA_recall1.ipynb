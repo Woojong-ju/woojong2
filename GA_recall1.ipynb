{
 "cells": [
  {
   "cell_type": "markdown",
   "metadata": {},
   "source": [
    "Genetic Algorithm 복습"
   ]
  },
  {
   "cell_type": "markdown",
   "metadata": {},
   "source": [
    "Reference :  https://towardsdatascience.com/evolution-of-a-salesman-a-complete-genetic-algorithm-tutorial-for-python-6fe5d2b3ca35\n"
   ]
  },
  {
   "cell_type": "code",
   "execution_count": 2,
   "metadata": {},
   "outputs": [],
   "source": [
    "import numpy as np, operator, random, pandas as pd, matplotlib.pyplot as plt"
   ]
  },
  {
   "cell_type": "markdown",
   "metadata": {},
   "source": [
    "1. Create population"
   ]
  },
  {
   "cell_type": "code",
   "execution_count": 26,
   "metadata": {},
   "outputs": [],
   "source": [
    "#create city class\n",
    "\n",
    "class City : \n",
    "    def __init__(self,x,y):\n",
    "        self.x = x\n",
    "        self.y = y\n",
    "        \n",
    "    def distance(self,city):\n",
    "        xDis = abs(self.x-city.x)\n",
    "        yDis = abs(self.y-city.y)\n",
    "        distance = np.sqrt(xDis**2+yDis**2)\n",
    "        return distance\n",
    "    \n",
    "    def __repr__(self):\n",
    "        return '('+str(self.x)+','+str(self.y)+')'"
   ]
  },
  {
   "cell_type": "code",
   "execution_count": 46,
   "metadata": {},
   "outputs": [],
   "source": [
    "#Fitness class\n",
    "class Fitness:\n",
    "    def __init__(self,route):\n",
    "        self.route = route\n",
    "        self.distance =0\n",
    "        self.fitness = 0.0\n",
    "        \n",
    "    def routeDistance(self):\n",
    "        if self.distance ==0:\n",
    "            pathDistance =0\n",
    "            for i in range(0,len(self.route)):\n",
    "                fromCity = self.route[i]\n",
    "                toCity = None\n",
    "                if i+1 < len(self.route):\n",
    "                    toCity = self.route[i+1]\n",
    "                else:\n",
    "                    toCity = self.route[0]\n",
    "                pathDistance += fromCity.distance(toCity)\n",
    "            self.distance = pathDistance\n",
    "            return self.distance\n",
    "        \n",
    "    def routeFitness(self):\n",
    "        if self.fitness ==0:\n",
    "            self.fitness =1/float(self.routeDistance())\n",
    "        return self.fitness\n",
    "            \n",
    "#routeFitness는 Distance가 클수록 작아진다. 왜냐면 1 / 전체거리이므로"
   ]
  },
  {
   "cell_type": "code",
   "execution_count": 47,
   "metadata": {},
   "outputs": [],
   "source": [
    "def createRoute(cityList):\n",
    "    route = random.sample(cityList,len(cityList))\n",
    "    return route"
   ]
  },
  {
   "cell_type": "code",
   "execution_count": 48,
   "metadata": {},
   "outputs": [],
   "source": [
    "cityList = []\n",
    "for i in range(0,10):\n",
    "    cityList.append(City(int(random.random()*50),int(random.random()*50)))"
   ]
  },
  {
   "cell_type": "code",
   "execution_count": 49,
   "metadata": {},
   "outputs": [
    {
     "data": {
      "text/plain": [
       "[(4,13),\n",
       " (25,25),\n",
       " (46,22),\n",
       " (49,13),\n",
       " (42,27),\n",
       " (19,20),\n",
       " (14,27),\n",
       " (14,41),\n",
       " (9,15),\n",
       " (25,39)]"
      ]
     },
     "execution_count": 49,
     "metadata": {},
     "output_type": "execute_result"
    }
   ],
   "source": [
    "cityList"
   ]
  },
  {
   "cell_type": "code",
   "execution_count": 50,
   "metadata": {},
   "outputs": [
    {
     "data": {
      "text/plain": [
       "[(19,20),\n",
       " (4,13),\n",
       " (49,13),\n",
       " (42,27),\n",
       " (46,22),\n",
       " (9,15),\n",
       " (14,27),\n",
       " (25,25),\n",
       " (14,41),\n",
       " (25,39)]"
      ]
     },
     "execution_count": 50,
     "metadata": {},
     "output_type": "execute_result"
    }
   ],
   "source": [
    "createRoute(cityList)"
   ]
  },
  {
   "cell_type": "code",
   "execution_count": 51,
   "metadata": {},
   "outputs": [],
   "source": [
    "def initialpopulation(popSize,cityList):\n",
    "    population=[]\n",
    "    for i in range(0,popSize):\n",
    "        population.append(createRoute(cityList))\n",
    "    return population"
   ]
  },
  {
   "cell_type": "code",
   "execution_count": 52,
   "metadata": {},
   "outputs": [],
   "source": [
    "in_pop = initialpopulation(10,cityList)"
   ]
  },
  {
   "cell_type": "code",
   "execution_count": 53,
   "metadata": {},
   "outputs": [
    {
     "data": {
      "text/plain": [
       "[[(42,27),\n",
       "  (14,27),\n",
       "  (9,15),\n",
       "  (25,25),\n",
       "  (46,22),\n",
       "  (49,13),\n",
       "  (25,39),\n",
       "  (19,20),\n",
       "  (14,41),\n",
       "  (4,13)],\n",
       " [(46,22),\n",
       "  (19,20),\n",
       "  (9,15),\n",
       "  (49,13),\n",
       "  (14,27),\n",
       "  (14,41),\n",
       "  (4,13),\n",
       "  (25,39),\n",
       "  (25,25),\n",
       "  (42,27)],\n",
       " [(46,22),\n",
       "  (9,15),\n",
       "  (19,20),\n",
       "  (25,39),\n",
       "  (49,13),\n",
       "  (14,27),\n",
       "  (14,41),\n",
       "  (4,13),\n",
       "  (25,25),\n",
       "  (42,27)],\n",
       " [(19,20),\n",
       "  (49,13),\n",
       "  (4,13),\n",
       "  (25,25),\n",
       "  (42,27),\n",
       "  (9,15),\n",
       "  (14,41),\n",
       "  (46,22),\n",
       "  (14,27),\n",
       "  (25,39)],\n",
       " [(14,27),\n",
       "  (49,13),\n",
       "  (25,39),\n",
       "  (9,15),\n",
       "  (25,25),\n",
       "  (46,22),\n",
       "  (42,27),\n",
       "  (14,41),\n",
       "  (19,20),\n",
       "  (4,13)],\n",
       " [(25,39),\n",
       "  (4,13),\n",
       "  (9,15),\n",
       "  (42,27),\n",
       "  (46,22),\n",
       "  (19,20),\n",
       "  (14,27),\n",
       "  (49,13),\n",
       "  (25,25),\n",
       "  (14,41)],\n",
       " [(19,20),\n",
       "  (25,39),\n",
       "  (25,25),\n",
       "  (42,27),\n",
       "  (49,13),\n",
       "  (4,13),\n",
       "  (14,27),\n",
       "  (9,15),\n",
       "  (14,41),\n",
       "  (46,22)],\n",
       " [(9,15),\n",
       "  (14,41),\n",
       "  (25,39),\n",
       "  (14,27),\n",
       "  (49,13),\n",
       "  (19,20),\n",
       "  (46,22),\n",
       "  (4,13),\n",
       "  (25,25),\n",
       "  (42,27)],\n",
       " [(25,25),\n",
       "  (9,15),\n",
       "  (42,27),\n",
       "  (19,20),\n",
       "  (14,27),\n",
       "  (4,13),\n",
       "  (14,41),\n",
       "  (49,13),\n",
       "  (25,39),\n",
       "  (46,22)],\n",
       " [(14,41),\n",
       "  (25,25),\n",
       "  (49,13),\n",
       "  (14,27),\n",
       "  (25,39),\n",
       "  (19,20),\n",
       "  (9,15),\n",
       "  (42,27),\n",
       "  (46,22),\n",
       "  (4,13)]]"
      ]
     },
     "execution_count": 53,
     "metadata": {},
     "output_type": "execute_result"
    }
   ],
   "source": [
    "in_pop"
   ]
  },
  {
   "cell_type": "markdown",
   "metadata": {},
   "source": [
    "Determine Fitness."
   ]
  },
  {
   "cell_type": "raw",
   "metadata": {},
   "source": [
    "--> Fitness 이용해 rank 만들기"
   ]
  },
  {
   "cell_type": "code",
   "execution_count": 54,
   "metadata": {},
   "outputs": [],
   "source": [
    "def rankRoutes(population):\n",
    "    fitnessResults={}\n",
    "    for i in range(0,len(population)):\n",
    "        fitnessResults[i]=Fitness(population[i]).routeFitness()\n",
    "    return sorted(fitnessResults.items(),key=operator.itemgetter(1),reverse=True)\n",
    "## Fitness Class에서 Fitness호출, population에 for문돌려 Fitness 모두 구한 후\n",
    "##Fitness가 좋은것부터 내림차순으로 나열\n",
    "##index, fitness순의 dic 출력"
   ]
  },
  {
   "cell_type": "code",
   "execution_count": 55,
   "metadata": {},
   "outputs": [
    {
     "data": {
      "text/plain": [
       "[(5, 0.004736507297938425),\n",
       " (1, 0.0043351130944567695),\n",
       " (6, 0.004298021483821667),\n",
       " (2, 0.004286683389915599),\n",
       " (4, 0.00425426831681988),\n",
       " (0, 0.0042071153876272385),\n",
       " (9, 0.0040727838867052404),\n",
       " (8, 0.003816793847268126),\n",
       " (7, 0.0037190881387733537),\n",
       " (3, 0.0035148408761766967)]"
      ]
     },
     "execution_count": 55,
     "metadata": {},
     "output_type": "execute_result"
    }
   ],
   "source": [
    "rankRoutes(in_pop)"
   ]
  },
  {
   "cell_type": "raw",
   "metadata": {},
   "source": [
    "Select Mating pool\n",
    "--> elitism 이용.\n",
    "이게 뭐시냐?! : Best performing individuals from population will automaticall carry over to the next generation, ensuring that the most successful individuals persist.\n",
    "\n",
    "어떤 절차로 이뤄질것인가?\n",
    "1. rankRoutes의 결과 이용해서 selection 할것. --> roulette wheel이용해 weight 계산\n",
    "2. elitism --> elitesize만큼은 최고 rankRoutes 에서 가져올것"
   ]
  },
  {
   "cell_type": "code",
   "execution_count": 56,
   "metadata": {},
   "outputs": [],
   "source": [
    "selectionResults = []\n",
    "popranked = rankRoutes(in_pop)\n",
    "df = pd.DataFrame(np.array(popranked),columns=['Index','Fitness'])"
   ]
  },
  {
   "cell_type": "code",
   "execution_count": 57,
   "metadata": {},
   "outputs": [
    {
     "data": {
      "text/html": [
       "<div>\n",
       "<style scoped>\n",
       "    .dataframe tbody tr th:only-of-type {\n",
       "        vertical-align: middle;\n",
       "    }\n",
       "\n",
       "    .dataframe tbody tr th {\n",
       "        vertical-align: top;\n",
       "    }\n",
       "\n",
       "    .dataframe thead th {\n",
       "        text-align: right;\n",
       "    }\n",
       "</style>\n",
       "<table border=\"1\" class=\"dataframe\">\n",
       "  <thead>\n",
       "    <tr style=\"text-align: right;\">\n",
       "      <th></th>\n",
       "      <th>Index</th>\n",
       "      <th>Fitness</th>\n",
       "    </tr>\n",
       "  </thead>\n",
       "  <tbody>\n",
       "    <tr>\n",
       "      <th>0</th>\n",
       "      <td>5.0</td>\n",
       "      <td>0.004737</td>\n",
       "    </tr>\n",
       "    <tr>\n",
       "      <th>1</th>\n",
       "      <td>1.0</td>\n",
       "      <td>0.004335</td>\n",
       "    </tr>\n",
       "    <tr>\n",
       "      <th>2</th>\n",
       "      <td>6.0</td>\n",
       "      <td>0.004298</td>\n",
       "    </tr>\n",
       "    <tr>\n",
       "      <th>3</th>\n",
       "      <td>2.0</td>\n",
       "      <td>0.004287</td>\n",
       "    </tr>\n",
       "    <tr>\n",
       "      <th>4</th>\n",
       "      <td>4.0</td>\n",
       "      <td>0.004254</td>\n",
       "    </tr>\n",
       "    <tr>\n",
       "      <th>5</th>\n",
       "      <td>0.0</td>\n",
       "      <td>0.004207</td>\n",
       "    </tr>\n",
       "    <tr>\n",
       "      <th>6</th>\n",
       "      <td>9.0</td>\n",
       "      <td>0.004073</td>\n",
       "    </tr>\n",
       "    <tr>\n",
       "      <th>7</th>\n",
       "      <td>8.0</td>\n",
       "      <td>0.003817</td>\n",
       "    </tr>\n",
       "    <tr>\n",
       "      <th>8</th>\n",
       "      <td>7.0</td>\n",
       "      <td>0.003719</td>\n",
       "    </tr>\n",
       "    <tr>\n",
       "      <th>9</th>\n",
       "      <td>3.0</td>\n",
       "      <td>0.003515</td>\n",
       "    </tr>\n",
       "  </tbody>\n",
       "</table>\n",
       "</div>"
      ],
      "text/plain": [
       "   Index   Fitness\n",
       "0    5.0  0.004737\n",
       "1    1.0  0.004335\n",
       "2    6.0  0.004298\n",
       "3    2.0  0.004287\n",
       "4    4.0  0.004254\n",
       "5    0.0  0.004207\n",
       "6    9.0  0.004073\n",
       "7    8.0  0.003817\n",
       "8    7.0  0.003719\n",
       "9    3.0  0.003515"
      ]
     },
     "execution_count": 57,
     "metadata": {},
     "output_type": "execute_result"
    }
   ],
   "source": [
    "df"
   ]
  },
  {
   "cell_type": "code",
   "execution_count": 58,
   "metadata": {},
   "outputs": [],
   "source": [
    "df['cum_sum']=df.Fitness.cumsum()"
   ]
  },
  {
   "cell_type": "code",
   "execution_count": 59,
   "metadata": {},
   "outputs": [
    {
     "data": {
      "text/html": [
       "<div>\n",
       "<style scoped>\n",
       "    .dataframe tbody tr th:only-of-type {\n",
       "        vertical-align: middle;\n",
       "    }\n",
       "\n",
       "    .dataframe tbody tr th {\n",
       "        vertical-align: top;\n",
       "    }\n",
       "\n",
       "    .dataframe thead th {\n",
       "        text-align: right;\n",
       "    }\n",
       "</style>\n",
       "<table border=\"1\" class=\"dataframe\">\n",
       "  <thead>\n",
       "    <tr style=\"text-align: right;\">\n",
       "      <th></th>\n",
       "      <th>Index</th>\n",
       "      <th>Fitness</th>\n",
       "      <th>cum_sum</th>\n",
       "    </tr>\n",
       "  </thead>\n",
       "  <tbody>\n",
       "    <tr>\n",
       "      <th>0</th>\n",
       "      <td>5.0</td>\n",
       "      <td>0.004737</td>\n",
       "      <td>0.004737</td>\n",
       "    </tr>\n",
       "    <tr>\n",
       "      <th>1</th>\n",
       "      <td>1.0</td>\n",
       "      <td>0.004335</td>\n",
       "      <td>0.009072</td>\n",
       "    </tr>\n",
       "    <tr>\n",
       "      <th>2</th>\n",
       "      <td>6.0</td>\n",
       "      <td>0.004298</td>\n",
       "      <td>0.013370</td>\n",
       "    </tr>\n",
       "    <tr>\n",
       "      <th>3</th>\n",
       "      <td>2.0</td>\n",
       "      <td>0.004287</td>\n",
       "      <td>0.017656</td>\n",
       "    </tr>\n",
       "    <tr>\n",
       "      <th>4</th>\n",
       "      <td>4.0</td>\n",
       "      <td>0.004254</td>\n",
       "      <td>0.021911</td>\n",
       "    </tr>\n",
       "    <tr>\n",
       "      <th>5</th>\n",
       "      <td>0.0</td>\n",
       "      <td>0.004207</td>\n",
       "      <td>0.026118</td>\n",
       "    </tr>\n",
       "    <tr>\n",
       "      <th>6</th>\n",
       "      <td>9.0</td>\n",
       "      <td>0.004073</td>\n",
       "      <td>0.030190</td>\n",
       "    </tr>\n",
       "    <tr>\n",
       "      <th>7</th>\n",
       "      <td>8.0</td>\n",
       "      <td>0.003817</td>\n",
       "      <td>0.034007</td>\n",
       "    </tr>\n",
       "    <tr>\n",
       "      <th>8</th>\n",
       "      <td>7.0</td>\n",
       "      <td>0.003719</td>\n",
       "      <td>0.037726</td>\n",
       "    </tr>\n",
       "    <tr>\n",
       "      <th>9</th>\n",
       "      <td>3.0</td>\n",
       "      <td>0.003515</td>\n",
       "      <td>0.041241</td>\n",
       "    </tr>\n",
       "  </tbody>\n",
       "</table>\n",
       "</div>"
      ],
      "text/plain": [
       "   Index   Fitness   cum_sum\n",
       "0    5.0  0.004737  0.004737\n",
       "1    1.0  0.004335  0.009072\n",
       "2    6.0  0.004298  0.013370\n",
       "3    2.0  0.004287  0.017656\n",
       "4    4.0  0.004254  0.021911\n",
       "5    0.0  0.004207  0.026118\n",
       "6    9.0  0.004073  0.030190\n",
       "7    8.0  0.003817  0.034007\n",
       "8    7.0  0.003719  0.037726\n",
       "9    3.0  0.003515  0.041241"
      ]
     },
     "execution_count": 59,
     "metadata": {},
     "output_type": "execute_result"
    }
   ],
   "source": [
    "df"
   ]
  },
  {
   "cell_type": "code",
   "execution_count": 60,
   "metadata": {},
   "outputs": [],
   "source": [
    "df['cum_perc'] = 100*df.cum_sum/df.Fitness.sum()"
   ]
  },
  {
   "cell_type": "code",
   "execution_count": 61,
   "metadata": {},
   "outputs": [
    {
     "data": {
      "text/html": [
       "<div>\n",
       "<style scoped>\n",
       "    .dataframe tbody tr th:only-of-type {\n",
       "        vertical-align: middle;\n",
       "    }\n",
       "\n",
       "    .dataframe tbody tr th {\n",
       "        vertical-align: top;\n",
       "    }\n",
       "\n",
       "    .dataframe thead th {\n",
       "        text-align: right;\n",
       "    }\n",
       "</style>\n",
       "<table border=\"1\" class=\"dataframe\">\n",
       "  <thead>\n",
       "    <tr style=\"text-align: right;\">\n",
       "      <th></th>\n",
       "      <th>Index</th>\n",
       "      <th>Fitness</th>\n",
       "      <th>cum_sum</th>\n",
       "      <th>cum_perc</th>\n",
       "    </tr>\n",
       "  </thead>\n",
       "  <tbody>\n",
       "    <tr>\n",
       "      <th>0</th>\n",
       "      <td>5.0</td>\n",
       "      <td>0.004737</td>\n",
       "      <td>0.004737</td>\n",
       "      <td>11.484888</td>\n",
       "    </tr>\n",
       "    <tr>\n",
       "      <th>1</th>\n",
       "      <td>1.0</td>\n",
       "      <td>0.004335</td>\n",
       "      <td>0.009072</td>\n",
       "      <td>21.996491</td>\n",
       "    </tr>\n",
       "    <tr>\n",
       "      <th>2</th>\n",
       "      <td>6.0</td>\n",
       "      <td>0.004298</td>\n",
       "      <td>0.013370</td>\n",
       "      <td>32.418157</td>\n",
       "    </tr>\n",
       "    <tr>\n",
       "      <th>3</th>\n",
       "      <td>2.0</td>\n",
       "      <td>0.004287</td>\n",
       "      <td>0.017656</td>\n",
       "      <td>42.812330</td>\n",
       "    </tr>\n",
       "    <tr>\n",
       "      <th>4</th>\n",
       "      <td>4.0</td>\n",
       "      <td>0.004254</td>\n",
       "      <td>0.021911</td>\n",
       "      <td>53.127904</td>\n",
       "    </tr>\n",
       "    <tr>\n",
       "      <th>5</th>\n",
       "      <td>0.0</td>\n",
       "      <td>0.004207</td>\n",
       "      <td>0.026118</td>\n",
       "      <td>63.329144</td>\n",
       "    </tr>\n",
       "    <tr>\n",
       "      <th>6</th>\n",
       "      <td>9.0</td>\n",
       "      <td>0.004073</td>\n",
       "      <td>0.030190</td>\n",
       "      <td>73.204663</td>\n",
       "    </tr>\n",
       "    <tr>\n",
       "      <th>7</th>\n",
       "      <td>8.0</td>\n",
       "      <td>0.003817</td>\n",
       "      <td>0.034007</td>\n",
       "      <td>82.459467</td>\n",
       "    </tr>\n",
       "    <tr>\n",
       "      <th>8</th>\n",
       "      <td>7.0</td>\n",
       "      <td>0.003719</td>\n",
       "      <td>0.037726</td>\n",
       "      <td>91.477359</td>\n",
       "    </tr>\n",
       "    <tr>\n",
       "      <th>9</th>\n",
       "      <td>3.0</td>\n",
       "      <td>0.003515</td>\n",
       "      <td>0.041241</td>\n",
       "      <td>100.000000</td>\n",
       "    </tr>\n",
       "  </tbody>\n",
       "</table>\n",
       "</div>"
      ],
      "text/plain": [
       "   Index   Fitness   cum_sum    cum_perc\n",
       "0    5.0  0.004737  0.004737   11.484888\n",
       "1    1.0  0.004335  0.009072   21.996491\n",
       "2    6.0  0.004298  0.013370   32.418157\n",
       "3    2.0  0.004287  0.017656   42.812330\n",
       "4    4.0  0.004254  0.021911   53.127904\n",
       "5    0.0  0.004207  0.026118   63.329144\n",
       "6    9.0  0.004073  0.030190   73.204663\n",
       "7    8.0  0.003817  0.034007   82.459467\n",
       "8    7.0  0.003719  0.037726   91.477359\n",
       "9    3.0  0.003515  0.041241  100.000000"
      ]
     },
     "execution_count": 61,
     "metadata": {},
     "output_type": "execute_result"
    }
   ],
   "source": [
    "df"
   ]
  },
  {
   "cell_type": "code",
   "execution_count": 62,
   "metadata": {},
   "outputs": [],
   "source": [
    "for i in range(0,3):\n",
    "    selectionResults.append(popranked[i][0])\n",
    "##if elitesize= 3"
   ]
  },
  {
   "cell_type": "code",
   "execution_count": 63,
   "metadata": {},
   "outputs": [
    {
     "data": {
      "text/plain": [
       "[5, 1, 6]"
      ]
     },
     "execution_count": 63,
     "metadata": {},
     "output_type": "execute_result"
    }
   ],
   "source": [
    "selectionResults"
   ]
  },
  {
   "cell_type": "code",
   "execution_count": 67,
   "metadata": {},
   "outputs": [],
   "source": [
    "for i in range(0,len(popranked)-3):\n",
    "    pick = 100*random.random()\n",
    "    for i in range(0,len(popranked)):\n",
    "        if pick<=df.iat[i,3]:\n",
    "            selectionResults.append(popranked[i][0])\n",
    "            break\n",
    "#ex) pick = 30이 나오면 2선택 후 break. 이런식으로 나머지 10개중 weight에 따라 7개 선택"
   ]
  },
  {
   "cell_type": "code",
   "execution_count": 68,
   "metadata": {},
   "outputs": [
    {
     "data": {
      "text/plain": [
       "[5, 1, 6, 1, 6, 0, 5, 0, 1, 7]"
      ]
     },
     "execution_count": 68,
     "metadata": {},
     "output_type": "execute_result"
    }
   ],
   "source": [
    "selectionResults"
   ]
  },
  {
   "cell_type": "code",
   "execution_count": 73,
   "metadata": {},
   "outputs": [],
   "source": [
    "##위의 모든 순서 한방에 처리하는 selection method 정의\n",
    "def selection(popRanked,eliteSize):\n",
    "    selectionResults=[]\n",
    "    df = pd.DataFrame(np.array(popRanked),columns=['Index','Fitness'])\n",
    "    df['cum_sum'] = df.Fitness.cumsum()\n",
    "    df['cum_perc'] = 100*df.cum_sum/df.Fitness.sum()\n",
    "    \n",
    "    for i in range(0,eliteSize):\n",
    "        selectionResults.append(popRanked[i][0])\n",
    "    for i in range(0,len(popranked)-eliteSize):\n",
    "        pick = 100*random.random()\n",
    "        for i in range(0,len(popRanked)):\n",
    "            if pick<=df.iat[i,3]:\n",
    "                selectionResults.append(popranked[i][0])\n",
    "                break\n",
    "    return selectionResults"
   ]
  },
  {
   "cell_type": "code",
   "execution_count": 75,
   "metadata": {},
   "outputs": [
    {
     "data": {
      "text/plain": [
       "[5, 1, 6, 7, 1, 5, 2, 9, 3, 1]"
      ]
     },
     "execution_count": 75,
     "metadata": {},
     "output_type": "execute_result"
    }
   ],
   "source": [
    "selection(rankRoutes(in_pop),3)\n"
   ]
  },
  {
   "cell_type": "code",
   "execution_count": null,
   "metadata": {},
   "outputs": [],
   "source": []
  }
 ],
 "metadata": {
  "kernelspec": {
   "display_name": "Python 3",
   "language": "python",
   "name": "python3"
  },
  "language_info": {
   "codemirror_mode": {
    "name": "ipython",
    "version": 3
   },
   "file_extension": ".py",
   "mimetype": "text/x-python",
   "name": "python",
   "nbconvert_exporter": "python",
   "pygments_lexer": "ipython3",
   "version": "3.7.3"
  }
 },
 "nbformat": 4,
 "nbformat_minor": 2
}
