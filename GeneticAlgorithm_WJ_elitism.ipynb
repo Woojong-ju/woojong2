{
 "cells": [
  {
   "cell_type": "markdown",
   "metadata": {},
   "source": [
    "# Genetic Algorithm \n",
    "Reference : https://towardsdatascience.com/evolution-of-a-salesman-a-complete-genetic-algorithm-tutorial-for-python-6fe5d2b3ca35"
   ]
  },
  {
   "cell_type": "raw",
   "metadata": {},
   "source": [
    "Genetic Algorithm을 이용한 TPS 문제해결.\n",
    "    - 기존 reference에 있던 TPS 문제에서 Elitism은 제외할것\n",
    "    - breeding : ordered crossover \n",
    "    - mutate : exchange(swap)\n"
   ]
  },
  {
   "cell_type": "raw",
   "metadata": {},
   "source": [
    "1. Class 구성"
   ]
  },
  {
   "cell_type": "code",
   "execution_count": 2,
   "metadata": {},
   "outputs": [],
   "source": [
    "import numpy as np, pandas as pd, matplotlib.pyplot as plt, random, operator, time"
   ]
  },
  {
   "cell_type": "code",
   "execution_count": 3,
   "metadata": {},
   "outputs": [],
   "source": [
    "#City class 구성\n",
    "class City :\n",
    "    def __init__(self,x,y):\n",
    "        self.x = x\n",
    "        self.y = y\n",
    "    \n",
    "    def distance(self,city):\n",
    "        Dis = np.sqrt((self.x-city.x)**2+(self.y-city.y)**2)\n",
    "        return Dis\n",
    "    \n",
    "    def __repr__(self):\n",
    "        return '('+str(self.x)+','+str(self.y)+')'\n",
    "    "
   ]
  },
  {
   "cell_type": "code",
   "execution_count": 4,
   "metadata": {},
   "outputs": [],
   "source": [
    "city1 = City(3,5)"
   ]
  },
  {
   "cell_type": "code",
   "execution_count": 5,
   "metadata": {},
   "outputs": [
    {
     "data": {
      "text/plain": [
       "(3,5)"
      ]
     },
     "execution_count": 5,
     "metadata": {},
     "output_type": "execute_result"
    }
   ],
   "source": [
    "city1"
   ]
  },
  {
   "cell_type": "code",
   "execution_count": 6,
   "metadata": {},
   "outputs": [],
   "source": [
    "city2 = City(5,7)"
   ]
  },
  {
   "cell_type": "code",
   "execution_count": 7,
   "metadata": {},
   "outputs": [
    {
     "data": {
      "text/plain": [
       "2.8284271247461903"
      ]
     },
     "execution_count": 7,
     "metadata": {},
     "output_type": "execute_result"
    }
   ],
   "source": [
    "city1.distance(city2)"
   ]
  },
  {
   "cell_type": "code",
   "execution_count": 8,
   "metadata": {},
   "outputs": [],
   "source": [
    "#Fitness\n",
    "class Fitness :\n",
    "    def __init__(self,route):\n",
    "        self.route = route\n",
    "        self.distance =0\n",
    "        self.fitness = 0\n",
    "        \n",
    "        \n",
    "        \n",
    "    def routeDistance(self):\n",
    "        pathdistance = 0\n",
    "        if self.distance == 0:\n",
    "            for i in range(0,len(self.route)):\n",
    "                if i+1 < len(self.route):\n",
    "                    fromCity = self.route[i]\n",
    "                    toCity = self.route[i+1]\n",
    "                    pathdistance += fromCity.distance(toCity)\n",
    "                else :\n",
    "                    fromCity = self.route[len(self.route)-1]\n",
    "                    toCity = self.route[0]\n",
    "                    pathdistance += fromCity.distance(toCity)\n",
    "        return pathdistance\n",
    "    \n",
    "    def routeFitness(self):\n",
    "        routefitness = 0\n",
    "        routedistance = self.routeDistance()\n",
    "        if self.fitness==0:\n",
    "            routefitness = 1/float(routedistance)\n",
    "            \n",
    "        return routefitness\n",
    "              "
   ]
  },
  {
   "cell_type": "code",
   "execution_count": 9,
   "metadata": {},
   "outputs": [],
   "source": [
    "route1 = []\n",
    "route1.append(city1)\n",
    "route1.append(city2)"
   ]
  },
  {
   "cell_type": "code",
   "execution_count": 10,
   "metadata": {},
   "outputs": [
    {
     "data": {
      "text/plain": [
       "[(3,5), (5,7)]"
      ]
     },
     "execution_count": 10,
     "metadata": {},
     "output_type": "execute_result"
    }
   ],
   "source": [
    "route1"
   ]
  },
  {
   "cell_type": "code",
   "execution_count": 11,
   "metadata": {},
   "outputs": [],
   "source": [
    "fitness1 = Fitness(route1).routeFitness()"
   ]
  },
  {
   "cell_type": "code",
   "execution_count": 12,
   "metadata": {},
   "outputs": [
    {
     "data": {
      "text/plain": [
       "0.17677669529663687"
      ]
     },
     "execution_count": 12,
     "metadata": {},
     "output_type": "execute_result"
    }
   ],
   "source": [
    "fitness1"
   ]
  },
  {
   "cell_type": "raw",
   "metadata": {},
   "source": [
    "2. InitialPopulation 구성하기"
   ]
  },
  {
   "cell_type": "code",
   "execution_count": 13,
   "metadata": {},
   "outputs": [],
   "source": [
    "#createRoute : CityList에서 구성된 랜덤샘플로 route구성\n",
    "def createRoute(cityList):\n",
    "    route = random.sample(cityList,len(cityList))\n",
    "    return route"
   ]
  },
  {
   "cell_type": "code",
   "execution_count": 14,
   "metadata": {},
   "outputs": [
    {
     "data": {
      "text/plain": [
       "[(3,5), (5,7)]"
      ]
     },
     "execution_count": 14,
     "metadata": {},
     "output_type": "execute_result"
    }
   ],
   "source": [
    "route1"
   ]
  },
  {
   "cell_type": "code",
   "execution_count": 15,
   "metadata": {},
   "outputs": [],
   "source": [
    "route1.append(City(8,8))"
   ]
  },
  {
   "cell_type": "code",
   "execution_count": 20,
   "metadata": {},
   "outputs": [],
   "source": [
    "route1.append(City(1,8))"
   ]
  },
  {
   "cell_type": "code",
   "execution_count": 21,
   "metadata": {},
   "outputs": [
    {
     "data": {
      "text/plain": [
       "[(3,5), (5,7), (8,8), (13,7), (6,1), (22,4), (14,18), (1,8)]"
      ]
     },
     "execution_count": 21,
     "metadata": {},
     "output_type": "execute_result"
    }
   ],
   "source": [
    "route1"
   ]
  },
  {
   "cell_type": "code",
   "execution_count": 22,
   "metadata": {},
   "outputs": [],
   "source": [
    "citylist1=route1"
   ]
  },
  {
   "cell_type": "code",
   "execution_count": 23,
   "metadata": {},
   "outputs": [
    {
     "data": {
      "text/plain": [
       "[(3,5), (5,7), (8,8), (13,7), (6,1), (22,4), (14,18), (1,8)]"
      ]
     },
     "execution_count": 23,
     "metadata": {},
     "output_type": "execute_result"
    }
   ],
   "source": [
    "citylist1"
   ]
  },
  {
   "cell_type": "code",
   "execution_count": 25,
   "metadata": {},
   "outputs": [
    {
     "data": {
      "text/plain": [
       "[(5,7), (3,5), (22,4), (13,7), (6,1), (14,18), (8,8), (1,8)]"
      ]
     },
     "execution_count": 25,
     "metadata": {},
     "output_type": "execute_result"
    }
   ],
   "source": [
    "createRoute(citylist1)"
   ]
  },
  {
   "cell_type": "code",
   "execution_count": 26,
   "metadata": {},
   "outputs": [],
   "source": [
    "#cityList,popNum입력받아 popNum개의 population 형성\n",
    "def initialPopulation(cityList,popNum):\n",
    "    population = []\n",
    "    for i in range(popNum):\n",
    "        population.append(createRoute(cityList))\n",
    "    return population"
   ]
  },
  {
   "cell_type": "code",
   "execution_count": 34,
   "metadata": {},
   "outputs": [],
   "source": [
    "a = initialPopulation(citylist1,6)"
   ]
  },
  {
   "cell_type": "code",
   "execution_count": 30,
   "metadata": {},
   "outputs": [
    {
     "data": {
      "text/plain": [
       "[[(22,4), (3,5), (5,7), (14,18), (1,8), (13,7), (8,8), (6,1)],\n",
       " [(8,8), (22,4), (14,18), (3,5), (13,7), (5,7), (1,8), (6,1)],\n",
       " [(8,8), (14,18), (13,7), (22,4), (1,8), (5,7), (6,1), (3,5)],\n",
       " [(1,8), (5,7), (22,4), (14,18), (13,7), (6,1), (8,8), (3,5)],\n",
       " [(22,4), (1,8), (5,7), (8,8), (14,18), (6,1), (3,5), (13,7)],\n",
       " [(1,8), (3,5), (5,7), (8,8), (22,4), (14,18), (13,7), (6,1)]]"
      ]
     },
     "execution_count": 30,
     "metadata": {},
     "output_type": "execute_result"
    }
   ],
   "source": [
    "a"
   ]
  },
  {
   "cell_type": "raw",
   "metadata": {},
   "source": [
    "3. Create Genetic Algorithm"
   ]
  },
  {
   "cell_type": "raw",
   "metadata": {},
   "source": [
    "1) Rank정하기\n",
    "    - Fitness 이용해 route별 rank구하기"
   ]
  },
  {
   "cell_type": "code",
   "execution_count": 65,
   "metadata": {},
   "outputs": [
    {
     "data": {
      "text/plain": [
       "[[(14,18), (5,7), (22,4), (1,8), (6,1), (13,7), (3,5), (8,8)],\n",
       " [(8,8), (1,8), (14,18), (22,4), (3,5), (13,7), (5,7), (6,1)],\n",
       " [(5,7), (6,1), (22,4), (3,5), (8,8), (1,8), (13,7), (14,18)],\n",
       " [(6,1), (14,18), (13,7), (1,8), (8,8), (22,4), (5,7), (3,5)],\n",
       " [(13,7), (22,4), (8,8), (6,1), (14,18), (5,7), (3,5), (1,8)],\n",
       " [(8,8), (1,8), (14,18), (13,7), (3,5), (22,4), (6,1), (5,7)]]"
      ]
     },
     "execution_count": 65,
     "metadata": {},
     "output_type": "execute_result"
    }
   ],
   "source": [
    "a"
   ]
  },
  {
   "cell_type": "code",
   "execution_count": 36,
   "metadata": {},
   "outputs": [],
   "source": [
    "poprank = {}\n",
    "for i in range(len(a)):\n",
    "    fitness = Fitness(a[i]).routeFitness()\n",
    "    poprank[i]=fitness\n",
    "\n"
   ]
  },
  {
   "cell_type": "code",
   "execution_count": 37,
   "metadata": {
    "scrolled": true
   },
   "outputs": [
    {
     "data": {
      "text/plain": [
       "{0: 0.010166148447710332,\n",
       " 1: 0.011097184883813045,\n",
       " 2: 0.010926757456090449,\n",
       " 3: 0.011296043250352534,\n",
       " 4: 0.012076754986463644,\n",
       " 5: 0.011211418691495922}"
      ]
     },
     "execution_count": 37,
     "metadata": {},
     "output_type": "execute_result"
    }
   ],
   "source": [
    "poprank"
   ]
  },
  {
   "cell_type": "code",
   "execution_count": 38,
   "metadata": {},
   "outputs": [],
   "source": [
    "\n",
    "routerank = sorted(poprank.items(),key = operator.itemgetter(1),reverse=True)\n"
   ]
  },
  {
   "cell_type": "code",
   "execution_count": 39,
   "metadata": {},
   "outputs": [
    {
     "data": {
      "text/plain": [
       "[(4, 0.012076754986463644),\n",
       " (3, 0.011296043250352534),\n",
       " (5, 0.011211418691495922),\n",
       " (1, 0.011097184883813045),\n",
       " (2, 0.010926757456090449),\n",
       " (0, 0.010166148447710332)]"
      ]
     },
     "execution_count": 39,
     "metadata": {},
     "output_type": "execute_result"
    }
   ],
   "source": [
    "routerank"
   ]
  },
  {
   "cell_type": "code",
   "execution_count": 40,
   "metadata": {},
   "outputs": [],
   "source": [
    "df = pd.DataFrame(routerank,columns=['Index','Fitness'])"
   ]
  },
  {
   "cell_type": "code",
   "execution_count": 41,
   "metadata": {},
   "outputs": [
    {
     "data": {
      "text/html": [
       "<div>\n",
       "<style scoped>\n",
       "    .dataframe tbody tr th:only-of-type {\n",
       "        vertical-align: middle;\n",
       "    }\n",
       "\n",
       "    .dataframe tbody tr th {\n",
       "        vertical-align: top;\n",
       "    }\n",
       "\n",
       "    .dataframe thead th {\n",
       "        text-align: right;\n",
       "    }\n",
       "</style>\n",
       "<table border=\"1\" class=\"dataframe\">\n",
       "  <thead>\n",
       "    <tr style=\"text-align: right;\">\n",
       "      <th></th>\n",
       "      <th>Index</th>\n",
       "      <th>Fitness</th>\n",
       "      <th>cum_sum</th>\n",
       "      <th>cum_perc</th>\n",
       "    </tr>\n",
       "  </thead>\n",
       "  <tbody>\n",
       "    <tr>\n",
       "      <td>0</td>\n",
       "      <td>4</td>\n",
       "      <td>0.012077</td>\n",
       "      <td>0.012077</td>\n",
       "      <td>18.085931</td>\n",
       "    </tr>\n",
       "    <tr>\n",
       "      <td>1</td>\n",
       "      <td>3</td>\n",
       "      <td>0.011296</td>\n",
       "      <td>0.023373</td>\n",
       "      <td>35.002681</td>\n",
       "    </tr>\n",
       "    <tr>\n",
       "      <td>2</td>\n",
       "      <td>5</td>\n",
       "      <td>0.011211</td>\n",
       "      <td>0.034584</td>\n",
       "      <td>51.792700</td>\n",
       "    </tr>\n",
       "    <tr>\n",
       "      <td>3</td>\n",
       "      <td>1</td>\n",
       "      <td>0.011097</td>\n",
       "      <td>0.045681</td>\n",
       "      <td>68.411644</td>\n",
       "    </tr>\n",
       "    <tr>\n",
       "      <td>4</td>\n",
       "      <td>2</td>\n",
       "      <td>0.010927</td>\n",
       "      <td>0.056608</td>\n",
       "      <td>84.775359</td>\n",
       "    </tr>\n",
       "    <tr>\n",
       "      <td>5</td>\n",
       "      <td>0</td>\n",
       "      <td>0.010166</td>\n",
       "      <td>0.066774</td>\n",
       "      <td>100.000000</td>\n",
       "    </tr>\n",
       "  </tbody>\n",
       "</table>\n",
       "</div>"
      ],
      "text/plain": [
       "   Index   Fitness   cum_sum    cum_perc\n",
       "0      4  0.012077  0.012077   18.085931\n",
       "1      3  0.011296  0.023373   35.002681\n",
       "2      5  0.011211  0.034584   51.792700\n",
       "3      1  0.011097  0.045681   68.411644\n",
       "4      2  0.010927  0.056608   84.775359\n",
       "5      0  0.010166  0.066774  100.000000"
      ]
     },
     "execution_count": 41,
     "metadata": {},
     "output_type": "execute_result"
    }
   ],
   "source": [
    "df['cum_sum'] = df['Fitness'].cumsum()\n",
    "df['cum_perc'] = 100*df['cum_sum']/df['Fitness'].sum()\n",
    "df"
   ]
  },
  {
   "cell_type": "code",
   "execution_count": 42,
   "metadata": {},
   "outputs": [
    {
     "data": {
      "text/plain": [
       "0    0.012077\n",
       "1    0.011296\n",
       "2    0.011211\n",
       "3    0.011097\n",
       "4    0.010927\n",
       "5    0.010166\n",
       "Name: Fitness, dtype: float64"
      ]
     },
     "execution_count": 42,
     "metadata": {},
     "output_type": "execute_result"
    }
   ],
   "source": [
    "df['Fitness']"
   ]
  },
  {
   "cell_type": "code",
   "execution_count": 43,
   "metadata": {},
   "outputs": [],
   "source": [
    "#rankRoutes로 population의 route중 fitness좋은것부터\n",
    "#순서대로 (index,fitness)형태로 출력\n",
    "def rankRoutes(population):\n",
    "    poprank = {}\n",
    "    for i in range(len(population)):\n",
    "        fitness = Fitness(population[i]).routeFitness()\n",
    "        poprank[i]=fitness\n",
    "    return sorted(poprank.items(),key = operator.itemgetter(1),reverse=True)\n"
   ]
  },
  {
   "cell_type": "code",
   "execution_count": 44,
   "metadata": {},
   "outputs": [
    {
     "data": {
      "text/plain": [
       "[(4, 0.012076754986463644),\n",
       " (3, 0.011296043250352534),\n",
       " (5, 0.011211418691495922),\n",
       " (1, 0.011097184883813045),\n",
       " (2, 0.010926757456090449),\n",
       " (0, 0.010166148447710332)]"
      ]
     },
     "execution_count": 44,
     "metadata": {},
     "output_type": "execute_result"
    }
   ],
   "source": [
    "rankRoutes(a)"
   ]
  },
  {
   "cell_type": "code",
   "execution_count": 51,
   "metadata": {},
   "outputs": [],
   "source": [
    "#roulette wheel이용해서 selection. population length만큼 선택하기.\n",
    "#elitism추가\n",
    "def selection(popRank,elitesize):\n",
    "    selected = []\n",
    "    df = pd.DataFrame(popRank,columns=['Index','Fitness'])\n",
    "    df['cum_sum']=df['Fitness'].cumsum()\n",
    "    df['cum_perc']=df['cum_sum']*100/df['Fitness'].sum()\n",
    "    for i in range(elitesize):\n",
    "        selected.append(popRank[i])\n",
    "    for i in range(len(popRank)-elitesize):\n",
    "        pick = random.random()*100\n",
    "        for k in range(len(popRank)):\n",
    "            if pick < df.iloc[k,3]:\n",
    "                selected.append(popRank[k])\n",
    "                break\n",
    "    return selected\n",
    "                \n",
    "        \n",
    "    "
   ]
  },
  {
   "cell_type": "code",
   "execution_count": 52,
   "metadata": {},
   "outputs": [
    {
     "data": {
      "text/plain": [
       "35.00268147481172"
      ]
     },
     "execution_count": 52,
     "metadata": {},
     "output_type": "execute_result"
    }
   ],
   "source": [
    "df.iloc[1,3]"
   ]
  },
  {
   "cell_type": "code",
   "execution_count": 53,
   "metadata": {},
   "outputs": [
    {
     "data": {
      "text/html": [
       "<div>\n",
       "<style scoped>\n",
       "    .dataframe tbody tr th:only-of-type {\n",
       "        vertical-align: middle;\n",
       "    }\n",
       "\n",
       "    .dataframe tbody tr th {\n",
       "        vertical-align: top;\n",
       "    }\n",
       "\n",
       "    .dataframe thead th {\n",
       "        text-align: right;\n",
       "    }\n",
       "</style>\n",
       "<table border=\"1\" class=\"dataframe\">\n",
       "  <thead>\n",
       "    <tr style=\"text-align: right;\">\n",
       "      <th></th>\n",
       "      <th>Index</th>\n",
       "      <th>Fitness</th>\n",
       "      <th>cum_sum</th>\n",
       "      <th>cum_perc</th>\n",
       "    </tr>\n",
       "  </thead>\n",
       "  <tbody>\n",
       "    <tr>\n",
       "      <td>0</td>\n",
       "      <td>4</td>\n",
       "      <td>0.012077</td>\n",
       "      <td>0.012077</td>\n",
       "      <td>18.085931</td>\n",
       "    </tr>\n",
       "    <tr>\n",
       "      <td>1</td>\n",
       "      <td>3</td>\n",
       "      <td>0.011296</td>\n",
       "      <td>0.023373</td>\n",
       "      <td>35.002681</td>\n",
       "    </tr>\n",
       "    <tr>\n",
       "      <td>2</td>\n",
       "      <td>5</td>\n",
       "      <td>0.011211</td>\n",
       "      <td>0.034584</td>\n",
       "      <td>51.792700</td>\n",
       "    </tr>\n",
       "    <tr>\n",
       "      <td>3</td>\n",
       "      <td>1</td>\n",
       "      <td>0.011097</td>\n",
       "      <td>0.045681</td>\n",
       "      <td>68.411644</td>\n",
       "    </tr>\n",
       "    <tr>\n",
       "      <td>4</td>\n",
       "      <td>2</td>\n",
       "      <td>0.010927</td>\n",
       "      <td>0.056608</td>\n",
       "      <td>84.775359</td>\n",
       "    </tr>\n",
       "    <tr>\n",
       "      <td>5</td>\n",
       "      <td>0</td>\n",
       "      <td>0.010166</td>\n",
       "      <td>0.066774</td>\n",
       "      <td>100.000000</td>\n",
       "    </tr>\n",
       "  </tbody>\n",
       "</table>\n",
       "</div>"
      ],
      "text/plain": [
       "   Index   Fitness   cum_sum    cum_perc\n",
       "0      4  0.012077  0.012077   18.085931\n",
       "1      3  0.011296  0.023373   35.002681\n",
       "2      5  0.011211  0.034584   51.792700\n",
       "3      1  0.011097  0.045681   68.411644\n",
       "4      2  0.010927  0.056608   84.775359\n",
       "5      0  0.010166  0.066774  100.000000"
      ]
     },
     "execution_count": 53,
     "metadata": {},
     "output_type": "execute_result"
    }
   ],
   "source": [
    "df"
   ]
  },
  {
   "cell_type": "code",
   "execution_count": 60,
   "metadata": {},
   "outputs": [],
   "source": [
    "selc= selection(routerank,3)"
   ]
  },
  {
   "cell_type": "code",
   "execution_count": 61,
   "metadata": {
    "scrolled": true
   },
   "outputs": [
    {
     "data": {
      "text/plain": [
       "[(4, 0.012076754986463644),\n",
       " (3, 0.011296043250352534),\n",
       " (5, 0.011211418691495922),\n",
       " (3, 0.011296043250352534),\n",
       " (0, 0.010166148447710332),\n",
       " (5, 0.011211418691495922)]"
      ]
     },
     "execution_count": 61,
     "metadata": {},
     "output_type": "execute_result"
    }
   ],
   "source": [
    "selc"
   ]
  },
  {
   "cell_type": "code",
   "execution_count": 62,
   "metadata": {},
   "outputs": [
    {
     "data": {
      "text/plain": [
       "3"
      ]
     },
     "execution_count": 62,
     "metadata": {},
     "output_type": "execute_result"
    }
   ],
   "source": [
    "selc[1][0]"
   ]
  },
  {
   "cell_type": "code",
   "execution_count": 63,
   "metadata": {},
   "outputs": [],
   "source": [
    "#selection 결과 바탕으로 matingpool형성\n",
    "#elitism추가\n",
    "def matingpool(selected,population):\n",
    "    #population에서 룰렛휠로 selected된 route들로 mating pool 형성\n",
    "    index = []\n",
    "    for i in range(len(selected)):\n",
    "        index.append(selected[i][0])\n",
    "    pool = []\n",
    "    for i in range(len(index)):\n",
    "        pool.append(population[index[i]])\n",
    "    return pool    \n",
    "    \n",
    "    \n",
    "           "
   ]
  },
  {
   "cell_type": "code",
   "execution_count": 64,
   "metadata": {},
   "outputs": [
    {
     "data": {
      "text/plain": [
       "[[(13,7), (22,4), (8,8), (6,1), (14,18), (5,7), (3,5), (1,8)],\n",
       " [(6,1), (14,18), (13,7), (1,8), (8,8), (22,4), (5,7), (3,5)],\n",
       " [(8,8), (1,8), (14,18), (13,7), (3,5), (22,4), (6,1), (5,7)],\n",
       " [(6,1), (14,18), (13,7), (1,8), (8,8), (22,4), (5,7), (3,5)],\n",
       " [(14,18), (5,7), (22,4), (1,8), (6,1), (13,7), (3,5), (8,8)],\n",
       " [(8,8), (1,8), (14,18), (13,7), (3,5), (22,4), (6,1), (5,7)]]"
      ]
     },
     "execution_count": 64,
     "metadata": {},
     "output_type": "execute_result"
    }
   ],
   "source": [
    "matingpool(selc,a)"
   ]
  },
  {
   "cell_type": "code",
   "execution_count": 66,
   "metadata": {},
   "outputs": [
    {
     "data": {
      "text/plain": [
       "[[(14,18), (5,7), (22,4), (1,8), (6,1), (13,7), (3,5), (8,8)],\n",
       " [(8,8), (1,8), (14,18), (22,4), (3,5), (13,7), (5,7), (6,1)],\n",
       " [(5,7), (6,1), (22,4), (3,5), (8,8), (1,8), (13,7), (14,18)],\n",
       " [(6,1), (14,18), (13,7), (1,8), (8,8), (22,4), (5,7), (3,5)],\n",
       " [(13,7), (22,4), (8,8), (6,1), (14,18), (5,7), (3,5), (1,8)],\n",
       " [(8,8), (1,8), (14,18), (13,7), (3,5), (22,4), (6,1), (5,7)]]"
      ]
     },
     "execution_count": 66,
     "metadata": {},
     "output_type": "execute_result"
    }
   ],
   "source": [
    "a"
   ]
  },
  {
   "cell_type": "code",
   "execution_count": 67,
   "metadata": {},
   "outputs": [],
   "source": [
    "#breed...\n",
    "parent1 = random.sample(a,1)\n",
    "parent2 = random.sample(a,1)\n",
    "abs1 = random.randint(0,len(parent1[0]))\n",
    "abs2 = random.randint(0,len(parent2[0]))\n",
    "child1 =[]\n",
    "for i in range(min(abs1,abs2),max(abs1,abs2)):\n",
    "    child1.append(parent1[0][i])\n",
    "child2 = [val for val in parent2[0] if val not in child1]\n",
    "Child = child1+child2"
   ]
  },
  {
   "cell_type": "code",
   "execution_count": 68,
   "metadata": {},
   "outputs": [
    {
     "data": {
      "text/plain": [
       "[(14,18), (22,4)]"
      ]
     },
     "execution_count": 68,
     "metadata": {},
     "output_type": "execute_result"
    }
   ],
   "source": [
    "child1"
   ]
  },
  {
   "cell_type": "code",
   "execution_count": 69,
   "metadata": {},
   "outputs": [
    {
     "data": {
      "text/plain": [
       "[[(8,8), (1,8), (14,18), (22,4), (3,5), (13,7), (5,7), (6,1)]]"
      ]
     },
     "execution_count": 69,
     "metadata": {},
     "output_type": "execute_result"
    }
   ],
   "source": [
    "parent2"
   ]
  },
  {
   "cell_type": "code",
   "execution_count": 70,
   "metadata": {},
   "outputs": [
    {
     "data": {
      "text/plain": [
       "[(8,8), (1,8), (3,5), (13,7), (5,7), (6,1)]"
      ]
     },
     "execution_count": 70,
     "metadata": {},
     "output_type": "execute_result"
    }
   ],
   "source": [
    "child2"
   ]
  },
  {
   "cell_type": "code",
   "execution_count": 71,
   "metadata": {
    "scrolled": true
   },
   "outputs": [
    {
     "data": {
      "text/plain": [
       "[[(8,8), (1,8), (14,18), (22,4), (3,5), (13,7), (5,7), (6,1)]]"
      ]
     },
     "execution_count": 71,
     "metadata": {},
     "output_type": "execute_result"
    }
   ],
   "source": [
    "parent1"
   ]
  },
  {
   "cell_type": "code",
   "execution_count": 72,
   "metadata": {},
   "outputs": [
    {
     "data": {
      "text/plain": [
       "[(14,18), (22,4), (8,8), (1,8), (3,5), (13,7), (5,7), (6,1)]"
      ]
     },
     "execution_count": 72,
     "metadata": {},
     "output_type": "execute_result"
    }
   ],
   "source": [
    "Child"
   ]
  },
  {
   "cell_type": "code",
   "execution_count": 73,
   "metadata": {},
   "outputs": [],
   "source": [
    "def breed(parent1,parent2):\n",
    "    child1 = []\n",
    "    abs1 = random.randint(0,len(parent1))\n",
    "    abs2 = random.randint(0,len(parent2))\n",
    "    child1 = []\n",
    "    for i in range(min(abs1,abs2),max(abs1,abs2)):\n",
    "        child1.append(parent1[i])\n",
    "    child2 = [val for val in parent2 if val not in child1]\n",
    "    Child = child1+child2\n",
    "    return Child"
   ]
  },
  {
   "cell_type": "code",
   "execution_count": 74,
   "metadata": {},
   "outputs": [],
   "source": [
    "pool = matingpool(selc,a)"
   ]
  },
  {
   "cell_type": "code",
   "execution_count": 75,
   "metadata": {},
   "outputs": [
    {
     "data": {
      "text/plain": [
       "[[(13,7), (22,4), (8,8), (6,1), (14,18), (5,7), (3,5), (1,8)],\n",
       " [(6,1), (14,18), (13,7), (1,8), (8,8), (22,4), (5,7), (3,5)],\n",
       " [(8,8), (1,8), (14,18), (13,7), (3,5), (22,4), (6,1), (5,7)],\n",
       " [(6,1), (14,18), (13,7), (1,8), (8,8), (22,4), (5,7), (3,5)],\n",
       " [(14,18), (5,7), (22,4), (1,8), (6,1), (13,7), (3,5), (8,8)],\n",
       " [(8,8), (1,8), (14,18), (13,7), (3,5), (22,4), (6,1), (5,7)]]"
      ]
     },
     "execution_count": 75,
     "metadata": {},
     "output_type": "execute_result"
    }
   ],
   "source": [
    "pool"
   ]
  },
  {
   "cell_type": "code",
   "execution_count": 76,
   "metadata": {
    "scrolled": true
   },
   "outputs": [
    {
     "data": {
      "text/plain": [
       "[(6,1), (14,18), (13,7), (1,8), (8,8), (22,4), (5,7), (3,5)]"
      ]
     },
     "execution_count": 76,
     "metadata": {},
     "output_type": "execute_result"
    }
   ],
   "source": [
    "pool[1]"
   ]
  },
  {
   "cell_type": "code",
   "execution_count": 77,
   "metadata": {},
   "outputs": [],
   "source": [
    "def breedpopulation(pool,elitesize):\n",
    "    breedpop = []\n",
    "    for i in range(elitesize):\n",
    "        breedpop.append(pool[i])\n",
    "    for i in range(len(pool)-elitesize):\n",
    "        parent1 = pool[int(random.random()*len(pool))]\n",
    "        parent2 = pool[int(random.random()*len(pool))]\n",
    "        breedpop.append(breed(parent1,parent2))\n",
    "    return breedpop\n",
    "#pool에서 랜덤한 부모 2명 추출-> breed\n",
    "#pool length(=popnum)만큼 breedpopulation(자손pop)생성"
   ]
  },
  {
   "cell_type": "code",
   "execution_count": 79,
   "metadata": {},
   "outputs": [],
   "source": [
    "brpop = breedpopulation(pool,3)"
   ]
  },
  {
   "cell_type": "code",
   "execution_count": 80,
   "metadata": {},
   "outputs": [
    {
     "data": {
      "text/plain": [
       "[[(13,7), (22,4), (8,8), (6,1), (14,18), (5,7), (3,5), (1,8)],\n",
       " [(6,1), (14,18), (13,7), (1,8), (8,8), (22,4), (5,7), (3,5)],\n",
       " [(8,8), (1,8), (14,18), (13,7), (3,5), (22,4), (6,1), (5,7)],\n",
       " [(3,5), (22,4), (6,1), (5,7), (13,7), (8,8), (14,18), (1,8)],\n",
       " [(6,1), (14,18), (13,7), (1,8), (8,8), (22,4), (5,7), (3,5)],\n",
       " [(6,1), (13,7), (3,5), (22,4), (8,8), (14,18), (5,7), (1,8)]]"
      ]
     },
     "execution_count": 80,
     "metadata": {},
     "output_type": "execute_result"
    }
   ],
   "source": [
    "brpop"
   ]
  },
  {
   "cell_type": "code",
   "execution_count": 81,
   "metadata": {},
   "outputs": [],
   "source": [
    "def mutate(breedroute):\n",
    "    index1 = int(random.random()*len(breedroute))\n",
    "    index2 = int(random.random()*len(breedroute))\n",
    "    change1 = breedroute[index1]\n",
    "    change2 = breedroute[index2]\n",
    "    breedroute[index1] = change2\n",
    "    breedroute[index2] = change1\n",
    "    return breedroute\n",
    "            \n",
    "        \n",
    "    "
   ]
  },
  {
   "cell_type": "code",
   "execution_count": 82,
   "metadata": {},
   "outputs": [],
   "source": [
    "def mutatepopulation(breedpop,mutationrate):\n",
    "    for i in range(len(breedpop)):\n",
    "        rate = random.random()\n",
    "        if rate < mutationrate:\n",
    "            mutate(breedpop[i])\n",
    "        \n",
    "    return breedpop"
   ]
  },
  {
   "cell_type": "code",
   "execution_count": 83,
   "metadata": {},
   "outputs": [
    {
     "data": {
      "text/plain": [
       "[[(13,7), (22,4), (8,8), (6,1), (14,18), (5,7), (3,5), (1,8)],\n",
       " [(6,1), (14,18), (13,7), (1,8), (8,8), (22,4), (5,7), (3,5)],\n",
       " [(8,8), (1,8), (14,18), (13,7), (3,5), (22,4), (6,1), (5,7)],\n",
       " [(3,5), (22,4), (6,1), (5,7), (13,7), (8,8), (14,18), (1,8)],\n",
       " [(6,1), (14,18), (13,7), (1,8), (8,8), (22,4), (5,7), (3,5)],\n",
       " [(6,1), (13,7), (3,5), (22,4), (8,8), (14,18), (5,7), (1,8)]]"
      ]
     },
     "execution_count": 83,
     "metadata": {},
     "output_type": "execute_result"
    }
   ],
   "source": [
    "brpop"
   ]
  },
  {
   "cell_type": "code",
   "execution_count": 85,
   "metadata": {},
   "outputs": [
    {
     "data": {
      "text/plain": [
       "[[(8,8), (22,4), (13,7), (6,1), (14,18), (5,7), (3,5), (1,8)],\n",
       " [(6,1), (14,18), (13,7), (1,8), (8,8), (22,4), (5,7), (3,5)],\n",
       " [(8,8), (1,8), (14,18), (13,7), (3,5), (22,4), (6,1), (5,7)],\n",
       " [(8,8), (22,4), (6,1), (5,7), (13,7), (3,5), (14,18), (1,8)],\n",
       " [(6,1), (14,18), (13,7), (1,8), (8,8), (22,4), (5,7), (3,5)],\n",
       " [(6,1), (13,7), (3,5), (22,4), (8,8), (14,18), (5,7), (1,8)]]"
      ]
     },
     "execution_count": 85,
     "metadata": {},
     "output_type": "execute_result"
    }
   ],
   "source": [
    "mutatepopulation(brpop,0.3)"
   ]
  },
  {
   "cell_type": "code",
   "execution_count": 86,
   "metadata": {
    "scrolled": true
   },
   "outputs": [
    {
     "data": {
      "text/plain": [
       "[[(8,8), (22,4), (13,7), (6,1), (14,18), (5,7), (3,5), (1,8)],\n",
       " [(6,1), (14,18), (13,7), (1,8), (8,8), (22,4), (5,7), (3,5)],\n",
       " [(8,8), (1,8), (14,18), (13,7), (3,5), (22,4), (6,1), (5,7)],\n",
       " [(8,8), (22,4), (6,1), (5,7), (13,7), (3,5), (14,18), (1,8)],\n",
       " [(6,1), (14,18), (13,7), (1,8), (8,8), (22,4), (5,7), (3,5)],\n",
       " [(6,1), (13,7), (3,5), (22,4), (8,8), (14,18), (5,7), (1,8)]]"
      ]
     },
     "execution_count": 86,
     "metadata": {},
     "output_type": "execute_result"
    }
   ],
   "source": [
    "brpop"
   ]
  },
  {
   "cell_type": "code",
   "execution_count": 89,
   "metadata": {},
   "outputs": [],
   "source": [
    "def nextGeneration(population,mutationrate,elitesize):\n",
    "    rank = rankRoutes(population)\n",
    "    selected = selection(rank,elitesize)\n",
    "    pool = matingpool(selected,population)\n",
    "    breedpop = breedpopulation(pool,elitesize)\n",
    "    nextpop = mutatepopulation(breedpop,mutationrate)\n",
    "    return nextpop\n",
    "    \n",
    "    "
   ]
  },
  {
   "cell_type": "code",
   "execution_count": 95,
   "metadata": {},
   "outputs": [
    {
     "data": {
      "text/plain": [
       "[[(8,8), (22,4), (14,18), (6,1), (13,7), (5,7), (3,5), (1,8)],\n",
       " [(6,1), (14,18), (5,7), (1,8), (8,8), (22,4), (13,7), (3,5)],\n",
       " [(8,8), (1,8), (14,18), (13,7), (3,5), (22,4), (6,1), (5,7)],\n",
       " [(8,8), (22,4), (14,18), (6,1), (13,7), (5,7), (3,5), (1,8)],\n",
       " [(6,1), (13,7), (5,7), (3,5), (8,8), (22,4), (14,18), (1,8)],\n",
       " [(13,7), (1,8), (8,8), (22,4), (5,7), (6,1), (3,5), (14,18)]]"
      ]
     },
     "execution_count": 95,
     "metadata": {},
     "output_type": "execute_result"
    }
   ],
   "source": [
    "nextGeneration(brpop,0.2,3)"
   ]
  },
  {
   "cell_type": "raw",
   "metadata": {},
   "source": [
    "Genetic Algorithm 통합 & 돌리기!"
   ]
  },
  {
   "cell_type": "code",
   "execution_count": 102,
   "metadata": {},
   "outputs": [],
   "source": [
    "def GeneticAlgorithm(cityList,popSize,mutationrate,elitesize,GenNum):\n",
    "    start = time.time()\n",
    "    pop = initialPopulation(cityList,popSize)\n",
    "    progress = []\n",
    "    bestroute= pop[rankRoutes(pop)[0][0]]\n",
    "    Finaldistance = 1/rankRoutes(pop)[0][1]\n",
    "    progress.append(1/rankRoutes(pop)[0][1])\n",
    "    print('First Distance :'+str(1/rankRoutes(pop)[0][1]))\n",
    "    for i in range(GenNum):\n",
    "        pop = nextGeneration(pop,mutationrate,elitesize)\n",
    "        progress.append(1/rankRoutes(pop)[0][1])\n",
    "        if Finaldistance > 1/rankRoutes(pop)[0][1]:\n",
    "            bestroute = pop[rankRoutes(pop)[0][0]]\n",
    "            Finaldistance = 1/rankRoutes(pop)[0][1]\n",
    "        \n",
    "    print('Final Distance :'+str(Finaldistance))\n",
    "    finish = time.time()\n",
    "    print('Time :' +str(finish-start))\n",
    "    \n",
    "    plt.plot(progress)\n",
    "    plt.xlabel('Generation')\n",
    "    plt.ylabel('Distance')\n",
    "    plt.show()\n",
    "    return bestroute"
   ]
  },
  {
   "cell_type": "code",
   "execution_count": 97,
   "metadata": {},
   "outputs": [],
   "source": [
    "cityList = []\n",
    "for i in range(35):\n",
    "    cityList.append(City(random.randint(0,100),random.randint(0,100)))"
   ]
  },
  {
   "cell_type": "code",
   "execution_count": 98,
   "metadata": {},
   "outputs": [
    {
     "data": {
      "text/plain": [
       "[(88,99),\n",
       " (45,49),\n",
       " (84,27),\n",
       " (1,27),\n",
       " (3,76),\n",
       " (62,48),\n",
       " (7,40),\n",
       " (15,61),\n",
       " (7,22),\n",
       " (44,95),\n",
       " (5,30),\n",
       " (35,81),\n",
       " (53,55),\n",
       " (95,17),\n",
       " (78,29),\n",
       " (89,62),\n",
       " (23,55),\n",
       " (27,51),\n",
       " (65,19),\n",
       " (77,35),\n",
       " (24,3),\n",
       " (42,48),\n",
       " (55,0),\n",
       " (26,83),\n",
       " (49,80),\n",
       " (37,58),\n",
       " (79,89),\n",
       " (58,74),\n",
       " (85,3),\n",
       " (70,73),\n",
       " (78,43),\n",
       " (55,38),\n",
       " (44,98),\n",
       " (68,57),\n",
       " (16,43)]"
      ]
     },
     "execution_count": 98,
     "metadata": {},
     "output_type": "execute_result"
    }
   ],
   "source": [
    "cityList"
   ]
  },
  {
   "cell_type": "code",
   "execution_count": 103,
   "metadata": {},
   "outputs": [
    {
     "name": "stdout",
     "output_type": "stream",
     "text": [
      "First Distance :1535.0268191200187\n",
      "Final Distance :545.2290151434154\n",
      "Time :24.447136640548706\n"
     ]
    },
    {
     "data": {
      "image/png": "[encoded data removed]",
      "text/plain": [
       "<Figure size 432x288 with 1 Axes>"
      ]
     },
     "metadata": {
      "needs_background": "light"
     },
     "output_type": "display_data"
    },
    {
     "data": {
      "text/plain": [
       "[(58,74),\n",
       " (49,80),\n",
       " (35,81),\n",
       " (26,83),\n",
       " (44,98),\n",
       " (44,95),\n",
       " (70,73),\n",
       " (79,89),\n",
       " (88,99),\n",
       " (89,62),\n",
       " (78,43),\n",
       " (77,35),\n",
       " (78,29),\n",
       " (7,40),\n",
       " (95,17),\n",
       " (85,3),\n",
       " (65,19),\n",
       " (55,0),\n",
       " (24,3),\n",
       " (7,22),\n",
       " (1,27),\n",
       " (5,30),\n",
       " (84,27),\n",
       " (16,43),\n",
       " (3,76),\n",
       " (15,61),\n",
       " (23,55),\n",
       " (27,51),\n",
       " (37,58),\n",
       " (53,55),\n",
       " (45,49),\n",
       " (42,48),\n",
       " (55,38),\n",
       " (62,48),\n",
       " (68,57)]"
      ]
     },
     "execution_count": 103,
     "metadata": {},
     "output_type": "execute_result"
    }
   ],
   "source": [
    "GeneticAlgorithm(cityList,50,0.1,10,1000)"
   ]
  },
  {
   "cell_type": "code",
   "execution_count": 105,
   "metadata": {},
   "outputs": [],
   "source": [
    "inipop = initialPopulation(cityList,10)"
   ]
  },
  {
   "cell_type": "code",
   "execution_count": 106,
   "metadata": {},
   "outputs": [
    {
     "data": {
      "text/plain": [
       "[[(12,0),\n",
       "  (45,85),\n",
       "  (10,44),\n",
       "  (80,88),\n",
       "  (97,59),\n",
       "  (13,40),\n",
       "  (18,64),\n",
       "  (46,83),\n",
       "  (33,21),\n",
       "  (12,82),\n",
       "  (58,9),\n",
       "  (89,58),\n",
       "  (95,41),\n",
       "  (76,6),\n",
       "  (42,61)],\n",
       " [(42,61),\n",
       "  (13,40),\n",
       "  (46,83),\n",
       "  (10,44),\n",
       "  (12,0),\n",
       "  (97,59),\n",
       "  (12,82),\n",
       "  (18,64),\n",
       "  (89,58),\n",
       "  (76,6),\n",
       "  (58,9),\n",
       "  (95,41),\n",
       "  (45,85),\n",
       "  (80,88),\n",
       "  (33,21)],\n",
       " [(97,59),\n",
       "  (80,88),\n",
       "  (12,0),\n",
       "  (12,82),\n",
       "  (42,61),\n",
       "  (89,58),\n",
       "  (18,64),\n",
       "  (45,85),\n",
       "  (58,9),\n",
       "  (13,40),\n",
       "  (10,44),\n",
       "  (95,41),\n",
       "  (76,6),\n",
       "  (46,83),\n",
       "  (33,21)],\n",
       " [(12,82),\n",
       "  (42,61),\n",
       "  (12,0),\n",
       "  (18,64),\n",
       "  (33,21),\n",
       "  (80,88),\n",
       "  (89,58),\n",
       "  (58,9),\n",
       "  (45,85),\n",
       "  (10,44),\n",
       "  (76,6),\n",
       "  (95,41),\n",
       "  (97,59),\n",
       "  (46,83),\n",
       "  (13,40)],\n",
       " [(13,40),\n",
       "  (80,88),\n",
       "  (45,85),\n",
       "  (12,0),\n",
       "  (33,21),\n",
       "  (89,58),\n",
       "  (76,6),\n",
       "  (97,59),\n",
       "  (95,41),\n",
       "  (10,44),\n",
       "  (12,82),\n",
       "  (42,61),\n",
       "  (18,64),\n",
       "  (58,9),\n",
       "  (46,83)],\n",
       " [(58,9),\n",
       "  (89,58),\n",
       "  (13,40),\n",
       "  (95,41),\n",
       "  (12,82),\n",
       "  (12,0),\n",
       "  (97,59),\n",
       "  (33,21),\n",
       "  (42,61),\n",
       "  (10,44),\n",
       "  (18,64),\n",
       "  (80,88),\n",
       "  (46,83),\n",
       "  (45,85),\n",
       "  (76,6)],\n",
       " [(13,40),\n",
       "  (97,59),\n",
       "  (45,85),\n",
       "  (46,83),\n",
       "  (76,6),\n",
       "  (89,58),\n",
       "  (33,21),\n",
       "  (12,0),\n",
       "  (10,44),\n",
       "  (95,41),\n",
       "  (12,82),\n",
       "  (18,64),\n",
       "  (80,88),\n",
       "  (58,9),\n",
       "  (42,61)],\n",
       " [(45,85),\n",
       "  (18,64),\n",
       "  (97,59),\n",
       "  (10,44),\n",
       "  (89,58),\n",
       "  (13,40),\n",
       "  (58,9),\n",
       "  (12,82),\n",
       "  (80,88),\n",
       "  (95,41),\n",
       "  (46,83),\n",
       "  (33,21),\n",
       "  (76,6),\n",
       "  (12,0),\n",
       "  (42,61)],\n",
       " [(12,0),\n",
       "  (95,41),\n",
       "  (45,85),\n",
       "  (97,59),\n",
       "  (33,21),\n",
       "  (58,9),\n",
       "  (10,44),\n",
       "  (12,82),\n",
       "  (76,6),\n",
       "  (80,88),\n",
       "  (89,58),\n",
       "  (13,40),\n",
       "  (42,61),\n",
       "  (18,64),\n",
       "  (46,83)],\n",
       " [(76,6),\n",
       "  (58,9),\n",
       "  (46,83),\n",
       "  (89,58),\n",
       "  (10,44),\n",
       "  (95,41),\n",
       "  (12,82),\n",
       "  (12,0),\n",
       "  (18,64),\n",
       "  (97,59),\n",
       "  (45,85),\n",
       "  (13,40),\n",
       "  (33,21),\n",
       "  (80,88),\n",
       "  (42,61)]]"
      ]
     },
     "execution_count": 106,
     "metadata": {},
     "output_type": "execute_result"
    }
   ],
   "source": [
    "inipop"
   ]
  },
  {
   "cell_type": "code",
   "execution_count": 107,
   "metadata": {},
   "outputs": [],
   "source": [
    "ranks=rankRoutes(inipop)"
   ]
  },
  {
   "cell_type": "code",
   "execution_count": 108,
   "metadata": {},
   "outputs": [
    {
     "data": {
      "text/plain": [
       "[(3, 0.0012449442932391693),\n",
       " (1, 0.0012281656026725634),\n",
       " (4, 0.0012264579535486407),\n",
       " (6, 0.0011642823815401512),\n",
       " (0, 0.0011514381312685072),\n",
       " (5, 0.0011421518294229673),\n",
       " (8, 0.0011219091069352505),\n",
       " (2, 0.0011135318248058717),\n",
       " (7, 0.0010544291402964268),\n",
       " (9, 0.0010413301164974465)]"
      ]
     },
     "execution_count": 108,
     "metadata": {},
     "output_type": "execute_result"
    }
   ],
   "source": [
    "ranks"
   ]
  },
  {
   "cell_type": "code",
   "execution_count": 115,
   "metadata": {},
   "outputs": [],
   "source": [
    "selected = selection(ranks)"
   ]
  },
  {
   "cell_type": "code",
   "execution_count": 116,
   "metadata": {},
   "outputs": [
    {
     "data": {
      "text/plain": [
       "[(5, 0.0011421518294229673),\n",
       " (8, 0.0011219091069352505),\n",
       " (9, 0.0010413301164974465),\n",
       " (7, 0.0010544291402964268),\n",
       " (6, 0.0011642823815401512),\n",
       " (4, 0.0012264579535486407),\n",
       " (2, 0.0011135318248058717),\n",
       " (5, 0.0011421518294229673),\n",
       " (1, 0.0012281656026725634),\n",
       " (4, 0.0012264579535486407)]"
      ]
     },
     "execution_count": 116,
     "metadata": {},
     "output_type": "execute_result"
    }
   ],
   "source": [
    "selected"
   ]
  },
  {
   "cell_type": "code",
   "execution_count": 117,
   "metadata": {},
   "outputs": [],
   "source": [
    "matpool= matingpool(selected,inipop)"
   ]
  },
  {
   "cell_type": "code",
   "execution_count": 118,
   "metadata": {},
   "outputs": [
    {
     "data": {
      "text/plain": [
       "[[(58,9),\n",
       "  (89,58),\n",
       "  (13,40),\n",
       "  (95,41),\n",
       "  (12,82),\n",
       "  (12,0),\n",
       "  (97,59),\n",
       "  (33,21),\n",
       "  (42,61),\n",
       "  (10,44),\n",
       "  (18,64),\n",
       "  (80,88),\n",
       "  (46,83),\n",
       "  (45,85),\n",
       "  (76,6)],\n",
       " [(12,0),\n",
       "  (95,41),\n",
       "  (45,85),\n",
       "  (97,59),\n",
       "  (33,21),\n",
       "  (58,9),\n",
       "  (10,44),\n",
       "  (12,82),\n",
       "  (76,6),\n",
       "  (80,88),\n",
       "  (89,58),\n",
       "  (13,40),\n",
       "  (42,61),\n",
       "  (18,64),\n",
       "  (46,83)],\n",
       " [(76,6),\n",
       "  (58,9),\n",
       "  (46,83),\n",
       "  (89,58),\n",
       "  (10,44),\n",
       "  (95,41),\n",
       "  (12,82),\n",
       "  (12,0),\n",
       "  (18,64),\n",
       "  (97,59),\n",
       "  (45,85),\n",
       "  (13,40),\n",
       "  (33,21),\n",
       "  (80,88),\n",
       "  (42,61)],\n",
       " [(45,85),\n",
       "  (18,64),\n",
       "  (97,59),\n",
       "  (10,44),\n",
       "  (89,58),\n",
       "  (13,40),\n",
       "  (58,9),\n",
       "  (12,82),\n",
       "  (80,88),\n",
       "  (95,41),\n",
       "  (46,83),\n",
       "  (33,21),\n",
       "  (76,6),\n",
       "  (12,0),\n",
       "  (42,61)],\n",
       " [(13,40),\n",
       "  (97,59),\n",
       "  (45,85),\n",
       "  (46,83),\n",
       "  (76,6),\n",
       "  (89,58),\n",
       "  (33,21),\n",
       "  (12,0),\n",
       "  (10,44),\n",
       "  (95,41),\n",
       "  (12,82),\n",
       "  (18,64),\n",
       "  (80,88),\n",
       "  (58,9),\n",
       "  (42,61)],\n",
       " [(13,40),\n",
       "  (80,88),\n",
       "  (45,85),\n",
       "  (12,0),\n",
       "  (33,21),\n",
       "  (89,58),\n",
       "  (76,6),\n",
       "  (97,59),\n",
       "  (95,41),\n",
       "  (10,44),\n",
       "  (12,82),\n",
       "  (42,61),\n",
       "  (18,64),\n",
       "  (58,9),\n",
       "  (46,83)],\n",
       " [(97,59),\n",
       "  (80,88),\n",
       "  (12,0),\n",
       "  (12,82),\n",
       "  (42,61),\n",
       "  (89,58),\n",
       "  (18,64),\n",
       "  (45,85),\n",
       "  (58,9),\n",
       "  (13,40),\n",
       "  (10,44),\n",
       "  (95,41),\n",
       "  (76,6),\n",
       "  (46,83),\n",
       "  (33,21)],\n",
       " [(58,9),\n",
       "  (89,58),\n",
       "  (13,40),\n",
       "  (95,41),\n",
       "  (12,82),\n",
       "  (12,0),\n",
       "  (97,59),\n",
       "  (33,21),\n",
       "  (42,61),\n",
       "  (10,44),\n",
       "  (18,64),\n",
       "  (80,88),\n",
       "  (46,83),\n",
       "  (45,85),\n",
       "  (76,6)],\n",
       " [(42,61),\n",
       "  (13,40),\n",
       "  (46,83),\n",
       "  (10,44),\n",
       "  (12,0),\n",
       "  (97,59),\n",
       "  (12,82),\n",
       "  (18,64),\n",
       "  (89,58),\n",
       "  (76,6),\n",
       "  (58,9),\n",
       "  (95,41),\n",
       "  (45,85),\n",
       "  (80,88),\n",
       "  (33,21)],\n",
       " [(13,40),\n",
       "  (80,88),\n",
       "  (45,85),\n",
       "  (12,0),\n",
       "  (33,21),\n",
       "  (89,58),\n",
       "  (76,6),\n",
       "  (97,59),\n",
       "  (95,41),\n",
       "  (10,44),\n",
       "  (12,82),\n",
       "  (42,61),\n",
       "  (18,64),\n",
       "  (58,9),\n",
       "  (46,83)]]"
      ]
     },
     "execution_count": 118,
     "metadata": {},
     "output_type": "execute_result"
    }
   ],
   "source": [
    "matpool"
   ]
  },
  {
   "cell_type": "code",
   "execution_count": 119,
   "metadata": {},
   "outputs": [],
   "source": [
    "bredpop = breedpopulation(matpool)"
   ]
  },
  {
   "cell_type": "code",
   "execution_count": 120,
   "metadata": {},
   "outputs": [
    {
     "data": {
      "text/plain": [
       "[[(89,58),\n",
       "  (33,21),\n",
       "  (12,0),\n",
       "  (10,44),\n",
       "  (95,41),\n",
       "  (12,82),\n",
       "  (13,40),\n",
       "  (80,88),\n",
       "  (45,85),\n",
       "  (76,6),\n",
       "  (97,59),\n",
       "  (42,61),\n",
       "  (18,64),\n",
       "  (58,9),\n",
       "  (46,83)],\n",
       " [(80,88),\n",
       "  (97,59),\n",
       "  (12,0),\n",
       "  (12,82),\n",
       "  (42,61),\n",
       "  (89,58),\n",
       "  (18,64),\n",
       "  (45,85),\n",
       "  (58,9),\n",
       "  (13,40),\n",
       "  (10,44),\n",
       "  (95,41),\n",
       "  (76,6),\n",
       "  (46,83),\n",
       "  (33,21)],\n",
       " [(12,82),\n",
       "  (42,61),\n",
       "  (89,58),\n",
       "  (18,64),\n",
       "  (13,40),\n",
       "  (80,88),\n",
       "  (45,85),\n",
       "  (12,0),\n",
       "  (33,21),\n",
       "  (76,6),\n",
       "  (97,59),\n",
       "  (95,41),\n",
       "  (10,44),\n",
       "  (58,9),\n",
       "  (46,83)],\n",
       " [(12,82),\n",
       "  (18,64),\n",
       "  (80,88),\n",
       "  (42,61),\n",
       "  (13,40),\n",
       "  (46,83),\n",
       "  (10,44),\n",
       "  (12,0),\n",
       "  (97,59),\n",
       "  (89,58),\n",
       "  (76,6),\n",
       "  (58,9),\n",
       "  (95,41),\n",
       "  (45,85),\n",
       "  (33,21)],\n",
       " [(46,83),\n",
       "  (58,9),\n",
       "  (89,58),\n",
       "  (13,40),\n",
       "  (95,41),\n",
       "  (12,82),\n",
       "  (12,0),\n",
       "  (97,59),\n",
       "  (33,21),\n",
       "  (42,61),\n",
       "  (10,44),\n",
       "  (18,64),\n",
       "  (80,88),\n",
       "  (45,85),\n",
       "  (76,6)],\n",
       " [(58,9),\n",
       "  (76,6),\n",
       "  (46,83),\n",
       "  (89,58),\n",
       "  (10,44),\n",
       "  (95,41),\n",
       "  (12,82),\n",
       "  (12,0),\n",
       "  (18,64),\n",
       "  (97,59),\n",
       "  (45,85),\n",
       "  (13,40),\n",
       "  (33,21),\n",
       "  (80,88),\n",
       "  (42,61)],\n",
       " [(76,6),\n",
       "  (97,59),\n",
       "  (95,41),\n",
       "  (10,44),\n",
       "  (12,82),\n",
       "  (42,61),\n",
       "  (18,64),\n",
       "  (58,9),\n",
       "  (12,0),\n",
       "  (45,85),\n",
       "  (33,21),\n",
       "  (80,88),\n",
       "  (89,58),\n",
       "  (13,40),\n",
       "  (46,83)],\n",
       " [(76,6),\n",
       "  (97,59),\n",
       "  (13,40),\n",
       "  (45,85),\n",
       "  (46,83),\n",
       "  (89,58),\n",
       "  (33,21),\n",
       "  (12,0),\n",
       "  (10,44),\n",
       "  (95,41),\n",
       "  (12,82),\n",
       "  (18,64),\n",
       "  (80,88),\n",
       "  (58,9),\n",
       "  (42,61)],\n",
       " [(18,64),\n",
       "  (97,59),\n",
       "  (10,44),\n",
       "  (89,58),\n",
       "  (13,40),\n",
       "  (58,9),\n",
       "  (80,88),\n",
       "  (45,85),\n",
       "  (12,0),\n",
       "  (33,21),\n",
       "  (76,6),\n",
       "  (95,41),\n",
       "  (12,82),\n",
       "  (42,61),\n",
       "  (46,83)],\n",
       " [(18,64),\n",
       "  (45,85),\n",
       "  (58,9),\n",
       "  (13,40),\n",
       "  (10,44),\n",
       "  (95,41),\n",
       "  (76,6),\n",
       "  (46,83),\n",
       "  (33,21),\n",
       "  (12,0),\n",
       "  (97,59),\n",
       "  (12,82),\n",
       "  (80,88),\n",
       "  (89,58),\n",
       "  (42,61)]]"
      ]
     },
     "execution_count": 120,
     "metadata": {},
     "output_type": "execute_result"
    }
   ],
   "source": [
    "bredpop"
   ]
  },
  {
   "cell_type": "code",
   "execution_count": 121,
   "metadata": {},
   "outputs": [],
   "source": [
    "mutpop = mutatepopulation(bredpop,0.1)"
   ]
  },
  {
   "cell_type": "code",
   "execution_count": 122,
   "metadata": {},
   "outputs": [
    {
     "data": {
      "text/plain": [
       "[[(89,58),\n",
       "  (33,21),\n",
       "  (12,0),\n",
       "  (10,44),\n",
       "  (95,41),\n",
       "  (12,82),\n",
       "  (13,40),\n",
       "  (80,88),\n",
       "  (45,85),\n",
       "  (76,6),\n",
       "  (97,59),\n",
       "  (46,83),\n",
       "  (18,64),\n",
       "  (58,9),\n",
       "  (42,61)],\n",
       " [(80,88),\n",
       "  (97,59),\n",
       "  (12,0),\n",
       "  (12,82),\n",
       "  (42,61),\n",
       "  (89,58),\n",
       "  (18,64),\n",
       "  (45,85),\n",
       "  (58,9),\n",
       "  (13,40),\n",
       "  (10,44),\n",
       "  (95,41),\n",
       "  (76,6),\n",
       "  (46,83),\n",
       "  (33,21)],\n",
       " [(12,82),\n",
       "  (42,61),\n",
       "  (89,58),\n",
       "  (18,64),\n",
       "  (13,40),\n",
       "  (80,88),\n",
       "  (45,85),\n",
       "  (12,0),\n",
       "  (33,21),\n",
       "  (76,6),\n",
       "  (97,59),\n",
       "  (95,41),\n",
       "  (10,44),\n",
       "  (58,9),\n",
       "  (46,83)],\n",
       " [(12,82),\n",
       "  (18,64),\n",
       "  (80,88),\n",
       "  (42,61),\n",
       "  (13,40),\n",
       "  (46,83),\n",
       "  (10,44),\n",
       "  (12,0),\n",
       "  (97,59),\n",
       "  (89,58),\n",
       "  (76,6),\n",
       "  (58,9),\n",
       "  (95,41),\n",
       "  (45,85),\n",
       "  (33,21)],\n",
       " [(46,83),\n",
       "  (58,9),\n",
       "  (89,58),\n",
       "  (13,40),\n",
       "  (95,41),\n",
       "  (12,82),\n",
       "  (12,0),\n",
       "  (97,59),\n",
       "  (33,21),\n",
       "  (42,61),\n",
       "  (10,44),\n",
       "  (18,64),\n",
       "  (80,88),\n",
       "  (45,85),\n",
       "  (76,6)],\n",
       " [(58,9),\n",
       "  (76,6),\n",
       "  (46,83),\n",
       "  (89,58),\n",
       "  (10,44),\n",
       "  (95,41),\n",
       "  (12,82),\n",
       "  (12,0),\n",
       "  (18,64),\n",
       "  (97,59),\n",
       "  (45,85),\n",
       "  (13,40),\n",
       "  (33,21),\n",
       "  (80,88),\n",
       "  (42,61)],\n",
       " [(76,6),\n",
       "  (97,59),\n",
       "  (95,41),\n",
       "  (10,44),\n",
       "  (12,82),\n",
       "  (42,61),\n",
       "  (18,64),\n",
       "  (58,9),\n",
       "  (12,0),\n",
       "  (45,85),\n",
       "  (33,21),\n",
       "  (80,88),\n",
       "  (89,58),\n",
       "  (13,40),\n",
       "  (46,83)],\n",
       " [(76,6),\n",
       "  (97,59),\n",
       "  (13,40),\n",
       "  (45,85),\n",
       "  (46,83),\n",
       "  (89,58),\n",
       "  (33,21),\n",
       "  (12,0),\n",
       "  (10,44),\n",
       "  (95,41),\n",
       "  (12,82),\n",
       "  (18,64),\n",
       "  (80,88),\n",
       "  (58,9),\n",
       "  (42,61)],\n",
       " [(18,64),\n",
       "  (97,59),\n",
       "  (10,44),\n",
       "  (89,58),\n",
       "  (13,40),\n",
       "  (58,9),\n",
       "  (80,88),\n",
       "  (45,85),\n",
       "  (12,0),\n",
       "  (33,21),\n",
       "  (76,6),\n",
       "  (95,41),\n",
       "  (12,82),\n",
       "  (42,61),\n",
       "  (46,83)],\n",
       " [(18,64),\n",
       "  (45,85),\n",
       "  (58,9),\n",
       "  (13,40),\n",
       "  (10,44),\n",
       "  (95,41),\n",
       "  (76,6),\n",
       "  (46,83),\n",
       "  (33,21),\n",
       "  (12,0),\n",
       "  (97,59),\n",
       "  (12,82),\n",
       "  (80,88),\n",
       "  (89,58),\n",
       "  (42,61)]]"
      ]
     },
     "execution_count": 122,
     "metadata": {},
     "output_type": "execute_result"
    }
   ],
   "source": [
    "mutpop"
   ]
  },
  {
   "cell_type": "code",
   "execution_count": null,
   "metadata": {},
   "outputs": [],
   "source": []
  }
 ],
 "metadata": {
  "kernelspec": {
   "display_name": "Python 3",
   "language": "python",
   "name": "python3"
  },
  "language_info": {
   "codemirror_mode": {
    "name": "ipython",
    "version": 3
   },
   "file_extension": ".py",
   "mimetype": "text/x-python",
   "name": "python",
   "nbconvert_exporter": "python",
   "pygments_lexer": "ipython3",
   "version": "3.7.3"
  }
 },
 "nbformat": 4,
 "nbformat_minor": 2
}
