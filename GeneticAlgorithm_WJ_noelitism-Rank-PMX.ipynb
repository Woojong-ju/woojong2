{
 "cells": [
  {
   "cell_type": "markdown",
   "metadata": {},
   "source": [
    "# Genetic Algorithm \n",
    "Reference : https://towardsdatascience.com/evolution-of-a-salesman-a-complete-genetic-algorithm-tutorial-for-python-6fe5d2b3ca35"
   ]
  },
  {
   "cell_type": "raw",
   "metadata": {},
   "source": [
    "Genetic Algorithm을 이용한 TPS 문제해결.\n",
    "    - 기존 reference에 있던 TPS 문제에서 Elitism은 제외할것\n",
    "    - breeding : PMX crossover \n",
    "    - mutate : exchange(swap)\n"
   ]
  },
  {
   "cell_type": "raw",
   "metadata": {},
   "source": [
    "1. Class 구성"
   ]
  },
  {
   "cell_type": "code",
   "execution_count": 1,
   "metadata": {},
   "outputs": [],
   "source": [
    "import numpy as np, pandas as pd, matplotlib.pyplot as plt, random, operator, time"
   ]
  },
  {
   "cell_type": "code",
   "execution_count": 2,
   "metadata": {},
   "outputs": [],
   "source": [
    "#City class 구성\n",
    "class City :\n",
    "    def __init__(self,x,y):\n",
    "        self.x = x\n",
    "        self.y = y\n",
    "    \n",
    "    def distance(self,city):\n",
    "        Dis = np.sqrt((self.x-city.x)**2+(self.y-city.y)**2)\n",
    "        return Dis\n",
    "    \n",
    "    def __repr__(self):\n",
    "        return '('+str(self.x)+','+str(self.y)+')'\n",
    "    "
   ]
  },
  {
   "cell_type": "code",
   "execution_count": 3,
   "metadata": {},
   "outputs": [],
   "source": [
    "#Fitness\n",
    "class Fitness :\n",
    "    def __init__(self,route):\n",
    "        self.route = route\n",
    "        self.distance =0\n",
    "        self.fitness = 0\n",
    "        \n",
    "        \n",
    "        \n",
    "    def routeDistance(self):\n",
    "        pathdistance = 0\n",
    "        if self.distance == 0:\n",
    "            for i in range(0,len(self.route)):\n",
    "                if i+1 < len(self.route):\n",
    "                    fromCity = self.route[i]\n",
    "                    toCity = self.route[i+1]\n",
    "                    pathdistance += fromCity.distance(toCity)\n",
    "                else :\n",
    "                    fromCity = self.route[len(self.route)-1]\n",
    "                    toCity = self.route[0]\n",
    "                    pathdistance += fromCity.distance(toCity)\n",
    "        return pathdistance\n",
    "    \n",
    "    def routeFitness(self):\n",
    "        routefitness = 0\n",
    "        routedistance = self.routeDistance()\n",
    "        if self.fitness==0:\n",
    "            routefitness = 1/float(routedistance)\n",
    "            \n",
    "        return routefitness\n",
    "              "
   ]
  },
  {
   "cell_type": "code",
   "execution_count": 4,
   "metadata": {},
   "outputs": [],
   "source": [
    "route1 = []"
   ]
  },
  {
   "cell_type": "code",
   "execution_count": 5,
   "metadata": {},
   "outputs": [],
   "source": [
    "for i in range(5):\n",
    "    route1.append(City(random.randint(0,100),random.randint(0,100)))"
   ]
  },
  {
   "cell_type": "code",
   "execution_count": 6,
   "metadata": {},
   "outputs": [
    {
     "data": {
      "text/plain": [
       "[(44,70), (71,26), (32,69), (45,7), (36,68)]"
      ]
     },
     "execution_count": 6,
     "metadata": {},
     "output_type": "execute_result"
    }
   ],
   "source": [
    "route1"
   ]
  },
  {
   "cell_type": "code",
   "execution_count": 7,
   "metadata": {},
   "outputs": [],
   "source": [
    "fitness1 = Fitness(route1).routeFitness()"
   ]
  },
  {
   "cell_type": "code",
   "execution_count": 8,
   "metadata": {},
   "outputs": [
    {
     "data": {
      "text/plain": [
       "0.004116409521622737"
      ]
     },
     "execution_count": 8,
     "metadata": {},
     "output_type": "execute_result"
    }
   ],
   "source": [
    "fitness1"
   ]
  },
  {
   "cell_type": "raw",
   "metadata": {},
   "source": [
    "2. InitialPopulation 구성하기"
   ]
  },
  {
   "cell_type": "code",
   "execution_count": 9,
   "metadata": {},
   "outputs": [],
   "source": [
    "#createRoute : CityList에서 구성된 랜덤샘플로 route구성\n",
    "def createRoute(cityList):\n",
    "    route = random.sample(cityList,len(cityList))\n",
    "    return route"
   ]
  },
  {
   "cell_type": "code",
   "execution_count": 10,
   "metadata": {},
   "outputs": [
    {
     "data": {
      "text/plain": [
       "[(44,70), (71,26), (32,69), (45,7), (36,68)]"
      ]
     },
     "execution_count": 10,
     "metadata": {},
     "output_type": "execute_result"
    }
   ],
   "source": [
    "route1"
   ]
  },
  {
   "cell_type": "code",
   "execution_count": 11,
   "metadata": {},
   "outputs": [],
   "source": [
    "citylist1=route1"
   ]
  },
  {
   "cell_type": "code",
   "execution_count": 12,
   "metadata": {},
   "outputs": [
    {
     "data": {
      "text/plain": [
       "[(44,70), (71,26), (32,69), (45,7), (36,68)]"
      ]
     },
     "execution_count": 12,
     "metadata": {},
     "output_type": "execute_result"
    }
   ],
   "source": [
    "citylist1"
   ]
  },
  {
   "cell_type": "code",
   "execution_count": 13,
   "metadata": {},
   "outputs": [
    {
     "data": {
      "text/plain": [
       "[(36,68), (71,26), (44,70), (32,69), (45,7)]"
      ]
     },
     "execution_count": 13,
     "metadata": {},
     "output_type": "execute_result"
    }
   ],
   "source": [
    "createRoute(citylist1)"
   ]
  },
  {
   "cell_type": "code",
   "execution_count": 14,
   "metadata": {},
   "outputs": [],
   "source": [
    "#cityList,popNum입력받아 popNum개의 population 형성\n",
    "def initialPopulation(cityList,popNum):\n",
    "    population = []\n",
    "    for i in range(popNum):\n",
    "        population.append(createRoute(cityList))\n",
    "    return population"
   ]
  },
  {
   "cell_type": "code",
   "execution_count": 15,
   "metadata": {},
   "outputs": [],
   "source": [
    "a = initialPopulation(citylist1,4)"
   ]
  },
  {
   "cell_type": "code",
   "execution_count": 16,
   "metadata": {},
   "outputs": [
    {
     "data": {
      "text/plain": [
       "[[(71,26), (36,68), (44,70), (45,7), (32,69)],\n",
       " [(36,68), (44,70), (45,7), (32,69), (71,26)],\n",
       " [(36,68), (45,7), (32,69), (44,70), (71,26)],\n",
       " [(36,68), (45,7), (44,70), (32,69), (71,26)]]"
      ]
     },
     "execution_count": 16,
     "metadata": {},
     "output_type": "execute_result"
    }
   ],
   "source": [
    "a"
   ]
  },
  {
   "cell_type": "raw",
   "metadata": {},
   "source": [
    "3. Create Genetic Algorithm"
   ]
  },
  {
   "cell_type": "raw",
   "metadata": {},
   "source": [
    "1) Rank정하기\n",
    "    - Fitness 이용해 route별 rank구하기"
   ]
  },
  {
   "cell_type": "code",
   "execution_count": 17,
   "metadata": {},
   "outputs": [],
   "source": [
    "poprank = {}\n",
    "for i in range(len(a)):\n",
    "    fitness = Fitness(a[i]).routeFitness()\n",
    "    poprank[i]=fitness\n",
    "\n"
   ]
  },
  {
   "cell_type": "code",
   "execution_count": 18,
   "metadata": {
    "scrolled": true
   },
   "outputs": [
    {
     "data": {
      "text/plain": [
       "{0: 0.004043249181828785,\n",
       " 1: 0.004043249181828785,\n",
       " 2: 0.004109382149971834,\n",
       " 3: 0.004009087166139749}"
      ]
     },
     "execution_count": 18,
     "metadata": {},
     "output_type": "execute_result"
    }
   ],
   "source": [
    "poprank"
   ]
  },
  {
   "cell_type": "code",
   "execution_count": 19,
   "metadata": {},
   "outputs": [],
   "source": [
    "\n",
    "routerank = sorted(poprank.items(),key = operator.itemgetter(1),reverse=True)\n"
   ]
  },
  {
   "cell_type": "code",
   "execution_count": 20,
   "metadata": {},
   "outputs": [
    {
     "data": {
      "text/plain": [
       "[(2, 0.004109382149971834),\n",
       " (0, 0.004043249181828785),\n",
       " (1, 0.004043249181828785),\n",
       " (3, 0.004009087166139749)]"
      ]
     },
     "execution_count": 20,
     "metadata": {},
     "output_type": "execute_result"
    }
   ],
   "source": [
    "routerank"
   ]
  },
  {
   "cell_type": "code",
   "execution_count": 21,
   "metadata": {},
   "outputs": [],
   "source": [
    "df = pd.DataFrame(routerank,columns=['Index','Fitness'])"
   ]
  },
  {
   "cell_type": "code",
   "execution_count": 22,
   "metadata": {},
   "outputs": [
    {
     "data": {
      "text/html": [
       "<div>\n",
       "<style scoped>\n",
       "    .dataframe tbody tr th:only-of-type {\n",
       "        vertical-align: middle;\n",
       "    }\n",
       "\n",
       "    .dataframe tbody tr th {\n",
       "        vertical-align: top;\n",
       "    }\n",
       "\n",
       "    .dataframe thead th {\n",
       "        text-align: right;\n",
       "    }\n",
       "</style>\n",
       "<table border=\"1\" class=\"dataframe\">\n",
       "  <thead>\n",
       "    <tr style=\"text-align: right;\">\n",
       "      <th></th>\n",
       "      <th>Index</th>\n",
       "      <th>Fitness</th>\n",
       "    </tr>\n",
       "  </thead>\n",
       "  <tbody>\n",
       "    <tr>\n",
       "      <th>0</th>\n",
       "      <td>2</td>\n",
       "      <td>0.004109</td>\n",
       "    </tr>\n",
       "    <tr>\n",
       "      <th>1</th>\n",
       "      <td>0</td>\n",
       "      <td>0.004043</td>\n",
       "    </tr>\n",
       "    <tr>\n",
       "      <th>2</th>\n",
       "      <td>1</td>\n",
       "      <td>0.004043</td>\n",
       "    </tr>\n",
       "    <tr>\n",
       "      <th>3</th>\n",
       "      <td>3</td>\n",
       "      <td>0.004009</td>\n",
       "    </tr>\n",
       "  </tbody>\n",
       "</table>\n",
       "</div>"
      ],
      "text/plain": [
       "   Index   Fitness\n",
       "0      2  0.004109\n",
       "1      0  0.004043\n",
       "2      1  0.004043\n",
       "3      3  0.004009"
      ]
     },
     "execution_count": 22,
     "metadata": {},
     "output_type": "execute_result"
    }
   ],
   "source": [
    "df"
   ]
  },
  {
   "cell_type": "code",
   "execution_count": 23,
   "metadata": {},
   "outputs": [],
   "source": [
    "df['Rank']=df.index+1"
   ]
  },
  {
   "cell_type": "code",
   "execution_count": 24,
   "metadata": {},
   "outputs": [],
   "source": [
    "\n",
    "df['Rank']=df['Rank'].values[::-1]"
   ]
  },
  {
   "cell_type": "code",
   "execution_count": 25,
   "metadata": {},
   "outputs": [
    {
     "data": {
      "text/html": [
       "<div>\n",
       "<style scoped>\n",
       "    .dataframe tbody tr th:only-of-type {\n",
       "        vertical-align: middle;\n",
       "    }\n",
       "\n",
       "    .dataframe tbody tr th {\n",
       "        vertical-align: top;\n",
       "    }\n",
       "\n",
       "    .dataframe thead th {\n",
       "        text-align: right;\n",
       "    }\n",
       "</style>\n",
       "<table border=\"1\" class=\"dataframe\">\n",
       "  <thead>\n",
       "    <tr style=\"text-align: right;\">\n",
       "      <th></th>\n",
       "      <th>Index</th>\n",
       "      <th>Fitness</th>\n",
       "      <th>Rank</th>\n",
       "    </tr>\n",
       "  </thead>\n",
       "  <tbody>\n",
       "    <tr>\n",
       "      <th>0</th>\n",
       "      <td>2</td>\n",
       "      <td>0.004109</td>\n",
       "      <td>4</td>\n",
       "    </tr>\n",
       "    <tr>\n",
       "      <th>1</th>\n",
       "      <td>0</td>\n",
       "      <td>0.004043</td>\n",
       "      <td>3</td>\n",
       "    </tr>\n",
       "    <tr>\n",
       "      <th>2</th>\n",
       "      <td>1</td>\n",
       "      <td>0.004043</td>\n",
       "      <td>2</td>\n",
       "    </tr>\n",
       "    <tr>\n",
       "      <th>3</th>\n",
       "      <td>3</td>\n",
       "      <td>0.004009</td>\n",
       "      <td>1</td>\n",
       "    </tr>\n",
       "  </tbody>\n",
       "</table>\n",
       "</div>"
      ],
      "text/plain": [
       "   Index   Fitness  Rank\n",
       "0      2  0.004109     4\n",
       "1      0  0.004043     3\n",
       "2      1  0.004043     2\n",
       "3      3  0.004009     1"
      ]
     },
     "execution_count": 25,
     "metadata": {},
     "output_type": "execute_result"
    }
   ],
   "source": [
    "df"
   ]
  },
  {
   "cell_type": "code",
   "execution_count": 26,
   "metadata": {},
   "outputs": [
    {
     "data": {
      "text/plain": [
       "4"
      ]
     },
     "execution_count": 26,
     "metadata": {},
     "output_type": "execute_result"
    }
   ],
   "source": [
    "len(df)"
   ]
  },
  {
   "cell_type": "code",
   "execution_count": 27,
   "metadata": {},
   "outputs": [],
   "source": [
    "df['Pressure']=df['Rank']/(len(df)*(len(df)+1)/2)*100\n",
    "df['Cumsum']=df['Pressure'].cumsum()"
   ]
  },
  {
   "cell_type": "code",
   "execution_count": 28,
   "metadata": {},
   "outputs": [
    {
     "data": {
      "text/html": [
       "<div>\n",
       "<style scoped>\n",
       "    .dataframe tbody tr th:only-of-type {\n",
       "        vertical-align: middle;\n",
       "    }\n",
       "\n",
       "    .dataframe tbody tr th {\n",
       "        vertical-align: top;\n",
       "    }\n",
       "\n",
       "    .dataframe thead th {\n",
       "        text-align: right;\n",
       "    }\n",
       "</style>\n",
       "<table border=\"1\" class=\"dataframe\">\n",
       "  <thead>\n",
       "    <tr style=\"text-align: right;\">\n",
       "      <th></th>\n",
       "      <th>Index</th>\n",
       "      <th>Fitness</th>\n",
       "      <th>Rank</th>\n",
       "      <th>Pressure</th>\n",
       "      <th>Cumsum</th>\n",
       "    </tr>\n",
       "  </thead>\n",
       "  <tbody>\n",
       "    <tr>\n",
       "      <th>0</th>\n",
       "      <td>2</td>\n",
       "      <td>0.004109</td>\n",
       "      <td>4</td>\n",
       "      <td>40.0</td>\n",
       "      <td>40.0</td>\n",
       "    </tr>\n",
       "    <tr>\n",
       "      <th>1</th>\n",
       "      <td>0</td>\n",
       "      <td>0.004043</td>\n",
       "      <td>3</td>\n",
       "      <td>30.0</td>\n",
       "      <td>70.0</td>\n",
       "    </tr>\n",
       "    <tr>\n",
       "      <th>2</th>\n",
       "      <td>1</td>\n",
       "      <td>0.004043</td>\n",
       "      <td>2</td>\n",
       "      <td>20.0</td>\n",
       "      <td>90.0</td>\n",
       "    </tr>\n",
       "    <tr>\n",
       "      <th>3</th>\n",
       "      <td>3</td>\n",
       "      <td>0.004009</td>\n",
       "      <td>1</td>\n",
       "      <td>10.0</td>\n",
       "      <td>100.0</td>\n",
       "    </tr>\n",
       "  </tbody>\n",
       "</table>\n",
       "</div>"
      ],
      "text/plain": [
       "   Index   Fitness  Rank  Pressure  Cumsum\n",
       "0      2  0.004109     4      40.0    40.0\n",
       "1      0  0.004043     3      30.0    70.0\n",
       "2      1  0.004043     2      20.0    90.0\n",
       "3      3  0.004009     1      10.0   100.0"
      ]
     },
     "execution_count": 28,
     "metadata": {},
     "output_type": "execute_result"
    }
   ],
   "source": [
    "df"
   ]
  },
  {
   "cell_type": "code",
   "execution_count": 29,
   "metadata": {},
   "outputs": [],
   "source": [
    "#rankRoutes로 population의 route중 fitness좋은것부터\n",
    "#순서대로 (index,fitness)형태로 출력\n",
    "def rankRoutes(population):\n",
    "    poprank = {}\n",
    "    for i in range(len(population)):\n",
    "        fitness = Fitness(population[i]).routeFitness()\n",
    "        poprank[i]=fitness\n",
    "    return sorted(poprank.items(),key = operator.itemgetter(1),reverse=True)\n"
   ]
  },
  {
   "cell_type": "code",
   "execution_count": 30,
   "metadata": {},
   "outputs": [
    {
     "data": {
      "text/plain": [
       "[(2, 0.004109382149971834),\n",
       " (0, 0.004043249181828785),\n",
       " (1, 0.004043249181828785),\n",
       " (3, 0.004009087166139749)]"
      ]
     },
     "execution_count": 30,
     "metadata": {},
     "output_type": "execute_result"
    }
   ],
   "source": [
    "rankRoutes(a)"
   ]
  },
  {
   "cell_type": "code",
   "execution_count": 31,
   "metadata": {},
   "outputs": [],
   "source": [
    "#roulette wheel이용해서 selection. population length만큼 선택하기.\n",
    "#rank selection\n",
    "def selection(popRank):\n",
    "    selected = []\n",
    "    df = pd.DataFrame(popRank,columns=['Index','Fitness'])\n",
    "    df['Rank']=df.index+1\n",
    "    df['Rank']=df['Rank'].values[::-1]\n",
    "    df['Pressure']=df['Rank']/(len(df)*(len(df)+1)/2)*100\n",
    "    df['Cumsum']=df['Pressure'].cumsum()\n",
    "    for i in range(len(popRank)):\n",
    "        pick = random.random()*100\n",
    "        for k in range(len(popRank)):\n",
    "            if pick < df.iloc[k,4]:\n",
    "                selected.append(popRank[k])\n",
    "                break\n",
    "    return selected\n",
    "                \n",
    "        \n",
    "    "
   ]
  },
  {
   "cell_type": "code",
   "execution_count": 32,
   "metadata": {},
   "outputs": [
    {
     "data": {
      "text/plain": [
       "30.0"
      ]
     },
     "execution_count": 32,
     "metadata": {},
     "output_type": "execute_result"
    }
   ],
   "source": [
    "df.iloc[1,3]"
   ]
  },
  {
   "cell_type": "code",
   "execution_count": 33,
   "metadata": {
    "scrolled": true
   },
   "outputs": [
    {
     "data": {
      "text/html": [
       "<div>\n",
       "<style scoped>\n",
       "    .dataframe tbody tr th:only-of-type {\n",
       "        vertical-align: middle;\n",
       "    }\n",
       "\n",
       "    .dataframe tbody tr th {\n",
       "        vertical-align: top;\n",
       "    }\n",
       "\n",
       "    .dataframe thead th {\n",
       "        text-align: right;\n",
       "    }\n",
       "</style>\n",
       "<table border=\"1\" class=\"dataframe\">\n",
       "  <thead>\n",
       "    <tr style=\"text-align: right;\">\n",
       "      <th></th>\n",
       "      <th>Index</th>\n",
       "      <th>Fitness</th>\n",
       "      <th>Rank</th>\n",
       "      <th>Pressure</th>\n",
       "      <th>Cumsum</th>\n",
       "    </tr>\n",
       "  </thead>\n",
       "  <tbody>\n",
       "    <tr>\n",
       "      <th>0</th>\n",
       "      <td>2</td>\n",
       "      <td>0.004109</td>\n",
       "      <td>4</td>\n",
       "      <td>40.0</td>\n",
       "      <td>40.0</td>\n",
       "    </tr>\n",
       "    <tr>\n",
       "      <th>1</th>\n",
       "      <td>0</td>\n",
       "      <td>0.004043</td>\n",
       "      <td>3</td>\n",
       "      <td>30.0</td>\n",
       "      <td>70.0</td>\n",
       "    </tr>\n",
       "    <tr>\n",
       "      <th>2</th>\n",
       "      <td>1</td>\n",
       "      <td>0.004043</td>\n",
       "      <td>2</td>\n",
       "      <td>20.0</td>\n",
       "      <td>90.0</td>\n",
       "    </tr>\n",
       "    <tr>\n",
       "      <th>3</th>\n",
       "      <td>3</td>\n",
       "      <td>0.004009</td>\n",
       "      <td>1</td>\n",
       "      <td>10.0</td>\n",
       "      <td>100.0</td>\n",
       "    </tr>\n",
       "  </tbody>\n",
       "</table>\n",
       "</div>"
      ],
      "text/plain": [
       "   Index   Fitness  Rank  Pressure  Cumsum\n",
       "0      2  0.004109     4      40.0    40.0\n",
       "1      0  0.004043     3      30.0    70.0\n",
       "2      1  0.004043     2      20.0    90.0\n",
       "3      3  0.004009     1      10.0   100.0"
      ]
     },
     "execution_count": 33,
     "metadata": {},
     "output_type": "execute_result"
    }
   ],
   "source": [
    "df"
   ]
  },
  {
   "cell_type": "code",
   "execution_count": 34,
   "metadata": {},
   "outputs": [
    {
     "data": {
      "text/plain": [
       "[(2, 0.004109382149971834),\n",
       " (0, 0.004043249181828785),\n",
       " (1, 0.004043249181828785),\n",
       " (3, 0.004009087166139749)]"
      ]
     },
     "execution_count": 34,
     "metadata": {},
     "output_type": "execute_result"
    }
   ],
   "source": [
    "routerank"
   ]
  },
  {
   "cell_type": "code",
   "execution_count": 35,
   "metadata": {},
   "outputs": [],
   "source": [
    "selc= selection(routerank)"
   ]
  },
  {
   "cell_type": "code",
   "execution_count": 36,
   "metadata": {
    "scrolled": true
   },
   "outputs": [
    {
     "data": {
      "text/plain": [
       "[(2, 0.004109382149971834),\n",
       " (2, 0.004109382149971834),\n",
       " (0, 0.004043249181828785),\n",
       " (1, 0.004043249181828785)]"
      ]
     },
     "execution_count": 36,
     "metadata": {},
     "output_type": "execute_result"
    }
   ],
   "source": [
    "selc"
   ]
  },
  {
   "cell_type": "code",
   "execution_count": null,
   "metadata": {},
   "outputs": [],
   "source": []
  },
  {
   "cell_type": "code",
   "execution_count": 37,
   "metadata": {},
   "outputs": [],
   "source": [
    "#selection 결과 바탕으로 matingpool형성\n",
    "def matingpool(selected,population):\n",
    "    #population에서 룰렛휠로 selected된 route들로 mating pool 형성\n",
    "    index = []\n",
    "    for i in range(len(selected)):\n",
    "        index.append(selected[i][0])\n",
    "    pool = []\n",
    "    for i in range(len(index)):\n",
    "        pool.append(population[index[i]])\n",
    "    return pool    \n",
    "    \n",
    "    \n",
    "           "
   ]
  },
  {
   "cell_type": "code",
   "execution_count": 38,
   "metadata": {},
   "outputs": [],
   "source": [
    "mating = matingpool(selc,a)"
   ]
  },
  {
   "cell_type": "code",
   "execution_count": 39,
   "metadata": {},
   "outputs": [
    {
     "data": {
      "text/plain": [
       "[(36,68), (45,7), (32,69), (44,70), (71,26)]"
      ]
     },
     "execution_count": 39,
     "metadata": {},
     "output_type": "execute_result"
    }
   ],
   "source": [
    "mating[0]"
   ]
  },
  {
   "cell_type": "code",
   "execution_count": 42,
   "metadata": {},
   "outputs": [
    {
     "data": {
      "text/plain": [
       "[[(36,68), (45,7), (32,69), (44,70), (71,26)],\n",
       " [(36,68), (45,7), (32,69), (44,70), (71,26)],\n",
       " [(71,26), (36,68), (44,70), (45,7), (32,69)],\n",
       " [(36,68), (44,70), (45,7), (32,69), (71,26)]]"
      ]
     },
     "execution_count": 42,
     "metadata": {},
     "output_type": "execute_result"
    }
   ],
   "source": [
    "mating"
   ]
  },
  {
   "cell_type": "code",
   "execution_count": null,
   "metadata": {},
   "outputs": [],
   "source": [
    "def PMXbreed(parent1,parent2):\n",
    "    \n",
    "    abs1 = random.randint(0,len(parent1))\n",
    "    abs2 = random.randint(0,len(parent2))\n",
    "    cxpoint1 = min(abs1,abs2)\n",
    "    cxpoint2 = max(abs1,abs2)\n",
    "    child = [None]*len(parent1)\n",
    "    for i in range(cxpoint1,cxpoint2):\n",
    "        temp1 = parent1[i]\n",
    "        temp2 = parent2[i]\n",
    "        parent1[i]= temp2\n",
    "        parent2[i]= temp1\n",
    "        \n",
    "       "
   ]
  },
  {
   "cell_type": "code",
   "execution_count": 62,
   "metadata": {},
   "outputs": [],
   "source": [
    "parent1 = mating[0]\n",
    "parent2 = mating[3]\n",
    "\n",
    "abs1 = random.randint(0,len(parent1))\n",
    "abs2 = random.randint(0,len(parent2))\n",
    "cxpoint1 = min(abs1,abs2)\n",
    "cxpoint2 = max(abs1,abs2)\n",
    "child = [None]*len(parent1)"
   ]
  },
  {
   "cell_type": "code",
   "execution_count": 63,
   "metadata": {},
   "outputs": [
    {
     "data": {
      "text/plain": [
       "(0, 3)"
      ]
     },
     "execution_count": 63,
     "metadata": {},
     "output_type": "execute_result"
    }
   ],
   "source": [
    "cxpoint1,cxpoint2"
   ]
  },
  {
   "cell_type": "code",
   "execution_count": 64,
   "metadata": {},
   "outputs": [
    {
     "data": {
      "text/plain": [
       "[(36,68), (45,7), (32,69), None, None]"
      ]
     },
     "execution_count": 64,
     "metadata": {},
     "output_type": "execute_result"
    }
   ],
   "source": [
    "child[cxpoint1:cxpoint2]=parent1[cxpoint1:cxpoint2]\n",
    "child"
   ]
  },
  {
   "cell_type": "code",
   "execution_count": 65,
   "metadata": {},
   "outputs": [],
   "source": [
    "for ind,x in enumerate(parent2[cxpoint1:cxpoint2]):\n",
    "    ind += cxpoint1\n",
    "    if x not in child:\n",
    "        while child[ind] != None:\n",
    "            ind = parent2.index(parent1[ind])\n",
    "        child[ind]=x"
   ]
  },
  {
   "cell_type": "code",
   "execution_count": 67,
   "metadata": {},
   "outputs": [
    {
     "data": {
      "text/plain": [
       "([(36,68), (45,7), (32,69), (44,70), (71,26)],\n",
       " [(36,68), (44,70), (45,7), (32,69), (71,26)])"
      ]
     },
     "execution_count": 67,
     "metadata": {},
     "output_type": "execute_result"
    }
   ],
   "source": [
    "parent1, parent2"
   ]
  },
  {
   "cell_type": "code",
   "execution_count": 68,
   "metadata": {},
   "outputs": [
    {
     "data": {
      "text/plain": [
       "[(36,68), (45,7), (32,69), (44,70), None]"
      ]
     },
     "execution_count": 68,
     "metadata": {},
     "output_type": "execute_result"
    }
   ],
   "source": [
    "child"
   ]
  },
  {
   "cell_type": "code",
   "execution_count": 69,
   "metadata": {},
   "outputs": [],
   "source": [
    "for ind,x in enumerate(child):\n",
    "    if x==None:\n",
    "        child[ind]= parent2[ind]"
   ]
  },
  {
   "cell_type": "code",
   "execution_count": 70,
   "metadata": {},
   "outputs": [
    {
     "data": {
      "text/plain": [
       "[(36,68), (45,7), (32,69), (44,70), (71,26)]"
      ]
     },
     "execution_count": 70,
     "metadata": {},
     "output_type": "execute_result"
    }
   ],
   "source": [
    "child"
   ]
  },
  {
   "cell_type": "code",
   "execution_count": null,
   "metadata": {},
   "outputs": [],
   "source": []
  },
  {
   "cell_type": "code",
   "execution_count": null,
   "metadata": {},
   "outputs": [],
   "source": [
    "def breed(parent1,parent2):\n",
    "    child1 = []\n",
    "    abs1 = random.randint(0,len(parent1))\n",
    "    abs2 = random.randint(0,len(parent2))\n",
    "    child1 = []\n",
    "    for i in range(min(abs1,abs2),max(abs1,abs2)):\n",
    "        child1.append(parent1[i])\n",
    "    child2 = [val for val in parent2 if val not in child1]\n",
    "    Child = child1+child2\n",
    "    return Child"
   ]
  },
  {
   "cell_type": "code",
   "execution_count": null,
   "metadata": {},
   "outputs": [],
   "source": [
    "[0]*3"
   ]
  },
  {
   "cell_type": "code",
   "execution_count": null,
   "metadata": {},
   "outputs": [],
   "source": [
    "pool = matingpool(selc,a)"
   ]
  },
  {
   "cell_type": "code",
   "execution_count": null,
   "metadata": {},
   "outputs": [],
   "source": [
    "pool"
   ]
  },
  {
   "cell_type": "code",
   "execution_count": null,
   "metadata": {
    "scrolled": true
   },
   "outputs": [],
   "source": [
    "pool[1]"
   ]
  },
  {
   "cell_type": "code",
   "execution_count": null,
   "metadata": {
    "scrolled": false
   },
   "outputs": [],
   "source": [
    "random.randint(0,3)"
   ]
  },
  {
   "cell_type": "code",
   "execution_count": null,
   "metadata": {},
   "outputs": [],
   "source": [
    "def breedpopulation(pool):\n",
    "    breedpop = []\n",
    "    for i in range(len(pool)):\n",
    "        parent1 = pool[int(random.random()*len(pool))]\n",
    "        parent2 = pool[int(random.random()*len(pool))]\n",
    "        breedpop.append(breed(parent1,parent2))\n",
    "    return breedpop\n",
    "#pool에서 랜덤한 부모 2명 추출-> breed\n",
    "#pool length(=popnum)만큼 breedpopulation(자손pop)생성"
   ]
  },
  {
   "cell_type": "code",
   "execution_count": null,
   "metadata": {},
   "outputs": [],
   "source": [
    "brpop = breedpopulation(pool)"
   ]
  },
  {
   "cell_type": "code",
   "execution_count": null,
   "metadata": {},
   "outputs": [],
   "source": [
    "def mutate(breedroute):\n",
    "    index1 = int(random.random()*len(breedroute))\n",
    "    index2 = int(random.random()*len(breedroute))\n",
    "    change1 = breedroute[index1]\n",
    "    change2 = breedroute[index2]\n",
    "    breedroute[index1] = change2\n",
    "    breedroute[index2] = change1\n",
    "    return breedroute\n",
    "            \n",
    "        \n",
    "    "
   ]
  },
  {
   "cell_type": "code",
   "execution_count": null,
   "metadata": {},
   "outputs": [],
   "source": [
    "def mutatepopulation(breedpop,mutationrate):\n",
    "    for i in range(len(breedpop)):\n",
    "        rate = random.random()\n",
    "        if rate < mutationrate:\n",
    "            mutate(breedpop[i])\n",
    "        \n",
    "    return breedpop"
   ]
  },
  {
   "cell_type": "code",
   "execution_count": null,
   "metadata": {},
   "outputs": [],
   "source": [
    "brpop"
   ]
  },
  {
   "cell_type": "code",
   "execution_count": null,
   "metadata": {},
   "outputs": [],
   "source": [
    "mutatepopulation(brpop,0.3)"
   ]
  },
  {
   "cell_type": "code",
   "execution_count": null,
   "metadata": {
    "scrolled": true
   },
   "outputs": [],
   "source": [
    "brpop"
   ]
  },
  {
   "cell_type": "code",
   "execution_count": null,
   "metadata": {},
   "outputs": [],
   "source": [
    "def nextGeneration(population,mutationrate):\n",
    "    rank = rankRoutes(population)\n",
    "    selected = selection(rank)\n",
    "    pool = matingpool(selected,population)\n",
    "    breedpop = breedpopulation(pool)\n",
    "    nextpop = mutatepopulation(breedpop,mutationrate)\n",
    "    return nextpop\n",
    "    \n",
    "    "
   ]
  },
  {
   "cell_type": "code",
   "execution_count": null,
   "metadata": {},
   "outputs": [],
   "source": [
    "nextGeneration(brpop,0.2)"
   ]
  },
  {
   "cell_type": "raw",
   "metadata": {},
   "source": [
    "Genetic Algorithm 통합 & 돌리기!"
   ]
  },
  {
   "cell_type": "code",
   "execution_count": null,
   "metadata": {},
   "outputs": [],
   "source": [
    "def GeneticAlgorithm(cityList,popSize,mutationrate,GenNum):\n",
    "    start = time.time()\n",
    "    pop = initialPopulation(cityList,popSize)\n",
    "    progress = []\n",
    "    bestroute= pop[rankRoutes(pop)[0][0]]\n",
    "    Finaldistance = 1/rankRoutes(pop)[0][1]\n",
    "    progress.append(1/rankRoutes(pop)[0][1])\n",
    "    print('First Distance :'+str(1/rankRoutes(pop)[0][1]))\n",
    "    for i in range(GenNum):\n",
    "        pop = nextGeneration(pop,mutationrate)\n",
    "        progress.append(1/rankRoutes(pop)[0][1])\n",
    "        if Finaldistance > 1/rankRoutes(pop)[0][1]:\n",
    "            bestroute = pop[rankRoutes(pop)[0][0]]\n",
    "            Finaldistance = 1/rankRoutes(pop)[0][1]\n",
    "        \n",
    "    print('Final Distance :'+str(Finaldistance))\n",
    "    finish = time.time()\n",
    "    print('Time :' +str(finish-start))\n",
    "    print(bestroute)\n",
    "    plt.plot(progress)\n",
    "    plt.xlabel('Generation')\n",
    "    plt.ylabel('Distance')\n",
    "    plt.show()\n",
    "    "
   ]
  },
  {
   "cell_type": "code",
   "execution_count": null,
   "metadata": {},
   "outputs": [],
   "source": [
    "cityList = []\n",
    "for i in range(35):\n",
    "    cityList.append(City(random.randint(0,100),random.randint(0,100)))"
   ]
  },
  {
   "cell_type": "code",
   "execution_count": null,
   "metadata": {},
   "outputs": [],
   "source": [
    "cityList"
   ]
  },
  {
   "cell_type": "code",
   "execution_count": null,
   "metadata": {},
   "outputs": [],
   "source": [
    "GeneticAlgorithm(cityList,50,0.1,5000)"
   ]
  },
  {
   "cell_type": "code",
   "execution_count": null,
   "metadata": {},
   "outputs": [],
   "source": []
  }
 ],
 "metadata": {
  "kernelspec": {
   "display_name": "Python 3",
   "language": "python",
   "name": "python3"
  },
  "language_info": {
   "codemirror_mode": {
    "name": "ipython",
    "version": 3
   },
   "file_extension": ".py",
   "mimetype": "text/x-python",
   "name": "python",
   "nbconvert_exporter": "python",
   "pygments_lexer": "ipython3",
   "version": "3.7.3"
  }
 },
 "nbformat": 4,
 "nbformat_minor": 2
}
